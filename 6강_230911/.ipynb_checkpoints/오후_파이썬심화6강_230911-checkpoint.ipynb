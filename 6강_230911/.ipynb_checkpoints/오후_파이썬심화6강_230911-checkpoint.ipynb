{
 "cells": [
  {
   "cell_type": "code",
   "execution_count": 62,
   "id": "03ff133e",
   "metadata": {},
   "outputs": [],
   "source": [
    "class A:\n",
    "    def __init__(self):\n",
    "        self.x = 3\n",
    "    def tt(self):\n",
    "        return 1\n",
    "    def ss(self):\n",
    "        return self.x"
   ]
  },
  {
   "cell_type": "code",
   "execution_count": 63,
   "id": "f1211c78",
   "metadata": {
    "collapsed": true
   },
   "outputs": [
    {
     "data": {
      "text/plain": [
       "['__class__',\n",
       " '__delattr__',\n",
       " '__dict__',\n",
       " '__dir__',\n",
       " '__doc__',\n",
       " '__eq__',\n",
       " '__format__',\n",
       " '__ge__',\n",
       " '__getattribute__',\n",
       " '__getstate__',\n",
       " '__gt__',\n",
       " '__hash__',\n",
       " '__init__',\n",
       " '__init_subclass__',\n",
       " '__le__',\n",
       " '__lt__',\n",
       " '__module__',\n",
       " '__ne__',\n",
       " '__new__',\n",
       " '__reduce__',\n",
       " '__reduce_ex__',\n",
       " '__repr__',\n",
       " '__setattr__',\n",
       " '__sizeof__',\n",
       " '__str__',\n",
       " '__subclasshook__',\n",
       " '__weakref__',\n",
       " 'ss',\n",
       " 'tt']"
      ]
     },
     "execution_count": 63,
     "metadata": {},
     "output_type": "execute_result"
    }
   ],
   "source": [
    "dir(A)"
   ]
  },
  {
   "cell_type": "code",
   "execution_count": 64,
   "id": "24719878",
   "metadata": {},
   "outputs": [],
   "source": [
    "a = A()"
   ]
  },
  {
   "cell_type": "code",
   "execution_count": 65,
   "id": "b2ca23af",
   "metadata": {
    "collapsed": true
   },
   "outputs": [
    {
     "data": {
      "text/plain": [
       "['__class__',\n",
       " '__delattr__',\n",
       " '__dict__',\n",
       " '__dir__',\n",
       " '__doc__',\n",
       " '__eq__',\n",
       " '__format__',\n",
       " '__ge__',\n",
       " '__getattribute__',\n",
       " '__getstate__',\n",
       " '__gt__',\n",
       " '__hash__',\n",
       " '__init__',\n",
       " '__init_subclass__',\n",
       " '__le__',\n",
       " '__lt__',\n",
       " '__module__',\n",
       " '__ne__',\n",
       " '__new__',\n",
       " '__reduce__',\n",
       " '__reduce_ex__',\n",
       " '__repr__',\n",
       " '__setattr__',\n",
       " '__sizeof__',\n",
       " '__str__',\n",
       " '__subclasshook__',\n",
       " '__weakref__',\n",
       " 'ss',\n",
       " 'tt',\n",
       " 'x']"
      ]
     },
     "execution_count": 65,
     "metadata": {},
     "output_type": "execute_result"
    }
   ],
   "source": [
    "dir(a)"
   ]
  },
  {
   "cell_type": "code",
   "execution_count": 25,
   "id": "65737d2d",
   "metadata": {},
   "outputs": [
    {
     "data": {
      "text/plain": [
       "3"
      ]
     },
     "execution_count": 25,
     "metadata": {},
     "output_type": "execute_result"
    }
   ],
   "source": [
    "a.ss()"
   ]
  },
  {
   "cell_type": "markdown",
   "id": "a0006b1a",
   "metadata": {},
   "source": [
    "**아래에서 확실하게 인스턴스 변수가 인스턴스 메서드 실행 시점에 생성됨을 확인한다**"
   ]
  },
  {
   "cell_type": "code",
   "execution_count": 66,
   "id": "10861c85",
   "metadata": {},
   "outputs": [],
   "source": [
    "class B:\n",
    "    def x(self):\n",
    "        self.a = 2"
   ]
  },
  {
   "cell_type": "code",
   "execution_count": 67,
   "id": "c47ab83a",
   "metadata": {},
   "outputs": [],
   "source": [
    "b = B()"
   ]
  },
  {
   "cell_type": "code",
   "execution_count": 68,
   "id": "b7f6b503",
   "metadata": {},
   "outputs": [
    {
     "data": {
      "text/plain": [
       "{}"
      ]
     },
     "execution_count": 68,
     "metadata": {},
     "output_type": "execute_result"
    }
   ],
   "source": [
    "vars(b)"
   ]
  },
  {
   "cell_type": "code",
   "execution_count": 69,
   "id": "883975c0",
   "metadata": {},
   "outputs": [],
   "source": [
    "b.x()"
   ]
  },
  {
   "cell_type": "code",
   "execution_count": 70,
   "id": "509f3455",
   "metadata": {},
   "outputs": [
    {
     "data": {
      "text/plain": [
       "{'a': 2}"
      ]
     },
     "execution_count": 70,
     "metadata": {},
     "output_type": "execute_result"
    }
   ],
   "source": [
    "vars(b)"
   ]
  },
  {
   "cell_type": "code",
   "execution_count": 71,
   "id": "10b2bcbc",
   "metadata": {},
   "outputs": [],
   "source": [
    "#동적으로 아무거나 생성할 수도 있다.\n",
    "b.t = 1"
   ]
  },
  {
   "cell_type": "code",
   "execution_count": 72,
   "id": "d28b8aad",
   "metadata": {},
   "outputs": [
    {
     "data": {
      "text/plain": [
       "{'a': 2, 't': 1}"
      ]
     },
     "execution_count": 72,
     "metadata": {},
     "output_type": "execute_result"
    }
   ],
   "source": [
    "vars(b)"
   ]
  },
  {
   "cell_type": "markdown",
   "id": "4da19284",
   "metadata": {},
   "source": [
    "어떤 방식을 사용하면 이 동적인 파이썬에서 실수를 가장 줄일 수 있을까? 미리 사용할 애를 처음부터 \\_\\_init\\_\\_에 만들어놓고, 동적으로 생성하지는 않는것이 좋다."
   ]
  },
  {
   "cell_type": "markdown",
   "id": "2bff7e75",
   "metadata": {},
   "source": [
    "컴포지션이란 나의 인스턴스 변수에 다른 컴포넌트의 변수를 저장하는것이다. 상속도 컴포지션으로 구현할 수 있다."
   ]
  },
  {
   "cell_type": "markdown",
   "id": "8f22fd69",
   "metadata": {},
   "source": [
    "# 02 상속을 컴포지션으로 구현"
   ]
  },
  {
   "cell_type": "code",
   "execution_count": 77,
   "id": "79a95ba1",
   "metadata": {},
   "outputs": [],
   "source": [
    "class A:\n",
    "    x = 1\n",
    "    def t(self):\n",
    "        return 1"
   ]
  },
  {
   "cell_type": "code",
   "execution_count": 78,
   "id": "3b7fb526",
   "metadata": {},
   "outputs": [],
   "source": [
    "class B(A):\n",
    "    x = 2"
   ]
  },
  {
   "cell_type": "code",
   "execution_count": 79,
   "id": "8403545c",
   "metadata": {},
   "outputs": [],
   "source": [
    "class C:      #저질 방식\n",
    "    x = 2\n",
    "    def t(self):\n",
    "        return A.t(self)"
   ]
  },
  {
   "cell_type": "code",
   "execution_count": 80,
   "id": "e6c22fc2",
   "metadata": {},
   "outputs": [],
   "source": [
    "c = C()"
   ]
  },
  {
   "cell_type": "code",
   "execution_count": 82,
   "id": "0a443be6",
   "metadata": {},
   "outputs": [
    {
     "data": {
      "text/plain": [
       "1"
      ]
     },
     "execution_count": 82,
     "metadata": {},
     "output_type": "execute_result"
    }
   ],
   "source": [
    "c.t()"
   ]
  },
  {
   "cell_type": "code",
   "execution_count": 83,
   "id": "e58cae06",
   "metadata": {},
   "outputs": [
    {
     "data": {
      "text/plain": [
       "{}"
      ]
     },
     "execution_count": 83,
     "metadata": {},
     "output_type": "execute_result"
    }
   ],
   "source": [
    "vars(c)"
   ]
  },
  {
   "cell_type": "code",
   "execution_count": 44,
   "id": "d646d8fc",
   "metadata": {},
   "outputs": [],
   "source": [
    "class D:\n",
    "    def __init__(self):\n",
    "#         self.x = A.x\n",
    "        self.tt = A()\n",
    "    \n",
    "    def t(self):\n",
    "        return self.tt.t()"
   ]
  },
  {
   "cell_type": "code",
   "execution_count": 45,
   "id": "f29b2275",
   "metadata": {},
   "outputs": [],
   "source": [
    "d = D()"
   ]
  },
  {
   "cell_type": "code",
   "execution_count": 47,
   "id": "602e41de",
   "metadata": {},
   "outputs": [
    {
     "data": {
      "text/plain": [
       "1"
      ]
     },
     "execution_count": 47,
     "metadata": {},
     "output_type": "execute_result"
    }
   ],
   "source": [
    "d.t()"
   ]
  },
  {
   "cell_type": "code",
   "execution_count": 52,
   "id": "580fc10b",
   "metadata": {},
   "outputs": [],
   "source": [
    "class D:\n",
    "    def __init__(self):\n",
    "#         self.x = A.x\n",
    "        self.tt = A()\n",
    "    \n",
    "    def __getattr__(self, x):     #예외처리 : attribute예외가 나오면 얘가 실행된다. 즉 *.x()가 없으면 에러가 난다.\n",
    "        return getattr(self.tt, x)"
   ]
  },
  {
   "cell_type": "code",
   "execution_count": 53,
   "id": "a850441a",
   "metadata": {},
   "outputs": [],
   "source": [
    "dd = D()"
   ]
  },
  {
   "cell_type": "code",
   "execution_count": 54,
   "id": "ba7ecbf5",
   "metadata": {},
   "outputs": [
    {
     "data": {
      "text/plain": [
       "1"
      ]
     },
     "execution_count": 54,
     "metadata": {},
     "output_type": "execute_result"
    }
   ],
   "source": [
    "dd.x"
   ]
  },
  {
   "cell_type": "markdown",
   "id": "cdc18884",
   "metadata": {},
   "source": [
    "getattr은 뭐다?"
   ]
  },
  {
   "cell_type": "code",
   "execution_count": 60,
   "id": "4362dc42",
   "metadata": {},
   "outputs": [
    {
     "name": "stdout",
     "output_type": "stream",
     "text": [
      "__abs__\n"
     ]
    }
   ],
   "source": [
    "#a = __abs__\n",
    "a = input()"
   ]
  },
  {
   "cell_type": "code",
   "execution_count": 61,
   "id": "2919e7ed",
   "metadata": {},
   "outputs": [
    {
     "data": {
      "text/plain": [
       "1"
      ]
     },
     "execution_count": 61,
     "metadata": {},
     "output_type": "execute_result"
    }
   ],
   "source": [
    "getattr(-1, a)()"
   ]
  },
  {
   "cell_type": "code",
   "execution_count": 86,
   "id": "6a3feaf1",
   "metadata": {},
   "outputs": [],
   "source": [
    "import tensorflow as tf"
   ]
  },
  {
   "cell_type": "code",
   "execution_count": 97,
   "id": "c8762987",
   "metadata": {},
   "outputs": [],
   "source": [
    "class D:\n",
    "    def call(self):\n",
    "        raise NotImplementedError\n",
    "    def __call__(self):\n",
    "        self.call()"
   ]
  },
  {
   "cell_type": "code",
   "execution_count": 102,
   "id": "c5b187e0",
   "metadata": {},
   "outputs": [],
   "source": [
    "class E(D):\n",
    "    def call(self):\n",
    "        print('call')"
   ]
  },
  {
   "cell_type": "code",
   "execution_count": 103,
   "id": "775b054b",
   "metadata": {},
   "outputs": [],
   "source": [
    "e = E()"
   ]
  },
  {
   "cell_type": "code",
   "execution_count": 104,
   "id": "d71b3d88",
   "metadata": {},
   "outputs": [
    {
     "name": "stdout",
     "output_type": "stream",
     "text": [
      "call\n"
     ]
    }
   ],
   "source": [
    "#상속할 때 무조건 구현하도록, call()에서 raise NotImplementedError\n",
    "e.call()"
   ]
  },
  {
   "cell_type": "code",
   "execution_count": 105,
   "id": "66d8350a",
   "metadata": {
    "scrolled": true
   },
   "outputs": [
    {
     "name": "stdout",
     "output_type": "stream",
     "text": [
      "call\n"
     ]
    }
   ],
   "source": [
    "e()"
   ]
  },
  {
   "cell_type": "markdown",
   "id": "7a6bbf6c",
   "metadata": {},
   "source": [
    "# 03 Lazy Evaluation"
   ]
  },
  {
   "cell_type": "markdown",
   "id": "61faad0b",
   "metadata": {},
   "source": [
    "파이토치는 데이터 확인이 힘든 레이지 방식 대신 eager를 사용해서 값을 확인할 수 있게 했기 때문에 유행하였다.<br>\n",
    "텐서플로우도 eager tensor를 쓰며, eager가 더 편하고, 이것이 기본값이기 때문에 lazy기법에 대해서 따로 장단점을 알아야 한다."
   ]
  },
  {
   "cell_type": "markdown",
   "id": "e0408a7d",
   "metadata": {},
   "source": [
    "파이썬교재 02 26페이지"
   ]
  },
  {
   "cell_type": "markdown",
   "id": "df63f730",
   "metadata": {},
   "source": [
    "# 04 Abstract"
   ]
  },
  {
   "cell_type": "markdown",
   "id": "f439a97d",
   "metadata": {},
   "source": [
    "파이썬의 추상화는 상속의 문법을 가진다.<br>\n",
    "파이썬의 추상화는 metaclass를 이용한다."
   ]
  },
  {
   "cell_type": "code",
   "execution_count": 107,
   "id": "2fa2b671",
   "metadata": {},
   "outputs": [],
   "source": [
    "from sklearn.naive_bayes import ABCMeta #Abstract Base Class"
   ]
  },
  {
   "cell_type": "code",
   "execution_count": 108,
   "id": "103e79eb",
   "metadata": {},
   "outputs": [],
   "source": [
    "from sklearn.naive_bayes import ( BernoulliNB, CategoricalNB, ComplementNB, GaussianNB, MultinomialNB )"
   ]
  },
  {
   "cell_type": "markdown",
   "id": "df3e0a08",
   "metadata": {},
   "source": [
    "파이썬관점에서 공통된점(가장 좋은 점)을 뽑아서 부모객체로 만드는 것이 추상화이다.<br>\n",
    "그 뛰어난 공통점 아래에서 특수화해야 하는 부분을 구현을 해야만 하도록 하는 것이 효율적이다.<br>\n",
    "이러한 변형에서 사용하는 것이 ABCMeta<br>\n",
    "모델은 여러가지가 있지만, 내가 만족할 수 있는 모델은 없다. 여러개 지원해주면 가능성이 있고 여기서 뽑아내서 내 모델 만들기 위해 ABCMeta 사용한다."
   ]
  },
  {
   "cell_type": "code",
   "execution_count": 109,
   "id": "74a5f051",
   "metadata": {},
   "outputs": [
    {
     "data": {
      "text/plain": [
       "(__main__.A, __main__.B, __main__.C)"
      ]
     },
     "execution_count": 109,
     "metadata": {},
     "output_type": "execute_result"
    }
   ],
   "source": [
    "A, B, C"
   ]
  },
  {
   "cell_type": "code",
   "execution_count": 115,
   "id": "69fb1cd1",
   "metadata": {},
   "outputs": [],
   "source": [
    "class D:\n",
    "    def c(self): #공통기능\n",
    "        pass\n",
    "    def ee(self): #차별적인 기능\n",
    "        raise NotImplementedError"
   ]
  },
  {
   "cell_type": "code",
   "execution_count": 116,
   "id": "0d46d78d",
   "metadata": {},
   "outputs": [],
   "source": [
    "class A(D):\n",
    "    pass"
   ]
  },
  {
   "cell_type": "code",
   "execution_count": 117,
   "id": "529dc7eb",
   "metadata": {},
   "outputs": [],
   "source": [
    "a = A()"
   ]
  },
  {
   "cell_type": "code",
   "execution_count": 123,
   "id": "1f665805",
   "metadata": {
    "scrolled": true
   },
   "outputs": [
    {
     "ename": "NotImplementedError",
     "evalue": "",
     "output_type": "error",
     "traceback": [
      "\u001b[1;31m---------------------------------------------------------------------------\u001b[0m",
      "\u001b[1;31mNotImplementedError\u001b[0m                       Traceback (most recent call last)",
      "Cell \u001b[1;32mIn[123], line 1\u001b[0m\n\u001b[1;32m----> 1\u001b[0m a\u001b[38;5;241m.\u001b[39mee()\n",
      "Cell \u001b[1;32mIn[115], line 5\u001b[0m, in \u001b[0;36mD.ee\u001b[1;34m(self)\u001b[0m\n\u001b[0;32m      4\u001b[0m \u001b[38;5;28;01mdef\u001b[39;00m \u001b[38;5;21mee\u001b[39m(\u001b[38;5;28mself\u001b[39m): \u001b[38;5;66;03m#차별적인 기능\u001b[39;00m\n\u001b[1;32m----> 5\u001b[0m     \u001b[38;5;28;01mraise\u001b[39;00m \u001b[38;5;167;01mNotImplementedError\u001b[39;00m\n",
      "\u001b[1;31mNotImplementedError\u001b[0m: "
     ]
    }
   ],
   "source": [
    "a.ee()"
   ]
  },
  {
   "cell_type": "code",
   "execution_count": 125,
   "id": "a4835dea",
   "metadata": {},
   "outputs": [],
   "source": [
    "from collections.abc import Sequence"
   ]
  },
  {
   "cell_type": "markdown",
   "id": "a4d2ac1b",
   "metadata": {},
   "source": [
    "abstract base class"
   ]
  },
  {
   "cell_type": "code",
   "execution_count": 129,
   "id": "e1e3c479",
   "metadata": {},
   "outputs": [],
   "source": [
    "from collections.abc import Sequence \n",
    "\n",
    "class ExpandingSequence(Sequence):\n",
    "    def __init__(self, it):\n",
    "        self.it = it\n",
    "        self._cache = [] \n",
    "    def __getitem__(self, index):\n",
    "        while len(self._cache) <= index:\n",
    "            self._cache.append(next(self.it))\n",
    "        return self._cache[index] \n",
    "    def __len__(self):\n",
    "        return len(self._cache)\n",
    "    \n",
    "#getitem : 인덱싱을 위해서\n",
    "#len : -로 접근할 때 필요함."
   ]
  },
  {
   "cell_type": "code",
   "execution_count": 134,
   "id": "012a3741",
   "metadata": {},
   "outputs": [],
   "source": [
    "import inspect"
   ]
  },
  {
   "cell_type": "code",
   "execution_count": 143,
   "id": "51f39fc8",
   "metadata": {
    "collapsed": true
   },
   "outputs": [
    {
     "name": "stdout",
     "output_type": "stream",
     "text": [
      "@keras_export(\"keras.utils.Sequence\")\n",
      "class Sequence:\n",
      "    \"\"\"Base object for fitting to a sequence of data, such as a dataset.\n",
      "\n",
      "    Every `Sequence` must implement the `__getitem__` and the `__len__` methods.\n",
      "    If you want to modify your dataset between epochs, you may implement\n",
      "    `on_epoch_end`. The method `__getitem__` should return a complete batch.\n",
      "\n",
      "    Notes:\n",
      "\n",
      "    `Sequence` is a safer way to do multiprocessing. This structure guarantees\n",
      "    that the network will only train once on each sample per epoch, which is not\n",
      "    the case with generators.\n",
      "\n",
      "    Examples:\n",
      "\n",
      "    ```python\n",
      "    from skimage.io import imread\n",
      "    from skimage.transform import resize\n",
      "    import numpy as np\n",
      "    import math\n",
      "\n",
      "    # Here, `x_set` is list of path to the images\n",
      "    # and `y_set` are the associated classes.\n",
      "\n",
      "    class CIFAR10Sequence(tf.keras.utils.Sequence):\n",
      "\n",
      "        def __init__(self, x_set, y_set, batch_size):\n",
      "            self.x, self.y = x_set, y_set\n",
      "            self.batch_size = batch_size\n",
      "\n",
      "        def __len__(self):\n",
      "            return math.ceil(len(self.x) / self.batch_size)\n",
      "\n",
      "        def __getitem__(self, idx):\n",
      "            low = idx * self.batch_size\n",
      "            # Cap upper bound at array length; the last batch may be smaller\n",
      "            # if the total number of items is not a multiple of batch size.\n",
      "            high = min(low + self.batch_size, len(self.x))\n",
      "            batch_x = self.x[low:high]\n",
      "            batch_y = self.y[low:high]\n",
      "\n",
      "            return np.array([\n",
      "                resize(imread(file_name), (200, 200))\n",
      "                   for file_name in batch_x]), np.array(batch_y)\n",
      "    ```\n",
      "    \"\"\"\n",
      "\n",
      "    @abstractmethod\n",
      "    def __getitem__(self, index):\n",
      "        \"\"\"Gets batch at position `index`.\n",
      "\n",
      "        Args:\n",
      "            index: position of the batch in the Sequence.\n",
      "\n",
      "        Returns:\n",
      "            A batch\n",
      "        \"\"\"\n",
      "        raise NotImplementedError\n",
      "\n",
      "    @abstractmethod\n",
      "    def __len__(self):\n",
      "        \"\"\"Number of batch in the Sequence.\n",
      "\n",
      "        Returns:\n",
      "            The number of batches in the Sequence.\n",
      "        \"\"\"\n",
      "        raise NotImplementedError\n",
      "\n",
      "    def on_epoch_end(self):\n",
      "        \"\"\"Method called at the end of every epoch.\"\"\"\n",
      "        pass\n",
      "\n",
      "    def __iter__(self):\n",
      "        \"\"\"Create a generator that iterate over the Sequence.\"\"\"\n",
      "        for item in (self[i] for i in range(len(self))):\n",
      "            yield item\n",
      "\n"
     ]
    }
   ],
   "source": [
    "print(inspect.getsource(tf.keras.utils.Sequence))\n",
    "# 텐서플로우 상속을 안받았네. 가능하다? 가능하다. 상속안받아도, 덕타이핑을 통해 가능하다."
   ]
  },
  {
   "cell_type": "code",
   "execution_count": 140,
   "id": "ab79430e",
   "metadata": {},
   "outputs": [],
   "source": [
    "from torch.utils.data import DataLoader, Dataset"
   ]
  },
  {
   "cell_type": "code",
   "execution_count": 141,
   "id": "ab8cdcba",
   "metadata": {
    "collapsed": true
   },
   "outputs": [
    {
     "name": "stdout",
     "output_type": "stream",
     "text": [
      "class Dataset(Generic[T_co]):\n",
      "    r\"\"\"An abstract class representing a :class:`Dataset`.\n",
      "\n",
      "    All datasets that represent a map from keys to data samples should subclass\n",
      "    it. All subclasses should overwrite :meth:`__getitem__`, supporting fetching a\n",
      "    data sample for a given key. Subclasses could also optionally overwrite\n",
      "    :meth:`__len__`, which is expected to return the size of the dataset by many\n",
      "    :class:`~torch.utils.data.Sampler` implementations and the default options\n",
      "    of :class:`~torch.utils.data.DataLoader`.\n",
      "\n",
      "    .. note::\n",
      "      :class:`~torch.utils.data.DataLoader` by default constructs a index\n",
      "      sampler that yields integral indices.  To make it work with a map-style\n",
      "      dataset with non-integral indices/keys, a custom sampler must be provided.\n",
      "    \"\"\"\n",
      "\n",
      "    def __getitem__(self, index) -> T_co:\n",
      "        raise NotImplementedError\n",
      "\n",
      "    def __add__(self, other: 'Dataset[T_co]') -> 'ConcatDataset[T_co]':\n",
      "        return ConcatDataset([self, other])\n",
      "\n",
      "    # No `def __len__(self)` default?\n",
      "    # See NOTE [ Lack of Default `__len__` in Python Abstract Base Classes ]\n",
      "    # in pytorch/torch/utils/data/sampler.py\n",
      "\n"
     ]
    }
   ],
   "source": [
    "print(inspect.getsource(Dataset))"
   ]
  },
  {
   "cell_type": "code",
   "execution_count": 170,
   "id": "bffa338a",
   "metadata": {},
   "outputs": [],
   "source": [
    "#얘도 상속을 안받아도 된다.\n",
    "from collections.abc import Sequence \n",
    "\n",
    "class ExpandingSequence():\n",
    "    def __init__(self, it):\n",
    "        self.it = it\n",
    "        self._cache = [] \n",
    "    def __getitem__(self, index):\n",
    "        while len(self._cache) <= index:\n",
    "            self._cache.append(next(self.it))\n",
    "        return self._cache[index] \n",
    "    def __len__(self):\n",
    "        return len(self._cache)"
   ]
  },
  {
   "cell_type": "code",
   "execution_count": 171,
   "id": "19908a11",
   "metadata": {},
   "outputs": [],
   "source": [
    "e = ExpandingSequence(iter([1,2,3,4]))"
   ]
  },
  {
   "cell_type": "code",
   "execution_count": 172,
   "id": "115077f0",
   "metadata": {},
   "outputs": [
    {
     "data": {
      "text/plain": [
       "1"
      ]
     },
     "execution_count": 172,
     "metadata": {},
     "output_type": "execute_result"
    }
   ],
   "source": [
    "e[0]"
   ]
  },
  {
   "cell_type": "code",
   "execution_count": 173,
   "id": "ed807c0c",
   "metadata": {},
   "outputs": [
    {
     "data": {
      "text/plain": [
       "1"
      ]
     },
     "execution_count": 173,
     "metadata": {},
     "output_type": "execute_result"
    }
   ],
   "source": [
    "e[-1] #4여야 되는데. 어쨌든 덕타이핑 해서 작동만 하면 엉터리 동작이여도 그냥 막 한다."
   ]
  },
  {
   "cell_type": "code",
   "execution_count": 178,
   "id": "8d84b217",
   "metadata": {},
   "outputs": [],
   "source": [
    "#얘도 상속을 안받아도 된다.\n",
    "from collections.abc import Sequence \n",
    "\n",
    "class ExpandingSequence(Sequence):\n",
    "    def __init__(self, it):\n",
    "        self.it = it\n",
    "        self._cache = [] \n",
    "    def __getitem__(self, index):\n",
    "        while len(self._cache) <= index:\n",
    "            self._cache.append(next(self.it))\n",
    "        return self._cache[index] \n",
    "#     def __len__(self):\n",
    "#         return len(self._cache)"
   ]
  },
  {
   "cell_type": "code",
   "execution_count": 182,
   "id": "1e9a5429",
   "metadata": {},
   "outputs": [
    {
     "ename": "TypeError",
     "evalue": "Can't instantiate abstract class ExpandingSequence with abstract method __len__",
     "output_type": "error",
     "traceback": [
      "\u001b[1;31m---------------------------------------------------------------------------\u001b[0m",
      "\u001b[1;31mTypeError\u001b[0m                                 Traceback (most recent call last)",
      "Cell \u001b[1;32mIn[182], line 1\u001b[0m\n\u001b[1;32m----> 1\u001b[0m e \u001b[38;5;241m=\u001b[39m ExpandingSequence(\u001b[38;5;28miter\u001b[39m([\u001b[38;5;241m1\u001b[39m,\u001b[38;5;241m2\u001b[39m,\u001b[38;5;241m3\u001b[39m,\u001b[38;5;241m4\u001b[39m]))\n",
      "\u001b[1;31mTypeError\u001b[0m: Can't instantiate abstract class ExpandingSequence with abstract method __len__"
     ]
    }
   ],
   "source": [
    "e = ExpandingSequence(iter([1,2,3,4]))\n",
    "#추상화되어있기 때문에, 이거 구현해야해요 하고, 전체적인 구조를 짠 사람이 짜놓았기 때문에 __len__이 없을 때 경고를 보인다."
   ]
  },
  {
   "cell_type": "code",
   "execution_count": 183,
   "id": "fb919125",
   "metadata": {},
   "outputs": [
    {
     "data": {
      "text/plain": [
       "2"
      ]
     },
     "execution_count": 183,
     "metadata": {},
     "output_type": "execute_result"
    }
   ],
   "source": [
    "e[1]"
   ]
  },
  {
   "cell_type": "code",
   "execution_count": 189,
   "id": "c928591d",
   "metadata": {},
   "outputs": [],
   "source": [
    "from abc import abstractmethod, ABC"
   ]
  },
  {
   "cell_type": "code",
   "execution_count": 192,
   "id": "ad87bbb6",
   "metadata": {},
   "outputs": [],
   "source": [
    "class D(ABC):\n",
    "    @abstractmethod\n",
    "    def x(self):\n",
    "        pass"
   ]
  },
  {
   "cell_type": "code",
   "execution_count": 193,
   "id": "cf4ed728",
   "metadata": {},
   "outputs": [],
   "source": [
    "class E(D):\n",
    "    pass"
   ]
  },
  {
   "cell_type": "code",
   "execution_count": 194,
   "id": "802c70e2",
   "metadata": {},
   "outputs": [
    {
     "ename": "TypeError",
     "evalue": "Can't instantiate abstract class E with abstract method x",
     "output_type": "error",
     "traceback": [
      "\u001b[1;31m---------------------------------------------------------------------------\u001b[0m",
      "\u001b[1;31mTypeError\u001b[0m                                 Traceback (most recent call last)",
      "Cell \u001b[1;32mIn[194], line 1\u001b[0m\n\u001b[1;32m----> 1\u001b[0m e \u001b[38;5;241m=\u001b[39m E()\n",
      "\u001b[1;31mTypeError\u001b[0m: Can't instantiate abstract class E with abstract method x"
     ]
    }
   ],
   "source": [
    "e = E()"
   ]
  },
  {
   "cell_type": "markdown",
   "id": "e117d38d",
   "metadata": {},
   "source": [
    "텐서플로우는 상속 안하는데, 이럴 때 @abstractmethod는 가이드만 해주고, 상속해야 에러가 발생한다."
   ]
  },
  {
   "cell_type": "code",
   "execution_count": 195,
   "id": "c063580a",
   "metadata": {},
   "outputs": [
    {
     "name": "stdout",
     "output_type": "stream",
     "text": [
      "class Dataset(Generic[T_co]):\n",
      "    r\"\"\"An abstract class representing a :class:`Dataset`.\n",
      "\n",
      "    All datasets that represent a map from keys to data samples should subclass\n",
      "    it. All subclasses should overwrite :meth:`__getitem__`, supporting fetching a\n",
      "    data sample for a given key. Subclasses could also optionally overwrite\n",
      "    :meth:`__len__`, which is expected to return the size of the dataset by many\n",
      "    :class:`~torch.utils.data.Sampler` implementations and the default options\n",
      "    of :class:`~torch.utils.data.DataLoader`.\n",
      "\n",
      "    .. note::\n",
      "      :class:`~torch.utils.data.DataLoader` by default constructs a index\n",
      "      sampler that yields integral indices.  To make it work with a map-style\n",
      "      dataset with non-integral indices/keys, a custom sampler must be provided.\n",
      "    \"\"\"\n",
      "\n",
      "    def __getitem__(self, index) -> T_co:\n",
      "        raise NotImplementedError\n",
      "\n",
      "    def __add__(self, other: 'Dataset[T_co]') -> 'ConcatDataset[T_co]':\n",
      "        return ConcatDataset([self, other])\n",
      "\n",
      "    # No `def __len__(self)` default?\n",
      "    # See NOTE [ Lack of Default `__len__` in Python Abstract Base Classes ]\n",
      "    # in pytorch/torch/utils/data/sampler.py\n",
      "\n"
     ]
    }
   ],
   "source": [
    "print(inspect.getsource(Dataset))"
   ]
  },
  {
   "cell_type": "markdown",
   "id": "60b2f3e5",
   "metadata": {},
   "source": [
    "텐서플로우, 파이토치 모두 덕타이핑 방식이다. 그런데 에러 대신 가이드 방식이다. 왜냐면 전문가들이니까. 근데 ABC상속을 통해서 강제시킬수도 있기는 하다."
   ]
  },
  {
   "cell_type": "markdown",
   "id": "ac5e2b53",
   "metadata": {},
   "source": [
    "## 04.01 MetaClass"
   ]
  },
  {
   "cell_type": "code",
   "execution_count": 198,
   "id": "0eed6bdf",
   "metadata": {},
   "outputs": [],
   "source": [
    "from abc import ABCMeta, abstractmethod"
   ]
  },
  {
   "cell_type": "markdown",
   "id": "06dfd60a",
   "metadata": {},
   "source": [
    "**메타클래스?**<br>\n",
    "클래스의 행동을 결정해주는 애. 얘를 이용하는게 가장 세련되다. 그래서 사이킷런에도 메타클래스를 사용한다."
   ]
  },
  {
   "cell_type": "code",
   "execution_count": 202,
   "id": "e3c67e61",
   "metadata": {},
   "outputs": [],
   "source": [
    "class E(metaclass=ABCMeta):\n",
    "    @abstractmethod\n",
    "    def x(self):\n",
    "        pass\n",
    "#메타클래스는 상속하고 기능을 덧붙일 수 있어 좋음"
   ]
  },
  {
   "cell_type": "code",
   "execution_count": 203,
   "id": "e135decd",
   "metadata": {},
   "outputs": [],
   "source": [
    "class F(E):\n",
    "    pass"
   ]
  },
  {
   "cell_type": "code",
   "execution_count": 204,
   "id": "21fadd16",
   "metadata": {
    "scrolled": true
   },
   "outputs": [
    {
     "ename": "TypeError",
     "evalue": "Can't instantiate abstract class F with abstract method x",
     "output_type": "error",
     "traceback": [
      "\u001b[1;31m---------------------------------------------------------------------------\u001b[0m",
      "\u001b[1;31mTypeError\u001b[0m                                 Traceback (most recent call last)",
      "Cell \u001b[1;32mIn[204], line 1\u001b[0m\n\u001b[1;32m----> 1\u001b[0m f \u001b[38;5;241m=\u001b[39m F()\n",
      "\u001b[1;31mTypeError\u001b[0m: Can't instantiate abstract class F with abstract method x"
     ]
    }
   ],
   "source": [
    "f = F()"
   ]
  },
  {
   "cell_type": "markdown",
   "id": "dd795926",
   "metadata": {},
   "source": [
    "# 05 Map, Iterable"
   ]
  },
  {
   "cell_type": "markdown",
   "id": "80bb481b",
   "metadata": {},
   "source": [
    "map에 보면 *iterable이 있다. 즉 iterable을 여러개 받는다."
   ]
  },
  {
   "cell_type": "markdown",
   "id": "4be1b41b",
   "metadata": {},
   "source": [
    "파이토치에는 map style과 iteration style 으로 나누어놨다.<br>\n",
    "tensorflow에서도 이터러블과 맵 나누어놓았다.<br>\n",
    "pandas도 맵으로 끝난다.<br>\n",
    "맵이 더 우아하다."
   ]
  },
  {
   "cell_type": "code",
   "execution_count": 221,
   "id": "e1b9cfb1",
   "metadata": {},
   "outputs": [],
   "source": [
    "tips = sns.load_dataset('tips')"
   ]
  },
  {
   "cell_type": "code",
   "execution_count": 222,
   "id": "b2feb21e",
   "metadata": {
    "scrolled": true
   },
   "outputs": [
    {
     "data": {
      "text/plain": [
       "0      16.99\n",
       "1      10.34\n",
       "2      21.01\n",
       "3      23.68\n",
       "4      24.59\n",
       "       ...  \n",
       "239    29.03\n",
       "240    27.18\n",
       "241    22.67\n",
       "242    17.82\n",
       "243    18.78\n",
       "Name: total_bill, Length: 244, dtype: float64"
      ]
     },
     "execution_count": 222,
     "metadata": {},
     "output_type": "execute_result"
    }
   ],
   "source": [
    "tips['total_bill']"
   ]
  },
  {
   "cell_type": "code",
   "execution_count": 223,
   "id": "d2b99ead",
   "metadata": {},
   "outputs": [
    {
     "data": {
      "text/plain": [
       "['T',\n",
       " '_AXIS_LEN',\n",
       " '_AXIS_ORDERS',\n",
       " '_AXIS_TO_AXIS_NUMBER',\n",
       " '_HANDLED_TYPES',\n",
       " '__abs__',\n",
       " '__add__',\n",
       " '__and__',\n",
       " '__annotations__',\n",
       " '__array__',\n",
       " '__array_priority__',\n",
       " '__array_ufunc__',\n",
       " '__array_wrap__',\n",
       " '__bool__',\n",
       " '__class__',\n",
       " '__contains__',\n",
       " '__copy__',\n",
       " '__deepcopy__',\n",
       " '__delattr__',\n",
       " '__delitem__',\n",
       " '__dict__',\n",
       " '__dir__',\n",
       " '__divmod__',\n",
       " '__doc__',\n",
       " '__eq__',\n",
       " '__finalize__',\n",
       " '__float__',\n",
       " '__floordiv__',\n",
       " '__format__',\n",
       " '__ge__',\n",
       " '__getattr__',\n",
       " '__getattribute__',\n",
       " '__getitem__',\n",
       " '__getstate__',\n",
       " '__gt__',\n",
       " '__hash__',\n",
       " '__iadd__',\n",
       " '__iand__',\n",
       " '__ifloordiv__',\n",
       " '__imod__',\n",
       " '__imul__',\n",
       " '__init__',\n",
       " '__init_subclass__',\n",
       " '__int__',\n",
       " '__invert__',\n",
       " '__ior__',\n",
       " '__ipow__',\n",
       " '__isub__',\n",
       " '__iter__',\n",
       " '__itruediv__',\n",
       " '__ixor__',\n",
       " '__le__',\n",
       " '__len__',\n",
       " '__long__',\n",
       " '__lt__',\n",
       " '__matmul__',\n",
       " '__mod__',\n",
       " '__module__',\n",
       " '__mul__',\n",
       " '__ne__',\n",
       " '__neg__',\n",
       " '__new__',\n",
       " '__nonzero__',\n",
       " '__or__',\n",
       " '__pos__',\n",
       " '__pow__',\n",
       " '__radd__',\n",
       " '__rand__',\n",
       " '__rdivmod__',\n",
       " '__reduce__',\n",
       " '__reduce_ex__',\n",
       " '__repr__',\n",
       " '__rfloordiv__',\n",
       " '__rmatmul__',\n",
       " '__rmod__',\n",
       " '__rmul__',\n",
       " '__ror__',\n",
       " '__round__',\n",
       " '__rpow__',\n",
       " '__rsub__',\n",
       " '__rtruediv__',\n",
       " '__rxor__',\n",
       " '__setattr__',\n",
       " '__setitem__',\n",
       " '__setstate__',\n",
       " '__sizeof__',\n",
       " '__str__',\n",
       " '__sub__',\n",
       " '__subclasshook__',\n",
       " '__truediv__',\n",
       " '__weakref__',\n",
       " '__xor__',\n",
       " '_accessors',\n",
       " '_accum_func',\n",
       " '_add_numeric_operations',\n",
       " '_agg_by_level',\n",
       " '_agg_examples_doc',\n",
       " '_agg_see_also_doc',\n",
       " '_align_frame',\n",
       " '_align_series',\n",
       " '_append',\n",
       " '_arith_method',\n",
       " '_as_manager',\n",
       " '_attrs',\n",
       " '_binop',\n",
       " '_cacher',\n",
       " '_can_hold_na',\n",
       " '_check_inplace_and_allows_duplicate_labels',\n",
       " '_check_inplace_setting',\n",
       " '_check_is_chained_assignment_possible',\n",
       " '_check_label_or_level_ambiguity',\n",
       " '_check_setitem_copy',\n",
       " '_clear_item_cache',\n",
       " '_clip_with_one_bound',\n",
       " '_clip_with_scalar',\n",
       " '_cmp_method',\n",
       " '_consolidate',\n",
       " '_consolidate_inplace',\n",
       " '_construct_axes_dict',\n",
       " '_construct_axes_from_arguments',\n",
       " '_construct_result',\n",
       " '_constructor',\n",
       " '_constructor_expanddim',\n",
       " '_convert',\n",
       " '_convert_dtypes',\n",
       " '_data',\n",
       " '_dir_additions',\n",
       " '_dir_deletions',\n",
       " '_drop_axis',\n",
       " '_drop_labels_or_levels',\n",
       " '_duplicated',\n",
       " '_find_valid_index',\n",
       " '_flags',\n",
       " '_get_axis',\n",
       " '_get_axis_name',\n",
       " '_get_axis_number',\n",
       " '_get_axis_resolvers',\n",
       " '_get_block_manager_axis',\n",
       " '_get_bool_data',\n",
       " '_get_cacher',\n",
       " '_get_cleaned_column_resolvers',\n",
       " '_get_index_resolvers',\n",
       " '_get_label_or_level_values',\n",
       " '_get_numeric_data',\n",
       " '_get_value',\n",
       " '_get_values',\n",
       " '_get_values_tuple',\n",
       " '_get_with',\n",
       " '_gotitem',\n",
       " '_hidden_attrs',\n",
       " '_indexed_same',\n",
       " '_info_axis',\n",
       " '_info_axis_name',\n",
       " '_info_axis_number',\n",
       " '_init_dict',\n",
       " '_init_mgr',\n",
       " '_inplace_method',\n",
       " '_internal_names',\n",
       " '_internal_names_set',\n",
       " '_is_cached',\n",
       " '_is_copy',\n",
       " '_is_label_or_level_reference',\n",
       " '_is_label_reference',\n",
       " '_is_level_reference',\n",
       " '_is_mixed_type',\n",
       " '_is_view',\n",
       " '_item_cache',\n",
       " '_ixs',\n",
       " '_logical_func',\n",
       " '_logical_method',\n",
       " '_map_values',\n",
       " '_maybe_update_cacher',\n",
       " '_memory_usage',\n",
       " '_metadata',\n",
       " '_mgr',\n",
       " '_min_count_stat_function',\n",
       " '_name',\n",
       " '_needs_reindex_multi',\n",
       " '_protect_consolidate',\n",
       " '_reduce',\n",
       " '_reindex_axes',\n",
       " '_reindex_indexer',\n",
       " '_reindex_multi',\n",
       " '_reindex_with_indexers',\n",
       " '_rename',\n",
       " '_replace_single',\n",
       " '_repr_data_resource_',\n",
       " '_repr_latex_',\n",
       " '_reset_cache',\n",
       " '_reset_cacher',\n",
       " '_set_as_cached',\n",
       " '_set_axis',\n",
       " '_set_axis_name',\n",
       " '_set_axis_nocheck',\n",
       " '_set_is_copy',\n",
       " '_set_labels',\n",
       " '_set_name',\n",
       " '_set_value',\n",
       " '_set_values',\n",
       " '_set_with',\n",
       " '_set_with_engine',\n",
       " '_slice',\n",
       " '_stat_axis',\n",
       " '_stat_axis_name',\n",
       " '_stat_axis_number',\n",
       " '_stat_function',\n",
       " '_stat_function_ddof',\n",
       " '_take',\n",
       " '_take_with_is_copy',\n",
       " '_typ',\n",
       " '_update_inplace',\n",
       " '_validate_dtype',\n",
       " '_values',\n",
       " '_where',\n",
       " 'abs',\n",
       " 'add',\n",
       " 'add_prefix',\n",
       " 'add_suffix',\n",
       " 'agg',\n",
       " 'aggregate',\n",
       " 'align',\n",
       " 'all',\n",
       " 'any',\n",
       " 'append',\n",
       " 'apply',\n",
       " 'argmax',\n",
       " 'argmin',\n",
       " 'argsort',\n",
       " 'array',\n",
       " 'asfreq',\n",
       " 'asof',\n",
       " 'astype',\n",
       " 'at',\n",
       " 'at_time',\n",
       " 'attrs',\n",
       " 'autocorr',\n",
       " 'axes',\n",
       " 'backfill',\n",
       " 'between',\n",
       " 'between_time',\n",
       " 'bfill',\n",
       " 'bool',\n",
       " 'clip',\n",
       " 'combine',\n",
       " 'combine_first',\n",
       " 'compare',\n",
       " 'convert_dtypes',\n",
       " 'copy',\n",
       " 'corr',\n",
       " 'count',\n",
       " 'cov',\n",
       " 'cummax',\n",
       " 'cummin',\n",
       " 'cumprod',\n",
       " 'cumsum',\n",
       " 'describe',\n",
       " 'diff',\n",
       " 'div',\n",
       " 'divide',\n",
       " 'divmod',\n",
       " 'dot',\n",
       " 'drop',\n",
       " 'drop_duplicates',\n",
       " 'droplevel',\n",
       " 'dropna',\n",
       " 'dtype',\n",
       " 'dtypes',\n",
       " 'duplicated',\n",
       " 'empty',\n",
       " 'eq',\n",
       " 'equals',\n",
       " 'ewm',\n",
       " 'expanding',\n",
       " 'explode',\n",
       " 'factorize',\n",
       " 'ffill',\n",
       " 'fillna',\n",
       " 'filter',\n",
       " 'first',\n",
       " 'first_valid_index',\n",
       " 'flags',\n",
       " 'floordiv',\n",
       " 'ge',\n",
       " 'get',\n",
       " 'groupby',\n",
       " 'gt',\n",
       " 'hasnans',\n",
       " 'head',\n",
       " 'hist',\n",
       " 'iat',\n",
       " 'idxmax',\n",
       " 'idxmin',\n",
       " 'iloc',\n",
       " 'index',\n",
       " 'infer_objects',\n",
       " 'info',\n",
       " 'interpolate',\n",
       " 'is_monotonic',\n",
       " 'is_monotonic_decreasing',\n",
       " 'is_monotonic_increasing',\n",
       " 'is_unique',\n",
       " 'isin',\n",
       " 'isna',\n",
       " 'isnull',\n",
       " 'item',\n",
       " 'items',\n",
       " 'iteritems',\n",
       " 'keys',\n",
       " 'kurt',\n",
       " 'kurtosis',\n",
       " 'last',\n",
       " 'last_valid_index',\n",
       " 'le',\n",
       " 'loc',\n",
       " 'lt',\n",
       " 'mad',\n",
       " 'map',\n",
       " 'mask',\n",
       " 'max',\n",
       " 'mean',\n",
       " 'median',\n",
       " 'memory_usage',\n",
       " 'min',\n",
       " 'mod',\n",
       " 'mode',\n",
       " 'mul',\n",
       " 'multiply',\n",
       " 'name',\n",
       " 'nbytes',\n",
       " 'ndim',\n",
       " 'ne',\n",
       " 'nlargest',\n",
       " 'notna',\n",
       " 'notnull',\n",
       " 'nsmallest',\n",
       " 'nunique',\n",
       " 'pad',\n",
       " 'pct_change',\n",
       " 'pipe',\n",
       " 'plot',\n",
       " 'pop',\n",
       " 'pow',\n",
       " 'prod',\n",
       " 'product',\n",
       " 'quantile',\n",
       " 'radd',\n",
       " 'rank',\n",
       " 'ravel',\n",
       " 'rdiv',\n",
       " 'rdivmod',\n",
       " 'reindex',\n",
       " 'reindex_like',\n",
       " 'rename',\n",
       " 'rename_axis',\n",
       " 'reorder_levels',\n",
       " 'repeat',\n",
       " 'replace',\n",
       " 'resample',\n",
       " 'reset_index',\n",
       " 'rfloordiv',\n",
       " 'rmod',\n",
       " 'rmul',\n",
       " 'rolling',\n",
       " 'round',\n",
       " 'rpow',\n",
       " 'rsub',\n",
       " 'rtruediv',\n",
       " 'sample',\n",
       " 'searchsorted',\n",
       " 'sem',\n",
       " 'set_axis',\n",
       " 'set_flags',\n",
       " 'shape',\n",
       " 'shift',\n",
       " 'size',\n",
       " 'skew',\n",
       " 'slice_shift',\n",
       " 'sort_index',\n",
       " 'sort_values',\n",
       " 'squeeze',\n",
       " 'std',\n",
       " 'sub',\n",
       " 'subtract',\n",
       " 'sum',\n",
       " 'swapaxes',\n",
       " 'swaplevel',\n",
       " 'tail',\n",
       " 'take',\n",
       " 'to_clipboard',\n",
       " 'to_csv',\n",
       " 'to_dict',\n",
       " 'to_excel',\n",
       " 'to_frame',\n",
       " 'to_hdf',\n",
       " 'to_json',\n",
       " 'to_latex',\n",
       " 'to_list',\n",
       " 'to_markdown',\n",
       " 'to_numpy',\n",
       " 'to_period',\n",
       " 'to_pickle',\n",
       " 'to_sql',\n",
       " 'to_string',\n",
       " 'to_timestamp',\n",
       " 'to_xarray',\n",
       " 'transform',\n",
       " 'transpose',\n",
       " 'truediv',\n",
       " 'truncate',\n",
       " 'tz_convert',\n",
       " 'tz_localize',\n",
       " 'unique',\n",
       " 'unstack',\n",
       " 'update',\n",
       " 'value_counts',\n",
       " 'values',\n",
       " 'var',\n",
       " 'view',\n",
       " 'where',\n",
       " 'xs']"
      ]
     },
     "execution_count": 223,
     "metadata": {},
     "output_type": "execute_result"
    }
   ],
   "source": [
    "dir(tips['total_bill'])"
   ]
  },
  {
   "cell_type": "code",
   "execution_count": 224,
   "id": "bdeed64b",
   "metadata": {},
   "outputs": [],
   "source": [
    "temp = []\n",
    "for i in tips['total_bill']: #accumulation\n",
    "    temp.append(i*10)"
   ]
  },
  {
   "cell_type": "code",
   "execution_count": 225,
   "id": "37df320a",
   "metadata": {},
   "outputs": [],
   "source": [
    "#또는\n",
    "b = iter(tips['total_bill'])"
   ]
  },
  {
   "cell_type": "code",
   "execution_count": 226,
   "id": "df515ded",
   "metadata": {},
   "outputs": [
    {
     "data": {
      "text/plain": [
       "16.99"
      ]
     },
     "execution_count": 226,
     "metadata": {},
     "output_type": "execute_result"
    }
   ],
   "source": [
    "next(b)\n",
    "#해서 하나씩 받아와서 해도 된다."
   ]
  },
  {
   "cell_type": "code",
   "execution_count": 228,
   "id": "565e06cc",
   "metadata": {},
   "outputs": [],
   "source": [
    "### 함수형 패러다임은 what에 집중해라\n",
    "b = tips['total_bill'].map(lambda x: x*10)"
   ]
  },
  {
   "cell_type": "code",
   "execution_count": 229,
   "id": "c762567a",
   "metadata": {
    "scrolled": false
   },
   "outputs": [
    {
     "data": {
      "text/plain": [
       "0      169.9\n",
       "1      103.4\n",
       "2      210.1\n",
       "3      236.8\n",
       "4      245.9\n",
       "       ...  \n",
       "239    290.3\n",
       "240    271.8\n",
       "241    226.7\n",
       "242    178.2\n",
       "243    187.8\n",
       "Name: total_bill, Length: 244, dtype: float64"
      ]
     },
     "execution_count": 229,
     "metadata": {},
     "output_type": "execute_result"
    }
   ],
   "source": [
    "b"
   ]
  },
  {
   "cell_type": "code",
   "execution_count": 231,
   "id": "51fbd1ac",
   "metadata": {},
   "outputs": [
    {
     "data": {
      "text/plain": [
       "0      Female\n",
       "1        Male\n",
       "2        Male\n",
       "3        Male\n",
       "4      Female\n",
       "        ...  \n",
       "239      Male\n",
       "240    Female\n",
       "241      Male\n",
       "242      Male\n",
       "243    Female\n",
       "Name: sex, Length: 244, dtype: category\n",
       "Categories (2, object): ['Male', 'Female']"
      ]
     },
     "execution_count": 231,
     "metadata": {},
     "output_type": "execute_result"
    }
   ],
   "source": [
    "tips['sex']"
   ]
  },
  {
   "cell_type": "code",
   "execution_count": 233,
   "id": "3bde6751",
   "metadata": {},
   "outputs": [
    {
     "data": {
      "text/plain": [
       "0      F\n",
       "1      M\n",
       "2      M\n",
       "3      M\n",
       "4      F\n",
       "      ..\n",
       "239    M\n",
       "240    F\n",
       "241    M\n",
       "242    M\n",
       "243    F\n",
       "Name: sex, Length: 244, dtype: category\n",
       "Categories (2, object): ['M', 'F']"
      ]
     },
     "execution_count": 233,
     "metadata": {},
     "output_type": "execute_result"
    }
   ],
   "source": [
    "#남여를 바꾸고 싶다.\n",
    "tips.sex.map({'Female':'F', 'Male':'M'})"
   ]
  },
  {
   "cell_type": "code",
   "execution_count": 236,
   "id": "03b856f4",
   "metadata": {},
   "outputs": [
    {
     "data": {
      "text/plain": [
       "<map at 0x22188676e90>"
      ]
     },
     "execution_count": 236,
     "metadata": {},
     "output_type": "execute_result"
    }
   ],
   "source": [
    "b = map(lambda x:x+10, [1,2,3,4,5])\n",
    "b"
   ]
  },
  {
   "cell_type": "code",
   "execution_count": 237,
   "id": "98aa7c7a",
   "metadata": {},
   "outputs": [
    {
     "data": {
      "text/plain": [
       "11"
      ]
     },
     "execution_count": 237,
     "metadata": {},
     "output_type": "execute_result"
    }
   ],
   "source": [
    "next(b)"
   ]
  },
  {
   "cell_type": "code",
   "execution_count": 238,
   "id": "227dbeda",
   "metadata": {},
   "outputs": [
    {
     "data": {
      "text/plain": [
       "['__class__',\n",
       " '__delattr__',\n",
       " '__dir__',\n",
       " '__doc__',\n",
       " '__eq__',\n",
       " '__format__',\n",
       " '__ge__',\n",
       " '__getattribute__',\n",
       " '__getstate__',\n",
       " '__gt__',\n",
       " '__hash__',\n",
       " '__init__',\n",
       " '__init_subclass__',\n",
       " '__iter__',\n",
       " '__le__',\n",
       " '__lt__',\n",
       " '__ne__',\n",
       " '__new__',\n",
       " '__next__',\n",
       " '__reduce__',\n",
       " '__reduce_ex__',\n",
       " '__repr__',\n",
       " '__setattr__',\n",
       " '__sizeof__',\n",
       " '__str__',\n",
       " '__subclasshook__']"
      ]
     },
     "execution_count": 238,
     "metadata": {},
     "output_type": "execute_result"
    }
   ],
   "source": [
    "dir(b)\n",
    "#로직에 집중할 수 있다.\n",
    "#python은 맵도 iterable 기반이다."
   ]
  },
  {
   "cell_type": "code",
   "execution_count": 242,
   "id": "120d12ef",
   "metadata": {},
   "outputs": [],
   "source": [
    "b = map(lambda x,Y:x+Y, [1,2,3,4,5], [1,2,3,4,5])"
   ]
  },
  {
   "cell_type": "code",
   "execution_count": 243,
   "id": "c07ee446",
   "metadata": {},
   "outputs": [
    {
     "data": {
      "text/plain": [
       "2"
      ]
     },
     "execution_count": 243,
     "metadata": {},
     "output_type": "execute_result"
    }
   ],
   "source": [
    "next(b)"
   ]
  },
  {
   "cell_type": "code",
   "execution_count": 246,
   "id": "e910b37a",
   "metadata": {},
   "outputs": [],
   "source": [
    "a = zip([1,2,3,4],[3,4,5])\n",
    "#optimizer를 적용하기 위해서 여껑야하기 때문에 zip을 무조건 알아야 한다.\n",
    "#zip에 문제점이 하나가 있는데, 크기가 다를 경우에, 잘라버린다."
   ]
  },
  {
   "cell_type": "code",
   "execution_count": 250,
   "id": "43cdd0a0",
   "metadata": {},
   "outputs": [
    {
     "ename": "StopIteration",
     "evalue": "",
     "output_type": "error",
     "traceback": [
      "\u001b[1;31m---------------------------------------------------------------------------\u001b[0m",
      "\u001b[1;31mStopIteration\u001b[0m                             Traceback (most recent call last)",
      "Cell \u001b[1;32mIn[250], line 1\u001b[0m\n\u001b[1;32m----> 1\u001b[0m \u001b[38;5;28mnext\u001b[39m(a)\n",
      "\u001b[1;31mStopIteration\u001b[0m: "
     ]
    }
   ],
   "source": [
    "next(a) #iter 3times"
   ]
  },
  {
   "cell_type": "code",
   "execution_count": 252,
   "id": "9c48dd83",
   "metadata": {},
   "outputs": [],
   "source": [
    "#따라서 긴거 기준으로 사용할 땐\n",
    "from itertools import zip_longest"
   ]
  },
  {
   "cell_type": "code",
   "execution_count": 253,
   "id": "5a88ff4c",
   "metadata": {},
   "outputs": [],
   "source": [
    "a = zip_longest([1,2,3,4],[3,4,5])"
   ]
  },
  {
   "cell_type": "code",
   "execution_count": 258,
   "id": "aaba0da3",
   "metadata": {},
   "outputs": [
    {
     "ename": "StopIteration",
     "evalue": "",
     "output_type": "error",
     "traceback": [
      "\u001b[1;31m---------------------------------------------------------------------------\u001b[0m",
      "\u001b[1;31mStopIteration\u001b[0m                             Traceback (most recent call last)",
      "Cell \u001b[1;32mIn[258], line 1\u001b[0m\n\u001b[1;32m----> 1\u001b[0m \u001b[38;5;28mnext\u001b[39m(a)\n",
      "\u001b[1;31mStopIteration\u001b[0m: "
     ]
    }
   ],
   "source": [
    "next(a) #iter 4times"
   ]
  },
  {
   "cell_type": "code",
   "execution_count": 259,
   "id": "52de12ae",
   "metadata": {},
   "outputs": [],
   "source": [
    "from functools import reduce"
   ]
  },
  {
   "cell_type": "code",
   "execution_count": 261,
   "id": "16a353ca",
   "metadata": {},
   "outputs": [
    {
     "data": {
      "text/plain": [
       "15"
      ]
     },
     "execution_count": 261,
     "metadata": {},
     "output_type": "execute_result"
    }
   ],
   "source": [
    "reduce(lambda x,y: x+y, [1,2,3,4,5]) #iterable이 *도 없고, s도 없으니 한개만 쓴다. 왜? 연쇄적으로 줄인다.\n",
    "#reduce의 반대되는 accumulation"
   ]
  },
  {
   "cell_type": "code",
   "execution_count": 263,
   "id": "713977c2",
   "metadata": {},
   "outputs": [],
   "source": [
    "from itertools import accumulate"
   ]
  },
  {
   "cell_type": "code",
   "execution_count": 264,
   "id": "3ee9f884",
   "metadata": {
    "scrolled": true
   },
   "outputs": [],
   "source": [
    "b = accumulate([1,2,3,4,5], lambda x, y:x+y)"
   ]
  },
  {
   "cell_type": "code",
   "execution_count": 265,
   "id": "7f35d737",
   "metadata": {},
   "outputs": [
    {
     "data": {
      "text/plain": [
       "[1, 3, 6, 10, 15]"
      ]
     },
     "execution_count": 265,
     "metadata": {},
     "output_type": "execute_result"
    }
   ],
   "source": [
    "list(b)"
   ]
  },
  {
   "cell_type": "markdown",
   "id": "05ceb93a",
   "metadata": {},
   "source": [
    "# 06 Itertools"
   ]
  },
  {
   "cell_type": "code",
   "execution_count": 266,
   "id": "ce9582af",
   "metadata": {},
   "outputs": [],
   "source": [
    "from itertools import accumulate, chain, cycle, groupby"
   ]
  },
  {
   "cell_type": "code",
   "execution_count": 267,
   "id": "bacbd5b8",
   "metadata": {},
   "outputs": [],
   "source": [
    "b = cycle([1,2,3,4])"
   ]
  },
  {
   "cell_type": "code",
   "execution_count": 288,
   "id": "c79d0c83",
   "metadata": {},
   "outputs": [
    {
     "data": {
      "text/plain": [
       "3"
      ]
     },
     "execution_count": 288,
     "metadata": {},
     "output_type": "execute_result"
    }
   ],
   "source": [
    "next(b) #iter infinite by while"
   ]
  },
  {
   "cell_type": "code",
   "execution_count": 289,
   "id": "bd661558",
   "metadata": {},
   "outputs": [],
   "source": [
    "b = chain([1,2,3,4],[3,4,5])"
   ]
  },
  {
   "cell_type": "code",
   "execution_count": 297,
   "id": "4fa748d4",
   "metadata": {},
   "outputs": [
    {
     "ename": "StopIteration",
     "evalue": "",
     "output_type": "error",
     "traceback": [
      "\u001b[1;31m---------------------------------------------------------------------------\u001b[0m",
      "\u001b[1;31mStopIteration\u001b[0m                             Traceback (most recent call last)",
      "Cell \u001b[1;32mIn[297], line 1\u001b[0m\n\u001b[1;32m----> 1\u001b[0m \u001b[38;5;28mnext\u001b[39m(b)\n",
      "\u001b[1;31mStopIteration\u001b[0m: "
     ]
    }
   ],
   "source": [
    "next(b) #iter seven times"
   ]
  },
  {
   "cell_type": "markdown",
   "id": "dd0d1fc1",
   "metadata": {},
   "source": [
    "파이토치에서 Dataset을 Dataloader을 써서 모델에 Feed 해준다.<br>\n",
    "순서가 중요하면 iterable로 만든다.<br>\n",
    "데이터가 크면 iterator로 만든다.\n",
    "\n",
    "파이토치에서 제공하는 Dataset을 상속 받으면, 형태에 안맞으면 에러나게 추상화시켜놨는데,<br>\n",
    "Sequnce는 iterable(\\_\\_iterable\\_\\_) 이었다. "
   ]
  },
  {
   "cell_type": "code",
   "execution_count": null,
   "id": "93307c8c",
   "metadata": {},
   "outputs": [],
   "source": []
  },
  {
   "cell_type": "code",
   "execution_count": null,
   "id": "bf0ecd6a",
   "metadata": {},
   "outputs": [],
   "source": []
  }
 ],
 "metadata": {
  "kernelspec": {
   "display_name": "Python 3 (ipykernel)",
   "language": "python",
   "name": "python3"
  },
  "language_info": {
   "codemirror_mode": {
    "name": "ipython",
    "version": 3
   },
   "file_extension": ".py",
   "mimetype": "text/x-python",
   "name": "python",
   "nbconvert_exporter": "python",
   "pygments_lexer": "ipython3",
   "version": "3.11.4"
  }
 },
 "nbformat": 4,
 "nbformat_minor": 5
}
