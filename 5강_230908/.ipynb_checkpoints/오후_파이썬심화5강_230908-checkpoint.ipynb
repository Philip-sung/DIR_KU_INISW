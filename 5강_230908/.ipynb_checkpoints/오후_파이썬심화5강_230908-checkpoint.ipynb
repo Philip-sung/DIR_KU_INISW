{
 "cells": [
  {
   "cell_type": "markdown",
   "id": "e10ae40d",
   "metadata": {},
   "source": [
    "# 01 개요"
   ]
  },
  {
   "cell_type": "code",
   "execution_count": 1,
   "id": "0636b6d3",
   "metadata": {},
   "outputs": [],
   "source": [
    "adders = []\n",
    "\n",
    "for n in range(5):\n",
    "    adders.append(lambda m: m+n)"
   ]
  },
  {
   "cell_type": "code",
   "execution_count": null,
   "id": "c262dd63",
   "metadata": {},
   "outputs": [],
   "source": []
  },
  {
   "cell_type": "code",
   "execution_count": 2,
   "id": "e354a802",
   "metadata": {},
   "outputs": [
    {
     "data": {
      "text/plain": [
       "[<function __main__.<lambda>(m)>,\n",
       " <function __main__.<lambda>(m)>,\n",
       " <function __main__.<lambda>(m)>,\n",
       " <function __main__.<lambda>(m)>,\n",
       " <function __main__.<lambda>(m)>]"
      ]
     },
     "execution_count": 2,
     "metadata": {},
     "output_type": "execute_result"
    }
   ],
   "source": [
    "adders\n",
    "#adders의 각 요소는 (lambda m: m + 5)이며, 이름이 없으므로 똑같은것이 들어있다."
   ]
  },
  {
   "cell_type": "code",
   "execution_count": 3,
   "id": "09c113cf",
   "metadata": {},
   "outputs": [
    {
     "data": {
      "text/plain": [
       "9"
      ]
     },
     "execution_count": 3,
     "metadata": {},
     "output_type": "execute_result"
    }
   ],
   "source": [
    "adders[1](5)"
   ]
  },
  {
   "cell_type": "code",
   "execution_count": 4,
   "id": "12b5fc69",
   "metadata": {
    "scrolled": true
   },
   "outputs": [
    {
     "data": {
      "text/plain": [
       "9"
      ]
     },
     "execution_count": 4,
     "metadata": {},
     "output_type": "execute_result"
    }
   ],
   "source": [
    "adders[2](5)"
   ]
  },
  {
   "cell_type": "code",
   "execution_count": 5,
   "id": "e094a7ce",
   "metadata": {},
   "outputs": [],
   "source": [
    "#그렇지만 다음과 같이 쓰면 괜찮다.\n",
    "adders = []\n",
    "for n in range(5):\n",
    "    adders.append(lambda m, n=n: m + n)"
   ]
  },
  {
   "cell_type": "code",
   "execution_count": null,
   "id": "193f4c36",
   "metadata": {},
   "outputs": [],
   "source": []
  },
  {
   "cell_type": "code",
   "execution_count": 6,
   "id": "ace21062",
   "metadata": {},
   "outputs": [
    {
     "data": {
      "text/plain": [
       "[<function __main__.<lambda>(m, n=0)>,\n",
       " <function __main__.<lambda>(m, n=1)>,\n",
       " <function __main__.<lambda>(m, n=2)>,\n",
       " <function __main__.<lambda>(m, n=3)>,\n",
       " <function __main__.<lambda>(m, n=4)>]"
      ]
     },
     "execution_count": 6,
     "metadata": {},
     "output_type": "execute_result"
    }
   ],
   "source": [
    "adders"
   ]
  },
  {
   "cell_type": "code",
   "execution_count": 7,
   "id": "d8717730",
   "metadata": {},
   "outputs": [
    {
     "data": {
      "text/plain": [
       "[10, 11, 12, 13, 14]"
      ]
     },
     "execution_count": 7,
     "metadata": {},
     "output_type": "execute_result"
    }
   ],
   "source": [
    "[adder(10) for adder in adders]"
   ]
  },
  {
   "cell_type": "code",
   "execution_count": null,
   "id": "45abe445",
   "metadata": {},
   "outputs": [],
   "source": []
  },
  {
   "cell_type": "code",
   "execution_count": 8,
   "id": "ac524a0c",
   "metadata": {},
   "outputs": [],
   "source": [
    "#아래에서 a라는 name이 덮어씌워지는 것을 확인하자."
   ]
  },
  {
   "cell_type": "code",
   "execution_count": 9,
   "id": "6346ec1c",
   "metadata": {},
   "outputs": [],
   "source": [
    "a = 1"
   ]
  },
  {
   "cell_type": "code",
   "execution_count": 10,
   "id": "a98d39d7",
   "metadata": {},
   "outputs": [],
   "source": [
    "a = 2"
   ]
  },
  {
   "cell_type": "code",
   "execution_count": 11,
   "id": "662e50b7",
   "metadata": {},
   "outputs": [
    {
     "data": {
      "text/plain": [
       "2"
      ]
     },
     "execution_count": 11,
     "metadata": {},
     "output_type": "execute_result"
    }
   ],
   "source": [
    "a"
   ]
  },
  {
   "cell_type": "code",
   "execution_count": 12,
   "id": "5f382ae6",
   "metadata": {},
   "outputs": [],
   "source": [
    "def a():\n",
    "    return 1"
   ]
  },
  {
   "cell_type": "code",
   "execution_count": 13,
   "id": "ca9762a3",
   "metadata": {},
   "outputs": [
    {
     "data": {
      "text/plain": [
       "1"
      ]
     },
     "execution_count": 13,
     "metadata": {},
     "output_type": "execute_result"
    }
   ],
   "source": [
    "a()\n",
    "#reassignment"
   ]
  },
  {
   "cell_type": "markdown",
   "id": "0f4a4463",
   "metadata": {},
   "source": [
    "# 02 Accessor"
   ]
  },
  {
   "cell_type": "markdown",
   "id": "7c23b672",
   "metadata": {},
   "source": [
    "값에 접근할 수 있게 해주는 통로 get, set, del을 이야기한다.<br>\n",
    "[get, set] = accessor라고 부름<br>\n",
    "[get, set, descriptor] = descriptor라고 부름<br>"
   ]
  },
  {
   "cell_type": "code",
   "execution_count": 14,
   "id": "ffc19174",
   "metadata": {},
   "outputs": [],
   "source": [
    "a  = 1"
   ]
  },
  {
   "cell_type": "code",
   "execution_count": 15,
   "id": "6c5be62f",
   "metadata": {},
   "outputs": [],
   "source": [
    "a #get\n",
    "a = 2 #set"
   ]
  },
  {
   "cell_type": "markdown",
   "id": "a79043aa",
   "metadata": {},
   "source": [
    "***"
   ]
  },
  {
   "cell_type": "code",
   "execution_count": 16,
   "id": "4dbf0fcb",
   "metadata": {},
   "outputs": [],
   "source": [
    "a = 1"
   ]
  },
  {
   "cell_type": "code",
   "execution_count": 17,
   "id": "f43176a2",
   "metadata": {},
   "outputs": [
    {
     "name": "stdout",
     "output_type": "stream",
     "text": [
      "Variable   Type    Data/Info\n",
      "----------------------------\n",
      "a          int     1\n",
      "adders     list    n=5\n",
      "n          int     4\n"
     ]
    }
   ],
   "source": [
    "%whos"
   ]
  },
  {
   "cell_type": "code",
   "execution_count": null,
   "id": "8b08a502",
   "metadata": {},
   "outputs": [],
   "source": []
  },
  {
   "cell_type": "code",
   "execution_count": 18,
   "id": "a4adbd64",
   "metadata": {},
   "outputs": [],
   "source": [
    "import numpy as np"
   ]
  },
  {
   "cell_type": "code",
   "execution_count": 19,
   "id": "8ed8eb7f",
   "metadata": {},
   "outputs": [
    {
     "data": {
      "text/plain": [
       "<ufunc 'add'>"
      ]
     },
     "execution_count": 19,
     "metadata": {},
     "output_type": "execute_result"
    }
   ],
   "source": [
    "np.add #여기서 add는 np라는 네임스페이스 안에 있는 add이다."
   ]
  },
  {
   "cell_type": "code",
   "execution_count": 20,
   "id": "dd9b89fd",
   "metadata": {},
   "outputs": [],
   "source": [
    "class A:\n",
    "    def x(self):\n",
    "        print('A')"
   ]
  },
  {
   "cell_type": "code",
   "execution_count": 21,
   "id": "07cc297e",
   "metadata": {},
   "outputs": [
    {
     "data": {
      "text/plain": [
       "<function __main__.A.x(self)>"
      ]
     },
     "execution_count": 21,
     "metadata": {},
     "output_type": "execute_result"
    }
   ],
   "source": [
    "A.x #여기서 x는 A라는 네임스페이스 안에 있는 x이다."
   ]
  },
  {
   "cell_type": "markdown",
   "id": "290e6496",
   "metadata": {},
   "source": [
    "클래스는 네임스페이스로 볼 수 있다.<br>\n",
    "class == type == namespace"
   ]
  },
  {
   "cell_type": "markdown",
   "id": "e51f2bf5",
   "metadata": {},
   "source": [
    "**catastrophic forgetting**<br>\n",
    "과거를 다 잊어버리고 새로 기억한다."
   ]
  },
  {
   "cell_type": "markdown",
   "id": "e7df449a",
   "metadata": {},
   "source": [
    "# 03 namespace"
   ]
  },
  {
   "cell_type": "code",
   "execution_count": 22,
   "id": "eb33c6bb",
   "metadata": {},
   "outputs": [],
   "source": [
    "from numpy import add"
   ]
  },
  {
   "cell_type": "markdown",
   "id": "ef56221d",
   "metadata": {},
   "source": [
    "from aaa import bbb 라는 것은 내 네임스페이스에  bbb를 가져오겠다는 것을 의미한다."
   ]
  },
  {
   "cell_type": "code",
   "execution_count": 23,
   "id": "7d42fa83",
   "metadata": {},
   "outputs": [],
   "source": [
    "#sta.py 파일 생성"
   ]
  },
  {
   "cell_type": "code",
   "execution_count": 24,
   "id": "a1db9f91",
   "metadata": {},
   "outputs": [],
   "source": [
    "import sta"
   ]
  },
  {
   "cell_type": "code",
   "execution_count": 25,
   "id": "d3e15b18",
   "metadata": {},
   "outputs": [
    {
     "data": {
      "text/plain": [
       "1"
      ]
     },
     "execution_count": 25,
     "metadata": {},
     "output_type": "execute_result"
    }
   ],
   "source": [
    "sta.a"
   ]
  },
  {
   "cell_type": "code",
   "execution_count": 26,
   "id": "45c70647",
   "metadata": {},
   "outputs": [],
   "source": [
    "import sys"
   ]
  },
  {
   "cell_type": "code",
   "execution_count": 27,
   "id": "30bcd723",
   "metadata": {},
   "outputs": [
    {
     "data": {
      "text/plain": [
       "['C:\\\\Users\\\\Egn\\\\Desktop\\\\KUSW\\\\5강_230908',\n",
       " 'C:\\\\Users\\\\Egn\\\\AppData\\\\Local\\\\anaconda3\\\\python311.zip',\n",
       " 'C:\\\\Users\\\\Egn\\\\AppData\\\\Local\\\\anaconda3\\\\DLLs',\n",
       " 'C:\\\\Users\\\\Egn\\\\AppData\\\\Local\\\\anaconda3\\\\Lib',\n",
       " 'C:\\\\Users\\\\Egn\\\\AppData\\\\Local\\\\anaconda3',\n",
       " '',\n",
       " 'C:\\\\Users\\\\Egn\\\\AppData\\\\Local\\\\anaconda3\\\\Lib\\\\site-packages',\n",
       " 'C:\\\\Users\\\\Egn\\\\AppData\\\\Local\\\\anaconda3\\\\Lib\\\\site-packages\\\\win32',\n",
       " 'C:\\\\Users\\\\Egn\\\\AppData\\\\Local\\\\anaconda3\\\\Lib\\\\site-packages\\\\win32\\\\lib',\n",
       " 'C:\\\\Users\\\\Egn\\\\AppData\\\\Local\\\\anaconda3\\\\Lib\\\\site-packages\\\\Pythonwin']"
      ]
     },
     "execution_count": 27,
     "metadata": {},
     "output_type": "execute_result"
    }
   ],
   "source": [
    "sys.path"
   ]
  },
  {
   "cell_type": "code",
   "execution_count": 28,
   "id": "e061acc8",
   "metadata": {},
   "outputs": [
    {
     "ename": "ModuleNotFoundError",
     "evalue": "No module named 'sts33'",
     "output_type": "error",
     "traceback": [
      "\u001b[1;31m---------------------------------------------------------------------------\u001b[0m",
      "\u001b[1;31mModuleNotFoundError\u001b[0m                       Traceback (most recent call last)",
      "Cell \u001b[1;32mIn[28], line 1\u001b[0m\n\u001b[1;32m----> 1\u001b[0m \u001b[38;5;28;01mimport\u001b[39;00m \u001b[38;5;21;01msts33\u001b[39;00m\n",
      "\u001b[1;31mModuleNotFoundError\u001b[0m: No module named 'sts33'"
     ]
    }
   ],
   "source": [
    "import sts33\n",
    "#없는 것을 import하려면 아래와 같은 에러가 발생한다."
   ]
  },
  {
   "cell_type": "code",
   "execution_count": 30,
   "id": "58110662",
   "metadata": {},
   "outputs": [],
   "source": [
    "from sta import *"
   ]
  },
  {
   "cell_type": "code",
   "execution_count": null,
   "id": "12f059a2",
   "metadata": {},
   "outputs": [],
   "source": []
  },
  {
   "cell_type": "code",
   "execution_count": 31,
   "id": "74679143",
   "metadata": {},
   "outputs": [
    {
     "name": "stdout",
     "output_type": "stream",
     "text": [
      "Variable   Type      Data/Info\n",
      "------------------------------\n",
      "A          type      <class '__main__.A'>\n",
      "a          int       1\n",
      "add        ufunc     <ufunc 'add'>\n",
      "adders     list      n=5\n",
      "n          int       4\n",
      "np         module    <module 'numpy' from 'C:\\<...>ges\\\\numpy\\\\__init__.py'>\n",
      "sta        module    <module 'sta' from 'C:\\\\U<...>KUSW\\\\5강_230908\\\\sta.py'>\n",
      "sys        module    <module 'sys' (built-in)>\n"
     ]
    }
   ],
   "source": [
    "%whos"
   ]
  },
  {
   "cell_type": "markdown",
   "id": "2af30773",
   "metadata": {},
   "source": [
    "이름이 언더바로 시작하는 애는 안보인다. 즉, \\_name은 비공개로 쓰인다.<br>\n",
    "\\_\\_all\\_\\_으로 import * 했을 때 무엇을 가져올 지 지정해줄 수 있다."
   ]
  },
  {
   "cell_type": "markdown",
   "id": "2f111f6d",
   "metadata": {},
   "source": [
    "네임스페이스는 덮어씌워질 수 있다. 유지보수관리가 어렵다.<br>\n",
    "그래서 @staticmethod라는것이 뭐냐면, instance나 class와 상관 없는 함수다.<br>\n",
    "class의 이름만 빌려서 사용하는 것.<br>"
   ]
  },
  {
   "cell_type": "code",
   "execution_count": 32,
   "id": "8aa54db6",
   "metadata": {},
   "outputs": [],
   "source": [
    "class A:\n",
    "    def xx(self):\n",
    "        print('A')\n",
    "        \n",
    "    @staticmethod\n",
    "    def yy(self):  #여기서 self는 그냥 x와 같은 parameter이다.\n",
    "        print('static')"
   ]
  },
  {
   "cell_type": "code",
   "execution_count": 33,
   "id": "fa9805ff",
   "metadata": {},
   "outputs": [],
   "source": [
    "a = A()"
   ]
  },
  {
   "cell_type": "code",
   "execution_count": 34,
   "id": "838f34f5",
   "metadata": {},
   "outputs": [
    {
     "name": "stdout",
     "output_type": "stream",
     "text": [
      "A\n"
     ]
    }
   ],
   "source": [
    "a.xx()"
   ]
  },
  {
   "cell_type": "code",
   "execution_count": 35,
   "id": "7f133d22",
   "metadata": {},
   "outputs": [
    {
     "ename": "TypeError",
     "evalue": "A.yy() missing 1 required positional argument: 'self'",
     "output_type": "error",
     "traceback": [
      "\u001b[1;31m---------------------------------------------------------------------------\u001b[0m",
      "\u001b[1;31mTypeError\u001b[0m                                 Traceback (most recent call last)",
      "Cell \u001b[1;32mIn[35], line 1\u001b[0m\n\u001b[1;32m----> 1\u001b[0m a\u001b[38;5;241m.\u001b[39myy()\n",
      "\u001b[1;31mTypeError\u001b[0m: A.yy() missing 1 required positional argument: 'self'"
     ]
    }
   ],
   "source": [
    "a.yy()"
   ]
  },
  {
   "cell_type": "code",
   "execution_count": 36,
   "id": "64127ed7",
   "metadata": {},
   "outputs": [
    {
     "name": "stdout",
     "output_type": "stream",
     "text": [
      "static\n"
     ]
    }
   ],
   "source": [
    "# 메서드가 아닌 함수이기 때문에, 인스턴스에 없으면 클래스에서 찾는다. 따라서 클래스에서 찾아 쓴 것이고.\n",
    "a.yy(a)"
   ]
  },
  {
   "cell_type": "code",
   "execution_count": 37,
   "id": "9af5371c",
   "metadata": {},
   "outputs": [
    {
     "name": "stdout",
     "output_type": "stream",
     "text": [
      "static\n"
     ]
    }
   ],
   "source": [
    "#권장되는 스타일은 아래와 같다.\n",
    "A.yy(3)"
   ]
  },
  {
   "cell_type": "code",
   "execution_count": 38,
   "id": "b672dfc9",
   "metadata": {},
   "outputs": [
    {
     "ename": "NameError",
     "evalue": "name 'yy' is not defined",
     "output_type": "error",
     "traceback": [
      "\u001b[1;31m---------------------------------------------------------------------------\u001b[0m",
      "\u001b[1;31mNameError\u001b[0m                                 Traceback (most recent call last)",
      "Cell \u001b[1;32mIn[38], line 1\u001b[0m\n\u001b[1;32m----> 1\u001b[0m yy(\u001b[38;5;241m3\u001b[39m)\n",
      "\u001b[1;31mNameError\u001b[0m: name 'yy' is not defined"
     ]
    }
   ],
   "source": [
    "yy(3)"
   ]
  },
  {
   "cell_type": "markdown",
   "id": "8cc463df",
   "metadata": {},
   "source": [
    "즉 staticmethod는 그저 이름공간에 바인딩 된 함수일 뿐이다. 그러나 인스턴스에서도 사용할 수 있다(검색 순서에 의해)<br>\n",
    "이 용법은 파이토치에서 많이쓴다."
   ]
  },
  {
   "cell_type": "code",
   "execution_count": 39,
   "id": "d38e29c5",
   "metadata": {},
   "outputs": [
    {
     "data": {
      "text/plain": [
       "45"
      ]
     },
     "execution_count": 39,
     "metadata": {},
     "output_type": "execute_result"
    }
   ],
   "source": [
    "sum(x for x in range(10)) #튜플 괄호 생략할 수 있기 때문에 괄호 하나만 있다."
   ]
  },
  {
   "cell_type": "code",
   "execution_count": 41,
   "id": "ad23c86d",
   "metadata": {},
   "outputs": [
    {
     "data": {
      "text/plain": [
       "45"
      ]
     },
     "execution_count": 41,
     "metadata": {},
     "output_type": "execute_result"
    }
   ],
   "source": [
    "sum([x for x in range(10)])"
   ]
  },
  {
   "cell_type": "code",
   "execution_count": 48,
   "id": "7a91496e",
   "metadata": {},
   "outputs": [
    {
     "name": "stdout",
     "output_type": "stream",
     "text": [
      "447 µs ± 50.1 µs per loop (mean ± std. dev. of 7 runs, 1,000 loops each)\n"
     ]
    }
   ],
   "source": [
    "%timeit sum(x for x in range(10000))"
   ]
  },
  {
   "cell_type": "code",
   "execution_count": 49,
   "id": "9a1c657b",
   "metadata": {
    "scrolled": true
   },
   "outputs": [
    {
     "name": "stdout",
     "output_type": "stream",
     "text": [
      "303 µs ± 17 µs per loop (mean ± std. dev. of 7 runs, 1,000 loops each)\n"
     ]
    }
   ],
   "source": [
    "%timeit sum([x for x in range(10000)])"
   ]
  },
  {
   "cell_type": "code",
   "execution_count": 50,
   "id": "03fe9afd",
   "metadata": {},
   "outputs": [
    {
     "name": "stdout",
     "output_type": "stream",
     "text": [
      "140 µs ± 6.83 µs per loop (mean ± std. dev. of 7 runs, 10,000 loops each)\n"
     ]
    }
   ],
   "source": [
    "%timeit sum(range(10000))"
   ]
  },
  {
   "cell_type": "markdown",
   "id": "7dd82630",
   "metadata": {},
   "source": [
    "위는 range, 그리고 리스트생성해서 합하기, 제너레이터로 하나씩 next해가면서 하는것 순으로 빠르다. "
   ]
  },
  {
   "cell_type": "markdown",
   "id": "ea2f5bbc",
   "metadata": {},
   "source": [
    "# 04 \\_(underbar 용법 정리)"
   ]
  },
  {
   "cell_type": "code",
   "execution_count": 52,
   "id": "12e0224c",
   "metadata": {},
   "outputs": [],
   "source": [
    "#01 숫자 나누기\n",
    "100_000_000\n",
    "\n",
    "#02 비공개변수\n",
    "_a = 1"
   ]
  },
  {
   "cell_type": "code",
   "execution_count": 53,
   "id": "7b91b6f0",
   "metadata": {},
   "outputs": [],
   "source": [
    "a = 1"
   ]
  },
  {
   "cell_type": "code",
   "execution_count": 54,
   "id": "f8028bdc",
   "metadata": {},
   "outputs": [
    {
     "data": {
      "text/plain": [
       "1"
      ]
     },
     "execution_count": 54,
     "metadata": {},
     "output_type": "execute_result"
    }
   ],
   "source": [
    "a"
   ]
  },
  {
   "cell_type": "code",
   "execution_count": 55,
   "id": "095cfc02",
   "metadata": {},
   "outputs": [
    {
     "data": {
      "text/plain": [
       "1"
      ]
     },
     "execution_count": 55,
     "metadata": {},
     "output_type": "execute_result"
    }
   ],
   "source": [
    "_"
   ]
  },
  {
   "cell_type": "code",
   "execution_count": 56,
   "id": "a8e2835d",
   "metadata": {},
   "outputs": [
    {
     "data": {
      "text/plain": [
       "3"
      ]
     },
     "execution_count": 56,
     "metadata": {},
     "output_type": "execute_result"
    }
   ],
   "source": [
    "3"
   ]
  },
  {
   "cell_type": "code",
   "execution_count": 57,
   "id": "6de69349",
   "metadata": {},
   "outputs": [
    {
     "data": {
      "text/plain": [
       "3"
      ]
     },
     "execution_count": 57,
     "metadata": {},
     "output_type": "execute_result"
    }
   ],
   "source": [
    "_"
   ]
  },
  {
   "cell_type": "markdown",
   "id": "63d13f4a",
   "metadata": {},
   "source": [
    "언더바는 맨 마지막 out을 임시 저장하는 용도로 쓴다."
   ]
  },
  {
   "cell_type": "code",
   "execution_count": 58,
   "id": "b2c68dfd",
   "metadata": {},
   "outputs": [
    {
     "data": {
      "text/plain": [
       "'b'"
      ]
     },
     "execution_count": 58,
     "metadata": {},
     "output_type": "execute_result"
    }
   ],
   "source": [
    "'b'"
   ]
  },
  {
   "cell_type": "code",
   "execution_count": 59,
   "id": "a9b22fb0",
   "metadata": {},
   "outputs": [
    {
     "data": {
      "text/plain": [
       "'b'"
      ]
     },
     "execution_count": 59,
     "metadata": {},
     "output_type": "execute_result"
    }
   ],
   "source": [
    "#03 가장 최근 out 저장\n",
    "_"
   ]
  },
  {
   "cell_type": "code",
   "execution_count": 60,
   "id": "d15b7cbb",
   "metadata": {},
   "outputs": [],
   "source": [
    "#04 간단한 접근제한자\n",
    "class A:\n",
    "    __x = 1"
   ]
  },
  {
   "cell_type": "code",
   "execution_count": 61,
   "id": "f00ec86c",
   "metadata": {},
   "outputs": [
    {
     "ename": "AttributeError",
     "evalue": "type object 'A' has no attribute '__x'",
     "output_type": "error",
     "traceback": [
      "\u001b[1;31m---------------------------------------------------------------------------\u001b[0m",
      "\u001b[1;31mAttributeError\u001b[0m                            Traceback (most recent call last)",
      "Cell \u001b[1;32mIn[61], line 1\u001b[0m\n\u001b[1;32m----> 1\u001b[0m A\u001b[38;5;241m.\u001b[39m__x\n",
      "\u001b[1;31mAttributeError\u001b[0m: type object 'A' has no attribute '__x'"
     ]
    }
   ],
   "source": [
    "A.__x"
   ]
  },
  {
   "cell_type": "code",
   "execution_count": 64,
   "id": "7531064d",
   "metadata": {},
   "outputs": [
    {
     "data": {
      "text/plain": [
       "1"
      ]
     },
     "execution_count": 64,
     "metadata": {},
     "output_type": "execute_result"
    }
   ],
   "source": [
    "A._A__x\n",
    "#이름을 자동으로 바꾸어주는 mangling : 쉽게 변수를 감추고 싶을 때 사용한다."
   ]
  },
  {
   "cell_type": "code",
   "execution_count": 65,
   "id": "cf03d8f8",
   "metadata": {},
   "outputs": [
    {
     "data": {
      "text/plain": [
       "['_A__x',\n",
       " '__class__',\n",
       " '__delattr__',\n",
       " '__dict__',\n",
       " '__dir__',\n",
       " '__doc__',\n",
       " '__eq__',\n",
       " '__format__',\n",
       " '__ge__',\n",
       " '__getattribute__',\n",
       " '__getstate__',\n",
       " '__gt__',\n",
       " '__hash__',\n",
       " '__init__',\n",
       " '__init_subclass__',\n",
       " '__le__',\n",
       " '__lt__',\n",
       " '__module__',\n",
       " '__ne__',\n",
       " '__new__',\n",
       " '__reduce__',\n",
       " '__reduce_ex__',\n",
       " '__repr__',\n",
       " '__setattr__',\n",
       " '__sizeof__',\n",
       " '__str__',\n",
       " '__subclasshook__',\n",
       " '__weakref__']"
      ]
     },
     "execution_count": 65,
     "metadata": {},
     "output_type": "execute_result"
    }
   ],
   "source": [
    "dir(A)"
   ]
  },
  {
   "cell_type": "code",
   "execution_count": 67,
   "id": "2a6b25a5",
   "metadata": {},
   "outputs": [
    {
     "data": {
      "text/plain": [
       "<slot wrapper '__repr__' of 'object' objects>"
      ]
     },
     "execution_count": 67,
     "metadata": {},
     "output_type": "execute_result"
    }
   ],
   "source": [
    "#05 dunder\n",
    "A.__repr__"
   ]
  },
  {
   "cell_type": "markdown",
   "id": "bd7d74b3",
   "metadata": {},
   "source": [
    "magic, special, duoble underbar = dunder<br>\n",
    "시스템이 정의해놓은것을 의미한다."
   ]
  },
  {
   "cell_type": "code",
   "execution_count": 68,
   "id": "119db0fd",
   "metadata": {},
   "outputs": [],
   "source": [
    "#06 국제화(internationalization)\n",
    "#여기서 살펴보지 않는다."
   ]
  },
  {
   "cell_type": "code",
   "execution_count": 71,
   "id": "83f9f335",
   "metadata": {},
   "outputs": [],
   "source": [
    "#07 관례상의 용법 -->"
   ]
  },
  {
   "cell_type": "code",
   "execution_count": 72,
   "id": "2ab0f657",
   "metadata": {},
   "outputs": [],
   "source": [
    "#unpacking - 사용하지 않을 애들을 _로 쓴다.\n",
    "\n",
    "_, a = 1, 2"
   ]
  },
  {
   "cell_type": "code",
   "execution_count": 73,
   "id": "360186a8",
   "metadata": {},
   "outputs": [],
   "source": [
    "#이름 뒤에 _붙이는 경우 : 기능은 같지만 이름 충돌 방지용 in이 이미 python에 정의되어 있으므로\n",
    "def in_(x):\n",
    "    pass"
   ]
  },
  {
   "cell_type": "code",
   "execution_count": 74,
   "id": "d3b53788",
   "metadata": {},
   "outputs": [],
   "source": [
    "#<--"
   ]
  },
  {
   "cell_type": "markdown",
   "id": "c04bcae6",
   "metadata": {},
   "source": [
    "# 05 Single Dispatch / Multiple Dispatch - 다형성"
   ]
  },
  {
   "cell_type": "markdown",
   "id": "9ee173b1",
   "metadata": {},
   "source": [
    "파이썬은 멀티플 디스패치가 아니라 싱글 디스패치를 지원한다. 싱글 디스패치가 뭐냐면, 아래와 같다."
   ]
  },
  {
   "cell_type": "code",
   "execution_count": 75,
   "id": "f86964bf",
   "metadata": {},
   "outputs": [
    {
     "data": {
      "text/plain": [
       "3"
      ]
     },
     "execution_count": 75,
     "metadata": {},
     "output_type": "execute_result"
    }
   ],
   "source": [
    "len('abc')"
   ]
  },
  {
   "cell_type": "code",
   "execution_count": 76,
   "id": "0d88dcfe",
   "metadata": {},
   "outputs": [
    {
     "data": {
      "text/plain": [
       "1"
      ]
     },
     "execution_count": 76,
     "metadata": {},
     "output_type": "execute_result"
    }
   ],
   "source": [
    "len({'a': [1,2,3,]})"
   ]
  },
  {
   "cell_type": "markdown",
   "id": "d975a739",
   "metadata": {},
   "source": [
    "인자 하나에 대해서 다르게 처리한다. 멀티플디스패치라는 것은,<br>\n",
    "len(a,b)와 같이 두개가 다른것에 따라서 어떻게 전파시켜주냐"
   ]
  },
  {
   "cell_type": "code",
   "execution_count": 77,
   "id": "18891e41",
   "metadata": {},
   "outputs": [],
   "source": [
    "from functools import singledispatch"
   ]
  },
  {
   "cell_type": "code",
   "execution_count": 78,
   "id": "42316355",
   "metadata": {},
   "outputs": [],
   "source": [
    "@singledispatch\n",
    "def x(t):       #여기서 x를 제네릭 함수라고 부른다.\n",
    "    print(t)\n",
    "    \n",
    "@x.register(int)\n",
    "def _(t):\n",
    "    print('int')\n",
    "    \n",
    "@x.register(str)\n",
    "def _(t):\n",
    "    print('str')\n",
    "    \n",
    "@x.register(float)\n",
    "def _(t):\n",
    "    print('float')\n",
    "#파이토치에 꼭 튀어나오는 개념"
   ]
  },
  {
   "cell_type": "code",
   "execution_count": 79,
   "id": "b98f0fee",
   "metadata": {},
   "outputs": [
    {
     "name": "stdout",
     "output_type": "stream",
     "text": [
      "int\n"
     ]
    }
   ],
   "source": [
    "x(3)"
   ]
  },
  {
   "cell_type": "code",
   "execution_count": 80,
   "id": "c2f56e80",
   "metadata": {},
   "outputs": [
    {
     "name": "stdout",
     "output_type": "stream",
     "text": [
      "float\n"
     ]
    }
   ],
   "source": [
    "x(1.9)"
   ]
  },
  {
   "cell_type": "code",
   "execution_count": 83,
   "id": "1246c8c1",
   "metadata": {},
   "outputs": [
    {
     "name": "stdout",
     "output_type": "stream",
     "text": [
      "b'10'\n"
     ]
    }
   ],
   "source": [
    "x(b'10')\n",
    "#제네릭. 타입에 상관없이 일반적으로(generic) 사용할 수 있다. 해당 타입 처리하는 애한테 넘겨주면 되니까"
   ]
  },
  {
   "cell_type": "markdown",
   "id": "24c04f9e",
   "metadata": {},
   "source": [
    "multiple dispatch는 외부 라이브러리를 설치했을 때 사용할 수 있었다.<br>\n",
    "이거 어디에 쓰느냐?"
   ]
  },
  {
   "cell_type": "code",
   "execution_count": 86,
   "id": "a23c8918",
   "metadata": {},
   "outputs": [],
   "source": [
    "#torch.utils.data import dataloader, dataset"
   ]
  },
  {
   "cell_type": "code",
   "execution_count": 87,
   "id": "baf1d232",
   "metadata": {},
   "outputs": [],
   "source": [
    "import inspect"
   ]
  },
  {
   "cell_type": "markdown",
   "id": "a1c951bd",
   "metadata": {},
   "source": [
    "# 06 ( ) 용법 - callable"
   ]
  },
  {
   "cell_type": "code",
   "execution_count": 91,
   "id": "79277ead",
   "metadata": {
    "scrolled": true
   },
   "outputs": [
    {
     "ename": "TypeError",
     "evalue": "'module' object is not callable",
     "output_type": "error",
     "traceback": [
      "\u001b[1;31m---------------------------------------------------------------------------\u001b[0m",
      "\u001b[1;31mTypeError\u001b[0m                                 Traceback (most recent call last)",
      "Cell \u001b[1;32mIn[91], line 1\u001b[0m\n\u001b[1;32m----> 1\u001b[0m inspect(dataset)\n",
      "\u001b[1;31mTypeError\u001b[0m: 'module' object is not callable"
     ]
    }
   ],
   "source": [
    "inspect(dataset)"
   ]
  },
  {
   "cell_type": "code",
   "execution_count": 94,
   "id": "98edc75e",
   "metadata": {},
   "outputs": [],
   "source": [
    "class A:\n",
    "    pass"
   ]
  },
  {
   "cell_type": "code",
   "execution_count": 95,
   "id": "57e2c93e",
   "metadata": {},
   "outputs": [
    {
     "data": {
      "text/plain": [
       "<__main__.A at 0x14ef39ca6d0>"
      ]
     },
     "execution_count": 95,
     "metadata": {},
     "output_type": "execute_result"
    }
   ],
   "source": [
    "#01 인스턴스화\n",
    "A()"
   ]
  },
  {
   "cell_type": "code",
   "execution_count": 99,
   "id": "db6fe11b",
   "metadata": {},
   "outputs": [],
   "source": [
    "class A:\n",
    "    def __init__(self):   #constructor, 생성자라고 부른다(중급수준에서)\n",
    "        print('A')"
   ]
  },
  {
   "cell_type": "code",
   "execution_count": 100,
   "id": "ea5529d0",
   "metadata": {},
   "outputs": [
    {
     "name": "stdout",
     "output_type": "stream",
     "text": [
      "A\n"
     ]
    },
    {
     "data": {
      "text/plain": [
       "<__main__.A at 0x14ef39cb950>"
      ]
     },
     "execution_count": 100,
     "metadata": {},
     "output_type": "execute_result"
    }
   ],
   "source": [
    "A()"
   ]
  },
  {
   "cell_type": "markdown",
   "id": "60a44e5e",
   "metadata": {},
   "source": [
    "init가 튀어나오면 클래스이다. init 리턴이 없다."
   ]
  },
  {
   "cell_type": "code",
   "execution_count": 101,
   "id": "415a2d63",
   "metadata": {},
   "outputs": [
    {
     "name": "stdout",
     "output_type": "stream",
     "text": [
      "A\n"
     ]
    },
    {
     "data": {
      "text/plain": [
       "<__main__.A at 0x14ee989d390>"
      ]
     },
     "execution_count": 101,
     "metadata": {},
     "output_type": "execute_result"
    }
   ],
   "source": [
    "A()"
   ]
  },
  {
   "cell_type": "code",
   "execution_count": 102,
   "id": "9f43ec2a",
   "metadata": {},
   "outputs": [],
   "source": [
    "class A:\n",
    "    def __init__(self):   #constructor, 생성자라고 부른다(중급수준에서)\n",
    "        print('A')\n",
    "        return 1"
   ]
  },
  {
   "cell_type": "code",
   "execution_count": 104,
   "id": "f2b3ba1c",
   "metadata": {},
   "outputs": [
    {
     "name": "stdout",
     "output_type": "stream",
     "text": [
      "A\n"
     ]
    },
    {
     "ename": "TypeError",
     "evalue": "__init__() should return None, not 'int'",
     "output_type": "error",
     "traceback": [
      "\u001b[1;31m---------------------------------------------------------------------------\u001b[0m",
      "\u001b[1;31mTypeError\u001b[0m                                 Traceback (most recent call last)",
      "Cell \u001b[1;32mIn[104], line 1\u001b[0m\n\u001b[1;32m----> 1\u001b[0m A()\n",
      "\u001b[1;31mTypeError\u001b[0m: __init__() should return None, not 'int'"
     ]
    }
   ],
   "source": [
    "A()\n",
    "#에러가 발생한다.\n",
    "#init가 실행되기 전에 뭐가 실행이 된다."
   ]
  },
  {
   "cell_type": "code",
   "execution_count": 106,
   "id": "b8aa4cd4",
   "metadata": {},
   "outputs": [],
   "source": [
    "class A:\n",
    "    def __new__(self):\n",
    "        print('new')\n",
    "    def __init__(self):\n",
    "        print('init')"
   ]
  },
  {
   "cell_type": "code",
   "execution_count": 107,
   "id": "a7637214",
   "metadata": {},
   "outputs": [
    {
     "name": "stdout",
     "output_type": "stream",
     "text": [
      "new\n"
     ]
    }
   ],
   "source": [
    "A()"
   ]
  },
  {
   "cell_type": "markdown",
   "id": "2b0c35c4",
   "metadata": {},
   "source": [
    "위에서 알 수 있는 점<br>\n",
    "1. \\_\\_new\\_\\_가 먼저 실행된다."
   ]
  },
  {
   "cell_type": "code",
   "execution_count": 115,
   "id": "3cc6dd9d",
   "metadata": {},
   "outputs": [],
   "source": [
    "class A:\n",
    "    def __new__(cls):\n",
    "        print('new')\n",
    "        return super().__new__(cls)\n",
    "    def __init__(self):\n",
    "        print('init')"
   ]
  },
  {
   "cell_type": "raw",
   "id": "f7150fef",
   "metadata": {},
   "source": [
    "A()"
   ]
  },
  {
   "cell_type": "markdown",
   "id": "b7d93f45",
   "metadata": {},
   "source": [
    "위에서 알 수 있는 점<br>\n",
    "1. \\_\\_new\\_\\_가 먼저 실행된다.\n",
    "2. \\_\\_new\\_\\_에서 인스턴스를 만들고,  그 값을 초기화 할 수 있도록 만들어 놓았다. 단 리턴값은 손대지 말아라."
   ]
  },
  {
   "cell_type": "markdown",
   "id": "aee71ded",
   "metadata": {},
   "source": [
    "위를 어디에 쓰느냐? 싱글톤 구현(파이썬에서 많이씀)<br>\n",
    "아무튼 init는 리턴이 없다. init는 만드는게 아니라 이미 만들어진 것의 값을 초기화 하는 애이다.\n",
    "\n",
    "init = 초기화한다."
   ]
  },
  {
   "cell_type": "markdown",
   "id": "704cba92",
   "metadata": {},
   "source": [
    "# 07 상속"
   ]
  },
  {
   "cell_type": "markdown",
   "id": "89bfe98e",
   "metadata": {},
   "source": [
    "python의 상속은 다중상속이다. delegate로 (아까 dispatch가 나한테 온걸 다른 애들한테 넘겼던 것처럼) 위임한다.<br>\n",
    "메소드의 실행순서같은 문제로 까다로워진다."
   ]
  },
  {
   "cell_type": "code",
   "execution_count": 122,
   "id": "4b5d9bdd",
   "metadata": {},
   "outputs": [],
   "source": [
    "class A(object, metaclass=type):\n",
    "    x = 1\n",
    "#위에서 object와 metaclass는 디폴트가 있어서 생략할 수 있다."
   ]
  },
  {
   "cell_type": "code",
   "execution_count": 123,
   "id": "d1ceafab",
   "metadata": {},
   "outputs": [],
   "source": [
    "class B(A):\n",
    "    x = 2"
   ]
  },
  {
   "cell_type": "code",
   "execution_count": 124,
   "id": "2338c75e",
   "metadata": {},
   "outputs": [
    {
     "ename": "TypeError",
     "evalue": "Cannot create a consistent method resolution\norder (MRO) for bases A, B",
     "output_type": "error",
     "traceback": [
      "\u001b[1;31m---------------------------------------------------------------------------\u001b[0m",
      "\u001b[1;31mTypeError\u001b[0m                                 Traceback (most recent call last)",
      "Cell \u001b[1;32mIn[124], line 1\u001b[0m\n\u001b[1;32m----> 1\u001b[0m \u001b[38;5;28;01mclass\u001b[39;00m \u001b[38;5;21;01mC\u001b[39;00m(A,B):\n\u001b[0;32m      2\u001b[0m     \u001b[38;5;28;01mpass\u001b[39;00m\n",
      "\u001b[1;31mTypeError\u001b[0m: Cannot create a consistent method resolution\norder (MRO) for bases A, B"
     ]
    }
   ],
   "source": [
    "class C(A,B):\n",
    "    pass"
   ]
  },
  {
   "cell_type": "markdown",
   "id": "aa77f2bd",
   "metadata": {},
   "source": [
    "파이썬은 위처럼 족보가 꼬이면 못만들게 한다. 이것 덕분에 문제점이 조금 덜하다."
   ]
  },
  {
   "cell_type": "code",
   "execution_count": 144,
   "id": "594e00c9",
   "metadata": {},
   "outputs": [],
   "source": [
    "class C(B,A):\n",
    "    pass\n",
    "#이것은 된다. 상속의 순서"
   ]
  },
  {
   "cell_type": "code",
   "execution_count": 145,
   "id": "6ddc7a88",
   "metadata": {
    "scrolled": true
   },
   "outputs": [
    {
     "data": {
      "text/plain": [
       "[__main__.C, __main__.B, __main__.A, object]"
      ]
     },
     "execution_count": 145,
     "metadata": {},
     "output_type": "execute_result"
    }
   ],
   "source": [
    "C.mro()\n",
    "#찾는 순서(specific to ancestor)"
   ]
  },
  {
   "cell_type": "code",
   "execution_count": 146,
   "id": "501c7153",
   "metadata": {
    "collapsed": true
   },
   "outputs": [
    {
     "data": {
      "text/plain": [
       "['__class__',\n",
       " '__delattr__',\n",
       " '__dict__',\n",
       " '__dir__',\n",
       " '__doc__',\n",
       " '__eq__',\n",
       " '__format__',\n",
       " '__ge__',\n",
       " '__getattribute__',\n",
       " '__getstate__',\n",
       " '__gt__',\n",
       " '__hash__',\n",
       " '__init__',\n",
       " '__init_subclass__',\n",
       " '__le__',\n",
       " '__lt__',\n",
       " '__module__',\n",
       " '__ne__',\n",
       " '__new__',\n",
       " '__reduce__',\n",
       " '__reduce_ex__',\n",
       " '__repr__',\n",
       " '__setattr__',\n",
       " '__sizeof__',\n",
       " '__str__',\n",
       " '__subclasshook__',\n",
       " '__weakref__',\n",
       " 'x']"
      ]
     },
     "execution_count": 146,
     "metadata": {},
     "output_type": "execute_result"
    }
   ],
   "source": [
    "dir(C)\n",
    "#mro 없는데 ? = 메타클래스에 있다."
   ]
  },
  {
   "cell_type": "code",
   "execution_count": 130,
   "id": "1911eb48",
   "metadata": {},
   "outputs": [],
   "source": [
    "c = C()"
   ]
  },
  {
   "cell_type": "code",
   "execution_count": 132,
   "id": "b10f1053",
   "metadata": {},
   "outputs": [
    {
     "data": {
      "text/plain": [
       "__main__.C"
      ]
     },
     "execution_count": 132,
     "metadata": {},
     "output_type": "execute_result"
    }
   ],
   "source": [
    "type(c)\n",
    "#타입은 클래스를 아는것이다. 혼동하면 안되는 것은, 클래스-인스턴스 관계가 부모-자식 관계와 다르다."
   ]
  },
  {
   "cell_type": "code",
   "execution_count": null,
   "id": "05622eb4",
   "metadata": {},
   "outputs": [],
   "source": []
  },
  {
   "cell_type": "code",
   "execution_count": 140,
   "id": "c4038a0a",
   "metadata": {},
   "outputs": [
    {
     "data": {
      "text/plain": [
       "__main__.C"
      ]
     },
     "execution_count": 140,
     "metadata": {},
     "output_type": "execute_result"
    }
   ],
   "source": [
    "c.__class__"
   ]
  },
  {
   "cell_type": "code",
   "execution_count": 142,
   "id": "c407ef0f",
   "metadata": {},
   "outputs": [
    {
     "data": {
      "text/plain": [
       "True"
      ]
     },
     "execution_count": 142,
     "metadata": {},
     "output_type": "execute_result"
    }
   ],
   "source": [
    "isinstance(c, C)"
   ]
  },
  {
   "cell_type": "markdown",
   "id": "fd2d6fa4",
   "metadata": {},
   "source": [
    "위는 인스턴스-클래스 관계를 밝힌다."
   ]
  },
  {
   "cell_type": "code",
   "execution_count": 136,
   "id": "0a5ea7d4",
   "metadata": {},
   "outputs": [
    {
     "data": {
      "text/plain": [
       "(__main__.B, __main__.A)"
      ]
     },
     "execution_count": 136,
     "metadata": {},
     "output_type": "execute_result"
    }
   ],
   "source": [
    "C.__bases__"
   ]
  },
  {
   "cell_type": "code",
   "execution_count": 138,
   "id": "ce263733",
   "metadata": {},
   "outputs": [
    {
     "data": {
      "text/plain": [
       "__main__.B"
      ]
     },
     "execution_count": 138,
     "metadata": {},
     "output_type": "execute_result"
    }
   ],
   "source": [
    "C.__base__\n",
    "#베이스클래스튜플중 첫번째"
   ]
  },
  {
   "cell_type": "code",
   "execution_count": 139,
   "id": "8b388c9a",
   "metadata": {},
   "outputs": [
    {
     "data": {
      "text/plain": [
       "True"
      ]
     },
     "execution_count": 139,
     "metadata": {},
     "output_type": "execute_result"
    }
   ],
   "source": [
    "issubclass(C, B)"
   ]
  },
  {
   "cell_type": "code",
   "execution_count": null,
   "id": "1e7b616c",
   "metadata": {},
   "outputs": [],
   "source": []
  },
  {
   "cell_type": "code",
   "execution_count": 143,
   "id": "d646e287",
   "metadata": {},
   "outputs": [
    {
     "data": {
      "text/plain": [
       "True"
      ]
     },
     "execution_count": 143,
     "metadata": {},
     "output_type": "execute_result"
    }
   ],
   "source": [
    "issubclass(bool, int)"
   ]
  },
  {
   "cell_type": "markdown",
   "id": "95150b8f",
   "metadata": {},
   "source": [
    "위는 상속 관계를 밝힌다."
   ]
  },
  {
   "cell_type": "code",
   "execution_count": 127,
   "id": "40118db4",
   "metadata": {
    "scrolled": true
   },
   "outputs": [
    {
     "data": {
      "text/plain": [
       "[__main__.C, __main__.B, __main__.A, object]"
      ]
     },
     "execution_count": 127,
     "metadata": {},
     "output_type": "execute_result"
    }
   ],
   "source": [
    "C.mro()\n",
    "#찾는 순서(specific to ancestor)"
   ]
  },
  {
   "cell_type": "code",
   "execution_count": 128,
   "id": "7a4bae81",
   "metadata": {},
   "outputs": [
    {
     "data": {
      "text/plain": [
       "['__class__',\n",
       " '__delattr__',\n",
       " '__dict__',\n",
       " '__dir__',\n",
       " '__doc__',\n",
       " '__eq__',\n",
       " '__format__',\n",
       " '__ge__',\n",
       " '__getattribute__',\n",
       " '__getstate__',\n",
       " '__gt__',\n",
       " '__hash__',\n",
       " '__init__',\n",
       " '__init_subclass__',\n",
       " '__le__',\n",
       " '__lt__',\n",
       " '__module__',\n",
       " '__ne__',\n",
       " '__new__',\n",
       " '__reduce__',\n",
       " '__reduce_ex__',\n",
       " '__repr__',\n",
       " '__setattr__',\n",
       " '__sizeof__',\n",
       " '__str__',\n",
       " '__subclasshook__',\n",
       " '__weakref__',\n",
       " 'x']"
      ]
     },
     "execution_count": 128,
     "metadata": {},
     "output_type": "execute_result"
    }
   ],
   "source": [
    "dir(C)\n",
    "#mro 없는데 ? = 메타클래스에 있다."
   ]
  },
  {
   "cell_type": "code",
   "execution_count": 147,
   "id": "af05d6b7",
   "metadata": {},
   "outputs": [],
   "source": [
    "import tensorflow as tf"
   ]
  },
  {
   "cell_type": "markdown",
   "id": "8c11a693",
   "metadata": {},
   "source": [
    "파이썬 프로그래밍 세계에서는 부모가 더 많은 것을 가진다."
   ]
  },
  {
   "cell_type": "code",
   "execution_count": 148,
   "id": "d10971ae",
   "metadata": {},
   "outputs": [
    {
     "data": {
      "text/plain": [
       "[keras.src.engine.sequential.Sequential,\n",
       " keras.src.engine.functional.Functional,\n",
       " keras.src.engine.training.Model,\n",
       " keras.src.engine.base_layer.Layer,\n",
       " tensorflow.python.module.module.Module,\n",
       " tensorflow.python.trackable.autotrackable.AutoTrackable,\n",
       " tensorflow.python.trackable.base.Trackable,\n",
       " keras.src.utils.version_utils.LayerVersionSelector,\n",
       " keras.src.utils.version_utils.ModelVersionSelector,\n",
       " object]"
      ]
     },
     "execution_count": 148,
     "metadata": {},
     "output_type": "execute_result"
    }
   ],
   "source": [
    "tf.keras.models.Sequential.mro()"
   ]
  },
  {
   "cell_type": "code",
   "execution_count": 161,
   "id": "31895597",
   "metadata": {},
   "outputs": [
    {
     "data": {
      "text/plain": [
       "(keras.src.engine.functional.Functional,)"
      ]
     },
     "execution_count": 161,
     "metadata": {},
     "output_type": "execute_result"
    }
   ],
   "source": [
    "tf.keras.models.Sequential.__bases__"
   ]
  },
  {
   "cell_type": "code",
   "execution_count": 159,
   "id": "904f23ef",
   "metadata": {},
   "outputs": [
    {
     "data": {
      "text/plain": [
       "True"
      ]
     },
     "execution_count": 159,
     "metadata": {},
     "output_type": "execute_result"
    }
   ],
   "source": [
    "issubclass(tf.keras.models.Sequential, tf.keras.models.Model)"
   ]
  },
  {
   "cell_type": "markdown",
   "id": "662f020b",
   "metadata": {},
   "source": [
    "상속은 특수화된 케이스를 만들어 사용하기 위해 많이 쓴다. 그러니 부모가 더 많은 기능이 있다."
   ]
  },
  {
   "cell_type": "code",
   "execution_count": 154,
   "id": "ba5327c2",
   "metadata": {},
   "outputs": [
    {
     "data": {
      "text/plain": [
       "1"
      ]
     },
     "execution_count": 154,
     "metadata": {},
     "output_type": "execute_result"
    }
   ],
   "source": [
    "class A:\n",
    "    x = 1\n",
    "    \n",
    "class B(A):\n",
    "    pass\n",
    "#B는 A를 상속해서 B에는 x가 있다(X)\n",
    "B.x"
   ]
  },
  {
   "cell_type": "markdown",
   "id": "e8c7deb0",
   "metadata": {},
   "source": [
    "**위처럼 이해하면 안된다**<br>\n",
    "B에는 x가 없어서 A한테 가서 물어본것이다."
   ]
  },
  {
   "cell_type": "code",
   "execution_count": 155,
   "id": "642e9d58",
   "metadata": {},
   "outputs": [
    {
     "data": {
      "text/plain": [
       "140725064012584"
      ]
     },
     "execution_count": 155,
     "metadata": {},
     "output_type": "execute_result"
    }
   ],
   "source": [
    "id(B.x)"
   ]
  },
  {
   "cell_type": "code",
   "execution_count": 156,
   "id": "f66a4439",
   "metadata": {},
   "outputs": [
    {
     "data": {
      "text/plain": [
       "140725064012584"
      ]
     },
     "execution_count": 156,
     "metadata": {},
     "output_type": "execute_result"
    }
   ],
   "source": [
    "id(A.x)"
   ]
  },
  {
   "cell_type": "markdown",
   "id": "cdd6ea83",
   "metadata": {},
   "source": [
    "메모리 값이 같으면 같다는 것이다. 즉, B.x가 존재하지 않는게 아니라 B.x 는 사실 A.x를 가져온다는 것이다.(B.x가 없어서)<br>\n",
    "그래서 이것을 위임(delegate)라고 부른다."
   ]
  },
  {
   "cell_type": "code",
   "execution_count": 157,
   "id": "674f8c2d",
   "metadata": {},
   "outputs": [
    {
     "data": {
      "text/plain": [
       "2"
      ]
     },
     "execution_count": 157,
     "metadata": {},
     "output_type": "execute_result"
    }
   ],
   "source": [
    "class A:\n",
    "    x = 1\n",
    "    \n",
    "class B(A):\n",
    "    x = 2\n",
    "#B는 A를 상속해서 B에는 x가 있는건 아니지만, B의 x가 있다.\n",
    "B.x     #override"
   ]
  },
  {
   "cell_type": "markdown",
   "id": "824ac5a8",
   "metadata": {},
   "source": [
    "상속이 왜 좋냐? 누가 만들어놓은거. 생산성.<br>\n",
    "don't reinvent the wheel, 더 잘 만들 자신 없으면.\n",
    "\n",
    "파이토치 왜쓰냐? numpy로 만드는데 GPU를 바로 못쓴다. 파이토치? GPU사용 지원해준다. autograd? 지원해준다. 갖다쓰면된다. 너 입맛에 맞춰서. 어떻게? 상속을 통해서. 그냥 갖다써도 되는데, 부족해? 상속해서 더 잘 만들면 된다.\n",
    "\n",
    "이것을 텐서플로우에서 progressive disclosure(단계적 공개)라고 한다."
   ]
  },
  {
   "cell_type": "markdown",
   "id": "14435a57",
   "metadata": {},
   "source": [
    "**변경에는 두가지가 있다. [일부변경, 완전변경]**"
   ]
  },
  {
   "cell_type": "markdown",
   "id": "5a747ef1",
   "metadata": {},
   "source": [
    "완전변경"
   ]
  },
  {
   "cell_type": "code",
   "execution_count": 179,
   "id": "48f8d60d",
   "metadata": {},
   "outputs": [],
   "source": [
    "class A:\n",
    "    def xx(self):\n",
    "        print('xx')"
   ]
  },
  {
   "cell_type": "code",
   "execution_count": 180,
   "id": "1b59b270",
   "metadata": {},
   "outputs": [
    {
     "data": {
      "text/plain": [
       "<function __main__.A.xx(self)>"
      ]
     },
     "execution_count": 180,
     "metadata": {},
     "output_type": "execute_result"
    }
   ],
   "source": [
    "A.xx"
   ]
  },
  {
   "cell_type": "code",
   "execution_count": 172,
   "id": "06187274",
   "metadata": {},
   "outputs": [],
   "source": [
    "a = A()"
   ]
  },
  {
   "cell_type": "code",
   "execution_count": 173,
   "id": "68c4e409",
   "metadata": {},
   "outputs": [
    {
     "name": "stdout",
     "output_type": "stream",
     "text": [
      "xx\n"
     ]
    }
   ],
   "source": [
    "a.xx()"
   ]
  },
  {
   "cell_type": "code",
   "execution_count": 165,
   "id": "50d876ed",
   "metadata": {},
   "outputs": [],
   "source": [
    "class B(A):\n",
    "    def xx(self):\n",
    "        print('xx')\n",
    "        print('yy')"
   ]
  },
  {
   "cell_type": "markdown",
   "id": "9dbc0bc6",
   "metadata": {},
   "source": [
    "일부변경"
   ]
  },
  {
   "cell_type": "code",
   "execution_count": 166,
   "id": "fb35740c",
   "metadata": {},
   "outputs": [],
   "source": [
    "class B(A):\n",
    "    def xx(self):\n",
    "        A.xx(self)\n",
    "        print('yy')"
   ]
  },
  {
   "cell_type": "markdown",
   "id": "740151d3",
   "metadata": {},
   "source": [
    "근데 문제점이 생긴다."
   ]
  },
  {
   "cell_type": "code",
   "execution_count": 177,
   "id": "4ae3906a",
   "metadata": {},
   "outputs": [],
   "source": [
    "class A:\n",
    "    def __init__(self):\n",
    "        print('A')\n",
    "        \n",
    "class B(A):\n",
    "    def __init__(self):\n",
    "        A.__init__(self)\n",
    "        print('B')\n",
    "        \n",
    "class C(A):\n",
    "    def __init__(self):\n",
    "        A.__init__(self)\n",
    "        print('C')\n",
    "        \n",
    "class D(B,C):\n",
    "    def __init__(self):\n",
    "        B.__init__(self)\n",
    "        C.__init__(self)\n",
    "        print('D')"
   ]
  },
  {
   "cell_type": "code",
   "execution_count": 178,
   "id": "7936931b",
   "metadata": {},
   "outputs": [
    {
     "name": "stdout",
     "output_type": "stream",
     "text": [
      "A\n",
      "B\n",
      "A\n",
      "C\n",
      "D\n"
     ]
    }
   ],
   "source": [
    "d = D()\n",
    "#A를 B에서 뭔가로 바꿔놨는데, C에서 다시 A로 바꿔놓는다. 이걸 해결하기 위해서 python에서 super를 제공해준다."
   ]
  },
  {
   "cell_type": "code",
   "execution_count": 186,
   "id": "87c8d34d",
   "metadata": {},
   "outputs": [],
   "source": [
    "class A:\n",
    "    def __init__(self):\n",
    "        print('A')\n",
    "        \n",
    "class B(A):\n",
    "    def __init__(self):\n",
    "        super(B, self).__init__()\n",
    "        print('B')\n",
    "        \n",
    "class C(A):\n",
    "    def __init__(self):\n",
    "        super(C, self).__init__()\n",
    "        print('C')\n",
    "        \n",
    "class D(B,C):\n",
    "    def __init__(self):\n",
    "        super(D, self).__init__()\n",
    "        print('D')"
   ]
  },
  {
   "cell_type": "markdown",
   "id": "c39ea531",
   "metadata": {},
   "source": [
    "super는 부모의 인스턴스를 반환한다."
   ]
  },
  {
   "cell_type": "code",
   "execution_count": 187,
   "id": "922d79bd",
   "metadata": {},
   "outputs": [
    {
     "name": "stdout",
     "output_type": "stream",
     "text": [
      "A\n",
      "C\n",
      "B\n",
      "D\n"
     ]
    }
   ],
   "source": [
    "d = D()"
   ]
  },
  {
   "cell_type": "markdown",
   "id": "9e32cd73",
   "metadata": {},
   "source": [
    "스스로 중복을 제거해서 한번만 실행하게 해준다. 복잡한 상속체계를 중복제거해서 준다. mro 기반으로 실행된다."
   ]
  },
  {
   "cell_type": "code",
   "execution_count": 188,
   "id": "8a6983b8",
   "metadata": {},
   "outputs": [
    {
     "data": {
      "text/plain": [
       "[__main__.D, __main__.B, __main__.C, __main__.A, object]"
      ]
     },
     "execution_count": 188,
     "metadata": {},
     "output_type": "execute_result"
    }
   ],
   "source": [
    "D.mro()"
   ]
  },
  {
   "cell_type": "markdown",
   "id": "dae7f998",
   "metadata": {},
   "source": [
    "D 실행, B를 스택에 넣음, B실행되며 A스택에 들어감, C를 스택에 넣음, C실행되며 A들어감. 중복제거, 역순으로 풀리며 ACBD로 나옴<br>\n",
    "근데 super에서 자기자신 일치할 때 생략할 수 있다."
   ]
  },
  {
   "cell_type": "code",
   "execution_count": 190,
   "id": "0b1c66ae",
   "metadata": {},
   "outputs": [],
   "source": [
    "class A:\n",
    "    def __init__(self):\n",
    "        print('A')\n",
    "        \n",
    "class B(A):\n",
    "    def __init__(self):\n",
    "        super().__init__()\n",
    "        print('B')\n",
    "        \n",
    "class C(A):\n",
    "    def __init__(self):\n",
    "        super().__init__()\n",
    "        print('C')\n",
    "        \n",
    "class D(B,C):\n",
    "    def __init__(self):\n",
    "        super().__init__()\n",
    "        print('D')"
   ]
  },
  {
   "cell_type": "markdown",
   "id": "a27245e1",
   "metadata": {},
   "source": [
    "super 자체가 부모클래스의 인스턴스를 반환하는 것이기 때문에, super는 인스턴스이다. 그래서 \\_\\_init\\_\\_()에 self 안쓴다."
   ]
  }
 ],
 "metadata": {
  "kernelspec": {
   "display_name": "Python 3 (ipykernel)",
   "language": "python",
   "name": "python3"
  },
  "language_info": {
   "codemirror_mode": {
    "name": "ipython",
    "version": 3
   },
   "file_extension": ".py",
   "mimetype": "text/x-python",
   "name": "python",
   "nbconvert_exporter": "python",
   "pygments_lexer": "ipython3",
   "version": "3.11.4"
  }
 },
 "nbformat": 4,
 "nbformat_minor": 5
}
