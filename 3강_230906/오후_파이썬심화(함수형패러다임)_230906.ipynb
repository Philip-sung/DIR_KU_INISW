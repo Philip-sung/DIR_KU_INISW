{
 "cells": [
  {
   "cell_type": "markdown",
   "id": "fa3a724c",
   "metadata": {},
   "source": [
    "## 함수형 패러다임"
   ]
  },
  {
   "cell_type": "markdown",
   "id": "e9991025",
   "metadata": {},
   "source": [
    "요즘 대부분의 언어들은 멀티패러다임을 지원한다.<br>\n",
    "c++ : 멀티<br>\n",
    "Java : 순수객체지향<br>\n",
    "요즘나오는언어들 : 여러가지 스타일<br>\n",
    "<br>\n",
    "명령형 프로그래밍 방식 : 한줄한줄 값을 변화시켜 나오게 하는 것.<br>\n",
    "선언형 프로그래밍 방식 : 선언된 것들 먼저 다 선언되고 조합해서 원하는 결과값 얻음<br>\n",
    "<br>\n",
    "선언형 중, 함수를 사용하는 걸 함수형 프로그래밍<br>\n",
    "<br>\n",
    "...<br>\n",
    "<br>\n",
    "**수학함수** : 인풋이 있으면, 아웃풋이 한개가 있어야 함. 함수 내부에 값이나 상태를 저장하거나 외부의 값을 변경하지 않는다.<br>\n",
    "<br>\n",
    "이러한 수학 함수를 가지고 프로그래밍을 하는게 함수형 프로그래밍이다.<br>\n",
    "그 장점은 Formal Provability(형식적 증명가능성)이다. 대신 좀 어렵다.<br>\n",
    "함수형 프로그래밍은 최초의 인공지능 언어라 불리는 LISP에서 이 패러다임을 사용하였다. 50/60년대, 객체지향보다도 빨리나옴<br>\n",
    "\n",
    "하나의 데이터보다 여러개의 데이터를 처리하는데에 최적화 되어 있다.\n",
    "\n",
    "LISP : LISt Processing\n",
    "\n",
    "합성함수 형태로 원하는 결과값을 만들어 낸다.\n",
    "\n",
    "**읽어보기**\n",
    "https://docs.python.org/3/howto/functional.html"
   ]
  },
  {
   "cell_type": "markdown",
   "id": "883b4db7",
   "metadata": {},
   "source": [
    "def x():\n",
    "    print('sum')\n",
    "#인풋이 없다."
   ]
  },
  {
   "cell_type": "markdown",
   "id": "586c65ac",
   "metadata": {},
   "source": [
    "**파이썬 함수** : 파이썬의 함수는 리턴값을 생략할 수 있다. 그럼 자동적으로 None을 반환한다.\n",
    "\n",
    "LISP 이후 \n",
    "**Haskel**에서 여러 개념을 들고왔다.\n",
    "- recursive (함수형 재귀는 lazy한 처리를 한다 : tail recursion elimination -파이썬, C는 지원안함)\n",
    "- comprehension : 딥러닝에서는 이걸 사용하지 말라고 한다. 파이썬 고급책에선 map filter 대신 이걸사용하라고 그런다.\n",
    "- iterator / generator\n",
    "- map, filter, reduce(higher order)\n",
    "\n",
    "가장 밑단에는 iterator로 되어 있어서 이에 대해 잘 알아야 한다."
   ]
  },
  {
   "cell_type": "markdown",
   "id": "dd92488d",
   "metadata": {},
   "source": [
    "\\_\\_iter\\_\\_를 가진 객체가 iterator가 될 수 있다.<br>\n",
    "즉, iterator처럼 작동할 수 있어야 iterator이다.<br>\n",
    "오리를 상속해서 꽥꽥 해야 오리다. : 원칙 중 \"duck-typing\""
   ]
  },
  {
   "cell_type": "code",
   "execution_count": 130,
   "id": "b26370f6",
   "metadata": {},
   "outputs": [],
   "source": [
    "import tensorflow as tf"
   ]
  },
  {
   "cell_type": "code",
   "execution_count": 131,
   "id": "b1e8c982",
   "metadata": {},
   "outputs": [],
   "source": [
    "import inspect"
   ]
  },
  {
   "cell_type": "code",
   "execution_count": 132,
   "id": "89863fba",
   "metadata": {},
   "outputs": [
    {
     "name": "stdout",
     "output_type": "stream",
     "text": [
      "@keras_export(\"keras.utils.Sequence\")\n",
      "class Sequence:\n",
      "    \"\"\"Base object for fitting to a sequence of data, such as a dataset.\n",
      "\n",
      "    Every `Sequence` must implement the `__getitem__` and the `__len__` methods.\n",
      "    If you want to modify your dataset between epochs, you may implement\n",
      "    `on_epoch_end`. The method `__getitem__` should return a complete batch.\n",
      "\n",
      "    Notes:\n",
      "\n",
      "    `Sequence` is a safer way to do multiprocessing. This structure guarantees\n",
      "    that the network will only train once on each sample per epoch, which is not\n",
      "    the case with generators.\n",
      "\n",
      "    Examples:\n",
      "\n",
      "    ```python\n",
      "    from skimage.io import imread\n",
      "    from skimage.transform import resize\n",
      "    import numpy as np\n",
      "    import math\n",
      "\n",
      "    # Here, `x_set` is list of path to the images\n",
      "    # and `y_set` are the associated classes.\n",
      "\n",
      "    class CIFAR10Sequence(tf.keras.utils.Sequence):\n",
      "\n",
      "        def __init__(self, x_set, y_set, batch_size):\n",
      "            self.x, self.y = x_set, y_set\n",
      "            self.batch_size = batch_size\n",
      "\n",
      "        def __len__(self):\n",
      "            return math.ceil(len(self.x) / self.batch_size)\n",
      "\n",
      "        def __getitem__(self, idx):\n",
      "            low = idx * self.batch_size\n",
      "            # Cap upper bound at array length; the last batch may be smaller\n",
      "            # if the total number of items is not a multiple of batch size.\n",
      "            high = min(low + self.batch_size, len(self.x))\n",
      "            batch_x = self.x[low:high]\n",
      "            batch_y = self.y[low:high]\n",
      "\n",
      "            return np.array([\n",
      "                resize(imread(file_name), (200, 200))\n",
      "                   for file_name in batch_x]), np.array(batch_y)\n",
      "    ```\n",
      "    \"\"\"\n",
      "\n",
      "    @abstractmethod\n",
      "    def __getitem__(self, index):\n",
      "        \"\"\"Gets batch at position `index`.\n",
      "\n",
      "        Args:\n",
      "            index: position of the batch in the Sequence.\n",
      "\n",
      "        Returns:\n",
      "            A batch\n",
      "        \"\"\"\n",
      "        raise NotImplementedError\n",
      "\n",
      "    @abstractmethod\n",
      "    def __len__(self):\n",
      "        \"\"\"Number of batch in the Sequence.\n",
      "\n",
      "        Returns:\n",
      "            The number of batches in the Sequence.\n",
      "        \"\"\"\n",
      "        raise NotImplementedError\n",
      "\n",
      "    def on_epoch_end(self):\n",
      "        \"\"\"Method called at the end of every epoch.\"\"\"\n",
      "        pass\n",
      "\n",
      "    def __iter__(self):\n",
      "        \"\"\"Create a generator that iterate over the Sequence.\"\"\"\n",
      "        for item in (self[i] for i in range(len(self))):\n",
      "            yield item\n",
      "\n"
     ]
    }
   ],
   "source": [
    "print(inspect.getsource(tf.keras.utils.Sequence))"
   ]
  },
  {
   "cell_type": "code",
   "execution_count": 133,
   "id": "f9842392",
   "metadata": {},
   "outputs": [],
   "source": [
    "import torch"
   ]
  },
  {
   "cell_type": "code",
   "execution_count": 134,
   "id": "0ae5b9ee",
   "metadata": {},
   "outputs": [],
   "source": [
    "from torch.utils.data import Dataset"
   ]
  },
  {
   "cell_type": "code",
   "execution_count": 135,
   "id": "32fc746a",
   "metadata": {},
   "outputs": [
    {
     "name": "stdout",
     "output_type": "stream",
     "text": [
      "class Dataset(Generic[T_co]):\n",
      "    r\"\"\"An abstract class representing a :class:`Dataset`.\n",
      "\n",
      "    All datasets that represent a map from keys to data samples should subclass\n",
      "    it. All subclasses should overwrite :meth:`__getitem__`, supporting fetching a\n",
      "    data sample for a given key. Subclasses could also optionally overwrite\n",
      "    :meth:`__len__`, which is expected to return the size of the dataset by many\n",
      "    :class:`~torch.utils.data.Sampler` implementations and the default options\n",
      "    of :class:`~torch.utils.data.DataLoader`.\n",
      "\n",
      "    .. note::\n",
      "      :class:`~torch.utils.data.DataLoader` by default constructs a index\n",
      "      sampler that yields integral indices.  To make it work with a map-style\n",
      "      dataset with non-integral indices/keys, a custom sampler must be provided.\n",
      "    \"\"\"\n",
      "\n",
      "    def __getitem__(self, index) -> T_co:\n",
      "        raise NotImplementedError\n",
      "\n",
      "    def __add__(self, other: 'Dataset[T_co]') -> 'ConcatDataset[T_co]':\n",
      "        return ConcatDataset([self, other])\n",
      "\n",
      "    # No `def __len__(self)` default?\n",
      "    # See NOTE [ Lack of Default `__len__` in Python Abstract Base Classes ]\n",
      "    # in pytorch/torch/utils/data/sampler.py\n",
      "\n"
     ]
    }
   ],
   "source": [
    "print(inspect.getsource(Dataset))"
   ]
  },
  {
   "cell_type": "code",
   "execution_count": 136,
   "id": "125980ad",
   "metadata": {},
   "outputs": [],
   "source": [
    "a = 'abcd'"
   ]
  },
  {
   "cell_type": "code",
   "execution_count": 137,
   "id": "03fcdf93",
   "metadata": {},
   "outputs": [
    {
     "data": {
      "text/plain": [
       "['__add__',\n",
       " '__class__',\n",
       " '__contains__',\n",
       " '__delattr__',\n",
       " '__dir__',\n",
       " '__doc__',\n",
       " '__eq__',\n",
       " '__format__',\n",
       " '__ge__',\n",
       " '__getattribute__',\n",
       " '__getitem__',\n",
       " '__getnewargs__',\n",
       " '__getstate__',\n",
       " '__gt__',\n",
       " '__hash__',\n",
       " '__init__',\n",
       " '__init_subclass__',\n",
       " '__iter__',\n",
       " '__le__',\n",
       " '__len__',\n",
       " '__lt__',\n",
       " '__mod__',\n",
       " '__mul__',\n",
       " '__ne__',\n",
       " '__new__',\n",
       " '__reduce__',\n",
       " '__reduce_ex__',\n",
       " '__repr__',\n",
       " '__rmod__',\n",
       " '__rmul__',\n",
       " '__setattr__',\n",
       " '__sizeof__',\n",
       " '__str__',\n",
       " '__subclasshook__',\n",
       " 'capitalize',\n",
       " 'casefold',\n",
       " 'center',\n",
       " 'count',\n",
       " 'encode',\n",
       " 'endswith',\n",
       " 'expandtabs',\n",
       " 'find',\n",
       " 'format',\n",
       " 'format_map',\n",
       " 'index',\n",
       " 'isalnum',\n",
       " 'isalpha',\n",
       " 'isascii',\n",
       " 'isdecimal',\n",
       " 'isdigit',\n",
       " 'isidentifier',\n",
       " 'islower',\n",
       " 'isnumeric',\n",
       " 'isprintable',\n",
       " 'isspace',\n",
       " 'istitle',\n",
       " 'isupper',\n",
       " 'join',\n",
       " 'ljust',\n",
       " 'lower',\n",
       " 'lstrip',\n",
       " 'maketrans',\n",
       " 'partition',\n",
       " 'removeprefix',\n",
       " 'removesuffix',\n",
       " 'replace',\n",
       " 'rfind',\n",
       " 'rindex',\n",
       " 'rjust',\n",
       " 'rpartition',\n",
       " 'rsplit',\n",
       " 'rstrip',\n",
       " 'split',\n",
       " 'splitlines',\n",
       " 'startswith',\n",
       " 'strip',\n",
       " 'swapcase',\n",
       " 'title',\n",
       " 'translate',\n",
       " 'upper',\n",
       " 'zfill']"
      ]
     },
     "execution_count": 137,
     "metadata": {},
     "output_type": "execute_result"
    }
   ],
   "source": [
    "dir(a)\n",
    "#__iter__ exists"
   ]
  },
  {
   "cell_type": "code",
   "execution_count": 138,
   "id": "9407dcb7",
   "metadata": {},
   "outputs": [
    {
     "data": {
      "text/plain": [
       "['a', 'b', 'c', 'd']"
      ]
     },
     "execution_count": 138,
     "metadata": {},
     "output_type": "execute_result"
    }
   ],
   "source": [
    "list('abcd')"
   ]
  },
  {
   "cell_type": "code",
   "execution_count": 139,
   "id": "1fa2f35a",
   "metadata": {},
   "outputs": [
    {
     "ename": "TypeError",
     "evalue": "argument of type 'int' is not iterable",
     "output_type": "error",
     "traceback": [
      "\u001b[1;31m---------------------------------------------------------------------------\u001b[0m",
      "\u001b[1;31mTypeError\u001b[0m                                 Traceback (most recent call last)",
      "Cell \u001b[1;32mIn[139], line 2\u001b[0m\n\u001b[0;32m      1\u001b[0m \u001b[38;5;66;03m# 또 iterable 사용되는 곳\u001b[39;00m\n\u001b[1;32m----> 2\u001b[0m \u001b[38;5;241m1\u001b[39m \u001b[38;5;129;01min\u001b[39;00m \u001b[38;5;241m3\u001b[39m\n",
      "\u001b[1;31mTypeError\u001b[0m: argument of type 'int' is not iterable"
     ]
    }
   ],
   "source": [
    "# 또 iterable 사용되는 곳\n",
    "1 in 3"
   ]
  },
  {
   "cell_type": "markdown",
   "id": "3b786eaa",
   "metadata": {},
   "source": [
    "### 01.02 Recursive"
   ]
  },
  {
   "cell_type": "code",
   "execution_count": 140,
   "id": "89bafb8e",
   "metadata": {},
   "outputs": [],
   "source": [
    "def x():\n",
    "    for i in [2,3,4]:\n",
    "        print(i)"
   ]
  },
  {
   "cell_type": "code",
   "execution_count": 141,
   "id": "ca7c7fbf",
   "metadata": {},
   "outputs": [],
   "source": [
    "import dis"
   ]
  },
  {
   "cell_type": "code",
   "execution_count": 142,
   "id": "4fa8e799",
   "metadata": {},
   "outputs": [
    {
     "name": "stdout",
     "output_type": "stream",
     "text": [
      "  1           0 RESUME                   0\n",
      "\n",
      "  2           2 LOAD_CONST               1 ((2, 3, 4))\n",
      "              4 GET_ITER\n",
      "        >>    6 FOR_ITER                17 (to 42)\n",
      "              8 STORE_FAST               0 (i)\n",
      "\n",
      "  3          10 LOAD_GLOBAL              1 (NULL + print)\n",
      "             22 LOAD_FAST                0 (i)\n",
      "             24 PRECALL                  1\n",
      "             28 CALL                     1\n",
      "             38 POP_TOP\n",
      "             40 JUMP_BACKWARD           18 (to 6)\n",
      "\n",
      "  2     >>   42 LOAD_CONST               0 (None)\n",
      "             44 RETURN_VALUE\n"
     ]
    }
   ],
   "source": [
    "dis.dis(x)"
   ]
  },
  {
   "cell_type": "markdown",
   "id": "9ba7dd71",
   "metadata": {},
   "source": [
    "메모리 100에 적재량 200? 매우 비효율적\n",
    "메모리 100에 적재량 50? 효율적\n",
    "따라서 효율을 위해 메모리를 ondemand에 적재하는 lazy technic 사용"
   ]
  },
  {
   "cell_type": "code",
   "execution_count": 143,
   "id": "a847c71c",
   "metadata": {},
   "outputs": [],
   "source": [
    "def f(n):\n",
    "    if n == 1 or n ==2:\n",
    "        return 1\n",
    "    return f(n-1)+f(n-2)\n",
    "#이런 방식은 대부분 최적화해서 지원하지 않으므로 다이나믹 프로그래밍 방식으로 하는것이 좋다."
   ]
  },
  {
   "cell_type": "code",
   "execution_count": 144,
   "id": "cf5f2fa4",
   "metadata": {},
   "outputs": [
    {
     "data": {
      "text/plain": [
       "233"
      ]
     },
     "execution_count": 144,
     "metadata": {},
     "output_type": "execute_result"
    }
   ],
   "source": [
    "f(13)"
   ]
  },
  {
   "cell_type": "markdown",
   "id": "d562eabb",
   "metadata": {},
   "source": [
    "**결론 : recursive는 잊어버리자**\n",
    "***"
   ]
  },
  {
   "cell_type": "markdown",
   "id": "fe650ab2",
   "metadata": {},
   "source": [
    "### 01.03 comprehension"
   ]
  },
  {
   "cell_type": "markdown",
   "id": "06b8bc34",
   "metadata": {},
   "source": [
    "#### accumulator pattern"
   ]
  },
  {
   "cell_type": "markdown",
   "id": "3908f56c",
   "metadata": {},
   "source": [
    "리듀스와 과정은 같지만 결과가 다른것이 어큐뮬레이션 패턴.<br>\n",
    "무엇의 결과값을 만들기 위해서 초기값을 준다. 그리고 누적시켜서 원하는 결과값이 된다."
   ]
  },
  {
   "cell_type": "code",
   "execution_count": 145,
   "id": "8eca6911",
   "metadata": {},
   "outputs": [
    {
     "data": {
      "text/plain": [
       "55"
      ]
     },
     "execution_count": 145,
     "metadata": {},
     "output_type": "execute_result"
    }
   ],
   "source": [
    "sum_ = 0\n",
    "for i in range(1,11):\n",
    "    sum_ += i;\n",
    "\n",
    "sum_"
   ]
  },
  {
   "cell_type": "markdown",
   "id": "10a0b00b",
   "metadata": {},
   "source": [
    "1에서 10까지 리스트를 만들어라 :"
   ]
  },
  {
   "cell_type": "code",
   "execution_count": 146,
   "id": "9c8dc451",
   "metadata": {},
   "outputs": [],
   "source": [
    "temp = []"
   ]
  },
  {
   "cell_type": "code",
   "execution_count": 147,
   "id": "c4dc2728",
   "metadata": {},
   "outputs": [],
   "source": [
    "for i in range(1,11):\n",
    "    temp.append(i)"
   ]
  },
  {
   "cell_type": "code",
   "execution_count": 148,
   "id": "81064584",
   "metadata": {},
   "outputs": [
    {
     "data": {
      "text/plain": [
       "[1, 2, 3, 4, 5, 6, 7, 8, 9, 10]"
      ]
     },
     "execution_count": 148,
     "metadata": {},
     "output_type": "execute_result"
    }
   ],
   "source": [
    "temp"
   ]
  },
  {
   "cell_type": "markdown",
   "id": "05c36612",
   "metadata": {},
   "source": [
    "**look and search**<br>\n",
    "조건을 하나 더 붙인것."
   ]
  },
  {
   "cell_type": "code",
   "execution_count": 149,
   "id": "f31bffe5",
   "metadata": {},
   "outputs": [
    {
     "data": {
      "text/plain": [
       "[2, 4, 6, 8, 10]"
      ]
     },
     "execution_count": 149,
     "metadata": {},
     "output_type": "execute_result"
    }
   ],
   "source": [
    "temp2  = []\n",
    "for i in range(1,11):\n",
    "    if i % 2 == 0:\n",
    "        temp2.append(i)\n",
    "        \n",
    "temp2"
   ]
  },
  {
   "cell_type": "markdown",
   "id": "b4e66462",
   "metadata": {},
   "source": [
    "**comprehension 예제**<br>\n",
    "이러한 것을 통해 아래와 같이 쓸 수 있는 데, 문법이 간결하기도 하나, 효율성이 최적화되어 있기 때문에 중요하다."
   ]
  },
  {
   "cell_type": "code",
   "execution_count": 150,
   "id": "ec95a247",
   "metadata": {},
   "outputs": [
    {
     "data": {
      "text/plain": [
       "[1, 2, 3, 4, 5, 6, 7, 8, 9, 10]"
      ]
     },
     "execution_count": 150,
     "metadata": {},
     "output_type": "execute_result"
    }
   ],
   "source": [
    "[x for x in range(1,11)]"
   ]
  },
  {
   "cell_type": "code",
   "execution_count": 151,
   "id": "ebaaf232",
   "metadata": {},
   "outputs": [
    {
     "data": {
      "text/plain": [
       "[4, 6, 8, 10, 12]"
      ]
     },
     "execution_count": 151,
     "metadata": {},
     "output_type": "execute_result"
    }
   ],
   "source": [
    "[x + 2 for x in range(1,11) if x % 2 == 0]"
   ]
  },
  {
   "cell_type": "code",
   "execution_count": 152,
   "id": "0c9da1e4",
   "metadata": {},
   "outputs": [
    {
     "data": {
      "text/plain": [
       "['', 2, '', 4, '', 6, '', 8, '', 10]"
      ]
     },
     "execution_count": 152,
     "metadata": {},
     "output_type": "execute_result"
    }
   ],
   "source": [
    "[x if x%2 == 0 else '' for x in range(1,11)]"
   ]
  },
  {
   "cell_type": "code",
   "execution_count": 153,
   "id": "80c93407",
   "metadata": {},
   "outputs": [
    {
     "data": {
      "text/plain": [
       "[(0, 6),\n",
       " (0, 7),\n",
       " (0, 8),\n",
       " (0, 9),\n",
       " (1, 6),\n",
       " (1, 7),\n",
       " (1, 8),\n",
       " (1, 9),\n",
       " (2, 6),\n",
       " (2, 7),\n",
       " (2, 8),\n",
       " (2, 9),\n",
       " (3, 6),\n",
       " (3, 7),\n",
       " (3, 8),\n",
       " (3, 9),\n",
       " (4, 6),\n",
       " (4, 7),\n",
       " (4, 8),\n",
       " (4, 9)]"
      ]
     },
     "execution_count": 153,
     "metadata": {},
     "output_type": "execute_result"
    }
   ],
   "source": [
    "[(x,y) for x in range(5) for y in range(6,10)]"
   ]
  },
  {
   "cell_type": "code",
   "execution_count": 154,
   "id": "a049d60f",
   "metadata": {},
   "outputs": [
    {
     "name": "stdout",
     "output_type": "stream",
     "text": [
      "75.3 ms ± 3.06 ms per loop (mean ± std. dev. of 7 runs, 10 loops each)\n"
     ]
    }
   ],
   "source": [
    "%%timeit\n",
    "temp = []\n",
    "for i in range(1000000):\n",
    "    temp.append(i)\n",
    "temp"
   ]
  },
  {
   "cell_type": "code",
   "execution_count": 155,
   "id": "8c67decb",
   "metadata": {},
   "outputs": [
    {
     "name": "stdout",
     "output_type": "stream",
     "text": [
      "57.4 ms ± 5.33 ms per loop (mean ± std. dev. of 7 runs, 10 loops each)\n"
     ]
    }
   ],
   "source": [
    "%%timeit\n",
    "[x for x in range(1000000)]"
   ]
  },
  {
   "cell_type": "markdown",
   "id": "58912db2",
   "metadata": {},
   "source": [
    "위와 같은 방식은 코드도 적고 속도도 빠른데 왜 딥러닝에서 사용하지 않도록 하냐면, lazy테크닉이 아니므로 한꺼번에 메모리에 적재하기 때문에 데이터가 커지면 커질수록 속도가 매우 느려짐. 빅데이터정도에서는 종종 사용하라고 하는데 빅데이터가 실제로 그렇게 엄청나게 크진 않기 때문이다(매우매우 큰 정형데이터가 조금 적다)"
   ]
  },
  {
   "cell_type": "markdown",
   "id": "2fe43f43",
   "metadata": {},
   "source": [
    "**comprehension 종류**<br>\n",
    " - list comprehension\n",
    " - set comprehension\n",
    " - dict comprehesion"
   ]
  },
  {
   "cell_type": "code",
   "execution_count": 156,
   "id": "4d3d16a3",
   "metadata": {},
   "outputs": [
    {
     "data": {
      "text/plain": [
       "<generator object <genexpr> at 0x0000018B94B42E90>"
      ]
     },
     "execution_count": 156,
     "metadata": {},
     "output_type": "execute_result"
    }
   ],
   "source": [
    "(x for x in range(10))"
   ]
  },
  {
   "cell_type": "markdown",
   "id": "b31c2b69",
   "metadata": {},
   "source": [
    "### 01.04 Iterator"
   ]
  },
  {
   "cell_type": "code",
   "execution_count": 157,
   "id": "a16a1ae8",
   "metadata": {},
   "outputs": [],
   "source": [
    "a = [1,2,3,4]"
   ]
  },
  {
   "cell_type": "code",
   "execution_count": 158,
   "id": "9f100194",
   "metadata": {},
   "outputs": [],
   "source": [
    "b = iter(a)\n",
    "#iter()는 __iter__을 가지고 있는 iterable을 iterator로 만든다."
   ]
  },
  {
   "cell_type": "code",
   "execution_count": 159,
   "id": "5ffe0ad0",
   "metadata": {},
   "outputs": [
    {
     "data": {
      "text/plain": [
       "['__class__',\n",
       " '__delattr__',\n",
       " '__dir__',\n",
       " '__doc__',\n",
       " '__eq__',\n",
       " '__format__',\n",
       " '__ge__',\n",
       " '__getattribute__',\n",
       " '__getstate__',\n",
       " '__gt__',\n",
       " '__hash__',\n",
       " '__init__',\n",
       " '__init_subclass__',\n",
       " '__iter__',\n",
       " '__le__',\n",
       " '__length_hint__',\n",
       " '__lt__',\n",
       " '__ne__',\n",
       " '__new__',\n",
       " '__next__',\n",
       " '__reduce__',\n",
       " '__reduce_ex__',\n",
       " '__repr__',\n",
       " '__setattr__',\n",
       " '__setstate__',\n",
       " '__sizeof__',\n",
       " '__str__',\n",
       " '__subclasshook__']"
      ]
     },
     "execution_count": 159,
     "metadata": {},
     "output_type": "execute_result"
    }
   ],
   "source": [
    "dir(b)"
   ]
  },
  {
   "cell_type": "markdown",
   "id": "43f1d45a",
   "metadata": {},
   "source": [
    "이터레이터는 \\_\\_next\\_\\_를 가지고 있다. 이는 lazy 테크닉으로, 다음에 몇개가, 뭐가있는지 모른다. 따라서 인덱싱 사용할 수 없다."
   ]
  },
  {
   "cell_type": "code",
   "execution_count": 161,
   "id": "77103865",
   "metadata": {},
   "outputs": [
    {
     "ename": "TypeError",
     "evalue": "'list_iterator' object is not subscriptable",
     "output_type": "error",
     "traceback": [
      "\u001b[1;31m---------------------------------------------------------------------------\u001b[0m",
      "\u001b[1;31mTypeError\u001b[0m                                 Traceback (most recent call last)",
      "Cell \u001b[1;32mIn[161], line 1\u001b[0m\n\u001b[1;32m----> 1\u001b[0m b[\u001b[38;5;241m0\u001b[39m]\n",
      "\u001b[1;31mTypeError\u001b[0m: 'list_iterator' object is not subscriptable"
     ]
    }
   ],
   "source": [
    "b[0]"
   ]
  },
  {
   "cell_type": "code",
   "execution_count": 162,
   "id": "ee820454",
   "metadata": {},
   "outputs": [
    {
     "data": {
      "text/plain": [
       "1"
      ]
     },
     "execution_count": 162,
     "metadata": {},
     "output_type": "execute_result"
    }
   ],
   "source": [
    "next(b)"
   ]
  },
  {
   "cell_type": "code",
   "execution_count": 163,
   "id": "37764d28",
   "metadata": {},
   "outputs": [
    {
     "data": {
      "text/plain": [
       "[2, 3, 4]"
      ]
     },
     "execution_count": 163,
     "metadata": {},
     "output_type": "execute_result"
    }
   ],
   "source": [
    "list(b)"
   ]
  },
  {
   "cell_type": "code",
   "execution_count": 164,
   "id": "9b9f408c",
   "metadata": {},
   "outputs": [
    {
     "ename": "StopIteration",
     "evalue": "",
     "output_type": "error",
     "traceback": [
      "\u001b[1;31m---------------------------------------------------------------------------\u001b[0m",
      "\u001b[1;31mStopIteration\u001b[0m                             Traceback (most recent call last)",
      "Cell \u001b[1;32mIn[164], line 1\u001b[0m\n\u001b[1;32m----> 1\u001b[0m \u001b[38;5;28mnext\u001b[39m(b)\n",
      "\u001b[1;31mStopIteration\u001b[0m: "
     ]
    }
   ],
   "source": [
    "next(b)\n",
    "#모두 뽑아왔기때문에 없다."
   ]
  },
  {
   "cell_type": "code",
   "execution_count": 165,
   "id": "3b027fb9",
   "metadata": {},
   "outputs": [],
   "source": [
    "b = iter(a)"
   ]
  },
  {
   "cell_type": "code",
   "execution_count": 166,
   "id": "20ec8611",
   "metadata": {},
   "outputs": [
    {
     "data": {
      "text/plain": [
       "1"
      ]
     },
     "execution_count": 166,
     "metadata": {},
     "output_type": "execute_result"
    }
   ],
   "source": [
    "next(b)"
   ]
  },
  {
   "cell_type": "code",
   "execution_count": 167,
   "id": "992af512",
   "metadata": {},
   "outputs": [
    {
     "data": {
      "text/plain": [
       "2"
      ]
     },
     "execution_count": 167,
     "metadata": {},
     "output_type": "execute_result"
    }
   ],
   "source": [
    "next(b)"
   ]
  },
  {
   "cell_type": "code",
   "execution_count": 168,
   "id": "e8aba8b9",
   "metadata": {},
   "outputs": [
    {
     "data": {
      "text/plain": [
       "[3, 4]"
      ]
     },
     "execution_count": 168,
     "metadata": {},
     "output_type": "execute_result"
    }
   ],
   "source": [
    "list(b)"
   ]
  },
  {
   "cell_type": "code",
   "execution_count": 169,
   "id": "e8776c59",
   "metadata": {},
   "outputs": [],
   "source": [
    "a = [1,2,3,4]\n",
    "c = next(iter(a))"
   ]
  },
  {
   "cell_type": "code",
   "execution_count": 170,
   "id": "22e0681c",
   "metadata": {},
   "outputs": [
    {
     "data": {
      "text/plain": [
       "1"
      ]
     },
     "execution_count": 170,
     "metadata": {},
     "output_type": "execute_result"
    }
   ],
   "source": [
    "c"
   ]
  },
  {
   "cell_type": "code",
   "execution_count": 171,
   "id": "b2c43a91",
   "metadata": {},
   "outputs": [
    {
     "data": {
      "text/plain": [
       "1"
      ]
     },
     "execution_count": 171,
     "metadata": {},
     "output_type": "execute_result"
    }
   ],
   "source": [
    "c"
   ]
  },
  {
   "cell_type": "markdown",
   "id": "3bced5c6",
   "metadata": {},
   "source": [
    "### 01.05 generator"
   ]
  },
  {
   "cell_type": "markdown",
   "id": "cefcf87f",
   "metadata": {},
   "source": [
    "iterator의 사촌이고, 만드는 방식만 다르다. iterator는 iter로만 만들지만, generator는 유연하게 만든다.<br>\n",
    "제너레이터는 comprehension 문법으로 튜플을 쓰면 만들어짐<br>\n",
    "또는 함수 안에 yield라는 단어\n"
   ]
  },
  {
   "cell_type": "markdown",
   "id": "08900a05",
   "metadata": {},
   "source": [
    "tf.keras.preprocessing.image.DirectoryIterator<br>\n",
    "tf.keras.preprocessing.image.ImageDataGenerator"
   ]
  },
  {
   "cell_type": "code",
   "execution_count": 172,
   "id": "50ec3e79",
   "metadata": {},
   "outputs": [],
   "source": [
    "t = (x for x in range(10))"
   ]
  },
  {
   "cell_type": "code",
   "execution_count": 173,
   "id": "5f6b38d7",
   "metadata": {},
   "outputs": [
    {
     "data": {
      "text/plain": [
       "0"
      ]
     },
     "execution_count": 173,
     "metadata": {},
     "output_type": "execute_result"
    }
   ],
   "source": [
    "next(t)"
   ]
  },
  {
   "cell_type": "code",
   "execution_count": 174,
   "id": "bf4581d3",
   "metadata": {},
   "outputs": [
    {
     "data": {
      "text/plain": [
       "1"
      ]
     },
     "execution_count": 174,
     "metadata": {},
     "output_type": "execute_result"
    }
   ],
   "source": [
    "next(t) #iter 10 times => Stop Iteration"
   ]
  },
  {
   "cell_type": "code",
   "execution_count": 175,
   "id": "a29a692f",
   "metadata": {},
   "outputs": [],
   "source": [
    "def y():\n",
    "    yield 1\n",
    "    yield 2\n",
    "    yield 10"
   ]
  },
  {
   "cell_type": "code",
   "execution_count": 176,
   "id": "ccf83615",
   "metadata": {},
   "outputs": [],
   "source": [
    "x = y()"
   ]
  },
  {
   "cell_type": "code",
   "execution_count": 177,
   "id": "7c48af01",
   "metadata": {},
   "outputs": [
    {
     "data": {
      "text/plain": [
       "<generator object y at 0x0000018B95062140>"
      ]
     },
     "execution_count": 177,
     "metadata": {},
     "output_type": "execute_result"
    }
   ],
   "source": [
    "x"
   ]
  },
  {
   "cell_type": "code",
   "execution_count": 178,
   "id": "f66cb9be",
   "metadata": {},
   "outputs": [
    {
     "data": {
      "text/plain": [
       "1"
      ]
     },
     "execution_count": 178,
     "metadata": {},
     "output_type": "execute_result"
    }
   ],
   "source": [
    "next(x)"
   ]
  },
  {
   "cell_type": "code",
   "execution_count": 179,
   "id": "f0188ddf",
   "metadata": {},
   "outputs": [],
   "source": [
    "def yy():\n",
    "    yield from [1,2,3,4,5]"
   ]
  },
  {
   "cell_type": "code",
   "execution_count": 180,
   "id": "6abb2d50",
   "metadata": {},
   "outputs": [],
   "source": [
    "x = yy()"
   ]
  },
  {
   "cell_type": "code",
   "execution_count": 181,
   "id": "80c714d2",
   "metadata": {},
   "outputs": [
    {
     "data": {
      "text/plain": [
       "<generator object yy at 0x0000018B94FF7F40>"
      ]
     },
     "execution_count": 181,
     "metadata": {},
     "output_type": "execute_result"
    }
   ],
   "source": [
    "x"
   ]
  },
  {
   "cell_type": "code",
   "execution_count": 182,
   "id": "42fa9f7f",
   "metadata": {},
   "outputs": [
    {
     "data": {
      "text/plain": [
       "1"
      ]
     },
     "execution_count": 182,
     "metadata": {},
     "output_type": "execute_result"
    }
   ],
   "source": [
    "next(x)"
   ]
  },
  {
   "cell_type": "markdown",
   "id": "0f37d15b",
   "metadata": {},
   "source": [
    "파이썬의 두 루프 중 while은 인덱스 베이스 for는 이터레이터. while은 무한루프.\n",
    "효율은 for가 더 좋다."
   ]
  },
  {
   "cell_type": "code",
   "execution_count": 183,
   "id": "66c327c5",
   "metadata": {},
   "outputs": [
    {
     "name": "stdout",
     "output_type": "stream",
     "text": [
      "\n"
     ]
    },
    {
     "ename": "ValueError",
     "evalue": "invalid literal for int() with base 10: ''",
     "output_type": "error",
     "traceback": [
      "\u001b[1;31m---------------------------------------------------------------------------\u001b[0m",
      "\u001b[1;31mValueError\u001b[0m                                Traceback (most recent call last)",
      "Cell \u001b[1;32mIn[183], line 2\u001b[0m\n\u001b[0;32m      1\u001b[0m a \u001b[38;5;241m=\u001b[39m \u001b[38;5;28minput\u001b[39m()\n\u001b[1;32m----> 2\u001b[0m b \u001b[38;5;241m=\u001b[39m \u001b[38;5;28mint\u001b[39m(a) \u001b[38;5;241m+\u001b[39m \u001b[38;5;241m10\u001b[39m\n",
      "\u001b[1;31mValueError\u001b[0m: invalid literal for int() with base 10: ''"
     ]
    }
   ],
   "source": [
    "a = input()\n",
    "b = int(a) + 10"
   ]
  },
  {
   "cell_type": "code",
   "execution_count": 184,
   "id": "2991a8c0",
   "metadata": {},
   "outputs": [
    {
     "name": "stdout",
     "output_type": "stream",
     "text": [
      "\n",
      "\n"
     ]
    },
    {
     "ename": "ValueError",
     "evalue": "invalid literal for int() with base 10: ''",
     "output_type": "error",
     "traceback": [
      "\u001b[1;31m---------------------------------------------------------------------------\u001b[0m",
      "\u001b[1;31mValueError\u001b[0m                                Traceback (most recent call last)",
      "Cell \u001b[1;32mIn[184], line 4\u001b[0m\n\u001b[0;32m      3\u001b[0m     a \u001b[38;5;241m=\u001b[39m \u001b[38;5;28minput\u001b[39m()\n\u001b[1;32m----> 4\u001b[0m     b \u001b[38;5;241m=\u001b[39m \u001b[38;5;28mint\u001b[39m(a) \u001b[38;5;241m+\u001b[39m \u001b[38;5;241m10\u001b[39m\n\u001b[0;32m      5\u001b[0m \u001b[38;5;28;01mexcept\u001b[39;00m:\n",
      "\u001b[1;31mValueError\u001b[0m: invalid literal for int() with base 10: ''",
      "\nDuring handling of the above exception, another exception occurred:\n",
      "\u001b[1;31mValueError\u001b[0m                                Traceback (most recent call last)",
      "Cell \u001b[1;32mIn[184], line 7\u001b[0m\n\u001b[0;32m      5\u001b[0m \u001b[38;5;28;01mexcept\u001b[39;00m:\n\u001b[0;32m      6\u001b[0m     a \u001b[38;5;241m=\u001b[39m \u001b[38;5;28minput\u001b[39m()\n\u001b[1;32m----> 7\u001b[0m     b \u001b[38;5;241m=\u001b[39m \u001b[38;5;28mint\u001b[39m(a) \u001b[38;5;241m+\u001b[39m \u001b[38;5;241m10\u001b[39m\n",
      "\u001b[1;31mValueError\u001b[0m: invalid literal for int() with base 10: ''"
     ]
    }
   ],
   "source": [
    "#에러가나면 try-except, 근데 계속 이럴건가?\n",
    "try:\n",
    "    a = input()\n",
    "    b = int(a) + 10\n",
    "except:\n",
    "    a = input()\n",
    "    b = int(a) + 10"
   ]
  },
  {
   "cell_type": "code",
   "execution_count": 185,
   "id": "55cfd067",
   "metadata": {},
   "outputs": [
    {
     "name": "stdout",
     "output_type": "stream",
     "text": [
      "\n",
      "\n",
      "\n",
      "\n",
      "2\n"
     ]
    }
   ],
   "source": [
    "while True:\n",
    "    try:\n",
    "        a = input()\n",
    "        b = int(a) + 10\n",
    "    except:\n",
    "        continue\n",
    "    else:\n",
    "        break\n",
    "#이럴 때 while을 쓴다."
   ]
  },
  {
   "cell_type": "markdown",
   "id": "1da9d55f",
   "metadata": {},
   "source": [
    "결론적으로 위의 경우 빼고는 while보다는 효율적인 for을 쓴다. 학습시킬때 전문가도 for 쓴다. 저질초보자는 fit 쓴다. for은 이터레이터중 하나고, list, sum 등등등"
   ]
  },
  {
   "cell_type": "markdown",
   "id": "ee4e691b",
   "metadata": {},
   "source": [
    "**iterable 종류들 예시**"
   ]
  },
  {
   "cell_type": "code",
   "execution_count": 186,
   "id": "1c1a5afc",
   "metadata": {},
   "outputs": [
    {
     "data": {
      "text/plain": [
       "499500"
      ]
     },
     "execution_count": 186,
     "metadata": {},
     "output_type": "execute_result"
    }
   ],
   "source": [
    "sum(x for x in range(1000))"
   ]
  },
  {
   "cell_type": "code",
   "execution_count": 187,
   "id": "24eb1488",
   "metadata": {},
   "outputs": [
    {
     "data": {
      "text/plain": [
       "False"
      ]
     },
     "execution_count": 187,
     "metadata": {},
     "output_type": "execute_result"
    }
   ],
   "source": [
    "all([True,True,False])"
   ]
  },
  {
   "cell_type": "code",
   "execution_count": 188,
   "id": "a176bbf4",
   "metadata": {},
   "outputs": [],
   "source": [
    "t = enumerate('abc')"
   ]
  },
  {
   "cell_type": "code",
   "execution_count": 189,
   "id": "ba243118",
   "metadata": {},
   "outputs": [
    {
     "data": {
      "text/plain": [
       "(0, 'a')"
      ]
     },
     "execution_count": 189,
     "metadata": {},
     "output_type": "execute_result"
    }
   ],
   "source": [
    "next(t)"
   ]
  },
  {
   "cell_type": "code",
   "execution_count": 190,
   "id": "787fc759",
   "metadata": {},
   "outputs": [],
   "source": [
    "t = zip([1,2,3],[4,5,6])"
   ]
  },
  {
   "cell_type": "code",
   "execution_count": 191,
   "id": "96709732",
   "metadata": {},
   "outputs": [
    {
     "data": {
      "text/plain": [
       "(1, 4)"
      ]
     },
     "execution_count": 191,
     "metadata": {},
     "output_type": "execute_result"
    }
   ],
   "source": [
    "next(t)"
   ]
  },
  {
   "cell_type": "markdown",
   "id": "43a335ff",
   "metadata": {},
   "source": [
    "학습을 반복시키기 위해 이터러블 구조체를 만드는 것이 어렵다.<br>\n",
    "map, filter, reduce도 내부적으로 iterator로 되어있다."
   ]
  },
  {
   "cell_type": "markdown",
   "id": "b4309777",
   "metadata": {},
   "source": [
    "# 02 함수형 프로그래밍\n",
    "#### First Class Function = Function을 오브젝트로 사용\n",
    "#### Higher Order Function = function을 argument로 사용하고, function을 return값으로 사용"
   ]
  },
  {
   "cell_type": "markdown",
   "id": "39ecfe32",
   "metadata": {},
   "source": [
    "간결하고 이론적 증명 가능성 존재하지만 이해하기 어렵다. 파이썬의 철학이 말하는 것처럼 여러 방법이 존재하지만 좋은것이 존재한다. 이런것처럼 순수한 함수형 프로그래밍 언어는 아니지만, 필요할 때 쓸 수 있다."
   ]
  }
 ],
 "metadata": {
  "kernelspec": {
   "display_name": "Python 3 (ipykernel)",
   "language": "python",
   "name": "python3"
  },
  "language_info": {
   "codemirror_mode": {
    "name": "ipython",
    "version": 3
   },
   "file_extension": ".py",
   "mimetype": "text/x-python",
   "name": "python",
   "nbconvert_exporter": "python",
   "pygments_lexer": "ipython3",
   "version": "3.11.4"
  }
 },
 "nbformat": 4,
 "nbformat_minor": 5
}
