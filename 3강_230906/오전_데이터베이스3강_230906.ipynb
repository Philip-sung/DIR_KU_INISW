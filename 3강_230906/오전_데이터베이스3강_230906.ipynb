{
 "cells": [
  {
   "cell_type": "code",
   "execution_count": 1,
   "id": "140a8659",
   "metadata": {},
   "outputs": [],
   "source": [
    "import sqlalchemy"
   ]
  },
  {
   "cell_type": "code",
   "execution_count": 2,
   "id": "15d43283",
   "metadata": {},
   "outputs": [
    {
     "data": {
      "text/plain": [
       "'2.0.20'"
      ]
     },
     "execution_count": 2,
     "metadata": {},
     "output_type": "execute_result"
    }
   ],
   "source": [
    "sqlalchemy.__version__"
   ]
  },
  {
   "cell_type": "code",
   "execution_count": 3,
   "id": "557b1ec3",
   "metadata": {},
   "outputs": [],
   "source": [
    "from sqlalchemy import create_engine, MetaData"
   ]
  },
  {
   "cell_type": "code",
   "execution_count": 4,
   "id": "967979fe",
   "metadata": {},
   "outputs": [],
   "source": [
    "from sqlalchemy.schema import Table, Column, ForeignKey"
   ]
  },
  {
   "cell_type": "code",
   "execution_count": 5,
   "id": "186071b8",
   "metadata": {},
   "outputs": [],
   "source": [
    "from sqlalchemy.types import Integer, Text"
   ]
  },
  {
   "cell_type": "code",
   "execution_count": 6,
   "id": "21bf3dc4",
   "metadata": {},
   "outputs": [],
   "source": [
    "from sqlalchemy.sql import select, insert, update, delete, join, func"
   ]
  },
  {
   "cell_type": "code",
   "execution_count": 7,
   "id": "bbf9a82b",
   "metadata": {},
   "outputs": [],
   "source": [
    "engine = create_engine('sqlite:///:memory:', echo=True)"
   ]
  },
  {
   "cell_type": "code",
   "execution_count": 8,
   "id": "bee03e48",
   "metadata": {},
   "outputs": [],
   "source": [
    "con = engine.connect()"
   ]
  },
  {
   "cell_type": "code",
   "execution_count": 9,
   "id": "f3b676d7",
   "metadata": {},
   "outputs": [],
   "source": [
    "meta = MetaData()"
   ]
  },
  {
   "cell_type": "code",
   "execution_count": 10,
   "id": "0895b79f",
   "metadata": {},
   "outputs": [
    {
     "data": {
      "text/plain": [
       "FacadeDict({})"
      ]
     },
     "execution_count": 10,
     "metadata": {},
     "output_type": "execute_result"
    }
   ],
   "source": [
    "meta.tables"
   ]
  },
  {
   "cell_type": "code",
   "execution_count": 11,
   "id": "b61fc2fc",
   "metadata": {},
   "outputs": [
    {
     "data": {
      "text/plain": [
       "Table('USER', MetaData(), Column('PK', Integer(), table=<USER>, primary_key=True, nullable=False), Column('NAME', Text(), table=<USER>, nullable=False), schema=None)"
      ]
     },
     "execution_count": 11,
     "metadata": {},
     "output_type": "execute_result"
    }
   ],
   "source": [
    "Table('USER', meta, \n",
    "      Column('PK', Integer, primary_key=True),\n",
    "      Column('NAME', Text, nullable=False),\n",
    "     )"
   ]
  },
  {
   "cell_type": "code",
   "execution_count": 12,
   "id": "339d9aac",
   "metadata": {},
   "outputs": [
    {
     "data": {
      "text/plain": [
       "1"
      ]
     },
     "execution_count": 12,
     "metadata": {},
     "output_type": "execute_result"
    }
   ],
   "source": [
    "len(meta.tables)"
   ]
  },
  {
   "cell_type": "code",
   "execution_count": 13,
   "id": "2fc4355e",
   "metadata": {},
   "outputs": [],
   "source": [
    "User = meta.tables['USER']"
   ]
  },
  {
   "cell_type": "code",
   "execution_count": 14,
   "id": "fcd4b00f",
   "metadata": {},
   "outputs": [
    {
     "name": "stdout",
     "output_type": "stream",
     "text": [
      "USER\n"
     ]
    }
   ],
   "source": [
    "print(User)"
   ]
  },
  {
   "cell_type": "code",
   "execution_count": 15,
   "id": "6ff11c63",
   "metadata": {},
   "outputs": [
    {
     "name": "stdout",
     "output_type": "stream",
     "text": [
      "INSERT INTO \"USER\" (\"PK\", \"NAME\") VALUES (:PK, :NAME)\n"
     ]
    }
   ],
   "source": [
    "print(User.insert())"
   ]
  },
  {
   "cell_type": "code",
   "execution_count": 16,
   "id": "cc9280fc",
   "metadata": {},
   "outputs": [
    {
     "name": "stdout",
     "output_type": "stream",
     "text": [
      "2023-09-06 10:13:58,120 INFO sqlalchemy.engine.Engine BEGIN (implicit)\n",
      "2023-09-06 10:13:58,121 INFO sqlalchemy.engine.Engine PRAGMA main.table_info(\"USER\")\n",
      "2023-09-06 10:13:58,122 INFO sqlalchemy.engine.Engine [raw sql] ()\n",
      "2023-09-06 10:13:58,123 INFO sqlalchemy.engine.Engine PRAGMA temp.table_info(\"USER\")\n",
      "2023-09-06 10:13:58,124 INFO sqlalchemy.engine.Engine [raw sql] ()\n",
      "2023-09-06 10:13:58,126 INFO sqlalchemy.engine.Engine \n",
      "CREATE TABLE \"USER\" (\n",
      "\t\"PK\" INTEGER NOT NULL, \n",
      "\t\"NAME\" TEXT NOT NULL, \n",
      "\tPRIMARY KEY (\"PK\")\n",
      ")\n",
      "\n",
      "\n",
      "2023-09-06 10:13:58,126 INFO sqlalchemy.engine.Engine [no key 0.00071s] ()\n",
      "2023-09-06 10:13:58,129 INFO sqlalchemy.engine.Engine COMMIT\n"
     ]
    }
   ],
   "source": [
    "meta.create_all(engine)"
   ]
  },
  {
   "cell_type": "code",
   "execution_count": 17,
   "id": "6410e355",
   "metadata": {},
   "outputs": [
    {
     "name": "stdout",
     "output_type": "stream",
     "text": [
      "2023-09-06 10:13:58,153 INFO sqlalchemy.engine.Engine BEGIN (implicit)\n",
      "2023-09-06 10:13:58,154 INFO sqlalchemy.engine.Engine PRAGMA main.table_info(\"USER\")\n",
      "2023-09-06 10:13:58,155 INFO sqlalchemy.engine.Engine [raw sql] ()\n",
      "2023-09-06 10:13:58,156 INFO sqlalchemy.engine.Engine \n",
      "DROP TABLE \"USER\"\n",
      "2023-09-06 10:13:58,157 INFO sqlalchemy.engine.Engine [no key 0.00094s] ()\n",
      "2023-09-06 10:13:58,158 INFO sqlalchemy.engine.Engine COMMIT\n"
     ]
    }
   ],
   "source": [
    "meta.drop_all(engine)"
   ]
  },
  {
   "cell_type": "code",
   "execution_count": 18,
   "id": "f6a2a063",
   "metadata": {},
   "outputs": [
    {
     "data": {
      "text/plain": [
       "FacadeDict({'USER': Table('USER', MetaData(), Column('PK', Integer(), table=<USER>, primary_key=True, nullable=False), Column('NAME', Text(), table=<USER>, nullable=False), schema=None)})"
      ]
     },
     "execution_count": 18,
     "metadata": {},
     "output_type": "execute_result"
    }
   ],
   "source": [
    "meta.tables"
   ]
  },
  {
   "cell_type": "code",
   "execution_count": 19,
   "id": "a900f889",
   "metadata": {},
   "outputs": [],
   "source": [
    "meta.remove(User)"
   ]
  },
  {
   "cell_type": "code",
   "execution_count": 20,
   "id": "6eb5f796",
   "metadata": {},
   "outputs": [
    {
     "data": {
      "text/plain": [
       "FacadeDict({})"
      ]
     },
     "execution_count": 20,
     "metadata": {},
     "output_type": "execute_result"
    }
   ],
   "source": [
    "meta.tables"
   ]
  },
  {
   "cell_type": "code",
   "execution_count": 21,
   "id": "41c2da97",
   "metadata": {},
   "outputs": [
    {
     "data": {
      "text/plain": [
       "Table('USER', MetaData(), Column('PK', Integer(), table=<USER>, primary_key=True, nullable=False), Column('NAME', Text(), table=<USER>, nullable=False), schema=None)"
      ]
     },
     "execution_count": 21,
     "metadata": {},
     "output_type": "execute_result"
    }
   ],
   "source": [
    "Table('USER', meta, \n",
    "      Column('PK', Integer, primary_key=True),\n",
    "      Column('NAME', Text, nullable=False),\n",
    "     )"
   ]
  },
  {
   "cell_type": "code",
   "execution_count": 22,
   "id": "ee975b30",
   "metadata": {},
   "outputs": [
    {
     "name": "stdout",
     "output_type": "stream",
     "text": [
      "2023-09-06 10:13:58,298 INFO sqlalchemy.engine.Engine BEGIN (implicit)\n",
      "2023-09-06 10:13:58,299 INFO sqlalchemy.engine.Engine PRAGMA main.table_info(\"USER\")\n",
      "2023-09-06 10:13:58,300 INFO sqlalchemy.engine.Engine [raw sql] ()\n",
      "2023-09-06 10:13:58,300 INFO sqlalchemy.engine.Engine PRAGMA temp.table_info(\"USER\")\n",
      "2023-09-06 10:13:58,301 INFO sqlalchemy.engine.Engine [raw sql] ()\n",
      "2023-09-06 10:13:58,302 INFO sqlalchemy.engine.Engine \n",
      "CREATE TABLE \"USER\" (\n",
      "\t\"PK\" INTEGER NOT NULL, \n",
      "\t\"NAME\" TEXT NOT NULL, \n",
      "\tPRIMARY KEY (\"PK\")\n",
      ")\n",
      "\n",
      "\n",
      "2023-09-06 10:13:58,303 INFO sqlalchemy.engine.Engine [no key 0.00089s] ()\n",
      "2023-09-06 10:13:58,305 INFO sqlalchemy.engine.Engine COMMIT\n"
     ]
    }
   ],
   "source": [
    "meta.create_all(engine)"
   ]
  },
  {
   "cell_type": "code",
   "execution_count": 23,
   "id": "57bc200a",
   "metadata": {},
   "outputs": [],
   "source": [
    "User = meta.tables['USER']"
   ]
  },
  {
   "cell_type": "code",
   "execution_count": 24,
   "id": "8e84d028",
   "metadata": {},
   "outputs": [],
   "source": [
    "meta.remove(User)"
   ]
  },
  {
   "cell_type": "code",
   "execution_count": 25,
   "id": "7990da0f",
   "metadata": {},
   "outputs": [
    {
     "name": "stdout",
     "output_type": "stream",
     "text": [
      "2023-09-06 10:13:58,390 INFO sqlalchemy.engine.Engine BEGIN (implicit)\n",
      "2023-09-06 10:13:58,391 INFO sqlalchemy.engine.Engine SELECT name FROM sqlite_master WHERE type='table' AND name NOT LIKE 'sqlite~_%' ESCAPE '~' ORDER BY name\n",
      "2023-09-06 10:13:58,392 INFO sqlalchemy.engine.Engine [raw sql] ()\n",
      "2023-09-06 10:13:58,394 INFO sqlalchemy.engine.Engine SELECT name FROM sqlite_temp_master WHERE type='table' AND name NOT LIKE 'sqlite~_%' ESCAPE '~' ORDER BY name\n",
      "2023-09-06 10:13:58,395 INFO sqlalchemy.engine.Engine [raw sql] ()\n",
      "2023-09-06 10:13:58,397 INFO sqlalchemy.engine.Engine PRAGMA main.table_xinfo(\"USER\")\n",
      "2023-09-06 10:13:58,397 INFO sqlalchemy.engine.Engine [raw sql] ()\n",
      "2023-09-06 10:13:58,398 INFO sqlalchemy.engine.Engine SELECT sql FROM  (SELECT * FROM sqlite_master UNION ALL   SELECT * FROM sqlite_temp_master) WHERE name = ? AND type in ('table', 'view')\n",
      "2023-09-06 10:13:58,399 INFO sqlalchemy.engine.Engine [raw sql] ('USER',)\n",
      "2023-09-06 10:13:58,400 INFO sqlalchemy.engine.Engine PRAGMA main.foreign_key_list(\"USER\")\n",
      "2023-09-06 10:13:58,400 INFO sqlalchemy.engine.Engine [raw sql] ()\n",
      "2023-09-06 10:13:58,401 INFO sqlalchemy.engine.Engine PRAGMA temp.foreign_key_list(\"USER\")\n",
      "2023-09-06 10:13:58,402 INFO sqlalchemy.engine.Engine [raw sql] ()\n",
      "2023-09-06 10:13:58,402 INFO sqlalchemy.engine.Engine SELECT sql FROM  (SELECT * FROM sqlite_master UNION ALL   SELECT * FROM sqlite_temp_master) WHERE name = ? AND type in ('table', 'view')\n",
      "2023-09-06 10:13:58,403 INFO sqlalchemy.engine.Engine [raw sql] ('USER',)\n",
      "2023-09-06 10:13:58,404 INFO sqlalchemy.engine.Engine PRAGMA main.index_list(\"USER\")\n",
      "2023-09-06 10:13:58,405 INFO sqlalchemy.engine.Engine [raw sql] ()\n",
      "2023-09-06 10:13:58,405 INFO sqlalchemy.engine.Engine PRAGMA temp.index_list(\"USER\")\n",
      "2023-09-06 10:13:58,406 INFO sqlalchemy.engine.Engine [raw sql] ()\n",
      "2023-09-06 10:13:58,407 INFO sqlalchemy.engine.Engine PRAGMA main.table_info(\"USER\")\n",
      "2023-09-06 10:13:58,407 INFO sqlalchemy.engine.Engine [raw sql] ()\n",
      "2023-09-06 10:13:58,408 INFO sqlalchemy.engine.Engine PRAGMA main.index_list(\"USER\")\n",
      "2023-09-06 10:13:58,408 INFO sqlalchemy.engine.Engine [raw sql] ()\n",
      "2023-09-06 10:13:58,409 INFO sqlalchemy.engine.Engine PRAGMA temp.index_list(\"USER\")\n",
      "2023-09-06 10:13:58,409 INFO sqlalchemy.engine.Engine [raw sql] ()\n",
      "2023-09-06 10:13:58,411 INFO sqlalchemy.engine.Engine PRAGMA main.table_info(\"USER\")\n",
      "2023-09-06 10:13:58,411 INFO sqlalchemy.engine.Engine [raw sql] ()\n",
      "2023-09-06 10:13:58,412 INFO sqlalchemy.engine.Engine SELECT sql FROM  (SELECT * FROM sqlite_master UNION ALL   SELECT * FROM sqlite_temp_master) WHERE name = ? AND type in ('table', 'view')\n",
      "2023-09-06 10:13:58,413 INFO sqlalchemy.engine.Engine [raw sql] ('USER',)\n",
      "2023-09-06 10:13:58,415 INFO sqlalchemy.engine.Engine ROLLBACK\n"
     ]
    }
   ],
   "source": [
    "meta.reflect(engine)\n",
    "#엔진에서 사라지고 객체에는 재반영"
   ]
  },
  {
   "cell_type": "code",
   "execution_count": 26,
   "id": "97257b1a",
   "metadata": {},
   "outputs": [
    {
     "data": {
      "text/plain": [
       "FacadeDict({'USER': Table('USER', MetaData(), Column('PK', INTEGER(), table=<USER>, primary_key=True, nullable=False), Column('NAME', TEXT(), table=<USER>, nullable=False), schema=None)})"
      ]
     },
     "execution_count": 26,
     "metadata": {},
     "output_type": "execute_result"
    }
   ],
   "source": [
    "meta.tables"
   ]
  },
  {
   "cell_type": "code",
   "execution_count": 27,
   "id": "3ccb8765",
   "metadata": {},
   "outputs": [],
   "source": [
    "User = meta.tables['USER']"
   ]
  },
  {
   "cell_type": "code",
   "execution_count": 28,
   "id": "435e6501",
   "metadata": {},
   "outputs": [
    {
     "name": "stdout",
     "output_type": "stream",
     "text": [
      "SELECT \"USER\".\"PK\", \"USER\".\"NAME\" \n",
      "FROM \"USER\"\n"
     ]
    }
   ],
   "source": [
    "print(User.select())"
   ]
  },
  {
   "cell_type": "code",
   "execution_count": 29,
   "id": "ffc1610e",
   "metadata": {},
   "outputs": [
    {
     "data": {
      "text/plain": [
       "['__annotations__',\n",
       " '__bool__',\n",
       " '__class__',\n",
       " '__class_getitem__',\n",
       " '__delattr__',\n",
       " '__dict__',\n",
       " '__dir__',\n",
       " '__doc__',\n",
       " '__eq__',\n",
       " '__format__',\n",
       " '__ge__',\n",
       " '__getattribute__',\n",
       " '__getstate__',\n",
       " '__gt__',\n",
       " '__hash__',\n",
       " '__init__',\n",
       " '__init_subclass__',\n",
       " '__invert__',\n",
       " '__le__',\n",
       " '__lt__',\n",
       " '__module__',\n",
       " '__ne__',\n",
       " '__new__',\n",
       " '__orig_bases__',\n",
       " '__parameters__',\n",
       " '__reduce__',\n",
       " '__reduce_ex__',\n",
       " '__repr__',\n",
       " '__setattr__',\n",
       " '__sizeof__',\n",
       " '__slots__',\n",
       " '__str__',\n",
       " '__subclasshook__',\n",
       " '__visit_name__',\n",
       " '__weakref__',\n",
       " '_add_context_option',\n",
       " '_all_selected_columns',\n",
       " '_annotate',\n",
       " '_annotations',\n",
       " '_annotations_cache_key',\n",
       " '_assert_no_memoizations',\n",
       " '_attributes',\n",
       " '_auto_correlate',\n",
       " '_cache_key_traversal',\n",
       " '_clone',\n",
       " '_clone_annotations_traverse_internals',\n",
       " '_cloned_set',\n",
       " '_compile_options',\n",
       " '_compile_state_factory',\n",
       " '_compile_state_plugin',\n",
       " '_compile_w_cache',\n",
       " '_compiler',\n",
       " '_compiler_dispatch',\n",
       " '_constructor',\n",
       " '_copy_internals',\n",
       " '_correlate',\n",
       " '_correlate_except',\n",
       " '_create_raw_select',\n",
       " '_de_clone',\n",
       " '_deannotate',\n",
       " '_distinct',\n",
       " '_distinct_on',\n",
       " '_effective_plugin_target',\n",
       " '_ensure_disambiguated_names',\n",
       " '_executable_traverse_internals',\n",
       " '_execute_on_connection',\n",
       " '_execute_on_scalar',\n",
       " '_execution_options',\n",
       " '_fetch_clause',\n",
       " '_fetch_clause_options',\n",
       " '_filter_by_zero',\n",
       " '_for_update_arg',\n",
       " '_from_obj',\n",
       " '_from_objects',\n",
       " '_gen_annotations_cache_key',\n",
       " '_gen_cache_key',\n",
       " '_gen_static_annotations_cache_key',\n",
       " '_generate',\n",
       " '_generate_cache_attrs',\n",
       " '_generate_cache_key',\n",
       " '_generate_cache_key_for_object',\n",
       " '_generate_columns_plus_names',\n",
       " '_generate_compiler_dispatch',\n",
       " '_generate_fromclause_column_proxies',\n",
       " '_get_embedded_bindparams',\n",
       " '_group_by_clause',\n",
       " '_group_by_clauses',\n",
       " '_has_ctes_traverse_internals',\n",
       " '_has_hints_traverse_internals',\n",
       " '_has_prefixes_traverse_internals',\n",
       " '_has_row_limiting_clause',\n",
       " '_has_suffixes_traverse_internals',\n",
       " '_having_criteria',\n",
       " '_hierarchy_supports_caching',\n",
       " '_hints',\n",
       " '_implicit_subquery',\n",
       " '_independent_ctes',\n",
       " '_independent_ctes_opts',\n",
       " '_is_bind_parameter',\n",
       " '_is_clause_list',\n",
       " '_is_clone_of',\n",
       " '_is_column_element',\n",
       " '_is_default_generator',\n",
       " '_is_from_clause',\n",
       " '_is_from_container',\n",
       " '_is_has_cache_key',\n",
       " '_is_immutable',\n",
       " '_is_keyed_column_element',\n",
       " '_is_lambda_element',\n",
       " '_is_lateral',\n",
       " '_is_protocol',\n",
       " '_is_returns_rows',\n",
       " '_is_select_base',\n",
       " '_is_select_container',\n",
       " '_is_select_statement',\n",
       " '_is_singleton_constant',\n",
       " '_is_star',\n",
       " '_is_table',\n",
       " '_is_text_clause',\n",
       " '_is_textual',\n",
       " '_iterate_from_elements',\n",
       " '_label_style',\n",
       " '_limit',\n",
       " '_limit_clause',\n",
       " '_memoized_keys',\n",
       " '_memoized_select_entities',\n",
       " '_needs_parens_for_grouping',\n",
       " '_negate',\n",
       " '_negate_in_binary',\n",
       " '_offset',\n",
       " '_offset_clause',\n",
       " '_offset_or_limit_clause',\n",
       " '_offset_or_limit_clause_asint',\n",
       " '_order_by_clause',\n",
       " '_order_by_clauses',\n",
       " '_order_by_label_element',\n",
       " '_original_compiler_dispatch',\n",
       " '_prefixes',\n",
       " '_propagate_attrs',\n",
       " '_raw_columns',\n",
       " '_refresh_for_new_column',\n",
       " '_replace_params',\n",
       " '_reset_memoizations',\n",
       " '_role_name',\n",
       " '_scalar_type',\n",
       " '_set_compile_options',\n",
       " '_set_entities',\n",
       " '_set_memoized_attribute',\n",
       " '_set_propagate_attrs',\n",
       " '_setup_joins',\n",
       " '_simple_int_clause',\n",
       " '_statement_hints',\n",
       " '_suffixes',\n",
       " '_traverse_internals',\n",
       " '_ungroup',\n",
       " '_update_compile_options',\n",
       " '_where_criteria',\n",
       " '_whereclause',\n",
       " '_with_annotations',\n",
       " '_with_binary_element_type',\n",
       " '_with_context_options',\n",
       " '_with_hint',\n",
       " '_with_options',\n",
       " 'add_columns',\n",
       " 'add_cte',\n",
       " 'alias',\n",
       " 'allows_lambda',\n",
       " 'as_scalar',\n",
       " 'c',\n",
       " 'column',\n",
       " 'column_descriptions',\n",
       " 'columns',\n",
       " 'columns_clause_froms',\n",
       " 'compare',\n",
       " 'compile',\n",
       " 'correlate',\n",
       " 'correlate_except',\n",
       " 'corresponding_column',\n",
       " 'cte',\n",
       " 'description',\n",
       " 'distinct',\n",
       " 'entity_namespace',\n",
       " 'except_',\n",
       " 'except_all',\n",
       " 'execution_options',\n",
       " 'exists',\n",
       " 'exported_columns',\n",
       " 'fetch',\n",
       " 'filter',\n",
       " 'filter_by',\n",
       " 'from_statement',\n",
       " 'froms',\n",
       " 'get_children',\n",
       " 'get_execution_options',\n",
       " 'get_final_froms',\n",
       " 'get_label_style',\n",
       " 'group_by',\n",
       " 'having',\n",
       " 'inherit_cache',\n",
       " 'inner_columns',\n",
       " 'intersect',\n",
       " 'intersect_all',\n",
       " 'is_clause_element',\n",
       " 'is_delete',\n",
       " 'is_derived_from',\n",
       " 'is_dml',\n",
       " 'is_insert',\n",
       " 'is_select',\n",
       " 'is_selectable',\n",
       " 'is_text',\n",
       " 'is_update',\n",
       " 'join',\n",
       " 'join_from',\n",
       " 'label',\n",
       " 'lateral',\n",
       " 'limit',\n",
       " 'memoized_attribute',\n",
       " 'memoized_instancemethod',\n",
       " 'offset',\n",
       " 'options',\n",
       " 'order_by',\n",
       " 'outerjoin',\n",
       " 'outerjoin_from',\n",
       " 'params',\n",
       " 'prefix_with',\n",
       " 'reduce_columns',\n",
       " 'replace_selectable',\n",
       " 'scalar_subquery',\n",
       " 'select',\n",
       " 'select_from',\n",
       " 'selectable',\n",
       " 'selected_columns',\n",
       " 'self_group',\n",
       " 'set_label_style',\n",
       " 'slice',\n",
       " 'stringify_dialect',\n",
       " 'subquery',\n",
       " 'suffix_with',\n",
       " 'supports_execution',\n",
       " 'union',\n",
       " 'union_all',\n",
       " 'unique_params',\n",
       " 'uses_inspection',\n",
       " 'where',\n",
       " 'whereclause',\n",
       " 'with_for_update',\n",
       " 'with_hint',\n",
       " 'with_only_columns',\n",
       " 'with_statement_hint']"
      ]
     },
     "execution_count": 29,
     "metadata": {},
     "output_type": "execute_result"
    }
   ],
   "source": [
    "dir(User.select())"
   ]
  },
  {
   "cell_type": "code",
   "execution_count": 30,
   "id": "cc7351ee",
   "metadata": {},
   "outputs": [
    {
     "name": "stdout",
     "output_type": "stream",
     "text": [
      "INSERT INTO \"USER\" (\"PK\", \"NAME\") VALUES (:PK, :NAME)\n"
     ]
    }
   ],
   "source": [
    "print(User.insert())"
   ]
  },
  {
   "cell_type": "code",
   "execution_count": 31,
   "id": "3228ce28",
   "metadata": {},
   "outputs": [
    {
     "name": "stdout",
     "output_type": "stream",
     "text": [
      "{'PK': 1, 'NAME': 'Philip'}\n"
     ]
    }
   ],
   "source": [
    "print(User.insert().values(PK=1, NAME=\"Philip\").compile().params)"
   ]
  },
  {
   "cell_type": "code",
   "execution_count": 32,
   "id": "7f975647",
   "metadata": {
    "scrolled": true
   },
   "outputs": [
    {
     "name": "stdout",
     "output_type": "stream",
     "text": [
      "2023-09-06 10:13:58,599 INFO sqlalchemy.engine.Engine BEGIN (implicit)\n",
      "2023-09-06 10:13:58,601 INFO sqlalchemy.engine.Engine INSERT INTO \"USER\" (\"PK\", \"NAME\") VALUES (?, ?)\n",
      "2023-09-06 10:13:58,601 INFO sqlalchemy.engine.Engine [generated in 0.00155s] (1, 'Philip')\n"
     ]
    },
    {
     "data": {
      "text/plain": [
       "<sqlalchemy.engine.cursor.CursorResult at 0x1b6d264e190>"
      ]
     },
     "execution_count": 32,
     "metadata": {},
     "output_type": "execute_result"
    }
   ],
   "source": [
    "con.execute(User.insert().values(PK=1, NAME=\"Philip\"))"
   ]
  },
  {
   "cell_type": "code",
   "execution_count": 33,
   "id": "f807363b",
   "metadata": {},
   "outputs": [
    {
     "name": "stdout",
     "output_type": "stream",
     "text": [
      "2023-09-06 10:13:58,631 INFO sqlalchemy.engine.Engine SELECT \"USER\".\"PK\", \"USER\".\"NAME\" \n",
      "FROM \"USER\"\n",
      "2023-09-06 10:13:58,632 INFO sqlalchemy.engine.Engine [generated in 0.00085s] ()\n"
     ]
    },
    {
     "data": {
      "text/plain": [
       "[(1, 'Philip')]"
      ]
     },
     "execution_count": 33,
     "metadata": {},
     "output_type": "execute_result"
    }
   ],
   "source": [
    "con.execute(User.select()).fetchall()"
   ]
  },
  {
   "cell_type": "code",
   "execution_count": 34,
   "id": "5b9b3c59",
   "metadata": {},
   "outputs": [
    {
     "data": {
      "text/plain": [
       "Table('ADDRESS', MetaData(), Column('PK', Integer(), table=<ADDRESS>, primary_key=True, nullable=False), Column('Name', Text(), table=<ADDRESS>), Column('FK', Integer(), ForeignKey('USER.PK'), table=<ADDRESS>), schema=None)"
      ]
     },
     "execution_count": 34,
     "metadata": {},
     "output_type": "execute_result"
    }
   ],
   "source": [
    "Table('ADDRESS', meta, \n",
    "        Column('PK', Integer, primary_key=True),\n",
    "        Column('Name', Text),\n",
    "        Column('FK', Integer, ForeignKey('USER.PK'))\n",
    "     )"
   ]
  },
  {
   "cell_type": "code",
   "execution_count": 35,
   "id": "bc5639d5",
   "metadata": {},
   "outputs": [
    {
     "name": "stdout",
     "output_type": "stream",
     "text": [
      "2023-09-06 10:13:58,690 INFO sqlalchemy.engine.Engine BEGIN (implicit)\n",
      "2023-09-06 10:13:58,691 INFO sqlalchemy.engine.Engine PRAGMA main.table_info(\"USER\")\n",
      "2023-09-06 10:13:58,691 INFO sqlalchemy.engine.Engine [raw sql] ()\n",
      "2023-09-06 10:13:58,692 INFO sqlalchemy.engine.Engine PRAGMA main.table_info(\"ADDRESS\")\n",
      "2023-09-06 10:13:58,693 INFO sqlalchemy.engine.Engine [raw sql] ()\n",
      "2023-09-06 10:13:58,694 INFO sqlalchemy.engine.Engine PRAGMA temp.table_info(\"ADDRESS\")\n",
      "2023-09-06 10:13:58,695 INFO sqlalchemy.engine.Engine [raw sql] ()\n",
      "2023-09-06 10:13:58,697 INFO sqlalchemy.engine.Engine \n",
      "CREATE TABLE \"ADDRESS\" (\n",
      "\t\"PK\" INTEGER NOT NULL, \n",
      "\t\"Name\" TEXT, \n",
      "\t\"FK\" INTEGER, \n",
      "\tPRIMARY KEY (\"PK\"), \n",
      "\tFOREIGN KEY(\"FK\") REFERENCES \"USER\" (\"PK\")\n",
      ")\n",
      "\n",
      "\n",
      "2023-09-06 10:13:58,698 INFO sqlalchemy.engine.Engine [no key 0.00053s] ()\n",
      "2023-09-06 10:13:58,698 INFO sqlalchemy.engine.Engine COMMIT\n"
     ]
    }
   ],
   "source": [
    "meta.create_all(engine)"
   ]
  },
  {
   "cell_type": "code",
   "execution_count": 36,
   "id": "8ab059fa",
   "metadata": {},
   "outputs": [
    {
     "data": {
      "text/plain": [
       "Table('TEMP', MetaData(), Column('PK', Integer(), table=<TEMP>, primary_key=True, nullable=False), Column('Name', Text(), table=<TEMP>), Column('FK', Integer(), table=<TEMP>, nullable=False), schema=None)"
      ]
     },
     "execution_count": 36,
     "metadata": {},
     "output_type": "execute_result"
    }
   ],
   "source": [
    "Table('TEMP', meta, \n",
    "        Column('PK', Integer, primary_key=True),\n",
    "        Column('Name', Text),\n",
    "        Column('FK', Integer, nullable=False)\n",
    "     )"
   ]
  },
  {
   "cell_type": "code",
   "execution_count": 37,
   "id": "94c2dfc8",
   "metadata": {},
   "outputs": [
    {
     "name": "stdout",
     "output_type": "stream",
     "text": [
      "2023-09-06 10:13:58,751 INFO sqlalchemy.engine.Engine BEGIN (implicit)\n",
      "2023-09-06 10:13:58,752 INFO sqlalchemy.engine.Engine PRAGMA main.table_info(\"USER\")\n",
      "2023-09-06 10:13:58,752 INFO sqlalchemy.engine.Engine [raw sql] ()\n",
      "2023-09-06 10:13:58,753 INFO sqlalchemy.engine.Engine PRAGMA main.table_info(\"ADDRESS\")\n",
      "2023-09-06 10:13:58,754 INFO sqlalchemy.engine.Engine [raw sql] ()\n",
      "2023-09-06 10:13:58,755 INFO sqlalchemy.engine.Engine PRAGMA main.table_info(\"TEMP\")\n",
      "2023-09-06 10:13:58,756 INFO sqlalchemy.engine.Engine [raw sql] ()\n",
      "2023-09-06 10:13:58,756 INFO sqlalchemy.engine.Engine PRAGMA temp.table_info(\"TEMP\")\n",
      "2023-09-06 10:13:58,757 INFO sqlalchemy.engine.Engine [raw sql] ()\n",
      "2023-09-06 10:13:58,758 INFO sqlalchemy.engine.Engine \n",
      "CREATE TABLE \"TEMP\" (\n",
      "\t\"PK\" INTEGER NOT NULL, \n",
      "\t\"Name\" TEXT, \n",
      "\t\"FK\" INTEGER NOT NULL, \n",
      "\tPRIMARY KEY (\"PK\")\n",
      ")\n",
      "\n",
      "\n",
      "2023-09-06 10:13:58,758 INFO sqlalchemy.engine.Engine [no key 0.00050s] ()\n",
      "2023-09-06 10:13:58,760 INFO sqlalchemy.engine.Engine COMMIT\n"
     ]
    }
   ],
   "source": [
    "meta.create_all(engine)"
   ]
  },
  {
   "cell_type": "code",
   "execution_count": 38,
   "id": "55639a07",
   "metadata": {},
   "outputs": [],
   "source": [
    "Address = meta.tables['ADDRESS']"
   ]
  },
  {
   "cell_type": "code",
   "execution_count": 39,
   "id": "3d0eed51",
   "metadata": {},
   "outputs": [
    {
     "data": {
      "text/plain": [
       "<sqlalchemy.sql.dml.Insert object at 0x000001B6D2604E90>"
      ]
     },
     "execution_count": 39,
     "metadata": {},
     "output_type": "execute_result"
    }
   ],
   "source": [
    "Address.insert().values(PK=1, NAME='PhilipSung', FK=1)"
   ]
  },
  {
   "cell_type": "code",
   "execution_count": 40,
   "id": "9a4c8c6c",
   "metadata": {},
   "outputs": [],
   "source": [
    "Temp = meta.tables['TEMP']"
   ]
  },
  {
   "cell_type": "code",
   "execution_count": 41,
   "id": "e931649c",
   "metadata": {},
   "outputs": [
    {
     "data": {
      "text/plain": [
       "<sqlalchemy.sql.dml.Insert object at 0x000001B6D2605E10>"
      ]
     },
     "execution_count": 41,
     "metadata": {},
     "output_type": "execute_result"
    }
   ],
   "source": [
    "Temp.insert().values(PK=1, NAME='PhilipSung', FK=9776)"
   ]
  },
  {
   "cell_type": "code",
   "execution_count": 42,
   "id": "ec6937de",
   "metadata": {},
   "outputs": [
    {
     "name": "stdout",
     "output_type": "stream",
     "text": [
      "2023-09-06 10:13:58,903 INFO sqlalchemy.engine.Engine SELECT \"USER\".\"PK\", \"USER\".\"NAME\", \"ADDRESS\".\"PK\" AS \"PK_1\", \"ADDRESS\".\"Name\", \"ADDRESS\".\"FK\", \"TEMP\".\"PK\" AS \"PK_2\", \"TEMP\".\"Name\" AS \"Name_1\", \"TEMP\".\"FK\" AS \"FK_1\" \n",
      "FROM \"USER\", \"ADDRESS\", \"TEMP\"\n",
      "2023-09-06 10:13:58,904 INFO sqlalchemy.engine.Engine [generated in 0.00073s] ()\n"
     ]
    },
    {
     "name": "stderr",
     "output_type": "stream",
     "text": [
      "C:\\Users\\Egn\\AppData\\Local\\Temp\\ipykernel_8692\\1685076901.py:1: SAWarning: SELECT statement has a cartesian product between FROM element(s) \"USER\", \"TEMP\" and FROM element \"ADDRESS\".  Apply join condition(s) between each element to resolve.\n",
      "  con.execute(select(meta.tables['USER'],\n"
     ]
    },
    {
     "data": {
      "text/plain": [
       "[]"
      ]
     },
     "execution_count": 42,
     "metadata": {},
     "output_type": "execute_result"
    }
   ],
   "source": [
    "con.execute(select(meta.tables['USER'], \n",
    "                   meta.tables['ADDRESS'],\n",
    "                   meta.tables['TEMP'],\n",
    "                  )).fetchall()"
   ]
  },
  {
   "cell_type": "code",
   "execution_count": 43,
   "id": "e7f43f16",
   "metadata": {},
   "outputs": [
    {
     "name": "stdout",
     "output_type": "stream",
     "text": [
      "2023-09-06 10:13:58,933 INFO sqlalchemy.engine.Engine SELECT \"USER\".\"PK\", \"USER\".\"NAME\", \"TEMP\".\"PK\" AS \"PK_1\" \n",
      "FROM \"USER\", \"TEMP\"\n",
      "2023-09-06 10:13:58,934 INFO sqlalchemy.engine.Engine [generated in 0.00140s] ()\n"
     ]
    },
    {
     "name": "stderr",
     "output_type": "stream",
     "text": [
      "C:\\Users\\Egn\\AppData\\Local\\Temp\\ipykernel_8692\\4137791389.py:1: SAWarning: SELECT statement has a cartesian product between FROM element(s) \"TEMP\" and FROM element \"USER\".  Apply join condition(s) between each element to resolve.\n",
      "  con.execute(select(meta.tables['USER'].columns['PK'],\n"
     ]
    },
    {
     "data": {
      "text/plain": [
       "[]"
      ]
     },
     "execution_count": 43,
     "metadata": {},
     "output_type": "execute_result"
    }
   ],
   "source": [
    "con.execute(select(meta.tables['USER'].columns['PK'],\n",
    "                   meta.tables['USER'].c.NAME,\n",
    "                   meta.tables['TEMP'].c.PK,\n",
    "                  \n",
    "                  )).fetchall()"
   ]
  },
  {
   "cell_type": "code",
   "execution_count": 44,
   "id": "82fdfbf6",
   "metadata": {},
   "outputs": [
    {
     "name": "stdout",
     "output_type": "stream",
     "text": [
      "SELECT \"USER\".\"PK\", \"USER\".\"NAME\" \n",
      "FROM \"USER\" \n",
      "WHERE \"USER\".\"PK\" = :PK_1\n"
     ]
    }
   ],
   "source": [
    "print(User.select().where(User.c.PK == 1))"
   ]
  },
  {
   "cell_type": "code",
   "execution_count": 45,
   "id": "1db83a99",
   "metadata": {},
   "outputs": [
    {
     "name": "stdout",
     "output_type": "stream",
     "text": [
      "\"USER\".\"PK\" = \"TEMP\".\"PK\"\n"
     ]
    }
   ],
   "source": [
    "print(User.c.PK == Temp.c.PK)"
   ]
  },
  {
   "cell_type": "code",
   "execution_count": 47,
   "id": "c5ea1dce",
   "metadata": {},
   "outputs": [
    {
     "name": "stdout",
     "output_type": "stream",
     "text": [
      "\"USER\" JOIN \"ADDRESS\" ON \"USER\".\"PK\" = \"ADDRESS\".\"FK\"\n"
     ]
    }
   ],
   "source": [
    "print(User.join(Address))"
   ]
  },
  {
   "cell_type": "code",
   "execution_count": 48,
   "id": "627364fa",
   "metadata": {},
   "outputs": [],
   "source": [
    "from sqlalchemy.sql import or_, and_, between"
   ]
  },
  {
   "cell_type": "code",
   "execution_count": 49,
   "id": "d5ddc7ac",
   "metadata": {},
   "outputs": [
    {
     "name": "stdout",
     "output_type": "stream",
     "text": [
      "\"USER\".\"PK\" = :PK_1 OR \"USER\".\"PK\" = :PK_2\n"
     ]
    }
   ],
   "source": [
    "print(or_(User.c.PK == 1, User.c.PK == 2))"
   ]
  },
  {
   "cell_type": "code",
   "execution_count": 50,
   "id": "ce8c3f73",
   "metadata": {},
   "outputs": [
    {
     "name": "stdout",
     "output_type": "stream",
     "text": [
      "\"USER\".\"NAME\" LIKE :NAME_1\n"
     ]
    }
   ],
   "source": [
    "print(User.c.NAME.like('%Philip%'))"
   ]
  },
  {
   "cell_type": "code",
   "execution_count": 54,
   "id": "faeec998",
   "metadata": {},
   "outputs": [
    {
     "name": "stdout",
     "output_type": "stream",
     "text": [
      "SELECT \"USER\".\"PK\", \"USER\".\"NAME\" \n",
      "FROM \"USER\" \n",
      "WHERE \"USER\".\"NAME\" LIKE :NAME_1 ORDER BY \"USER\".\"PK\"\n"
     ]
    }
   ],
   "source": [
    "print(User.select().where(User.c.NAME.like('%Philip%')).order_by(User.c.PK))"
   ]
  },
  {
   "cell_type": "code",
   "execution_count": 55,
   "id": "edb027f0",
   "metadata": {},
   "outputs": [
    {
     "name": "stdout",
     "output_type": "stream",
     "text": [
      "\"USER\".\"NAME\" = :NAME_1 AND \"USER\".\"PK\" = :PK_1\n"
     ]
    }
   ],
   "source": [
    "print((User.c.NAME==\"PhilipSung\") & (User.c.PK==1)) "
   ]
  },
  {
   "cell_type": "code",
   "execution_count": 56,
   "id": "a0887322",
   "metadata": {},
   "outputs": [
    {
     "name": "stdout",
     "output_type": "stream",
     "text": [
      "\"USER\" JOIN \"ADDRESS\" ON \"USER\".\"PK\" = \"ADDRESS\".\"FK\"\n"
     ]
    }
   ],
   "source": [
    "print(User.join(Address))"
   ]
  },
  {
   "cell_type": "code",
   "execution_count": 57,
   "id": "19de5119",
   "metadata": {},
   "outputs": [
    {
     "name": "stdout",
     "output_type": "stream",
     "text": [
      "SELECT \n",
      "FROM \"USER\" JOIN \"ADDRESS\" ON \"USER\".\"PK\" = \"ADDRESS\".\"FK\"\n"
     ]
    }
   ],
   "source": [
    "print(select().select_from(User.join(Address)))\n",
    "#조인한것을 다시 테이블의 형태로 사용하여야 할 때 쓴다."
   ]
  },
  {
   "cell_type": "code",
   "execution_count": 58,
   "id": "8499471c",
   "metadata": {},
   "outputs": [
    {
     "name": "stdout",
     "output_type": "stream",
     "text": [
      "SELECT \"USER\".\"PK\", \"USER\".\"NAME\" \n",
      "FROM \"USER\" JOIN \"ADDRESS\" ON \"USER\".\"PK\" = \"ADDRESS\".\"FK\"\n"
     ]
    }
   ],
   "source": [
    "print(select(User).join(Address))"
   ]
  },
  {
   "cell_type": "markdown",
   "id": "8e2e6687",
   "metadata": {},
   "source": [
    "## 예제 01"
   ]
  },
  {
   "cell_type": "markdown",
   "id": "3f8e26e3",
   "metadata": {},
   "source": [
    "### 테스트를 위해 초기화"
   ]
  },
  {
   "cell_type": "code",
   "execution_count": 55,
   "id": "e30ed98a",
   "metadata": {},
   "outputs": [],
   "source": [
    "engine.dispose()"
   ]
  },
  {
   "cell_type": "code",
   "execution_count": 56,
   "id": "d25f0b53",
   "metadata": {},
   "outputs": [],
   "source": [
    "meta.clear()"
   ]
  },
  {
   "cell_type": "code",
   "execution_count": 57,
   "id": "c92c93f9",
   "metadata": {},
   "outputs": [],
   "source": [
    "engine = create_engine('sqlite:///:memory:', echo=True)"
   ]
  },
  {
   "cell_type": "code",
   "execution_count": 58,
   "id": "142d395b",
   "metadata": {},
   "outputs": [],
   "source": [
    "con = engine.connect()"
   ]
  },
  {
   "cell_type": "code",
   "execution_count": 59,
   "id": "a25c159d",
   "metadata": {},
   "outputs": [],
   "source": [
    "meta = MetaData()"
   ]
  },
  {
   "cell_type": "code",
   "execution_count": 60,
   "id": "8d9dd955",
   "metadata": {},
   "outputs": [],
   "source": [
    "import random"
   ]
  },
  {
   "cell_type": "markdown",
   "id": "c27f7005",
   "metadata": {},
   "source": [
    "노래추천을 위한 시스템을 만든다라고 치고, Track, Album, Artist, Genre라는 테이블로 구성한다. Track은 AlbumID를 ForeignKey로, Album은 Artist를 ForeignKey로 갖는다."
   ]
  },
  {
   "cell_type": "code",
   "execution_count": 61,
   "id": "43e5b72d",
   "metadata": {},
   "outputs": [
    {
     "data": {
      "text/plain": [
       "Table('T_Artist', MetaData(), Column('PK', Integer(), table=<T_Artist>, primary_key=True, nullable=False), Column('NAME', Text(), table=<T_Artist>, nullable=False), schema=None)"
      ]
     },
     "execution_count": 61,
     "metadata": {},
     "output_type": "execute_result"
    }
   ],
   "source": [
    "Table('T_Artist', meta, \n",
    "      Column('PK', Integer, primary_key=True),\n",
    "      Column('NAME', Text, nullable=False),\n",
    ")"
   ]
  },
  {
   "cell_type": "code",
   "execution_count": 62,
   "id": "8bcb2a5e",
   "metadata": {},
   "outputs": [
    {
     "data": {
      "text/plain": [
       "Table('T_Album', MetaData(), Column('PK', Integer(), table=<T_Album>, primary_key=True, nullable=False), Column('NAME', Text(), table=<T_Album>, nullable=False), Column('FK', Integer(), ForeignKey('T_Artist.PK'), table=<T_Album>), schema=None)"
      ]
     },
     "execution_count": 62,
     "metadata": {},
     "output_type": "execute_result"
    }
   ],
   "source": [
    "\n",
    "Table('T_Album', meta, \n",
    "      Column('PK', Integer, primary_key=True),\n",
    "      Column('NAME', Text, nullable=False),\n",
    "      Column('FK', None, ForeignKey('T_Artist.PK')),\n",
    ")"
   ]
  },
  {
   "cell_type": "code",
   "execution_count": 63,
   "id": "64953ef7",
   "metadata": {},
   "outputs": [
    {
     "data": {
      "text/plain": [
       "Table('T_Genre', MetaData(), Column('PK', Integer(), table=<T_Genre>, primary_key=True, nullable=False), Column('NAME', Text(), table=<T_Genre>, nullable=False), schema=None)"
      ]
     },
     "execution_count": 63,
     "metadata": {},
     "output_type": "execute_result"
    }
   ],
   "source": [
    "\n",
    "Table('T_Genre', meta, \n",
    "      Column('PK', Integer, primary_key=True),\n",
    "      Column('NAME', Text, nullable=False),\n",
    ")"
   ]
  },
  {
   "cell_type": "code",
   "execution_count": 64,
   "id": "fd162b7e",
   "metadata": {},
   "outputs": [
    {
     "data": {
      "text/plain": [
       "Table('T_Track', MetaData(), Column('PK', Integer(), table=<T_Track>, primary_key=True, nullable=False), Column('NAME', Text(), table=<T_Track>, nullable=False), Column('FK_Album', Integer(), ForeignKey('T_Album.PK'), table=<T_Track>, nullable=False), Column('FK_Genre', Integer(), ForeignKey('T_Genre.PK'), table=<T_Track>, nullable=False), schema=None)"
      ]
     },
     "execution_count": 64,
     "metadata": {},
     "output_type": "execute_result"
    }
   ],
   "source": [
    "\n",
    "Table('T_Track', meta, \n",
    "      Column('PK', Integer, primary_key=True),\n",
    "      Column('NAME', Text, nullable=False),\n",
    "      Column('FK_Album', Integer, ForeignKey('T_Album.PK'), nullable=False),\n",
    "      Column('FK_Genre', Integer, ForeignKey('T_Genre.PK'), nullable=False)\n",
    ")"
   ]
  },
  {
   "cell_type": "code",
   "execution_count": 65,
   "id": "f5e42c01",
   "metadata": {},
   "outputs": [
    {
     "data": {
      "text/plain": [
       "4"
      ]
     },
     "execution_count": 65,
     "metadata": {},
     "output_type": "execute_result"
    }
   ],
   "source": [
    "len(meta.tables)"
   ]
  },
  {
   "cell_type": "code",
   "execution_count": 66,
   "id": "d5dcf59d",
   "metadata": {},
   "outputs": [
    {
     "name": "stdout",
     "output_type": "stream",
     "text": [
      "2023-09-06 11:54:51,633 INFO sqlalchemy.engine.Engine BEGIN (implicit)\n",
      "2023-09-06 11:54:51,634 INFO sqlalchemy.engine.Engine PRAGMA main.table_info(\"T_Artist\")\n",
      "2023-09-06 11:54:51,636 INFO sqlalchemy.engine.Engine [raw sql] ()\n",
      "2023-09-06 11:54:51,638 INFO sqlalchemy.engine.Engine PRAGMA temp.table_info(\"T_Artist\")\n",
      "2023-09-06 11:54:51,639 INFO sqlalchemy.engine.Engine [raw sql] ()\n",
      "2023-09-06 11:54:51,640 INFO sqlalchemy.engine.Engine PRAGMA main.table_info(\"T_Album\")\n",
      "2023-09-06 11:54:51,641 INFO sqlalchemy.engine.Engine [raw sql] ()\n",
      "2023-09-06 11:54:51,642 INFO sqlalchemy.engine.Engine PRAGMA temp.table_info(\"T_Album\")\n",
      "2023-09-06 11:54:51,643 INFO sqlalchemy.engine.Engine [raw sql] ()\n",
      "2023-09-06 11:54:51,643 INFO sqlalchemy.engine.Engine PRAGMA main.table_info(\"T_Genre\")\n",
      "2023-09-06 11:54:51,644 INFO sqlalchemy.engine.Engine [raw sql] ()\n",
      "2023-09-06 11:54:51,645 INFO sqlalchemy.engine.Engine PRAGMA temp.table_info(\"T_Genre\")\n",
      "2023-09-06 11:54:51,646 INFO sqlalchemy.engine.Engine [raw sql] ()\n",
      "2023-09-06 11:54:51,647 INFO sqlalchemy.engine.Engine PRAGMA main.table_info(\"T_Track\")\n",
      "2023-09-06 11:54:51,647 INFO sqlalchemy.engine.Engine [raw sql] ()\n",
      "2023-09-06 11:54:51,649 INFO sqlalchemy.engine.Engine PRAGMA temp.table_info(\"T_Track\")\n",
      "2023-09-06 11:54:51,649 INFO sqlalchemy.engine.Engine [raw sql] ()\n",
      "2023-09-06 11:54:51,651 INFO sqlalchemy.engine.Engine \n",
      "CREATE TABLE \"T_Artist\" (\n",
      "\t\"PK\" INTEGER NOT NULL, \n",
      "\t\"NAME\" TEXT NOT NULL, \n",
      "\tPRIMARY KEY (\"PK\")\n",
      ")\n",
      "\n",
      "\n",
      "2023-09-06 11:54:51,653 INFO sqlalchemy.engine.Engine [no key 0.00203s] ()\n",
      "2023-09-06 11:54:51,654 INFO sqlalchemy.engine.Engine \n",
      "CREATE TABLE \"T_Genre\" (\n",
      "\t\"PK\" INTEGER NOT NULL, \n",
      "\t\"NAME\" TEXT NOT NULL, \n",
      "\tPRIMARY KEY (\"PK\")\n",
      ")\n",
      "\n",
      "\n",
      "2023-09-06 11:54:51,655 INFO sqlalchemy.engine.Engine [no key 0.00061s] ()\n",
      "2023-09-06 11:54:51,656 INFO sqlalchemy.engine.Engine \n",
      "CREATE TABLE \"T_Album\" (\n",
      "\t\"PK\" INTEGER NOT NULL, \n",
      "\t\"NAME\" TEXT NOT NULL, \n",
      "\t\"FK\" INTEGER, \n",
      "\tPRIMARY KEY (\"PK\"), \n",
      "\tFOREIGN KEY(\"FK\") REFERENCES \"T_Artist\" (\"PK\")\n",
      ")\n",
      "\n",
      "\n",
      "2023-09-06 11:54:51,657 INFO sqlalchemy.engine.Engine [no key 0.00057s] ()\n",
      "2023-09-06 11:54:51,658 INFO sqlalchemy.engine.Engine \n",
      "CREATE TABLE \"T_Track\" (\n",
      "\t\"PK\" INTEGER NOT NULL, \n",
      "\t\"NAME\" TEXT NOT NULL, \n",
      "\t\"FK_Album\" INTEGER NOT NULL, \n",
      "\t\"FK_Genre\" INTEGER NOT NULL, \n",
      "\tPRIMARY KEY (\"PK\"), \n",
      "\tFOREIGN KEY(\"FK_Album\") REFERENCES \"T_Album\" (\"PK\"), \n",
      "\tFOREIGN KEY(\"FK_Genre\") REFERENCES \"T_Genre\" (\"PK\")\n",
      ")\n",
      "\n",
      "\n",
      "2023-09-06 11:54:51,658 INFO sqlalchemy.engine.Engine [no key 0.00047s] ()\n",
      "2023-09-06 11:54:51,659 INFO sqlalchemy.engine.Engine COMMIT\n"
     ]
    }
   ],
   "source": [
    "meta.create_all(engine)"
   ]
  },
  {
   "cell_type": "code",
   "execution_count": 67,
   "id": "427248b1",
   "metadata": {},
   "outputs": [
    {
     "name": "stdout",
     "output_type": "stream",
     "text": [
      "2023-09-06 11:54:52,258 INFO sqlalchemy.engine.Engine BEGIN (implicit)\n",
      "2023-09-06 11:54:52,260 INFO sqlalchemy.engine.Engine INSERT INTO \"T_Artist\" (\"NAME\") VALUES (?)\n",
      "2023-09-06 11:54:52,261 INFO sqlalchemy.engine.Engine [generated in 0.00206s] ('Singer1',)\n",
      "2023-09-06 11:54:52,262 INFO sqlalchemy.engine.Engine INSERT INTO \"T_Artist\" (\"NAME\") VALUES (?)\n",
      "2023-09-06 11:54:52,264 INFO sqlalchemy.engine.Engine [cached since 0.005119s ago] ('Singer2',)\n",
      "2023-09-06 11:54:52,265 INFO sqlalchemy.engine.Engine INSERT INTO \"T_Artist\" (\"NAME\") VALUES (?)\n",
      "2023-09-06 11:54:52,266 INFO sqlalchemy.engine.Engine [cached since 0.00754s ago] ('Singer3',)\n",
      "2023-09-06 11:54:52,268 INFO sqlalchemy.engine.Engine INSERT INTO \"T_Artist\" (\"NAME\") VALUES (?)\n",
      "2023-09-06 11:54:52,268 INFO sqlalchemy.engine.Engine [cached since 0.00964s ago] ('Singer4',)\n"
     ]
    }
   ],
   "source": [
    "for name in ['Singer1','Singer2','Singer3','Singer4']:\n",
    "    con.execute(meta.tables['T_Artist'].insert().values(NAME=name))"
   ]
  },
  {
   "cell_type": "code",
   "execution_count": 68,
   "id": "63365538",
   "metadata": {},
   "outputs": [],
   "source": [
    "A = meta.tables['T_Artist']\n",
    "B = meta.tables['T_Album']\n",
    "C = meta.tables['T_Genre']\n",
    "D = meta.tables['T_Track']"
   ]
  },
  {
   "cell_type": "code",
   "execution_count": 69,
   "id": "952f9d59",
   "metadata": {},
   "outputs": [
    {
     "name": "stdout",
     "output_type": "stream",
     "text": [
      "SELECT \"T_Artist\".\"PK\" \n",
      "FROM \"T_Artist\" \n",
      "WHERE \"T_Artist\".\"NAME\" LIKE :NAME_1\n"
     ]
    }
   ],
   "source": [
    "print(select(A.c.PK).where(A.c.NAME.like('%1')))"
   ]
  },
  {
   "cell_type": "code",
   "execution_count": 70,
   "id": "4df386d3",
   "metadata": {},
   "outputs": [
    {
     "name": "stdout",
     "output_type": "stream",
     "text": [
      "2023-09-06 11:54:53,951 INFO sqlalchemy.engine.Engine SELECT \"T_Artist\".\"PK\" \n",
      "FROM \"T_Artist\" \n",
      "WHERE \"T_Artist\".\"NAME\" LIKE ?\n",
      "2023-09-06 11:54:53,952 INFO sqlalchemy.engine.Engine [generated in 0.00138s] ('%1',)\n",
      "2023-09-06 11:54:53,955 INFO sqlalchemy.engine.Engine INSERT INTO \"T_Album\" (\"NAME\", \"FK\") VALUES (?, ?)\n",
      "2023-09-06 11:54:53,956 INFO sqlalchemy.engine.Engine [generated in 0.00131s] ('가수1_앨범1', 1)\n",
      "2023-09-06 11:54:53,958 INFO sqlalchemy.engine.Engine SELECT \"T_Artist\".\"PK\" \n",
      "FROM \"T_Artist\" \n",
      "WHERE \"T_Artist\".\"NAME\" LIKE ?\n",
      "2023-09-06 11:54:53,958 INFO sqlalchemy.engine.Engine [cached since 0.00731s ago] ('%1',)\n",
      "2023-09-06 11:54:53,960 INFO sqlalchemy.engine.Engine INSERT INTO \"T_Album\" (\"NAME\", \"FK\") VALUES (?, ?)\n",
      "2023-09-06 11:54:53,960 INFO sqlalchemy.engine.Engine [cached since 0.00575s ago] ('가수1_앨범2', 1)\n",
      "2023-09-06 11:54:53,961 INFO sqlalchemy.engine.Engine SELECT \"T_Artist\".\"PK\" \n",
      "FROM \"T_Artist\" \n",
      "WHERE \"T_Artist\".\"NAME\" LIKE ?\n",
      "2023-09-06 11:54:53,962 INFO sqlalchemy.engine.Engine [cached since 0.01073s ago] ('%2',)\n",
      "2023-09-06 11:54:53,963 INFO sqlalchemy.engine.Engine INSERT INTO \"T_Album\" (\"NAME\", \"FK\") VALUES (?, ?)\n",
      "2023-09-06 11:54:53,963 INFO sqlalchemy.engine.Engine [cached since 0.00896s ago] ('가수2_앨범1', 2)\n",
      "2023-09-06 11:54:53,964 INFO sqlalchemy.engine.Engine SELECT \"T_Artist\".\"PK\" \n",
      "FROM \"T_Artist\" \n",
      "WHERE \"T_Artist\".\"NAME\" LIKE ?\n",
      "2023-09-06 11:54:53,965 INFO sqlalchemy.engine.Engine [cached since 0.01376s ago] ('%2',)\n",
      "2023-09-06 11:54:53,965 INFO sqlalchemy.engine.Engine INSERT INTO \"T_Album\" (\"NAME\", \"FK\") VALUES (?, ?)\n",
      "2023-09-06 11:54:53,966 INFO sqlalchemy.engine.Engine [cached since 0.01139s ago] ('가수2_앨범2', 2)\n",
      "2023-09-06 11:54:53,966 INFO sqlalchemy.engine.Engine SELECT \"T_Artist\".\"PK\" \n",
      "FROM \"T_Artist\" \n",
      "WHERE \"T_Artist\".\"NAME\" LIKE ?\n",
      "2023-09-06 11:54:53,967 INFO sqlalchemy.engine.Engine [cached since 0.01589s ago] ('%3',)\n",
      "2023-09-06 11:54:53,968 INFO sqlalchemy.engine.Engine INSERT INTO \"T_Album\" (\"NAME\", \"FK\") VALUES (?, ?)\n",
      "2023-09-06 11:54:53,969 INFO sqlalchemy.engine.Engine [cached since 0.01382s ago] ('가수3_앨범1', 3)\n",
      "2023-09-06 11:54:53,969 INFO sqlalchemy.engine.Engine SELECT \"T_Artist\".\"PK\" \n",
      "FROM \"T_Artist\" \n",
      "WHERE \"T_Artist\".\"NAME\" LIKE ?\n",
      "2023-09-06 11:54:53,970 INFO sqlalchemy.engine.Engine [cached since 0.01864s ago] ('%3',)\n",
      "2023-09-06 11:54:53,970 INFO sqlalchemy.engine.Engine INSERT INTO \"T_Album\" (\"NAME\", \"FK\") VALUES (?, ?)\n",
      "2023-09-06 11:54:53,971 INFO sqlalchemy.engine.Engine [cached since 0.01602s ago] ('가수3_앨범2', 3)\n",
      "2023-09-06 11:54:53,971 INFO sqlalchemy.engine.Engine SELECT \"T_Artist\".\"PK\" \n",
      "FROM \"T_Artist\" \n",
      "WHERE \"T_Artist\".\"NAME\" LIKE ?\n",
      "2023-09-06 11:54:53,972 INFO sqlalchemy.engine.Engine [cached since 0.02052s ago] ('%4',)\n",
      "2023-09-06 11:54:53,972 INFO sqlalchemy.engine.Engine INSERT INTO \"T_Album\" (\"NAME\", \"FK\") VALUES (?, ?)\n",
      "2023-09-06 11:54:53,973 INFO sqlalchemy.engine.Engine [cached since 0.01839s ago] ('가수4_앨범1', 4)\n",
      "2023-09-06 11:54:53,974 INFO sqlalchemy.engine.Engine SELECT \"T_Artist\".\"PK\" \n",
      "FROM \"T_Artist\" \n",
      "WHERE \"T_Artist\".\"NAME\" LIKE ?\n",
      "2023-09-06 11:54:53,974 INFO sqlalchemy.engine.Engine [cached since 0.02324s ago] ('%4',)\n",
      "2023-09-06 11:54:53,975 INFO sqlalchemy.engine.Engine INSERT INTO \"T_Album\" (\"NAME\", \"FK\") VALUES (?, ?)\n",
      "2023-09-06 11:54:53,976 INFO sqlalchemy.engine.Engine [cached since 0.02123s ago] ('가수4_앨범2', 4)\n"
     ]
    }
   ],
   "source": [
    "for key in ['1', '2', '3', '4']:\n",
    "    for name in ['앨범1', '앨범2']:\n",
    "        albumname = f'가수{key}_{name}'\n",
    "        fk = con.execute(select(A.c.PK).where(A.c.NAME.like('%' + key))).fetchone()[0]\n",
    "        con.execute(B.insert().values(NAME=albumname, FK=fk))"
   ]
  },
  {
   "cell_type": "code",
   "execution_count": 71,
   "id": "39e50594",
   "metadata": {},
   "outputs": [
    {
     "name": "stdout",
     "output_type": "stream",
     "text": [
      "2023-09-06 11:54:54,448 INFO sqlalchemy.engine.Engine SELECT \"T_Artist\".\"NAME\", \"T_Album\".\"NAME\" AS \"NAME_1\" \n",
      "FROM \"T_Artist\" JOIN \"T_Album\" ON \"T_Artist\".\"PK\" = \"T_Album\".\"FK\"\n",
      "2023-09-06 11:54:54,449 INFO sqlalchemy.engine.Engine [generated in 0.00127s] ()\n"
     ]
    },
    {
     "data": {
      "text/plain": [
       "[('Singer1', '가수1_앨범1'),\n",
       " ('Singer1', '가수1_앨범2'),\n",
       " ('Singer2', '가수2_앨범1'),\n",
       " ('Singer2', '가수2_앨범2'),\n",
       " ('Singer3', '가수3_앨범1'),\n",
       " ('Singer3', '가수3_앨범2'),\n",
       " ('Singer4', '가수4_앨범1'),\n",
       " ('Singer4', '가수4_앨범2')]"
      ]
     },
     "execution_count": 71,
     "metadata": {},
     "output_type": "execute_result"
    }
   ],
   "source": [
    "con.execute(select(A.c.NAME, B.c.NAME).join(B)).fetchall()"
   ]
  },
  {
   "cell_type": "code",
   "execution_count": 72,
   "id": "966e49ce",
   "metadata": {},
   "outputs": [
    {
     "name": "stdout",
     "output_type": "stream",
     "text": [
      "2023-09-06 11:54:54,860 INFO sqlalchemy.engine.Engine INSERT INTO \"T_Genre\" (\"NAME\") VALUES (?)\n",
      "2023-09-06 11:54:54,861 INFO sqlalchemy.engine.Engine [generated in 0.00103s] ('Genre1',)\n",
      "2023-09-06 11:54:54,863 INFO sqlalchemy.engine.Engine INSERT INTO \"T_Genre\" (\"NAME\") VALUES (?)\n",
      "2023-09-06 11:54:54,864 INFO sqlalchemy.engine.Engine [cached since 0.003933s ago] ('Genre2',)\n",
      "2023-09-06 11:54:54,866 INFO sqlalchemy.engine.Engine INSERT INTO \"T_Genre\" (\"NAME\") VALUES (?)\n",
      "2023-09-06 11:54:54,866 INFO sqlalchemy.engine.Engine [cached since 0.006093s ago] ('Genre3',)\n",
      "2023-09-06 11:54:54,868 INFO sqlalchemy.engine.Engine INSERT INTO \"T_Genre\" (\"NAME\") VALUES (?)\n",
      "2023-09-06 11:54:54,869 INFO sqlalchemy.engine.Engine [cached since 0.00842s ago] ('Genre4',)\n"
     ]
    }
   ],
   "source": [
    "for name in ['Genre1','Genre2','Genre3','Genre4']:\n",
    "    con.execute(meta.tables['T_Genre'].insert().values(NAME=name))"
   ]
  },
  {
   "cell_type": "code",
   "execution_count": 73,
   "id": "ac23caaa",
   "metadata": {},
   "outputs": [
    {
     "name": "stdout",
     "output_type": "stream",
     "text": [
      "2023-09-06 11:54:55,225 INFO sqlalchemy.engine.Engine SELECT \"T_Artist\".\"PK\", \"T_Artist\".\"NAME\" \n",
      "FROM \"T_Artist\"\n",
      "2023-09-06 11:54:55,226 INFO sqlalchemy.engine.Engine [generated in 0.00100s] ()\n"
     ]
    },
    {
     "data": {
      "text/plain": [
       "[(1, 'Singer1'), (2, 'Singer2'), (3, 'Singer3'), (4, 'Singer4')]"
      ]
     },
     "execution_count": 73,
     "metadata": {},
     "output_type": "execute_result"
    }
   ],
   "source": [
    "con.execute(select(A)).fetchall()"
   ]
  },
  {
   "cell_type": "code",
   "execution_count": 74,
   "id": "4e6e8d7e",
   "metadata": {},
   "outputs": [
    {
     "name": "stdout",
     "output_type": "stream",
     "text": [
      "2023-09-06 11:54:55,621 INFO sqlalchemy.engine.Engine SELECT \"T_Album\".\"PK\", \"T_Album\".\"NAME\", \"T_Album\".\"FK\" \n",
      "FROM \"T_Album\"\n",
      "2023-09-06 11:54:55,623 INFO sqlalchemy.engine.Engine [generated in 0.00137s] ()\n"
     ]
    },
    {
     "data": {
      "text/plain": [
       "[(1, '가수1_앨범1', 1),\n",
       " (2, '가수1_앨범2', 1),\n",
       " (3, '가수2_앨범1', 2),\n",
       " (4, '가수2_앨범2', 2),\n",
       " (5, '가수3_앨범1', 3),\n",
       " (6, '가수3_앨범2', 3),\n",
       " (7, '가수4_앨범1', 4),\n",
       " (8, '가수4_앨범2', 4)]"
      ]
     },
     "execution_count": 74,
     "metadata": {},
     "output_type": "execute_result"
    }
   ],
   "source": [
    "con.execute(select(B)).fetchall()"
   ]
  },
  {
   "cell_type": "code",
   "execution_count": 75,
   "id": "d550d0d4",
   "metadata": {},
   "outputs": [
    {
     "name": "stdout",
     "output_type": "stream",
     "text": [
      "2023-09-06 11:54:55,960 INFO sqlalchemy.engine.Engine SELECT \"T_Genre\".\"PK\", \"T_Genre\".\"NAME\" \n",
      "FROM \"T_Genre\"\n",
      "2023-09-06 11:54:55,961 INFO sqlalchemy.engine.Engine [generated in 0.00131s] ()\n"
     ]
    },
    {
     "data": {
      "text/plain": [
       "[(1, 'Genre1'), (2, 'Genre2'), (3, 'Genre3'), (4, 'Genre4')]"
      ]
     },
     "execution_count": 75,
     "metadata": {},
     "output_type": "execute_result"
    }
   ],
   "source": [
    "con.execute(select(C)).fetchall()"
   ]
  },
  {
   "cell_type": "code",
   "execution_count": 76,
   "id": "1583315a",
   "metadata": {},
   "outputs": [
    {
     "name": "stdout",
     "output_type": "stream",
     "text": [
      "2023-09-06 11:54:56,435 INFO sqlalchemy.engine.Engine SELECT \"T_Album\".\"PK\" \n",
      "FROM \"T_Album\"\n",
      "2023-09-06 11:54:56,437 INFO sqlalchemy.engine.Engine [generated in 0.00132s] ()\n"
     ]
    },
    {
     "data": {
      "text/plain": [
       "1"
      ]
     },
     "execution_count": 76,
     "metadata": {},
     "output_type": "execute_result"
    }
   ],
   "source": [
    "con.execute(select(B.c.PK)).fetchone()[0]"
   ]
  },
  {
   "cell_type": "code",
   "execution_count": 77,
   "id": "f9fa496d",
   "metadata": {},
   "outputs": [
    {
     "name": "stdout",
     "output_type": "stream",
     "text": [
      "2023-09-06 11:54:56,761 INFO sqlalchemy.engine.Engine SELECT \"T_Album\".\"PK\" \n",
      "FROM \"T_Album\"\n",
      "2023-09-06 11:54:56,762 INFO sqlalchemy.engine.Engine [cached since 0.3268s ago] ()\n",
      "2023-09-06 11:54:56,764 INFO sqlalchemy.engine.Engine INSERT INTO \"T_Track\" (\"NAME\", \"FK_Album\", \"FK_Genre\") VALUES (?, ?, ?)\n",
      "2023-09-06 11:54:56,765 INFO sqlalchemy.engine.Engine [generated in 0.00093s] ('앨범1_노래1_장르4', 1, 4)\n",
      "2023-09-06 11:54:56,767 INFO sqlalchemy.engine.Engine INSERT INTO \"T_Track\" (\"NAME\", \"FK_Album\", \"FK_Genre\") VALUES (?, ?, ?)\n",
      "2023-09-06 11:54:56,767 INFO sqlalchemy.engine.Engine [cached since 0.00376s ago] ('앨범1_노래2_장르2', 1, 2)\n",
      "2023-09-06 11:54:56,769 INFO sqlalchemy.engine.Engine INSERT INTO \"T_Track\" (\"NAME\", \"FK_Album\", \"FK_Genre\") VALUES (?, ?, ?)\n",
      "2023-09-06 11:54:56,770 INFO sqlalchemy.engine.Engine [cached since 0.006116s ago] ('앨범1_노래3_장르3', 1, 3)\n",
      "2023-09-06 11:54:56,771 INFO sqlalchemy.engine.Engine INSERT INTO \"T_Track\" (\"NAME\", \"FK_Album\", \"FK_Genre\") VALUES (?, ?, ?)\n",
      "2023-09-06 11:54:56,772 INFO sqlalchemy.engine.Engine [cached since 0.008153s ago] ('앨범1_노래4_장르1', 1, 1)\n",
      "2023-09-06 11:54:56,773 INFO sqlalchemy.engine.Engine INSERT INTO \"T_Track\" (\"NAME\", \"FK_Album\", \"FK_Genre\") VALUES (?, ?, ?)\n",
      "2023-09-06 11:54:56,774 INFO sqlalchemy.engine.Engine [cached since 0.01056s ago] ('앨범2_노래1_장르3', 2, 3)\n",
      "2023-09-06 11:54:56,776 INFO sqlalchemy.engine.Engine INSERT INTO \"T_Track\" (\"NAME\", \"FK_Album\", \"FK_Genre\") VALUES (?, ?, ?)\n",
      "2023-09-06 11:54:56,777 INFO sqlalchemy.engine.Engine [cached since 0.01298s ago] ('앨범2_노래2_장르2', 2, 2)\n",
      "2023-09-06 11:54:56,778 INFO sqlalchemy.engine.Engine INSERT INTO \"T_Track\" (\"NAME\", \"FK_Album\", \"FK_Genre\") VALUES (?, ?, ?)\n",
      "2023-09-06 11:54:56,778 INFO sqlalchemy.engine.Engine [cached since 0.01453s ago] ('앨범2_노래3_장르1', 2, 1)\n",
      "2023-09-06 11:54:56,779 INFO sqlalchemy.engine.Engine INSERT INTO \"T_Track\" (\"NAME\", \"FK_Album\", \"FK_Genre\") VALUES (?, ?, ?)\n",
      "2023-09-06 11:54:56,780 INFO sqlalchemy.engine.Engine [cached since 0.01637s ago] ('앨범2_노래4_장르2', 2, 2)\n",
      "2023-09-06 11:54:56,781 INFO sqlalchemy.engine.Engine INSERT INTO \"T_Track\" (\"NAME\", \"FK_Album\", \"FK_Genre\") VALUES (?, ?, ?)\n",
      "2023-09-06 11:54:56,782 INFO sqlalchemy.engine.Engine [cached since 0.01791s ago] ('앨범3_노래1_장르3', 3, 3)\n",
      "2023-09-06 11:54:56,782 INFO sqlalchemy.engine.Engine INSERT INTO \"T_Track\" (\"NAME\", \"FK_Album\", \"FK_Genre\") VALUES (?, ?, ?)\n",
      "2023-09-06 11:54:56,783 INFO sqlalchemy.engine.Engine [cached since 0.0193s ago] ('앨범3_노래2_장르3', 3, 3)\n",
      "2023-09-06 11:54:56,784 INFO sqlalchemy.engine.Engine INSERT INTO \"T_Track\" (\"NAME\", \"FK_Album\", \"FK_Genre\") VALUES (?, ?, ?)\n",
      "2023-09-06 11:54:56,784 INFO sqlalchemy.engine.Engine [cached since 0.0204s ago] ('앨범3_노래3_장르2', 3, 2)\n",
      "2023-09-06 11:54:56,785 INFO sqlalchemy.engine.Engine INSERT INTO \"T_Track\" (\"NAME\", \"FK_Album\", \"FK_Genre\") VALUES (?, ?, ?)\n",
      "2023-09-06 11:54:56,786 INFO sqlalchemy.engine.Engine [cached since 0.02206s ago] ('앨범3_노래4_장르4', 3, 4)\n",
      "2023-09-06 11:54:56,787 INFO sqlalchemy.engine.Engine INSERT INTO \"T_Track\" (\"NAME\", \"FK_Album\", \"FK_Genre\") VALUES (?, ?, ?)\n",
      "2023-09-06 11:54:56,788 INFO sqlalchemy.engine.Engine [cached since 0.02372s ago] ('앨범4_노래1_장르2', 4, 2)\n",
      "2023-09-06 11:54:56,789 INFO sqlalchemy.engine.Engine INSERT INTO \"T_Track\" (\"NAME\", \"FK_Album\", \"FK_Genre\") VALUES (?, ?, ?)\n",
      "2023-09-06 11:54:56,789 INFO sqlalchemy.engine.Engine [cached since 0.02543s ago] ('앨범4_노래2_장르3', 4, 3)\n",
      "2023-09-06 11:54:56,790 INFO sqlalchemy.engine.Engine INSERT INTO \"T_Track\" (\"NAME\", \"FK_Album\", \"FK_Genre\") VALUES (?, ?, ?)\n",
      "2023-09-06 11:54:56,791 INFO sqlalchemy.engine.Engine [cached since 0.02703s ago] ('앨범4_노래3_장르1', 4, 1)\n",
      "2023-09-06 11:54:56,792 INFO sqlalchemy.engine.Engine INSERT INTO \"T_Track\" (\"NAME\", \"FK_Album\", \"FK_Genre\") VALUES (?, ?, ?)\n",
      "2023-09-06 11:54:56,792 INFO sqlalchemy.engine.Engine [cached since 0.02835s ago] ('앨범4_노래4_장르1', 4, 1)\n",
      "2023-09-06 11:54:56,793 INFO sqlalchemy.engine.Engine INSERT INTO \"T_Track\" (\"NAME\", \"FK_Album\", \"FK_Genre\") VALUES (?, ?, ?)\n",
      "2023-09-06 11:54:56,793 INFO sqlalchemy.engine.Engine [cached since 0.02956s ago] ('앨범5_노래1_장르2', 5, 2)\n",
      "2023-09-06 11:54:56,794 INFO sqlalchemy.engine.Engine INSERT INTO \"T_Track\" (\"NAME\", \"FK_Album\", \"FK_Genre\") VALUES (?, ?, ?)\n",
      "2023-09-06 11:54:56,795 INFO sqlalchemy.engine.Engine [cached since 0.03098s ago] ('앨범5_노래2_장르4', 5, 4)\n",
      "2023-09-06 11:54:56,796 INFO sqlalchemy.engine.Engine INSERT INTO \"T_Track\" (\"NAME\", \"FK_Album\", \"FK_Genre\") VALUES (?, ?, ?)\n",
      "2023-09-06 11:54:56,797 INFO sqlalchemy.engine.Engine [cached since 0.03337s ago] ('앨범5_노래3_장르2', 5, 2)\n",
      "2023-09-06 11:54:56,799 INFO sqlalchemy.engine.Engine INSERT INTO \"T_Track\" (\"NAME\", \"FK_Album\", \"FK_Genre\") VALUES (?, ?, ?)\n",
      "2023-09-06 11:54:56,801 INFO sqlalchemy.engine.Engine [cached since 0.0367s ago] ('앨범5_노래4_장르2', 5, 2)\n",
      "2023-09-06 11:54:56,802 INFO sqlalchemy.engine.Engine INSERT INTO \"T_Track\" (\"NAME\", \"FK_Album\", \"FK_Genre\") VALUES (?, ?, ?)\n",
      "2023-09-06 11:54:56,803 INFO sqlalchemy.engine.Engine [cached since 0.03935s ago] ('앨범6_노래1_장르1', 6, 1)\n",
      "2023-09-06 11:54:56,804 INFO sqlalchemy.engine.Engine INSERT INTO \"T_Track\" (\"NAME\", \"FK_Album\", \"FK_Genre\") VALUES (?, ?, ?)\n",
      "2023-09-06 11:54:56,805 INFO sqlalchemy.engine.Engine [cached since 0.04116s ago] ('앨범6_노래2_장르2', 6, 2)\n",
      "2023-09-06 11:54:56,806 INFO sqlalchemy.engine.Engine INSERT INTO \"T_Track\" (\"NAME\", \"FK_Album\", \"FK_Genre\") VALUES (?, ?, ?)\n",
      "2023-09-06 11:54:56,807 INFO sqlalchemy.engine.Engine [cached since 0.04341s ago] ('앨범6_노래3_장르2', 6, 2)\n",
      "2023-09-06 11:54:56,808 INFO sqlalchemy.engine.Engine INSERT INTO \"T_Track\" (\"NAME\", \"FK_Album\", \"FK_Genre\") VALUES (?, ?, ?)\n",
      "2023-09-06 11:54:56,808 INFO sqlalchemy.engine.Engine [cached since 0.04477s ago] ('앨범6_노래4_장르3', 6, 3)\n",
      "2023-09-06 11:54:56,809 INFO sqlalchemy.engine.Engine INSERT INTO \"T_Track\" (\"NAME\", \"FK_Album\", \"FK_Genre\") VALUES (?, ?, ?)\n",
      "2023-09-06 11:54:56,810 INFO sqlalchemy.engine.Engine [cached since 0.04632s ago] ('앨범7_노래1_장르4', 7, 4)\n",
      "2023-09-06 11:54:56,811 INFO sqlalchemy.engine.Engine INSERT INTO \"T_Track\" (\"NAME\", \"FK_Album\", \"FK_Genre\") VALUES (?, ?, ?)\n",
      "2023-09-06 11:54:56,811 INFO sqlalchemy.engine.Engine [cached since 0.04755s ago] ('앨범7_노래2_장르3', 7, 3)\n",
      "2023-09-06 11:54:56,814 INFO sqlalchemy.engine.Engine INSERT INTO \"T_Track\" (\"NAME\", \"FK_Album\", \"FK_Genre\") VALUES (?, ?, ?)\n",
      "2023-09-06 11:54:56,815 INFO sqlalchemy.engine.Engine [cached since 0.05048s ago] ('앨범7_노래3_장르2', 7, 2)\n",
      "2023-09-06 11:54:56,816 INFO sqlalchemy.engine.Engine INSERT INTO \"T_Track\" (\"NAME\", \"FK_Album\", \"FK_Genre\") VALUES (?, ?, ?)\n",
      "2023-09-06 11:54:56,817 INFO sqlalchemy.engine.Engine [cached since 0.05296s ago] ('앨범7_노래4_장르1', 7, 1)\n",
      "2023-09-06 11:54:56,818 INFO sqlalchemy.engine.Engine INSERT INTO \"T_Track\" (\"NAME\", \"FK_Album\", \"FK_Genre\") VALUES (?, ?, ?)\n",
      "2023-09-06 11:54:56,819 INFO sqlalchemy.engine.Engine [cached since 0.05496s ago] ('앨범8_노래1_장르1', 8, 1)\n",
      "2023-09-06 11:54:56,820 INFO sqlalchemy.engine.Engine INSERT INTO \"T_Track\" (\"NAME\", \"FK_Album\", \"FK_Genre\") VALUES (?, ?, ?)\n",
      "2023-09-06 11:54:56,820 INFO sqlalchemy.engine.Engine [cached since 0.05635s ago] ('앨범8_노래2_장르1', 8, 1)\n",
      "2023-09-06 11:54:56,821 INFO sqlalchemy.engine.Engine INSERT INTO \"T_Track\" (\"NAME\", \"FK_Album\", \"FK_Genre\") VALUES (?, ?, ?)\n",
      "2023-09-06 11:54:56,822 INFO sqlalchemy.engine.Engine [cached since 0.05751s ago] ('앨범8_노래3_장르1', 8, 1)\n",
      "2023-09-06 11:54:56,822 INFO sqlalchemy.engine.Engine INSERT INTO \"T_Track\" (\"NAME\", \"FK_Album\", \"FK_Genre\") VALUES (?, ?, ?)\n",
      "2023-09-06 11:54:56,823 INFO sqlalchemy.engine.Engine [cached since 0.05875s ago] ('앨범8_노래4_장르2', 8, 2)\n"
     ]
    }
   ],
   "source": [
    "for row in con.execute(select(B.c.PK)).fetchall():\n",
    "    for name in ['노래1', '노래2', '노래3', '노래4']:\n",
    "        genre = random.randrange(1,5)\n",
    "        musicname = f'앨범{row[0]}_{name}_장르{genre}'\n",
    "        con.execute(D.insert().values(NAME=musicname, FK_Album=row[0], FK_Genre=genre))"
   ]
  },
  {
   "cell_type": "code",
   "execution_count": 78,
   "id": "11be9181",
   "metadata": {},
   "outputs": [
    {
     "name": "stdout",
     "output_type": "stream",
     "text": [
      "2023-09-06 11:54:57,320 INFO sqlalchemy.engine.Engine SELECT \"T_Track\".\"PK\", \"T_Track\".\"NAME\", \"T_Track\".\"FK_Album\", \"T_Track\".\"FK_Genre\" \n",
      "FROM \"T_Track\"\n",
      "2023-09-06 11:54:57,320 INFO sqlalchemy.engine.Engine [generated in 0.00110s] ()\n"
     ]
    },
    {
     "data": {
      "text/plain": [
       "[(1, '앨범1_노래1_장르4', 1, 4),\n",
       " (2, '앨범1_노래2_장르2', 1, 2),\n",
       " (3, '앨범1_노래3_장르3', 1, 3),\n",
       " (4, '앨범1_노래4_장르1', 1, 1),\n",
       " (5, '앨범2_노래1_장르3', 2, 3),\n",
       " (6, '앨범2_노래2_장르2', 2, 2),\n",
       " (7, '앨범2_노래3_장르1', 2, 1),\n",
       " (8, '앨범2_노래4_장르2', 2, 2),\n",
       " (9, '앨범3_노래1_장르3', 3, 3),\n",
       " (10, '앨범3_노래2_장르3', 3, 3),\n",
       " (11, '앨범3_노래3_장르2', 3, 2),\n",
       " (12, '앨범3_노래4_장르4', 3, 4),\n",
       " (13, '앨범4_노래1_장르2', 4, 2),\n",
       " (14, '앨범4_노래2_장르3', 4, 3),\n",
       " (15, '앨범4_노래3_장르1', 4, 1),\n",
       " (16, '앨범4_노래4_장르1', 4, 1),\n",
       " (17, '앨범5_노래1_장르2', 5, 2),\n",
       " (18, '앨범5_노래2_장르4', 5, 4),\n",
       " (19, '앨범5_노래3_장르2', 5, 2),\n",
       " (20, '앨범5_노래4_장르2', 5, 2),\n",
       " (21, '앨범6_노래1_장르1', 6, 1),\n",
       " (22, '앨범6_노래2_장르2', 6, 2),\n",
       " (23, '앨범6_노래3_장르2', 6, 2),\n",
       " (24, '앨범6_노래4_장르3', 6, 3),\n",
       " (25, '앨범7_노래1_장르4', 7, 4),\n",
       " (26, '앨범7_노래2_장르3', 7, 3),\n",
       " (27, '앨범7_노래3_장르2', 7, 2),\n",
       " (28, '앨범7_노래4_장르1', 7, 1),\n",
       " (29, '앨범8_노래1_장르1', 8, 1),\n",
       " (30, '앨범8_노래2_장르1', 8, 1),\n",
       " (31, '앨범8_노래3_장르1', 8, 1),\n",
       " (32, '앨범8_노래4_장르2', 8, 2)]"
      ]
     },
     "execution_count": 78,
     "metadata": {},
     "output_type": "execute_result"
    }
   ],
   "source": [
    "con.execute(select(D)).fetchall()"
   ]
  },
  {
   "cell_type": "code",
   "execution_count": 79,
   "id": "627f62fd",
   "metadata": {},
   "outputs": [
    {
     "name": "stdout",
     "output_type": "stream",
     "text": [
      "2023-09-06 11:54:57,838 INFO sqlalchemy.engine.Engine SELECT count(\"T_Artist\".\"PK\") AS count_1 \n",
      "FROM \"T_Artist\"\n",
      "2023-09-06 11:54:57,840 INFO sqlalchemy.engine.Engine [generated in 0.00190s] ()\n",
      "2023-09-06 11:54:57,842 INFO sqlalchemy.engine.Engine SELECT count(\"T_Album\".\"PK\") AS count_1 \n",
      "FROM \"T_Album\"\n",
      "2023-09-06 11:54:57,843 INFO sqlalchemy.engine.Engine [generated in 0.00097s] ()\n",
      "2023-09-06 11:54:57,845 INFO sqlalchemy.engine.Engine SELECT count(\"T_Genre\".\"PK\") AS count_1 \n",
      "FROM \"T_Genre\"\n",
      "2023-09-06 11:54:57,845 INFO sqlalchemy.engine.Engine [generated in 0.00100s] ()\n",
      "2023-09-06 11:54:57,848 INFO sqlalchemy.engine.Engine SELECT count(\"T_Track\".\"PK\") AS count_1 \n",
      "FROM \"T_Track\"\n",
      "2023-09-06 11:54:57,848 INFO sqlalchemy.engine.Engine [generated in 0.00080s] ()\n"
     ]
    },
    {
     "data": {
      "text/plain": [
       "([(4,)], [(8,)], [(4,)], [(32,)])"
      ]
     },
     "execution_count": 79,
     "metadata": {},
     "output_type": "execute_result"
    }
   ],
   "source": [
    "con.execute(select(func.count(A.c.PK))).fetchall(),\\\n",
    "con.execute(select(func.count(B.c.PK))).fetchall(),\\\n",
    "con.execute(select(func.count(C.c.PK))).fetchall(),\\\n",
    "con.execute(select(func.count(D.c.PK))).fetchall()"
   ]
  },
  {
   "cell_type": "code",
   "execution_count": 80,
   "id": "576869de",
   "metadata": {},
   "outputs": [
    {
     "name": "stdout",
     "output_type": "stream",
     "text": [
      "SELECT \"T_Artist\".\"NAME\", \"T_Album\".\"NAME\" AS \"NAME_1\" \n",
      "FROM \"T_Artist\", \"T_Album\" \n",
      "WHERE \"T_Artist\".\"PK\" = \"T_Album\".\"FK\"\n"
     ]
    }
   ],
   "source": [
    "print(select(A.c.NAME, B.c.NAME).where(A.c.PK==B.c.FK))"
   ]
  },
  {
   "cell_type": "code",
   "execution_count": 81,
   "id": "705ebbb8",
   "metadata": {},
   "outputs": [
    {
     "name": "stdout",
     "output_type": "stream",
     "text": [
      "SELECT \"T_Artist\".\"NAME\", \"T_Album\".\"NAME\" AS \"NAME_1\" \n",
      "FROM \"T_Artist\" JOIN \"T_Album\" ON \"T_Artist\".\"PK\" = \"T_Album\".\"FK\"\n",
      "SELECT \"T_Artist\".\"NAME\", \"T_Album\".\"NAME\" AS \"NAME_1\" \n",
      "FROM \"T_Artist\" JOIN \"T_Album\" ON \"T_Artist\".\"PK\" = \"T_Album\".\"FK\"\n"
     ]
    }
   ],
   "source": [
    "print(select(A.c.NAME, B.c.NAME).join(B))\n",
    "print(select(A.c.NAME, B.c.NAME).join(B, A.c.PK==B.c.FK))"
   ]
  },
  {
   "cell_type": "code",
   "execution_count": 82,
   "id": "5d2524b0",
   "metadata": {},
   "outputs": [
    {
     "name": "stdout",
     "output_type": "stream",
     "text": [
      "SELECT \"T_Artist\".\"NAME\", \"T_Album\".\"NAME\" AS \"NAME_1\" \n",
      "FROM \"T_Artist\" JOIN \"T_Album\" ON \"T_Artist\".\"PK\" = \"T_Album\".\"FK\"\n"
     ]
    }
   ],
   "source": [
    "print(select(A.c.NAME, B.c.NAME).select_from(A.join(B)))"
   ]
  },
  {
   "cell_type": "code",
   "execution_count": 83,
   "id": "d5dbcb1c",
   "metadata": {},
   "outputs": [
    {
     "name": "stdout",
     "output_type": "stream",
     "text": [
      "2023-09-06 11:55:00,552 INFO sqlalchemy.engine.Engine SELECT \"T_Artist\".\"NAME\", \"T_Album\".\"NAME\" AS \"NAME_1\" \n",
      "FROM \"T_Artist\", \"T_Album\" \n",
      "WHERE \"T_Artist\".\"PK\" = \"T_Album\".\"FK\"\n",
      "2023-09-06 11:55:00,553 INFO sqlalchemy.engine.Engine [generated in 0.00101s] ()\n"
     ]
    },
    {
     "data": {
      "text/plain": [
       "[('Singer1', '가수1_앨범1'),\n",
       " ('Singer1', '가수1_앨범2'),\n",
       " ('Singer2', '가수2_앨범1'),\n",
       " ('Singer2', '가수2_앨범2'),\n",
       " ('Singer3', '가수3_앨범1'),\n",
       " ('Singer3', '가수3_앨범2'),\n",
       " ('Singer4', '가수4_앨범1'),\n",
       " ('Singer4', '가수4_앨범2')]"
      ]
     },
     "execution_count": 83,
     "metadata": {},
     "output_type": "execute_result"
    }
   ],
   "source": [
    "con.execute(select(A.c.NAME, B.c.NAME).where(A.c.PK==B.c.FK)).fetchall()"
   ]
  },
  {
   "cell_type": "code",
   "execution_count": 84,
   "id": "cb826454",
   "metadata": {},
   "outputs": [
    {
     "name": "stdout",
     "output_type": "stream",
     "text": [
      "2023-09-06 11:55:00,876 INFO sqlalchemy.engine.Engine SELECT \"T_Artist\".\"NAME\", \"T_Album\".\"NAME\" AS \"NAME_1\" \n",
      "FROM \"T_Artist\" JOIN \"T_Album\" ON \"T_Artist\".\"PK\" = \"T_Album\".\"FK\"\n",
      "2023-09-06 11:55:00,878 INFO sqlalchemy.engine.Engine [cached since 6.43s ago] ()\n"
     ]
    },
    {
     "data": {
      "text/plain": [
       "[('Singer1', '가수1_앨범1'),\n",
       " ('Singer1', '가수1_앨범2'),\n",
       " ('Singer2', '가수2_앨범1'),\n",
       " ('Singer2', '가수2_앨범2'),\n",
       " ('Singer3', '가수3_앨범1'),\n",
       " ('Singer3', '가수3_앨범2'),\n",
       " ('Singer4', '가수4_앨범1'),\n",
       " ('Singer4', '가수4_앨범2')]"
      ]
     },
     "execution_count": 84,
     "metadata": {},
     "output_type": "execute_result"
    }
   ],
   "source": [
    "con.execute(select(A.c.NAME, B.c.NAME).join(B)).fetchall()"
   ]
  },
  {
   "cell_type": "code",
   "execution_count": 85,
   "id": "925f8dbd",
   "metadata": {},
   "outputs": [
    {
     "name": "stdout",
     "output_type": "stream",
     "text": [
      "2023-09-06 11:55:01,212 INFO sqlalchemy.engine.Engine SELECT \"T_Artist\".\"NAME\", \"T_Album\".\"NAME\" AS \"NAME_1\" \n",
      "FROM \"T_Artist\" JOIN \"T_Album\" ON \"T_Artist\".\"PK\" = \"T_Album\".\"FK\"\n",
      "2023-09-06 11:55:01,214 INFO sqlalchemy.engine.Engine [generated in 0.00174s] ()\n"
     ]
    },
    {
     "data": {
      "text/plain": [
       "[('Singer1', '가수1_앨범1'),\n",
       " ('Singer1', '가수1_앨범2'),\n",
       " ('Singer2', '가수2_앨범1'),\n",
       " ('Singer2', '가수2_앨범2'),\n",
       " ('Singer3', '가수3_앨범1'),\n",
       " ('Singer3', '가수3_앨범2'),\n",
       " ('Singer4', '가수4_앨범1'),\n",
       " ('Singer4', '가수4_앨범2')]"
      ]
     },
     "execution_count": 85,
     "metadata": {},
     "output_type": "execute_result"
    }
   ],
   "source": [
    "con.execute(select(A.c.NAME, B.c.NAME).select_from(A.join(B))).fetchall()"
   ]
  },
  {
   "cell_type": "code",
   "execution_count": 86,
   "id": "7845aef4",
   "metadata": {},
   "outputs": [
    {
     "name": "stdout",
     "output_type": "stream",
     "text": [
      "2023-09-06 11:55:01,847 INFO sqlalchemy.engine.Engine SELECT \"T_Artist\".\"NAME\", \"T_Album\".\"NAME\" AS \"NAME_1\", \"T_Track\".\"NAME\" AS \"NAME_2\" \n",
      "FROM \"T_Artist\" JOIN (\"T_Album\" JOIN \"T_Track\" ON \"T_Album\".\"PK\" = \"T_Track\".\"FK_Album\") ON \"T_Artist\".\"PK\" = \"T_Album\".\"FK\"\n",
      "2023-09-06 11:55:01,849 INFO sqlalchemy.engine.Engine [generated in 0.00163s] ()\n",
      "[('Singer1', '가수1_앨범1', '앨범1_노래1_장르4'), ('Singer1', '가수1_앨범1', '앨범1_노래2_장르2'), ('Singer1', '가수1_앨범1', '앨범1_노래3_장르3'), ('Singer1', '가수1_앨범1', '앨범1_노래4_장르1'), ('Singer1', '가수1_앨범2', '앨범2_노래1_장르3'), ('Singer1', '가수1_앨범2', '앨범2_노래2_장르2'), ('Singer1', '가수1_앨범2', '앨범2_노래3_장르1'), ('Singer1', '가수1_앨범2', '앨범2_노래4_장르2'), ('Singer2', '가수2_앨범1', '앨범3_노래1_장르3'), ('Singer2', '가수2_앨범1', '앨범3_노래2_장르3'), ('Singer2', '가수2_앨범1', '앨범3_노래3_장르2'), ('Singer2', '가수2_앨범1', '앨범3_노래4_장르4'), ('Singer2', '가수2_앨범2', '앨범4_노래1_장르2'), ('Singer2', '가수2_앨범2', '앨범4_노래2_장르3'), ('Singer2', '가수2_앨범2', '앨범4_노래3_장르1'), ('Singer2', '가수2_앨범2', '앨범4_노래4_장르1'), ('Singer3', '가수3_앨범1', '앨범5_노래1_장르2'), ('Singer3', '가수3_앨범1', '앨범5_노래2_장르4'), ('Singer3', '가수3_앨범1', '앨범5_노래3_장르2'), ('Singer3', '가수3_앨범1', '앨범5_노래4_장르2'), ('Singer3', '가수3_앨범2', '앨범6_노래1_장르1'), ('Singer3', '가수3_앨범2', '앨범6_노래2_장르2'), ('Singer3', '가수3_앨범2', '앨범6_노래3_장르2'), ('Singer3', '가수3_앨범2', '앨범6_노래4_장르3'), ('Singer4', '가수4_앨범1', '앨범7_노래1_장르4'), ('Singer4', '가수4_앨범1', '앨범7_노래2_장르3'), ('Singer4', '가수4_앨범1', '앨범7_노래3_장르2'), ('Singer4', '가수4_앨범1', '앨범7_노래4_장르1'), ('Singer4', '가수4_앨범2', '앨범8_노래1_장르1'), ('Singer4', '가수4_앨범2', '앨범8_노래2_장르1'), ('Singer4', '가수4_앨범2', '앨범8_노래3_장르1'), ('Singer4', '가수4_앨범2', '앨범8_노래4_장르2')]\n",
      "2023-09-06 11:55:01,852 INFO sqlalchemy.engine.Engine SELECT \"T_Artist\".\"NAME\", \"T_Album\".\"NAME\" AS \"NAME_1\", \"T_Track\".\"NAME\" AS \"NAME_2\" \n",
      "FROM \"T_Artist\" JOIN (\"T_Album\" JOIN \"T_Track\" ON \"T_Album\".\"PK\" = \"T_Track\".\"FK_Album\") ON \"T_Artist\".\"PK\" = \"T_Album\".\"FK\"\n",
      "2023-09-06 11:55:01,853 INFO sqlalchemy.engine.Engine [cached since 0.005385s ago] ()\n"
     ]
    },
    {
     "data": {
      "text/plain": [
       "[('Singer1', '가수1_앨범1', '앨범1_노래1_장르4'),\n",
       " ('Singer1', '가수1_앨범1', '앨범1_노래2_장르2'),\n",
       " ('Singer1', '가수1_앨범1', '앨범1_노래3_장르3'),\n",
       " ('Singer1', '가수1_앨범1', '앨범1_노래4_장르1'),\n",
       " ('Singer1', '가수1_앨범2', '앨범2_노래1_장르3'),\n",
       " ('Singer1', '가수1_앨범2', '앨범2_노래2_장르2'),\n",
       " ('Singer1', '가수1_앨범2', '앨범2_노래3_장르1'),\n",
       " ('Singer1', '가수1_앨범2', '앨범2_노래4_장르2'),\n",
       " ('Singer2', '가수2_앨범1', '앨범3_노래1_장르3'),\n",
       " ('Singer2', '가수2_앨범1', '앨범3_노래2_장르3'),\n",
       " ('Singer2', '가수2_앨범1', '앨범3_노래3_장르2'),\n",
       " ('Singer2', '가수2_앨범1', '앨범3_노래4_장르4'),\n",
       " ('Singer2', '가수2_앨범2', '앨범4_노래1_장르2'),\n",
       " ('Singer2', '가수2_앨범2', '앨범4_노래2_장르3'),\n",
       " ('Singer2', '가수2_앨범2', '앨범4_노래3_장르1'),\n",
       " ('Singer2', '가수2_앨범2', '앨범4_노래4_장르1'),\n",
       " ('Singer3', '가수3_앨범1', '앨범5_노래1_장르2'),\n",
       " ('Singer3', '가수3_앨범1', '앨범5_노래2_장르4'),\n",
       " ('Singer3', '가수3_앨범1', '앨범5_노래3_장르2'),\n",
       " ('Singer3', '가수3_앨범1', '앨범5_노래4_장르2'),\n",
       " ('Singer3', '가수3_앨범2', '앨범6_노래1_장르1'),\n",
       " ('Singer3', '가수3_앨범2', '앨범6_노래2_장르2'),\n",
       " ('Singer3', '가수3_앨범2', '앨범6_노래3_장르2'),\n",
       " ('Singer3', '가수3_앨범2', '앨범6_노래4_장르3'),\n",
       " ('Singer4', '가수4_앨범1', '앨범7_노래1_장르4'),\n",
       " ('Singer4', '가수4_앨범1', '앨범7_노래2_장르3'),\n",
       " ('Singer4', '가수4_앨범1', '앨범7_노래3_장르2'),\n",
       " ('Singer4', '가수4_앨범1', '앨범7_노래4_장르1'),\n",
       " ('Singer4', '가수4_앨범2', '앨범8_노래1_장르1'),\n",
       " ('Singer4', '가수4_앨범2', '앨범8_노래2_장르1'),\n",
       " ('Singer4', '가수4_앨범2', '앨범8_노래3_장르1'),\n",
       " ('Singer4', '가수4_앨범2', '앨범8_노래4_장르2')]"
      ]
     },
     "execution_count": 86,
     "metadata": {},
     "output_type": "execute_result"
    }
   ],
   "source": [
    "#가수 -앨범 - 노래\n",
    "print(con.execute(select(A.c.NAME, B.c.NAME, D.c.NAME).select_from(A.join(B.join(D)))).fetchall())\n",
    "con.execute(select(A.c.NAME, B.c.NAME, D.c.NAME).select_from(A.join(B.join(D)))).fetchall()"
   ]
  },
  {
   "cell_type": "code",
   "execution_count": 92,
   "id": "500dcf75",
   "metadata": {},
   "outputs": [
    {
     "name": "stdout",
     "output_type": "stream",
     "text": [
      "SELECT \"T_Artist\".\"NAME\", \"T_Album\".\"NAME\" AS \"NAME_1\", \"T_Genre\".\"NAME\" AS \"NAME_2\", \"T_Track\".\"NAME\" AS \"NAME_3\" \n",
      "FROM \"T_Artist\" JOIN \"T_Album\" ON \"T_Artist\".\"PK\" = \"T_Album\".\"FK\" JOIN \"T_Track\" ON \"T_Album\".\"PK\" = \"T_Track\".\"FK_Album\" JOIN \"T_Genre\" ON \"T_Genre\".\"PK\" = \"T_Track\".\"FK_Genre\"\n",
      "2023-09-06 11:58:30,262 INFO sqlalchemy.engine.Engine SELECT \"T_Artist\".\"NAME\", \"T_Album\".\"NAME\" AS \"NAME_1\", \"T_Genre\".\"NAME\" AS \"NAME_2\", \"T_Track\".\"NAME\" AS \"NAME_3\" \n",
      "FROM \"T_Artist\" JOIN \"T_Album\" ON \"T_Artist\".\"PK\" = \"T_Album\".\"FK\" JOIN \"T_Track\" ON \"T_Album\".\"PK\" = \"T_Track\".\"FK_Album\" JOIN \"T_Genre\" ON \"T_Genre\".\"PK\" = \"T_Track\".\"FK_Genre\"\n",
      "2023-09-06 11:58:30,263 INFO sqlalchemy.engine.Engine [cached since 5.522s ago] ()\n"
     ]
    },
    {
     "data": {
      "text/plain": [
       "[('Singer1', '가수1_앨범1', 'Genre4', '앨범1_노래1_장르4'),\n",
       " ('Singer1', '가수1_앨범1', 'Genre2', '앨범1_노래2_장르2'),\n",
       " ('Singer1', '가수1_앨범1', 'Genre3', '앨범1_노래3_장르3'),\n",
       " ('Singer1', '가수1_앨범1', 'Genre1', '앨범1_노래4_장르1'),\n",
       " ('Singer1', '가수1_앨범2', 'Genre3', '앨범2_노래1_장르3'),\n",
       " ('Singer1', '가수1_앨범2', 'Genre2', '앨범2_노래2_장르2'),\n",
       " ('Singer1', '가수1_앨범2', 'Genre1', '앨범2_노래3_장르1'),\n",
       " ('Singer1', '가수1_앨범2', 'Genre2', '앨범2_노래4_장르2'),\n",
       " ('Singer2', '가수2_앨범1', 'Genre3', '앨범3_노래1_장르3'),\n",
       " ('Singer2', '가수2_앨범1', 'Genre3', '앨범3_노래2_장르3'),\n",
       " ('Singer2', '가수2_앨범1', 'Genre2', '앨범3_노래3_장르2'),\n",
       " ('Singer2', '가수2_앨범1', 'Genre4', '앨범3_노래4_장르4'),\n",
       " ('Singer2', '가수2_앨범2', 'Genre2', '앨범4_노래1_장르2'),\n",
       " ('Singer2', '가수2_앨범2', 'Genre3', '앨범4_노래2_장르3'),\n",
       " ('Singer2', '가수2_앨범2', 'Genre1', '앨범4_노래3_장르1'),\n",
       " ('Singer2', '가수2_앨범2', 'Genre1', '앨범4_노래4_장르1'),\n",
       " ('Singer3', '가수3_앨범1', 'Genre2', '앨범5_노래1_장르2'),\n",
       " ('Singer3', '가수3_앨범1', 'Genre4', '앨범5_노래2_장르4'),\n",
       " ('Singer3', '가수3_앨범1', 'Genre2', '앨범5_노래3_장르2'),\n",
       " ('Singer3', '가수3_앨범1', 'Genre2', '앨범5_노래4_장르2'),\n",
       " ('Singer3', '가수3_앨범2', 'Genre1', '앨범6_노래1_장르1'),\n",
       " ('Singer3', '가수3_앨범2', 'Genre2', '앨범6_노래2_장르2'),\n",
       " ('Singer3', '가수3_앨범2', 'Genre2', '앨범6_노래3_장르2'),\n",
       " ('Singer3', '가수3_앨범2', 'Genre3', '앨범6_노래4_장르3'),\n",
       " ('Singer4', '가수4_앨범1', 'Genre4', '앨범7_노래1_장르4'),\n",
       " ('Singer4', '가수4_앨범1', 'Genre3', '앨범7_노래2_장르3'),\n",
       " ('Singer4', '가수4_앨범1', 'Genre2', '앨범7_노래3_장르2'),\n",
       " ('Singer4', '가수4_앨범1', 'Genre1', '앨범7_노래4_장르1'),\n",
       " ('Singer4', '가수4_앨범2', 'Genre1', '앨범8_노래1_장르1'),\n",
       " ('Singer4', '가수4_앨범2', 'Genre1', '앨범8_노래2_장르1'),\n",
       " ('Singer4', '가수4_앨범2', 'Genre1', '앨범8_노래3_장르1'),\n",
       " ('Singer4', '가수4_앨범2', 'Genre2', '앨범8_노래4_장르2')]"
      ]
     },
     "execution_count": 92,
     "metadata": {},
     "output_type": "execute_result"
    }
   ],
   "source": [
    "#전부 다 섞어보기 가수 - 앨범 - 장르 - 노래\n",
    "print(select(A.c.NAME, B.c.NAME, C.c.NAME, D.c.NAME).\\\n",
    "     select_from(A.join(B).join(D).join(C, C.c.PK==D.c.FK_Genre)))\n",
    "\n",
    "con.execute(select(A.c.NAME, B.c.NAME, C.c.NAME, D.c.NAME).\\\n",
    "     select_from(A.join(B).join(D).join(C, C.c.PK==D.c.FK_Genre))).fetchall()"
   ]
  },
  {
   "cell_type": "markdown",
   "id": "cbfd7cc3",
   "metadata": {},
   "source": [
    "<br>**예제 01 끝**\n",
    "***"
   ]
  },
  {
   "cell_type": "markdown",
   "id": "f5729c15",
   "metadata": {},
   "source": [
    "## 예제 02"
   ]
  },
  {
   "cell_type": "markdown",
   "id": "698d9611",
   "metadata": {},
   "source": [
    "### 예제 02를 위해 초기화"
   ]
  },
  {
   "cell_type": "code",
   "execution_count": 121,
   "id": "93249696",
   "metadata": {
    "scrolled": true
   },
   "outputs": [
    {
     "name": "stdout",
     "output_type": "stream",
     "text": [
      "2023-09-06 12:10:10,672 INFO sqlalchemy.engine.Engine BEGIN (implicit)\n",
      "2023-09-06 12:10:10,674 INFO sqlalchemy.engine.Engine PRAGMA main.table_info(\"Post\")\n",
      "2023-09-06 12:10:10,675 INFO sqlalchemy.engine.Engine [raw sql] ()\n",
      "2023-09-06 12:10:10,676 INFO sqlalchemy.engine.Engine PRAGMA temp.table_info(\"Post\")\n",
      "2023-09-06 12:10:10,677 INFO sqlalchemy.engine.Engine [raw sql] ()\n",
      "2023-09-06 12:10:10,678 INFO sqlalchemy.engine.Engine PRAGMA main.table_info(\"HASHTAG\")\n",
      "2023-09-06 12:10:10,679 INFO sqlalchemy.engine.Engine [raw sql] ()\n",
      "2023-09-06 12:10:10,681 INFO sqlalchemy.engine.Engine PRAGMA temp.table_info(\"HASHTAG\")\n",
      "2023-09-06 12:10:10,681 INFO sqlalchemy.engine.Engine [raw sql] ()\n",
      "2023-09-06 12:10:10,682 INFO sqlalchemy.engine.Engine PRAGMA main.table_info(\"POSTTAG\")\n",
      "2023-09-06 12:10:10,683 INFO sqlalchemy.engine.Engine [raw sql] ()\n",
      "2023-09-06 12:10:10,684 INFO sqlalchemy.engine.Engine PRAGMA temp.table_info(\"POSTTAG\")\n",
      "2023-09-06 12:10:10,684 INFO sqlalchemy.engine.Engine [raw sql] ()\n",
      "2023-09-06 12:10:10,685 INFO sqlalchemy.engine.Engine COMMIT\n"
     ]
    }
   ],
   "source": [
    "meta.drop_all(engine)\n",
    "meta.clear()"
   ]
  },
  {
   "cell_type": "code",
   "execution_count": 122,
   "id": "a3bb37cd",
   "metadata": {},
   "outputs": [],
   "source": [
    "meta.remove(A)\n",
    "meta.remove(B)\n",
    "meta.remove(C)\n",
    "meta.remove(D)"
   ]
  },
  {
   "cell_type": "code",
   "execution_count": 123,
   "id": "4fa0a492",
   "metadata": {},
   "outputs": [
    {
     "data": {
      "text/plain": [
       "Table('POST', MetaData(), Column('PK', Integer(), table=<POST>, primary_key=True, nullable=False), Column('CONTENT', Text(), table=<POST>), schema=None)"
      ]
     },
     "execution_count": 123,
     "metadata": {},
     "output_type": "execute_result"
    }
   ],
   "source": [
    "Table('POST', meta,\n",
    "     Column('PK', Integer, primary_key=True),\n",
    "     Column('CONTENT', Text),\n",
    "      extend_existing=True\n",
    "     )"
   ]
  },
  {
   "cell_type": "code",
   "execution_count": 124,
   "id": "a8d3032d",
   "metadata": {},
   "outputs": [
    {
     "data": {
      "text/plain": [
       "Table('HASHTAG', MetaData(), Column('PK', Integer(), table=<HASHTAG>, primary_key=True, nullable=False), Column('NAME', Text(), table=<HASHTAG>, nullable=False), Column('COUNT', Integer(), table=<HASHTAG>, server_default=DefaultClause('0', for_update=False)), schema=None)"
      ]
     },
     "execution_count": 124,
     "metadata": {},
     "output_type": "execute_result"
    }
   ],
   "source": [
    "Table('HASHTAG', meta, \n",
    "     Column('PK', Integer, primary_key=True),\n",
    "     Column('NAME', Text, nullable=False),\n",
    "     Column('COUNT', Integer, server_default='0'),\n",
    "      extend_existing=True\n",
    "      \n",
    "     )\n",
    "#default = 0 은 인스턴스 객체에서 0으로 되는 것과, 서버에서 데이터 기본 0이 되는 차이점"
   ]
  },
  {
   "cell_type": "code",
   "execution_count": 125,
   "id": "92c2b97a",
   "metadata": {},
   "outputs": [
    {
     "data": {
      "text/plain": [
       "Table('POSTTAG', MetaData(), Column('PFK', Integer(), ForeignKey('POST.PK'), table=<POSTTAG>), Column('HFK', Integer(), ForeignKey('HASHTAG.PK'), table=<POSTTAG>), schema=None)"
      ]
     },
     "execution_count": 125,
     "metadata": {},
     "output_type": "execute_result"
    }
   ],
   "source": [
    "Table('POSTTAG', meta,\n",
    "    Column('PFK', None, ForeignKey('POST.PK')),\n",
    "    Column('HFK', Integer, ForeignKey('HASHTAG.PK')),\n",
    "      extend_existing=True\n",
    "     )"
   ]
  },
  {
   "cell_type": "code",
   "execution_count": 126,
   "id": "110b8d1c",
   "metadata": {
    "collapsed": true
   },
   "outputs": [
    {
     "name": "stdout",
     "output_type": "stream",
     "text": [
      "2023-09-06 12:10:12,796 INFO sqlalchemy.engine.Engine BEGIN (implicit)\n",
      "2023-09-06 12:10:12,797 INFO sqlalchemy.engine.Engine PRAGMA main.table_info(\"POST\")\n",
      "2023-09-06 12:10:12,798 INFO sqlalchemy.engine.Engine [raw sql] ()\n",
      "2023-09-06 12:10:12,799 INFO sqlalchemy.engine.Engine PRAGMA temp.table_info(\"POST\")\n",
      "2023-09-06 12:10:12,800 INFO sqlalchemy.engine.Engine [raw sql] ()\n",
      "2023-09-06 12:10:12,800 INFO sqlalchemy.engine.Engine PRAGMA main.table_info(\"HASHTAG\")\n",
      "2023-09-06 12:10:12,801 INFO sqlalchemy.engine.Engine [raw sql] ()\n",
      "2023-09-06 12:10:12,802 INFO sqlalchemy.engine.Engine PRAGMA temp.table_info(\"HASHTAG\")\n",
      "2023-09-06 12:10:12,803 INFO sqlalchemy.engine.Engine [raw sql] ()\n",
      "2023-09-06 12:10:12,805 INFO sqlalchemy.engine.Engine PRAGMA main.table_info(\"POSTTAG\")\n",
      "2023-09-06 12:10:12,806 INFO sqlalchemy.engine.Engine [raw sql] ()\n",
      "2023-09-06 12:10:12,807 INFO sqlalchemy.engine.Engine PRAGMA temp.table_info(\"POSTTAG\")\n",
      "2023-09-06 12:10:12,807 INFO sqlalchemy.engine.Engine [raw sql] ()\n",
      "2023-09-06 12:10:12,808 INFO sqlalchemy.engine.Engine \n",
      "CREATE TABLE \"POST\" (\n",
      "\t\"PK\" INTEGER NOT NULL, \n",
      "\t\"CONTENT\" TEXT, \n",
      "\tPRIMARY KEY (\"PK\")\n",
      ")\n",
      "\n",
      "\n",
      "2023-09-06 12:10:12,809 INFO sqlalchemy.engine.Engine [no key 0.00066s] ()\n",
      "2023-09-06 12:10:12,811 INFO sqlalchemy.engine.Engine \n",
      "CREATE TABLE \"HASHTAG\" (\n",
      "\t\"PK\" INTEGER NOT NULL, \n",
      "\t\"NAME\" TEXT NOT NULL, \n",
      "\t\"COUNT\" INTEGER DEFAULT '0', \n",
      "\tPRIMARY KEY (\"PK\")\n",
      ")\n",
      "\n",
      "\n",
      "2023-09-06 12:10:12,811 INFO sqlalchemy.engine.Engine [no key 0.00060s] ()\n",
      "2023-09-06 12:10:12,813 INFO sqlalchemy.engine.Engine \n",
      "CREATE TABLE \"POSTTAG\" (\n",
      "\t\"PFK\" INTEGER, \n",
      "\t\"HFK\" INTEGER, \n",
      "\tFOREIGN KEY(\"PFK\") REFERENCES \"POST\" (\"PK\"), \n",
      "\tFOREIGN KEY(\"HFK\") REFERENCES \"HASHTAG\" (\"PK\")\n",
      ")\n",
      "\n",
      "\n",
      "2023-09-06 12:10:12,813 INFO sqlalchemy.engine.Engine [no key 0.00052s] ()\n",
      "2023-09-06 12:10:12,815 INFO sqlalchemy.engine.Engine COMMIT\n"
     ]
    }
   ],
   "source": [
    "meta.create_all(engine)"
   ]
  },
  {
   "cell_type": "code",
   "execution_count": 128,
   "id": "27909056",
   "metadata": {},
   "outputs": [],
   "source": [
    "A = meta.tables['POST']\n",
    "B = meta.tables['HASHTAG']\n",
    "C = meta.tables['POSTTAG']"
   ]
  },
  {
   "cell_type": "code",
   "execution_count": 129,
   "id": "4d2f6f0b",
   "metadata": {},
   "outputs": [
    {
     "name": "stdout",
     "output_type": "stream",
     "text": [
      "2023-09-06 12:10:39,342 INFO sqlalchemy.engine.Engine INSERT INTO \"HASHTAG\" (\"NAME\") VALUES (?)\n",
      "2023-09-06 12:10:39,343 INFO sqlalchemy.engine.Engine [generated in 0.00167s] ('A',)\n"
     ]
    },
    {
     "data": {
      "text/plain": [
       "<sqlalchemy.engine.cursor.CursorResult at 0x2489b05c520>"
      ]
     },
     "execution_count": 129,
     "metadata": {},
     "output_type": "execute_result"
    }
   ],
   "source": [
    "con.execute(B.insert().values(NAME='A'))"
   ]
  },
  {
   "cell_type": "code",
   "execution_count": 130,
   "id": "7d1d8463",
   "metadata": {},
   "outputs": [
    {
     "name": "stdout",
     "output_type": "stream",
     "text": [
      "2023-09-06 12:10:54,535 INFO sqlalchemy.engine.Engine SELECT \"HASHTAG\".\"PK\", \"HASHTAG\".\"NAME\", \"HASHTAG\".\"COUNT\" \n",
      "FROM \"HASHTAG\"\n",
      "2023-09-06 12:10:54,537 INFO sqlalchemy.engine.Engine [generated in 0.00157s] ()\n"
     ]
    },
    {
     "data": {
      "text/plain": [
       "[(1, 'A', 0)]"
      ]
     },
     "execution_count": 130,
     "metadata": {},
     "output_type": "execute_result"
    }
   ],
   "source": [
    "con.execute(select(B)).fetchall()"
   ]
  },
  {
   "cell_type": "code",
   "execution_count": 131,
   "id": "99e797fe",
   "metadata": {},
   "outputs": [
    {
     "name": "stdout",
     "output_type": "stream",
     "text": [
      "2023-09-06 12:11:02,969 INFO sqlalchemy.engine.Engine DELETE FROM \"HASHTAG\"\n",
      "2023-09-06 12:11:02,971 INFO sqlalchemy.engine.Engine [generated in 0.00205s] ()\n"
     ]
    },
    {
     "data": {
      "text/plain": [
       "<sqlalchemy.engine.cursor.CursorResult at 0x2489b05c600>"
      ]
     },
     "execution_count": 131,
     "metadata": {},
     "output_type": "execute_result"
    }
   ],
   "source": [
    "con.execute(delete(B))"
   ]
  },
  {
   "cell_type": "code",
   "execution_count": 147,
   "id": "d2984a65",
   "metadata": {},
   "outputs": [
    {
     "name": "stdout",
     "output_type": "stream",
     "text": [
      "2023-09-06 12:23:33,616 INFO sqlalchemy.engine.Engine SELECT count(\"HASHTAG\".\"PK\") AS count_1 \n",
      "FROM \"HASHTAG\" \n",
      "WHERE \"HASHTAG\".\"NAME\" = ?\n",
      "2023-09-06 12:23:33,617 INFO sqlalchemy.engine.Engine [cached since 587.5s ago] ('Python',)\n",
      "2023-09-06 12:23:33,618 INFO sqlalchemy.engine.Engine INSERT INTO \"HASHTAG\" (\"NAME\") VALUES (?)\n",
      "2023-09-06 12:23:33,619 INFO sqlalchemy.engine.Engine [cached since 774.3s ago] ('Python',)\n",
      "2023-09-06 12:23:33,621 INFO sqlalchemy.engine.Engine SELECT \"HASHTAG\".\"PK\", \"HASHTAG\".\"NAME\", \"HASHTAG\".\"COUNT\" \n",
      "FROM \"HASHTAG\" \n",
      "WHERE \"HASHTAG\".\"NAME\" = ?\n",
      "2023-09-06 12:23:33,621 INFO sqlalchemy.engine.Engine [cached since 681.7s ago] ('Python',)\n"
     ]
    },
    {
     "data": {
      "text/plain": [
       "(2, 'Python', 0)"
      ]
     },
     "execution_count": 147,
     "metadata": {},
     "output_type": "execute_result"
    }
   ],
   "source": [
    "key = 'Python'\n",
    "size = con.execute(select(func.count(B.c.PK)).where(B.c.NAME==key)).fetchone()[0]\n",
    "\n",
    "if size == 0:\n",
    "    con.execute(B.insert().values(NAME=key))\n",
    "    \n",
    "con.execute(select(B).where(B.c.NAME==key)).fetchone()"
   ]
  },
  {
   "cell_type": "markdown",
   "id": "bbe9f756",
   "metadata": {},
   "source": [
    "1. POST에 본문 insert하기\n",
    "2. insert된 PK 값 가져오기\n",
    "3. 위에 코드를 이용해서 해시태그 PK 가져오기\n",
    "4. POSTTAG 테이블에 POSTPK와 HASHTAGPK Insert하기\n",
    "5. HASHTAG의 카운트를 +1 해주기, 단 PK=HASHTAG.PK\n",
    "\n",
    "어제 코드 참조"
   ]
  },
  {
   "cell_type": "markdown",
   "id": "54047b94",
   "metadata": {},
   "source": [
    "## 실습 : 어제 SQL으로 작성한 문장 ORM Core 수준 언어로 바꿔보기"
   ]
  },
  {
   "cell_type": "code",
   "execution_count": 154,
   "id": "42367346",
   "metadata": {},
   "outputs": [
    {
     "name": "stdout",
     "output_type": "stream",
     "text": [
      "2023-09-06 12:30:46,511 INFO sqlalchemy.engine.Engine SELECT count(\"HASHTAG\".\"PK\") AS count_1 \n",
      "FROM \"HASHTAG\" \n",
      "WHERE \"HASHTAG\".\"NAME\" = ?\n",
      "2023-09-06 12:30:46,512 INFO sqlalchemy.engine.Engine [cached since 1020s ago] ('Python',)\n"
     ]
    },
    {
     "data": {
      "text/plain": [
       "1"
      ]
     },
     "execution_count": 154,
     "metadata": {},
     "output_type": "execute_result"
    }
   ],
   "source": [
    "contentData = {'content':'Python Test 001', 'tag':'Python'}\n",
    "count = con.execute(select(func.count(B.c.PK)).where(B.c.NAME==contentData['tag'])).fetchone()[0]\n",
    "\n",
    "#if문으로 없을시 해시태그 생성\n",
    "#어쩌구 잘하면 됌"
   ]
  },
  {
   "cell_type": "code",
   "execution_count": 146,
   "id": "41d0fc27",
   "metadata": {},
   "outputs": [
    {
     "name": "stdout",
     "output_type": "stream",
     "text": [
      "2023-09-06 12:22:49,439 INFO sqlalchemy.engine.Engine SELECT \"POST\".\"PK\", \"POST\".\"CONTENT\" \n",
      "FROM \"POST\"\n",
      "2023-09-06 12:22:49,441 INFO sqlalchemy.engine.Engine [generated in 0.00169s] ()\n"
     ]
    },
    {
     "data": {
      "text/plain": [
       "[(1, 'Python Test 001')]"
      ]
     },
     "execution_count": 146,
     "metadata": {},
     "output_type": "execute_result"
    }
   ],
   "source": [
    "con.execute(select(A)).fetchall()"
   ]
  },
  {
   "cell_type": "code",
   "execution_count": 148,
   "id": "f3d83a7a",
   "metadata": {},
   "outputs": [
    {
     "name": "stdout",
     "output_type": "stream",
     "text": [
      "2023-09-06 12:23:49,097 INFO sqlalchemy.engine.Engine SELECT \"HASHTAG\".\"PK\", \"HASHTAG\".\"NAME\", \"HASHTAG\".\"COUNT\" \n",
      "FROM \"HASHTAG\"\n",
      "2023-09-06 12:23:49,099 INFO sqlalchemy.engine.Engine [cached since 774.6s ago] ()\n"
     ]
    },
    {
     "data": {
      "text/plain": [
       "[(1, 'ORM', 0), (2, 'Python', 0)]"
      ]
     },
     "execution_count": 148,
     "metadata": {},
     "output_type": "execute_result"
    }
   ],
   "source": [
    "con.execute(select(B)).fetchall()"
   ]
  },
  {
   "cell_type": "code",
   "execution_count": null,
   "id": "90f04653",
   "metadata": {},
   "outputs": [],
   "source": [
    "con.execute(C.insert().values())"
   ]
  }
 ],
 "metadata": {
  "kernelspec": {
   "display_name": "Python 3 (ipykernel)",
   "language": "python",
   "name": "python3"
  },
  "language_info": {
   "codemirror_mode": {
    "name": "ipython",
    "version": 3
   },
   "file_extension": ".py",
   "mimetype": "text/x-python",
   "name": "python",
   "nbconvert_exporter": "python",
   "pygments_lexer": "ipython3",
   "version": "3.11.4"
  }
 },
 "nbformat": 4,
 "nbformat_minor": 5
}
