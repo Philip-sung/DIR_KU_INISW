{
 "cells": [
  {
   "cell_type": "code",
   "execution_count": 3,
   "id": "90934397",
   "metadata": {},
   "outputs": [],
   "source": [
    "import sqlite3"
   ]
  },
  {
   "cell_type": "markdown",
   "id": "73193952",
   "metadata": {},
   "source": [
    "# 01 SQLite 사용"
   ]
  },
  {
   "cell_type": "markdown",
   "id": "5c6e7314",
   "metadata": {},
   "source": [
    "## 작업순서\n",
    "\n",
    "Python       DBMS - DB<br>\n",
    "Client ---> connection<br>\n",
    "cursor --->  작업공간<br>\n",
    "connection - cursor<br>"
   ]
  },
  {
   "cell_type": "code",
   "execution_count": 2,
   "id": "2f4d54fa",
   "metadata": {},
   "outputs": [
    {
     "ename": "NameError",
     "evalue": "name 'sqlite3' is not defined",
     "output_type": "error",
     "traceback": [
      "\u001b[1;31m---------------------------------------------------------------------------\u001b[0m",
      "\u001b[1;31mNameError\u001b[0m                                 Traceback (most recent call last)",
      "Cell \u001b[1;32mIn[2], line 1\u001b[0m\n\u001b[1;32m----> 1\u001b[0m con \u001b[38;5;241m=\u001b[39m sqlite3\u001b[38;5;241m.\u001b[39mconnect(\u001b[38;5;124m'\u001b[39m\u001b[38;5;124m:memory:\u001b[39m\u001b[38;5;124m'\u001b[39m)\n",
      "\u001b[1;31mNameError\u001b[0m: name 'sqlite3' is not defined"
     ]
    }
   ],
   "source": [
    "con = sqlite3.connect(':memory:')"
   ]
  },
  {
   "cell_type": "code",
   "execution_count": 8,
   "id": "746cf222",
   "metadata": {},
   "outputs": [],
   "source": [
    "cur = con.cursor()"
   ]
  },
  {
   "cell_type": "code",
   "execution_count": 12,
   "id": "3c9ff346",
   "metadata": {
    "collapsed": true
   },
   "outputs": [
    {
     "data": {
      "text/plain": [
       "['__annotations__',\n",
       " '__class__',\n",
       " '__delattr__',\n",
       " '__dir__',\n",
       " '__doc__',\n",
       " '__eq__',\n",
       " '__format__',\n",
       " '__ge__',\n",
       " '__getattribute__',\n",
       " '__getstate__',\n",
       " '__gt__',\n",
       " '__hash__',\n",
       " '__init__',\n",
       " '__init_subclass__',\n",
       " '__iter__',\n",
       " '__le__',\n",
       " '__lt__',\n",
       " '__module__',\n",
       " '__ne__',\n",
       " '__new__',\n",
       " '__next__',\n",
       " '__reduce__',\n",
       " '__reduce_ex__',\n",
       " '__repr__',\n",
       " '__setattr__',\n",
       " '__sizeof__',\n",
       " '__str__',\n",
       " '__subclasshook__',\n",
       " 'arraysize',\n",
       " 'close',\n",
       " 'connection',\n",
       " 'description',\n",
       " 'execute',\n",
       " 'executemany',\n",
       " 'executescript',\n",
       " 'fetchall',\n",
       " 'fetchmany',\n",
       " 'fetchone',\n",
       " 'lastrowid',\n",
       " 'row_factory',\n",
       " 'rowcount',\n",
       " 'setinputsizes',\n",
       " 'setoutputsize']"
      ]
     },
     "execution_count": 12,
     "metadata": {},
     "output_type": "execute_result"
    }
   ],
   "source": [
    "dir(cur)"
   ]
  },
  {
   "cell_type": "markdown",
   "id": "d4500d14",
   "metadata": {},
   "source": [
    "### 01.01 Create Database, Insert Data"
   ]
  },
  {
   "cell_type": "markdown",
   "id": "a6278425",
   "metadata": {},
   "source": [
    "cur.execute() #SQL문 한개 실행함<br>\n",
    "cur.excutemany() #SQL문 1개가 반복실행됨<br>\n",
    "cur.executescript() #SQL문 여러개 한번에 실행(비표준)<br>"
   ]
  },
  {
   "cell_type": "code",
   "execution_count": 13,
   "id": "4f53362e",
   "metadata": {},
   "outputs": [
    {
     "data": {
      "text/plain": [
       "<sqlite3.Cursor at 0x255303dc3c0>"
      ]
     },
     "execution_count": 13,
     "metadata": {},
     "output_type": "execute_result"
    }
   ],
   "source": [
    "cur.execute('''\n",
    "    CREATE TABLE CITY (\n",
    "        CNO INTEGER PRIMARY KEY,\n",
    "        CNAME TEXT\n",
    "    )\n",
    "''')"
   ]
  },
  {
   "cell_type": "code",
   "execution_count": 14,
   "id": "f21e0676",
   "metadata": {},
   "outputs": [
    {
     "data": {
      "text/plain": [
       "<sqlite3.Cursor at 0x255303dc3c0>"
      ]
     },
     "execution_count": 14,
     "metadata": {},
     "output_type": "execute_result"
    }
   ],
   "source": [
    "cur.execute('''\n",
    "    INSERT INTO CITY (CNO, CNAME)\n",
    "    VALUES(1, \"LONDON\");\n",
    "''')"
   ]
  },
  {
   "cell_type": "code",
   "execution_count": 15,
   "id": "0d05bd8d",
   "metadata": {
    "collapsed": true
   },
   "outputs": [
    {
     "ename": "IntegrityError",
     "evalue": "UNIQUE constraint failed: CITY.CNO",
     "output_type": "error",
     "traceback": [
      "\u001b[1;31m---------------------------------------------------------------------------\u001b[0m",
      "\u001b[1;31mIntegrityError\u001b[0m                            Traceback (most recent call last)",
      "Cell \u001b[1;32mIn[15], line 2\u001b[0m\n\u001b[0;32m      1\u001b[0m \u001b[38;5;66;03m#error test\u001b[39;00m\n\u001b[1;32m----> 2\u001b[0m cur\u001b[38;5;241m.\u001b[39mexecute(\u001b[38;5;124m'''\u001b[39m\n\u001b[0;32m      3\u001b[0m \u001b[38;5;124m    INSERT INTO CITY (CNO, CNAME)\u001b[39m\n\u001b[0;32m      4\u001b[0m \u001b[38;5;124m    VALUES(\u001b[39m\u001b[38;5;124m\"\u001b[39m\u001b[38;5;124m1\u001b[39m\u001b[38;5;124m\"\u001b[39m\u001b[38;5;124m, \u001b[39m\u001b[38;5;124m\"\u001b[39m\u001b[38;5;124mLONDON\u001b[39m\u001b[38;5;124m\"\u001b[39m\u001b[38;5;124m);\u001b[39m\n\u001b[0;32m      5\u001b[0m \u001b[38;5;124m'''\u001b[39m)\n",
      "\u001b[1;31mIntegrityError\u001b[0m: UNIQUE constraint failed: CITY.CNO"
     ]
    }
   ],
   "source": [
    "#error test\n",
    "cur.execute('''\n",
    "    INSERT INTO CITY (CNO, CNAME)\n",
    "    VALUES(\"1\", \"LONDON\");\n",
    "''')"
   ]
  },
  {
   "cell_type": "code",
   "execution_count": 16,
   "id": "2afd8af0",
   "metadata": {},
   "outputs": [
    {
     "data": {
      "text/plain": [
       "<sqlite3.Cursor at 0x255303dc3c0>"
      ]
     },
     "execution_count": 16,
     "metadata": {},
     "output_type": "execute_result"
    }
   ],
   "source": [
    "cur.execute('''\n",
    "    INSERT INTO CITY\n",
    "    VALUES(2, \"Paris\");\n",
    "''')"
   ]
  },
  {
   "cell_type": "code",
   "execution_count": 18,
   "id": "a7ffd874",
   "metadata": {},
   "outputs": [
    {
     "data": {
      "text/plain": [
       "<sqlite3.Cursor at 0x255303dc3c0>"
      ]
     },
     "execution_count": 18,
     "metadata": {},
     "output_type": "execute_result"
    }
   ],
   "source": [
    "#Omit CNO\n",
    "cur.execute('''\n",
    "    INSERT INTO CITY (CNAME)\n",
    "    VALUES(\"Rome\");\n",
    "''')"
   ]
  },
  {
   "cell_type": "code",
   "execution_count": 22,
   "id": "6eafd3a7",
   "metadata": {},
   "outputs": [
    {
     "data": {
      "text/plain": [
       "<sqlite3.Cursor at 0x255303dc3c0>"
      ]
     },
     "execution_count": 22,
     "metadata": {},
     "output_type": "execute_result"
    }
   ],
   "source": [
    "#PK NULL CASE\n",
    "cur.execute('''\n",
    "    INSERT INTO CITY\n",
    "    VALUES(NULL, \"Rome\");\n",
    "''')"
   ]
  },
  {
   "cell_type": "markdown",
   "id": "727bbfc7",
   "metadata": {},
   "source": [
    "### 01.02 Fetch\n",
    "cur.fetchone() #Tuple/Record 1개 가져옴<br>\n",
    "cur.fetchmany() #N개 가져옴<br>\n",
    "cur.fetchall #전부가져옴<br>"
   ]
  },
  {
   "cell_type": "code",
   "execution_count": 37,
   "id": "78fc9367",
   "metadata": {},
   "outputs": [
    {
     "data": {
      "text/plain": [
       "<sqlite3.Cursor at 0x255303dc3c0>"
      ]
     },
     "execution_count": 37,
     "metadata": {},
     "output_type": "execute_result"
    }
   ],
   "source": [
    "cur.execute('SELECT * FROM CITY')"
   ]
  },
  {
   "cell_type": "code",
   "execution_count": 38,
   "id": "7e129947",
   "metadata": {},
   "outputs": [
    {
     "data": {
      "text/plain": [
       "(1, 'LONDON')"
      ]
     },
     "execution_count": 38,
     "metadata": {},
     "output_type": "execute_result"
    }
   ],
   "source": [
    "cur.fetchone()"
   ]
  },
  {
   "cell_type": "code",
   "execution_count": 39,
   "id": "34cf2a20",
   "metadata": {},
   "outputs": [
    {
     "data": {
      "text/plain": [
       "[(2, 'Paris'), (3, 'Rome')]"
      ]
     },
     "execution_count": 39,
     "metadata": {},
     "output_type": "execute_result"
    }
   ],
   "source": [
    "cur.fetchmany(2)"
   ]
  },
  {
   "cell_type": "code",
   "execution_count": 41,
   "id": "9abac3db",
   "metadata": {},
   "outputs": [
    {
     "data": {
      "text/plain": [
       "<sqlite3.Cursor at 0x255303dc3c0>"
      ]
     },
     "execution_count": 41,
     "metadata": {},
     "output_type": "execute_result"
    }
   ],
   "source": [
    "cur.execute('SELECT * FROM CITY')"
   ]
  },
  {
   "cell_type": "code",
   "execution_count": 42,
   "id": "01a4b6d8",
   "metadata": {},
   "outputs": [
    {
     "data": {
      "text/plain": [
       "[(1, 'LONDON'), (2, 'Paris'), (3, 'Rome'), (4, 'Rome')]"
      ]
     },
     "execution_count": 42,
     "metadata": {},
     "output_type": "execute_result"
    }
   ],
   "source": [
    "cur.fetchall()"
   ]
  },
  {
   "cell_type": "code",
   "execution_count": 43,
   "id": "567e6171",
   "metadata": {},
   "outputs": [
    {
     "data": {
      "text/plain": [
       "<sqlite3.Cursor at 0x255303dc3c0>"
      ]
     },
     "execution_count": 43,
     "metadata": {},
     "output_type": "execute_result"
    }
   ],
   "source": [
    "cur.execute('''\n",
    "    CREATE TABLE SUPPLIER(\n",
    "        SNO INTEGER PRIMARY KEY,\n",
    "        SNAME TEXT NOT NULL DEFAULT 'NONAME',\n",
    "        CNO INTEGER NOT NULL\n",
    "    )\n",
    "''')"
   ]
  },
  {
   "cell_type": "code",
   "execution_count": 44,
   "id": "cf5df48a",
   "metadata": {},
   "outputs": [
    {
     "data": {
      "text/plain": [
       "<sqlite3.Cursor at 0x255303dc3c0>"
      ]
     },
     "execution_count": 44,
     "metadata": {},
     "output_type": "execute_result"
    }
   ],
   "source": [
    "# qmark = ?, name = k:v\n",
    "sname = 'Smith'\n",
    "cno = 1\n",
    "\n",
    "cur.execute('''\n",
    "    INSERT INTO SUPPLIER VALUES(NULL, ?, ?)\n",
    "''', (sname, cno))"
   ]
  },
  {
   "cell_type": "code",
   "execution_count": 45,
   "id": "46c227d2",
   "metadata": {},
   "outputs": [
    {
     "data": {
      "text/plain": [
       "[(1, 'Smith', 1)]"
      ]
     },
     "execution_count": 45,
     "metadata": {},
     "output_type": "execute_result"
    }
   ],
   "source": [
    "cur.execute('SELECT * FROM SUPPLIER')\n",
    "cur.fetchall()"
   ]
  },
  {
   "cell_type": "code",
   "execution_count": 47,
   "id": "8b029640",
   "metadata": {},
   "outputs": [
    {
     "data": {
      "text/plain": [
       "<sqlite3.Cursor at 0x255303dc3c0>"
      ]
     },
     "execution_count": 47,
     "metadata": {},
     "output_type": "execute_result"
    }
   ],
   "source": [
    "data = (('Johns', 2), ('Adams', 1), ('Blake', 3))\n",
    "\n",
    "cur.executemany('''\n",
    "    INSERT INTO SUPPLIER VALUES(NULL, ?, ?)\n",
    "''', data)"
   ]
  },
  {
   "cell_type": "code",
   "execution_count": 48,
   "id": "503b88dd",
   "metadata": {},
   "outputs": [
    {
     "data": {
      "text/plain": [
       "[(1, 'Smith', 1), (2, 'Johns', 2), (3, 'Adams', 1), (4, 'Blake', 3)]"
      ]
     },
     "execution_count": 48,
     "metadata": {},
     "output_type": "execute_result"
    }
   ],
   "source": [
    "cur.execute('SELECT * FROM SUPPLIER')\n",
    "cur.fetchall()"
   ]
  },
  {
   "cell_type": "code",
   "execution_count": 57,
   "id": "77f1af8b",
   "metadata": {},
   "outputs": [
    {
     "ename": "OperationalError",
     "evalue": "table PART already exists",
     "output_type": "error",
     "traceback": [
      "\u001b[1;31m---------------------------------------------------------------------------\u001b[0m",
      "\u001b[1;31mOperationalError\u001b[0m                          Traceback (most recent call last)",
      "Cell \u001b[1;32mIn[57], line 1\u001b[0m\n\u001b[1;32m----> 1\u001b[0m cur\u001b[38;5;241m.\u001b[39mexecute(\u001b[38;5;124m'''\u001b[39m\n\u001b[0;32m      2\u001b[0m \u001b[38;5;124m    CREATE TABLE PART(\u001b[39m\n\u001b[0;32m      3\u001b[0m \u001b[38;5;124m        PNO INTEGER PRINMARY KEY AUTOINCRREMENT,\u001b[39m\n\u001b[0;32m      4\u001b[0m \u001b[38;5;124m        PNAME TEXT\u001b[39m\n\u001b[0;32m      5\u001b[0m \u001b[38;5;124m    )\u001b[39m\n\u001b[0;32m      6\u001b[0m \u001b[38;5;124m'''\u001b[39m)\n",
      "\u001b[1;31mOperationalError\u001b[0m: table PART already exists"
     ]
    }
   ],
   "source": [
    "cur.execute('''\n",
    "    CREATE TABLE PART(\n",
    "        PNO INTEGER PRINMARY KEY AUTOINCRREMENT,\n",
    "        PNAME TEXT\n",
    "    )\n",
    "''')"
   ]
  },
  {
   "cell_type": "code",
   "execution_count": 58,
   "id": "424f8451",
   "metadata": {},
   "outputs": [
    {
     "data": {
      "text/plain": [
       "<sqlite3.Cursor at 0x255303dc3c0>"
      ]
     },
     "execution_count": 58,
     "metadata": {},
     "output_type": "execute_result"
    }
   ],
   "source": [
    "cur.execute('''\n",
    "    INSERT INTO PART\n",
    "    VALUES(:pno, :pname)\n",
    "''', {'pno':1, 'pname':'Screw', 'agew':'agsd'})"
   ]
  },
  {
   "cell_type": "code",
   "execution_count": 59,
   "id": "a91345e5",
   "metadata": {},
   "outputs": [
    {
     "data": {
      "text/plain": [
       "[(1, 'Screw'), (None, 'Nut'), (None, 'Bolt'), (None, 'Cam'), (1, 'Screw')]"
      ]
     },
     "execution_count": 59,
     "metadata": {},
     "output_type": "execute_result"
    }
   ],
   "source": [
    "cur.execute('SELECT * FROM PART')\n",
    "cur.fetchall()"
   ]
  },
  {
   "cell_type": "code",
   "execution_count": 60,
   "id": "19844ca1",
   "metadata": {},
   "outputs": [
    {
     "data": {
      "text/plain": [
       "<sqlite3.Cursor at 0x255303dc3c0>"
      ]
     },
     "execution_count": 60,
     "metadata": {},
     "output_type": "execute_result"
    }
   ],
   "source": [
    "data = [{'pname':'Nut'},{'pname':'Bolt'},{'pname':'Cam'}]\n",
    "\n",
    "cur.executemany('''\n",
    "    INSERT INTO PART\n",
    "    VALUES(NULL, :pname)\n",
    "''', data)"
   ]
  },
  {
   "cell_type": "code",
   "execution_count": 61,
   "id": "ceb0dc16",
   "metadata": {},
   "outputs": [
    {
     "data": {
      "text/plain": [
       "[(1, 'Screw'),\n",
       " (None, 'Nut'),\n",
       " (None, 'Bolt'),\n",
       " (None, 'Cam'),\n",
       " (1, 'Screw'),\n",
       " (None, 'Nut'),\n",
       " (None, 'Bolt'),\n",
       " (None, 'Cam')]"
      ]
     },
     "execution_count": 61,
     "metadata": {},
     "output_type": "execute_result"
    }
   ],
   "source": [
    "cur.execute('SELECT * FROM PART')\n",
    "cur.fetchall()"
   ]
  },
  {
   "cell_type": "code",
   "execution_count": 62,
   "id": "73a6b048",
   "metadata": {},
   "outputs": [
    {
     "data": {
      "text/plain": [
       "<sqlite3.Cursor at 0x255303dc3c0>"
      ]
     },
     "execution_count": 62,
     "metadata": {},
     "output_type": "execute_result"
    }
   ],
   "source": [
    "cur.execute('''\n",
    "    CREATE TABLE SELLS(\n",
    "        SNO INTEGER NOT NULL,\n",
    "        PNO INTEGER NOT NULL,\n",
    "        PRICE INTEGER NOT NULL\n",
    "    );\n",
    "''')"
   ]
  },
  {
   "cell_type": "code",
   "execution_count": 68,
   "id": "a73b74bf",
   "metadata": {},
   "outputs": [
    {
     "data": {
      "text/plain": [
       "(1, 1)"
      ]
     },
     "execution_count": 68,
     "metadata": {},
     "output_type": "execute_result"
    }
   ],
   "source": [
    "key1 = 'Screw'\n",
    "key2 = 'Smith'\n",
    "\n",
    "cur.execute('''\n",
    "    SELECT PNO FROM PART\n",
    "    WHERE PNAME=?\n",
    "''', [key1])\n",
    "\n",
    "rst = cur.fetchone()\n",
    "if rst:\n",
    "    pno = rst[0]\n",
    "    \n",
    "cur.execute('''\n",
    "    SELECT SNO FROM SUPPLIER\n",
    "    WHERE SNAME=?\n",
    "''', [key2])\n",
    "\n",
    "rst = cur.fetchone()\n",
    "if rst:\n",
    "    sno = rst[0]\n",
    "    \n",
    "pno,sno"
   ]
  },
  {
   "cell_type": "code",
   "execution_count": 69,
   "id": "2a4e44dc",
   "metadata": {},
   "outputs": [
    {
     "data": {
      "text/plain": [
       "<sqlite3.Cursor at 0x255303dc3c0>"
      ]
     },
     "execution_count": 69,
     "metadata": {},
     "output_type": "execute_result"
    }
   ],
   "source": [
    "data = ['Screw', 'Smith', 10]\n",
    "\n",
    "#LIMIT는 가져오는 결과값을 제한한다.\n",
    "\n",
    "cur.execute('''\n",
    "    INSERT INTO SELLS\n",
    "    VALUES(\n",
    "        (SELECT PNO FROM PART WHERE PNAME=? LIMIT 0, 1), \n",
    "        (SELECT SNO FROM SUPPLIER WHERE SNAME=? LIMIT 0, 1),\n",
    "        ?\n",
    "    )\n",
    "''', data)"
   ]
  },
  {
   "cell_type": "code",
   "execution_count": 70,
   "id": "efbb5f69",
   "metadata": {},
   "outputs": [
    {
     "data": {
      "text/plain": [
       "[(1, 1, 10)]"
      ]
     },
     "execution_count": 70,
     "metadata": {},
     "output_type": "execute_result"
    }
   ],
   "source": [
    "cur.execute('SELECT * FROM SELLS')\n",
    "cur.fetchall()"
   ]
  },
  {
   "cell_type": "code",
   "execution_count": 74,
   "id": "f6cbb9ba",
   "metadata": {},
   "outputs": [],
   "source": [
    "CITY = dict()\n",
    "\n",
    "cur.execute('SELECT * FROM CITY')\n",
    "for row in cur.fetchall():\n",
    "    CITY[row[1]] = row[0]"
   ]
  },
  {
   "cell_type": "code",
   "execution_count": 73,
   "id": "c771d08d",
   "metadata": {},
   "outputs": [
    {
     "ename": "KeyError",
     "evalue": "'London'",
     "output_type": "error",
     "traceback": [
      "\u001b[1;31m---------------------------------------------------------------------------\u001b[0m",
      "\u001b[1;31mKeyError\u001b[0m                                  Traceback (most recent call last)",
      "Cell \u001b[1;32mIn[73], line 1\u001b[0m\n\u001b[1;32m----> 1\u001b[0m CITY[\u001b[38;5;124m'\u001b[39m\u001b[38;5;124mLondon\u001b[39m\u001b[38;5;124m'\u001b[39m]\n",
      "\u001b[1;31mKeyError\u001b[0m: 'London'"
     ]
    }
   ],
   "source": [
    "CITY['London']"
   ]
  },
  {
   "cell_type": "code",
   "execution_count": 75,
   "id": "f5b8e6b4",
   "metadata": {},
   "outputs": [
    {
     "data": {
      "text/plain": [
       "<sqlite3.Cursor at 0x255303dc3c0>"
      ]
     },
     "execution_count": 75,
     "metadata": {},
     "output_type": "execute_result"
    }
   ],
   "source": [
    "data = [(1,2,8),\n",
    "       (2,4,38),\n",
    "       (3,1,11),\n",
    "       ]\n",
    "\n",
    "cur.executemany('INSERT INTO SELLS VALUES(?,?,?)', data)"
   ]
  },
  {
   "cell_type": "code",
   "execution_count": 1,
   "id": "55c1b768",
   "metadata": {},
   "outputs": [
    {
     "ename": "NameError",
     "evalue": "name 'con' is not defined",
     "output_type": "error",
     "traceback": [
      "\u001b[1;31m---------------------------------------------------------------------------\u001b[0m",
      "\u001b[1;31mNameError\u001b[0m                                 Traceback (most recent call last)",
      "Cell \u001b[1;32mIn[1], line 1\u001b[0m\n\u001b[1;32m----> 1\u001b[0m con\u001b[38;5;241m.\u001b[39mclose()\n",
      "\u001b[1;31mNameError\u001b[0m: name 'con' is not defined"
     ]
    }
   ],
   "source": [
    "con.close()"
   ]
  },
  {
   "cell_type": "code",
   "execution_count": 5,
   "id": "2ee67d8d",
   "metadata": {},
   "outputs": [],
   "source": [
    "con = sqlite3.connect('0905.db')\n",
    "cur = con.cursor()"
   ]
  },
  {
   "cell_type": "code",
   "execution_count": 6,
   "id": "dc69a8f6",
   "metadata": {},
   "outputs": [
    {
     "data": {
      "text/plain": [
       "<sqlite3.Cursor at 0x2b49967b340>"
      ]
     },
     "execution_count": 6,
     "metadata": {},
     "output_type": "execute_result"
    }
   ],
   "source": [
    "cur.execute('''\n",
    "    CREATE TABLE PART(\n",
    "        PNO INTEGER PRIMARY KEY,\n",
    "        PNAME TEXT\n",
    "    )\n",
    "''')"
   ]
  },
  {
   "cell_type": "code",
   "execution_count": 9,
   "id": "11dc5217",
   "metadata": {},
   "outputs": [
    {
     "data": {
      "text/plain": [
       "<sqlite3.Cursor at 0x2b49967b340>"
      ]
     },
     "execution_count": 9,
     "metadata": {},
     "output_type": "execute_result"
    }
   ],
   "source": [
    "cur.executescript('''\n",
    "        INSERT INTO PART VALUES(1, 'Screw');\n",
    "        INSERT INTO PART(PNAME) VALUES('Cam');\n",
    "        INSERT INTO PART(PNAME) VALUES('Bolt');\n",
    "        INSERT INTO PART(PNAME) VALUES('Nut');\n",
    "''')"
   ]
  },
  {
   "cell_type": "code",
   "execution_count": 11,
   "id": "7d5cee79",
   "metadata": {},
   "outputs": [
    {
     "data": {
      "text/plain": [
       "<sqlite3.Cursor at 0x2b49967b340>"
      ]
     },
     "execution_count": 11,
     "metadata": {},
     "output_type": "execute_result"
    }
   ],
   "source": [
    "cur.execute('INSERT INTO PART VALUES(NULL, \"Part1\")')"
   ]
  },
  {
   "cell_type": "code",
   "execution_count": 12,
   "id": "d5a8c861",
   "metadata": {},
   "outputs": [
    {
     "data": {
      "text/plain": [
       "[(1, 'Screw'), (2, 'Cam'), (3, 'Bolt'), (4, 'Nut'), (5, 'Part1')]"
      ]
     },
     "execution_count": 12,
     "metadata": {},
     "output_type": "execute_result"
    }
   ],
   "source": [
    "cur.execute('SELECT * FROM PART')\n",
    "cur.fetchall()"
   ]
  },
  {
   "cell_type": "code",
   "execution_count": 13,
   "id": "0c606bb1",
   "metadata": {},
   "outputs": [],
   "source": [
    "con.close()"
   ]
  },
  {
   "cell_type": "code",
   "execution_count": 14,
   "id": "8d1b1393",
   "metadata": {},
   "outputs": [],
   "source": [
    "con = sqlite3.connect('0905.db')\n",
    "cur = con.cursor()"
   ]
  },
  {
   "cell_type": "code",
   "execution_count": 15,
   "id": "e2d567af",
   "metadata": {},
   "outputs": [
    {
     "data": {
      "text/plain": [
       "[(1, 'Screw'), (2, 'Cam'), (3, 'Bolt'), (4, 'Nut')]"
      ]
     },
     "execution_count": 15,
     "metadata": {},
     "output_type": "execute_result"
    }
   ],
   "source": [
    "cur.execute('SELECT * FROM PART')\n",
    "cur.fetchall()"
   ]
  },
  {
   "cell_type": "markdown",
   "id": "37e2142a",
   "metadata": {},
   "source": [
    "위 실행 구문에서는 executescript에서는 commit을 기본적으로 실행하는 것을 보여준다.\n",
    "밑에 있는 cur.execute에서는 commit이 자동적으로 실행되지 않는다."
   ]
  },
  {
   "cell_type": "markdown",
   "id": "d1dd2830",
   "metadata": {},
   "source": [
    "SQLite에서 작업한 데이터베이스는\n",
    "DB Browser for SQLite을 설치해서 간단하게(No Installer) 볼 수 있다."
   ]
  },
  {
   "cell_type": "code",
   "execution_count": null,
   "id": "fa5ad66b",
   "metadata": {},
   "outputs": [],
   "source": [
    "con.commit() #DB에 반영시킴"
   ]
  },
  {
   "cell_type": "code",
   "execution_count": 18,
   "id": "1d1bc4c7",
   "metadata": {},
   "outputs": [
    {
     "data": {
      "text/plain": [
       "0"
      ]
     },
     "execution_count": 18,
     "metadata": {},
     "output_type": "execute_result"
    }
   ],
   "source": [
    "cur.lastrowid"
   ]
  },
  {
   "cell_type": "code",
   "execution_count": 20,
   "id": "9686b111",
   "metadata": {},
   "outputs": [
    {
     "data": {
      "text/plain": [
       "(4, 'Nut')"
      ]
     },
     "execution_count": 20,
     "metadata": {},
     "output_type": "execute_result"
    }
   ],
   "source": [
    "cur.execute('SELECT * FROM PART')\n",
    "cur.fetchall()[-1]"
   ]
  },
  {
   "cell_type": "code",
   "execution_count": 22,
   "id": "fa567981",
   "metadata": {},
   "outputs": [],
   "source": [
    "con.close()"
   ]
  },
  {
   "cell_type": "code",
   "execution_count": 23,
   "id": "5a3da4fa",
   "metadata": {},
   "outputs": [],
   "source": [
    "con = sqlite3.connect('0905.db')"
   ]
  },
  {
   "cell_type": "code",
   "execution_count": 24,
   "id": "0f82472c",
   "metadata": {},
   "outputs": [],
   "source": [
    "cur = con.cursor()"
   ]
  },
  {
   "cell_type": "code",
   "execution_count": 29,
   "id": "ac36b142",
   "metadata": {
    "collapsed": true
   },
   "outputs": [
    {
     "ename": "IntegrityError",
     "evalue": "UNIQUE constraint failed: TEMP.PK",
     "output_type": "error",
     "traceback": [
      "\u001b[1;31m---------------------------------------------------------------------------\u001b[0m",
      "\u001b[1;31mIntegrityError\u001b[0m                            Traceback (most recent call last)",
      "Cell \u001b[1;32mIn[29], line 1\u001b[0m\n\u001b[1;32m----> 1\u001b[0m cur\u001b[38;5;241m.\u001b[39mexecutescript(\u001b[38;5;124m'''\u001b[39m\n\u001b[0;32m      2\u001b[0m \u001b[38;5;124m    DROP TABLE IF EXISTS TEMP;\u001b[39m\n\u001b[0;32m      3\u001b[0m \u001b[38;5;124m    CREATE TABLE TEMP(\u001b[39m\n\u001b[0;32m      4\u001b[0m \u001b[38;5;124m        PK INTEGER NOT NULL UNIQUE,\u001b[39m\n\u001b[0;32m      5\u001b[0m \u001b[38;5;124m        NAME TEXT NOT NULL\u001b[39m\n\u001b[0;32m      6\u001b[0m \u001b[38;5;124m    );\u001b[39m\n\u001b[0;32m      7\u001b[0m \u001b[38;5;124m    \u001b[39m\n\u001b[0;32m      8\u001b[0m \u001b[38;5;124m    INSERT INTO TEMP VALUES(1, \u001b[39m\u001b[38;5;124m'\u001b[39m\u001b[38;5;124mTEST1\u001b[39m\u001b[38;5;124m'\u001b[39m\u001b[38;5;124m);\u001b[39m\n\u001b[0;32m      9\u001b[0m \u001b[38;5;124m    INSERT INTO TEMP VALUES(2, \u001b[39m\u001b[38;5;124m'\u001b[39m\u001b[38;5;124mTEST2\u001b[39m\u001b[38;5;124m'\u001b[39m\u001b[38;5;124m);\u001b[39m\n\u001b[0;32m     10\u001b[0m \u001b[38;5;124m    INSERT INTO TEMP VALUES(2, \u001b[39m\u001b[38;5;124m'\u001b[39m\u001b[38;5;124mTEST3\u001b[39m\u001b[38;5;124m'\u001b[39m\u001b[38;5;124m);\u001b[39m\n\u001b[0;32m     11\u001b[0m \u001b[38;5;124m'''\u001b[39m)\n",
      "\u001b[1;31mIntegrityError\u001b[0m: UNIQUE constraint failed: TEMP.PK"
     ]
    }
   ],
   "source": [
    "cur.executescript('''\n",
    "    DROP TABLE IF EXISTS TEMP;\n",
    "    CREATE TABLE TEMP(\n",
    "        PK INTEGER NOT NULL UNIQUE,\n",
    "        NAME TEXT NOT NULL\n",
    "    );\n",
    "    \n",
    "    INSERT INTO TEMP VALUES(1, 'TEST1');\n",
    "    INSERT INTO TEMP VALUES(2, 'TEST2');\n",
    "    INSERT INTO TEMP VALUES(2, 'TEST3');\n",
    "''')"
   ]
  },
  {
   "cell_type": "code",
   "execution_count": 31,
   "id": "2278f829",
   "metadata": {},
   "outputs": [
    {
     "name": "stdout",
     "output_type": "stream",
     "text": [
      "BEGIN TRANSACTION;\n",
      "CREATE TABLE PART(\n",
      "        PNO INTEGER PRIMARY KEY,\n",
      "        PNAME TEXT\n",
      "    );\n",
      "INSERT INTO \"PART\" VALUES(1,'Screw');\n",
      "INSERT INTO \"PART\" VALUES(2,'Cam');\n",
      "INSERT INTO \"PART\" VALUES(3,'Bolt');\n",
      "INSERT INTO \"PART\" VALUES(4,'Nut');\n",
      "CREATE TABLE TEMP(\n",
      "        PK INTEGER NOT NULL UNIQUE,\n",
      "        NAME TEXT NOT NULL\n",
      "    );\n",
      "INSERT INTO \"TEMP\" VALUES(1,'TEST1');\n",
      "INSERT INTO \"TEMP\" VALUES(2,'TEST2');\n",
      "COMMIT;\n"
     ]
    }
   ],
   "source": [
    "#제약조건까지 그대로 싣는다.\n",
    "for line in con.iterdump():\n",
    "        print(line)"
   ]
  },
  {
   "cell_type": "markdown",
   "id": "aae3d35b",
   "metadata": {},
   "source": [
    "# SQLite를 통한 예제 구현"
   ]
  },
  {
   "cell_type": "code",
   "execution_count": 63,
   "id": "b85a0d0c",
   "metadata": {},
   "outputs": [],
   "source": [
    "con = sqlite3.connect('sns.db')\n",
    "cur = con.cursor()"
   ]
  },
  {
   "cell_type": "code",
   "execution_count": 64,
   "id": "c94e6748",
   "metadata": {},
   "outputs": [
    {
     "data": {
      "text/plain": [
       "<sqlite3.Cursor at 0x2b49998e1c0>"
      ]
     },
     "execution_count": 64,
     "metadata": {},
     "output_type": "execute_result"
    }
   ],
   "source": [
    "cur.executescript('''\n",
    "    DROP TABLE IF EXISTS POST;\n",
    "    DROP TABLE IF EXISTS HASHTAG;\n",
    "    DROP TABLE IF EXISTS POSTTAG;\n",
    "''')"
   ]
  },
  {
   "cell_type": "code",
   "execution_count": 65,
   "id": "a4301e07",
   "metadata": {},
   "outputs": [
    {
     "data": {
      "text/plain": [
       "<sqlite3.Cursor at 0x2b49998e1c0>"
      ]
     },
     "execution_count": 65,
     "metadata": {},
     "output_type": "execute_result"
    }
   ],
   "source": [
    "cur.executescript('''\n",
    "    CREATE TABLE POST(\n",
    "        PK INTEGER PRIMARY KEY,\n",
    "        CONTENT TEXT\n",
    "    );\n",
    "    CREATE TABLE HASHTAG(\n",
    "        PK INTEGER PRIMARY KEY,\n",
    "        COUNT INTEGER DEFAULT 0,\n",
    "        NAME TEXT\n",
    "    );\n",
    "    CREATE TABLE POSTTAG(\n",
    "        PPK INTEGER NOT NULL,\n",
    "        HPK INTEGER NOT NULL\n",
    "    );\n",
    "''')"
   ]
  },
  {
   "cell_type": "code",
   "execution_count": 66,
   "id": "b06a1b85",
   "metadata": {},
   "outputs": [],
   "source": [
    "#HASHTAG Pool <- Tag가 있는지 검사\n",
    "#있으면 PK, 없으면 새롭게 Insert\n",
    "data1 = {'tag':'Python'}\n",
    "\n",
    "cur.execute('''\n",
    "    SELECT COUNT(*) FROM HASHTAG\n",
    "    WHERE NAME=:tag\n",
    "''',data1)\n",
    "\n",
    "if cur.fetchone()[0] == 0:\n",
    "    cur.execute('''\n",
    "        INSERT INTO HASHTAG(NAME) VALUES(:tag)\n",
    "    ''', data1)\n",
    "    con.commit()\n",
    "\n",
    "cur.execute('''\n",
    "    SELECT PK\n",
    "    FROM HASHTAG\n",
    "    WHERE NAME=:tag\n",
    "    LIMIT 0,1\n",
    "''', data1)\n",
    "\n",
    "PPK = cur.fetchone()[0]\n",
    "\n",
    "#Posting 하는 부분\n",
    "data2 = {'content': 'contentA', 'tags':['Python']}\n",
    "\n",
    "cur.execute('INSERT INTO POST(CONTENT) VALUES(:content)', data2)\n",
    "con.commit()\n",
    "TPK = cur.lastrowid;\n",
    "\n",
    "for tag in data['tags']:\n",
    "    #위에다가 tag를 넣으면 PK를 리턴할 것임.\n",
    "    cur.execute('INSERT INTO POSTTAG VALUES(?,?)',[PPK,TPK])\n",
    "    cur.execute('''\n",
    "        UPDATE HASHTAG SET COUNT = COUNT+1\n",
    "            WHERE PK=?\n",
    "    ''', [HPK])\n",
    "    con.commit()"
   ]
  },
  {
   "cell_type": "markdown",
   "id": "79f7c81e",
   "metadata": {},
   "source": [
    "데이터베이스간의 관계보다, 데이터베이스의 처리에 집중하게 되었다는 점이 RDBMS의 가장 큰 단점이다. 그래서 객체-관계로 접근하는 것이 ORM이다.\n",
    "PostgreSQL, SQLite등을 지원하는 SQLAlchemy를 쓴다.<br>\n",
    "여기서 ORM은 Object와 Relation을 자동으로 Mapping해준다는 것"
   ]
  },
  {
   "cell_type": "markdown",
   "id": "a7497d66",
   "metadata": {},
   "source": [
    "# 03 ORM 사용"
   ]
  },
  {
   "cell_type": "code",
   "execution_count": 67,
   "id": "caf2e958",
   "metadata": {
    "collapsed": true
   },
   "outputs": [
    {
     "name": "stdout",
     "output_type": "stream",
     "text": [
      "Package                       Version\n",
      "----------------------------- ---------------\n",
      "aiobotocore                   2.4.2\n",
      "aiofiles                      22.1.0\n",
      "aiohttp                       3.8.3\n",
      "aioitertools                  0.7.1\n",
      "aiosignal                     1.2.0\n",
      "aiosqlite                     0.18.0\n",
      "alabaster                     0.7.12\n",
      "anaconda-catalogs             0.2.0\n",
      "anaconda-client               1.12.0\n",
      "anaconda-navigator            2.4.2\n",
      "anaconda-project              0.11.1\n",
      "anyio                         3.5.0\n",
      "appdirs                       1.4.4\n",
      "argon2-cffi                   21.3.0\n",
      "argon2-cffi-bindings          21.2.0\n",
      "arrow                         1.2.3\n",
      "astroid                       2.14.2\n",
      "astropy                       5.1\n",
      "asttokens                     2.0.5\n",
      "async-timeout                 4.0.2\n",
      "atomicwrites                  1.4.0\n",
      "attrs                         22.1.0\n",
      "Automat                       20.2.0\n",
      "autopep8                      1.6.0\n",
      "Babel                         2.11.0\n",
      "backcall                      0.2.0\n",
      "backports.functools-lru-cache 1.6.4\n",
      "backports.tempfile            1.0\n",
      "backports.weakref             1.0.post1\n",
      "bcrypt                        3.2.0\n",
      "beautifulsoup4                4.12.2\n",
      "binaryornot                   0.4.4\n",
      "black                         0.0\n",
      "bleach                        4.1.0\n",
      "bokeh                         3.2.1\n",
      "boltons                       23.0.0\n",
      "boto3                         1.24.28\n",
      "botocore                      1.27.59\n",
      "Bottleneck                    1.3.5\n",
      "brotlipy                      0.7.0\n",
      "certifi                       2023.7.22\n",
      "cffi                          1.15.1\n",
      "chardet                       4.0.0\n",
      "charset-normalizer            2.0.4\n",
      "click                         8.0.4\n",
      "cloudpickle                   2.2.1\n",
      "clyent                        1.2.2\n",
      "colorama                      0.4.6\n",
      "colorcet                      3.0.1\n",
      "comm                          0.1.2\n",
      "conda                         23.7.2\n",
      "conda-build                   3.26.0\n",
      "conda-content-trust           0+unknown\n",
      "conda_index                   0.2.3\n",
      "conda-libmamba-solver         23.5.0\n",
      "conda-pack                    0.6.0\n",
      "conda-package-handling        2.2.0\n",
      "conda_package_streaming       0.9.0\n",
      "conda-repo-cli                1.0.41\n",
      "conda-token                   0.4.0\n",
      "conda-verify                  3.4.2\n",
      "constantly                    15.1.0\n",
      "contourpy                     1.0.5\n",
      "cookiecutter                  1.7.3\n",
      "cryptography                  41.0.2\n",
      "cssselect                     1.1.0\n",
      "cycler                        0.11.0\n",
      "cytoolz                       0.12.0\n",
      "daal4py                       2023.1.1\n",
      "dask                          2023.6.0\n",
      "datashader                    0.15.1\n",
      "datashape                     0.5.4\n",
      "debugpy                       1.6.7\n",
      "decorator                     5.1.1\n",
      "defusedxml                    0.7.1\n",
      "diff-match-patch              20200713\n",
      "dill                          0.3.6\n",
      "distributed                   2023.6.0\n",
      "docstring-to-markdown         0.11\n",
      "docutils                      0.18.1\n",
      "entrypoints                   0.4\n",
      "et-xmlfile                    1.1.0\n",
      "executing                     0.8.3\n",
      "fastjsonschema                2.16.2\n",
      "filelock                      3.9.0\n",
      "flake8                        6.0.0\n",
      "Flask                         2.2.2\n",
      "fonttools                     4.25.0\n",
      "frozenlist                    1.3.3\n",
      "fsspec                        2023.3.0\n",
      "future                        0.18.3\n",
      "gensim                        4.3.0\n",
      "glob2                         0.7\n",
      "greenlet                      2.0.1\n",
      "h5py                          3.7.0\n",
      "HeapDict                      1.0.1\n",
      "holoviews                     1.17.0\n",
      "hvplot                        0.8.4\n",
      "hyperlink                     21.0.0\n",
      "idna                          3.4\n",
      "imagecodecs                   2021.8.26\n",
      "imageio                       2.26.0\n",
      "imagesize                     1.4.1\n",
      "imbalanced-learn              0.10.1\n",
      "importlib-metadata            6.0.0\n",
      "incremental                   21.3.0\n",
      "inflection                    0.5.1\n",
      "iniconfig                     1.1.1\n",
      "intake                        0.6.8\n",
      "intervaltree                  3.1.0\n",
      "ipykernel                     6.19.2\n",
      "ipython                       8.12.0\n",
      "ipython-genutils              0.2.0\n",
      "ipywidgets                    8.0.4\n",
      "isort                         5.9.3\n",
      "itemadapter                   0.3.0\n",
      "itemloaders                   1.0.4\n",
      "itsdangerous                  2.0.1\n",
      "jaraco.classes                3.2.1\n",
      "jedi                          0.18.1\n",
      "jellyfish                     0.9.0\n",
      "Jinja2                        3.1.2\n",
      "jinja2-time                   0.2.0\n",
      "jmespath                      0.10.0\n",
      "joblib                        1.2.0\n",
      "json5                         0.9.6\n",
      "jsonpatch                     1.32\n",
      "jsonpointer                   2.1\n",
      "jsonschema                    4.17.3\n",
      "jupyter                       1.0.0\n",
      "jupyter_client                7.4.9\n",
      "jupyter-console               6.6.3\n",
      "jupyter_core                  5.3.0\n",
      "jupyter-events                0.6.3\n",
      "jupyter-server                1.23.4\n",
      "jupyter_server_fileid         0.9.0\n",
      "jupyter_server_ydoc           0.8.0\n",
      "jupyter-ydoc                  0.2.4\n",
      "jupyterlab                    3.6.3\n",
      "jupyterlab-pygments           0.1.2\n",
      "jupyterlab_server             2.22.0\n",
      "jupyterlab-widgets            3.0.5\n",
      "keyring                       23.13.1\n",
      "kiwisolver                    1.4.4\n",
      "lazy_loader                   0.2\n",
      "lazy-object-proxy             1.6.0\n",
      "libarchive-c                  2.9\n",
      "libmambapy                    1.4.1\n",
      "linkify-it-py                 2.0.0\n",
      "llvmlite                      0.40.0\n",
      "lmdb                          1.4.1\n",
      "locket                        1.0.0\n",
      "lxml                          4.9.2\n",
      "lz4                           4.3.2\n",
      "Markdown                      3.4.1\n",
      "markdown-it-py                2.2.0\n",
      "MarkupSafe                    2.1.1\n",
      "matplotlib                    3.7.1\n",
      "matplotlib-inline             0.1.6\n",
      "mccabe                        0.7.0\n",
      "mdit-py-plugins               0.3.0\n",
      "mdurl                         0.1.0\n",
      "menuinst                      1.4.19\n",
      "mistune                       0.8.4\n",
      "mkl-fft                       1.3.6\n",
      "mkl-random                    1.2.2\n",
      "mkl-service                   2.4.0\n",
      "more-itertools                8.12.0\n",
      "mpmath                        1.3.0\n",
      "msgpack                       1.0.3\n",
      "multidict                     6.0.2\n",
      "multipledispatch              0.6.0\n",
      "munkres                       1.1.4\n",
      "mypy-extensions               0.4.3\n",
      "navigator-updater             0.4.0\n",
      "nbclassic                     0.5.5\n",
      "nbclient                      0.5.13\n",
      "nbconvert                     6.5.4\n",
      "nbformat                      5.7.0\n",
      "nest-asyncio                  1.5.6\n",
      "networkx                      3.1\n",
      "nltk                          3.8.1\n",
      "notebook                      6.5.4\n",
      "notebook_shim                 0.2.2\n",
      "numba                         0.57.0\n",
      "numexpr                       2.8.4\n",
      "numpy                         1.24.3\n",
      "numpydoc                      1.5.0\n",
      "openpyxl                      3.0.10\n",
      "packaging                     23.0\n",
      "pandas                        1.5.3\n",
      "pandocfilters                 1.5.0\n",
      "panel                         1.2.1\n",
      "param                         1.13.0\n",
      "paramiko                      2.8.1\n",
      "parsel                        1.6.0\n",
      "parso                         0.8.3\n",
      "partd                         1.2.0\n",
      "pathlib                       1.0.1\n",
      "pathspec                      0.10.3\n",
      "patsy                         0.5.3\n",
      "pep8                          1.7.1\n",
      "pexpect                       4.8.0\n",
      "pickleshare                   0.7.5\n",
      "Pillow                        9.4.0\n",
      "pip                           23.2.1\n",
      "pkginfo                       1.9.6\n",
      "platformdirs                  2.5.2\n",
      "plotly                        5.9.0\n",
      "pluggy                        1.0.0\n",
      "ply                           3.11\n",
      "pooch                         1.4.0\n",
      "poyo                          0.5.0\n",
      "prometheus-client             0.14.1\n",
      "prompt-toolkit                3.0.36\n",
      "Protego                       0.1.16\n",
      "psutil                        5.9.0\n",
      "ptyprocess                    0.7.0\n",
      "pure-eval                     0.2.2\n",
      "py-cpuinfo                    8.0.0\n",
      "pyarrow                       11.0.0\n",
      "pyasn1                        0.4.8\n",
      "pyasn1-modules                0.2.8\n",
      "pycodestyle                   2.10.0\n",
      "pycosat                       0.6.4\n",
      "pycparser                     2.21\n",
      "pyct                          0.5.0\n",
      "pycurl                        7.45.2\n",
      "PyDispatcher                  2.0.5\n",
      "pydocstyle                    6.3.0\n",
      "pyerfa                        2.0.0\n",
      "pyflakes                      3.0.1\n",
      "Pygments                      2.15.1\n",
      "PyJWT                         2.4.0\n",
      "pylint                        2.16.2\n",
      "pylint-venv                   2.3.0\n",
      "pyls-spyder                   0.4.0\n",
      "PyNaCl                        1.5.0\n",
      "pyodbc                        4.0.34\n",
      "pyOpenSSL                     23.2.0\n",
      "pyparsing                     3.0.9\n",
      "PyQt5                         5.15.7\n",
      "PyQt5-sip                     12.11.0\n",
      "PyQtWebEngine                 5.15.4\n",
      "pyrsistent                    0.18.0\n",
      "PySocks                       1.7.1\n",
      "pytest                        7.4.0\n",
      "python-dateutil               2.8.2\n",
      "python-json-logger            2.0.7\n",
      "python-lsp-black              1.2.1\n",
      "python-lsp-jsonrpc            1.0.0\n",
      "python-lsp-server             1.7.2\n",
      "python-slugify                5.0.2\n",
      "python-snappy                 0.6.1\n",
      "pytoolconfig                  1.2.5\n",
      "pytz                          2022.7\n",
      "pyviz-comms                   2.3.0\n",
      "PyWavelets                    1.4.1\n",
      "pywin32                       305.1\n",
      "pywin32-ctypes                0.2.0\n",
      "pywinpty                      2.0.10\n",
      "PyYAML                        6.0\n",
      "pyzmq                         23.2.0\n",
      "QDarkStyle                    3.0.2\n",
      "qstylizer                     0.2.2\n",
      "QtAwesome                     1.2.2\n",
      "qtconsole                     5.4.2\n",
      "QtPy                          2.2.0\n",
      "queuelib                      1.5.0\n",
      "regex                         2022.7.9\n",
      "requests                      2.31.0\n",
      "requests-file                 1.5.1\n",
      "requests-toolbelt             1.0.0\n",
      "rfc3339-validator             0.1.4\n",
      "rfc3986-validator             0.1.1\n",
      "rope                          1.7.0\n",
      "Rtree                         1.0.1\n",
      "ruamel.yaml                   0.17.21\n",
      "ruamel-yaml-conda             0.17.21\n",
      "s3fs                          2023.3.0\n",
      "s3transfer                    0.6.0\n",
      "sacremoses                    0.0.43\n",
      "scikit-image                  0.20.0\n",
      "scikit-learn                  1.3.0\n",
      "scikit-learn-intelex          20230426.121932\n",
      "scipy                         1.10.1\n",
      "Scrapy                        2.8.0\n",
      "seaborn                       0.12.2\n",
      "Send2Trash                    1.8.0\n",
      "service-identity              18.1.0\n",
      "setuptools                    68.0.0\n",
      "sip                           6.6.2\n",
      "six                           1.16.0\n",
      "smart-open                    5.2.1\n",
      "sniffio                       1.2.0\n",
      "snowballstemmer               2.2.0\n",
      "sortedcontainers              2.4.0\n",
      "soupsieve                     2.4\n",
      "Sphinx                        5.0.2\n",
      "sphinxcontrib-applehelp       1.0.2\n",
      "sphinxcontrib-devhelp         1.0.2\n",
      "sphinxcontrib-htmlhelp        2.0.0\n",
      "sphinxcontrib-jsmath          1.0.1\n",
      "sphinxcontrib-qthelp          1.0.3\n",
      "sphinxcontrib-serializinghtml 1.1.5\n",
      "spyder                        5.4.3\n",
      "spyder-kernels                2.4.3\n",
      "SQLAlchemy                    1.4.39\n",
      "stack-data                    0.2.0\n",
      "statsmodels                   0.14.0\n",
      "sympy                         1.11.1\n",
      "tables                        3.8.0\n",
      "tabulate                      0.8.10\n",
      "TBB                           0.2\n",
      "tblib                         1.7.0\n",
      "tenacity                      8.2.2\n",
      "terminado                     0.17.1\n",
      "text-unidecode                1.3\n",
      "textdistance                  4.2.1\n",
      "threadpoolctl                 2.2.0\n",
      "three-merge                   0.1.1\n",
      "tifffile                      2021.7.2\n",
      "tinycss2                      1.2.1\n",
      "tldextract                    3.2.0\n",
      "toml                          0.10.2\n",
      "tomlkit                       0.11.1\n",
      "toolz                         0.12.0\n",
      "tornado                       6.3.2\n",
      "tqdm                          4.65.0\n",
      "traitlets                     5.7.1\n",
      "transformers                  2.1.1\n",
      "Twisted                       22.10.0\n",
      "twisted-iocpsupport           1.0.2\n",
      "typing_extensions             4.7.1\n",
      "uc-micro-py                   1.0.1\n",
      "ujson                         5.4.0\n",
      "Unidecode                     1.2.0\n",
      "urllib3                       1.26.16\n",
      "w3lib                         1.21.0\n",
      "watchdog                      2.1.6\n",
      "wcwidth                       0.2.5\n",
      "webencodings                  0.5.1\n",
      "websocket-client              0.58.0\n",
      "Werkzeug                      2.2.3\n",
      "whatthepatch                  1.0.2\n",
      "wheel                         0.38.4\n",
      "widgetsnbextension            4.0.5\n",
      "win-inet-pton                 1.1.0\n",
      "wrapt                         1.14.1\n",
      "xarray                        2023.6.0\n",
      "xlwings                       0.29.1\n",
      "xyzservices                   2022.9.0\n",
      "y-py                          0.5.9\n",
      "yapf                          0.31.0\n",
      "yarl                          1.8.1\n",
      "ypy-websocket                 0.8.2\n",
      "zict                          2.2.0\n",
      "zipp                          3.11.0\n",
      "zope.interface                5.4.0\n",
      "zstandard                     0.19.0\n"
     ]
    }
   ],
   "source": [
    "#!pip list\n",
    "#!pip install SQLAlchemy"
   ]
  },
  {
   "cell_type": "markdown",
   "id": "4780b87a",
   "metadata": {},
   "source": [
    "ORM은 core을 사용할 수 있게 감싸둔 것이고, Core의 기능은 다음과 같다.<br>\n",
    "Engine : dialect / connecton pooling : 연결 수립, 데이터 전달 등등...<br>\n",
    "..."
   ]
  },
  {
   "cell_type": "code",
   "execution_count": 71,
   "id": "8560fcaf",
   "metadata": {},
   "outputs": [],
   "source": [
    "from sqlalchemy import create_engine, MetaData\n",
    "from sqlalchemy.schema import Table, Column, ForeignKey\n",
    "from sqlalchemy.types import Integer, Text"
   ]
  },
  {
   "cell_type": "code",
   "execution_count": 72,
   "id": "9db50ae6",
   "metadata": {},
   "outputs": [],
   "source": [
    "engine = create_engine('sqlite:///:memory:', echo=True)"
   ]
  },
  {
   "cell_type": "code",
   "execution_count": 74,
   "id": "51d78085",
   "metadata": {},
   "outputs": [],
   "source": [
    "meta = MetaData()"
   ]
  },
  {
   "cell_type": "code",
   "execution_count": 76,
   "id": "f2265684",
   "metadata": {},
   "outputs": [],
   "source": [
    "user = Table('USER', meta, \n",
    "            Column('PK', Integer, primary_key=True),\n",
    "            Column('NAME', Text, nullable=True),\n",
    "            )"
   ]
  },
  {
   "cell_type": "code",
   "execution_count": 77,
   "id": "31106318",
   "metadata": {},
   "outputs": [
    {
     "name": "stdout",
     "output_type": "stream",
     "text": [
      "2023-09-05 12:24:41,395 INFO sqlalchemy.engine.Engine BEGIN (implicit)\n",
      "2023-09-05 12:24:41,396 INFO sqlalchemy.engine.Engine PRAGMA main.table_info(\"USER\")\n",
      "2023-09-05 12:24:41,397 INFO sqlalchemy.engine.Engine [raw sql] ()\n",
      "2023-09-05 12:24:41,399 INFO sqlalchemy.engine.Engine PRAGMA temp.table_info(\"USER\")\n",
      "2023-09-05 12:24:41,400 INFO sqlalchemy.engine.Engine [raw sql] ()\n",
      "2023-09-05 12:24:41,402 INFO sqlalchemy.engine.Engine \n",
      "CREATE TABLE \"USER\" (\n",
      "\t\"PK\" INTEGER NOT NULL, \n",
      "\t\"NAME\" TEXT, \n",
      "\tPRIMARY KEY (\"PK\")\n",
      ")\n",
      "\n",
      "\n",
      "2023-09-05 12:24:41,403 INFO sqlalchemy.engine.Engine [no key 0.00085s] ()\n",
      "2023-09-05 12:24:41,404 INFO sqlalchemy.engine.Engine COMMIT\n"
     ]
    }
   ],
   "source": [
    "meta.create_all(engine)\n",
    "#여기서 나오는 것이 뒤어서 돌아가는 SQL문이다.(echo=True라서 반환됨)"
   ]
  },
  {
   "cell_type": "code",
   "execution_count": 78,
   "id": "f617b027",
   "metadata": {},
   "outputs": [],
   "source": [
    "meta.clear()"
   ]
  },
  {
   "cell_type": "code",
   "execution_count": 79,
   "id": "49687fa9",
   "metadata": {},
   "outputs": [
    {
     "data": {
      "text/plain": [
       "FacadeDict({})"
      ]
     },
     "execution_count": 79,
     "metadata": {},
     "output_type": "execute_result"
    }
   ],
   "source": [
    "meta.tables"
   ]
  },
  {
   "cell_type": "code",
   "execution_count": 80,
   "id": "ffc0a79d",
   "metadata": {},
   "outputs": [
    {
     "name": "stdout",
     "output_type": "stream",
     "text": [
      "2023-09-05 12:26:03,754 INFO sqlalchemy.engine.Engine BEGIN (implicit)\n",
      "2023-09-05 12:26:03,755 INFO sqlalchemy.engine.Engine COMMIT\n"
     ]
    }
   ],
   "source": [
    "meta.create_all(engine)"
   ]
  },
  {
   "cell_type": "code",
   "execution_count": 81,
   "id": "0796da42",
   "metadata": {},
   "outputs": [
    {
     "name": "stdout",
     "output_type": "stream",
     "text": [
      "2023-09-05 12:27:05,873 INFO sqlalchemy.engine.Engine SELECT name FROM sqlite_master WHERE type='table' ORDER BY name\n",
      "2023-09-05 12:27:05,875 INFO sqlalchemy.engine.Engine [raw sql] ()\n",
      "2023-09-05 12:27:05,876 INFO sqlalchemy.engine.Engine PRAGMA main.table_xinfo(\"USER\")\n",
      "2023-09-05 12:27:05,876 INFO sqlalchemy.engine.Engine [raw sql] ()\n",
      "2023-09-05 12:27:05,878 INFO sqlalchemy.engine.Engine SELECT sql FROM  (SELECT * FROM sqlite_master UNION ALL   SELECT * FROM sqlite_temp_master) WHERE name = ? AND type = 'table'\n",
      "2023-09-05 12:27:05,878 INFO sqlalchemy.engine.Engine [raw sql] ('USER',)\n",
      "2023-09-05 12:27:05,880 INFO sqlalchemy.engine.Engine PRAGMA main.foreign_key_list(\"USER\")\n",
      "2023-09-05 12:27:05,880 INFO sqlalchemy.engine.Engine [raw sql] ()\n",
      "2023-09-05 12:27:05,881 INFO sqlalchemy.engine.Engine PRAGMA temp.foreign_key_list(\"USER\")\n",
      "2023-09-05 12:27:05,881 INFO sqlalchemy.engine.Engine [raw sql] ()\n",
      "2023-09-05 12:27:05,882 INFO sqlalchemy.engine.Engine SELECT sql FROM  (SELECT * FROM sqlite_master UNION ALL   SELECT * FROM sqlite_temp_master) WHERE name = ? AND type = 'table'\n",
      "2023-09-05 12:27:05,882 INFO sqlalchemy.engine.Engine [raw sql] ('USER',)\n",
      "2023-09-05 12:27:05,884 INFO sqlalchemy.engine.Engine PRAGMA main.index_list(\"USER\")\n",
      "2023-09-05 12:27:05,884 INFO sqlalchemy.engine.Engine [raw sql] ()\n",
      "2023-09-05 12:27:05,885 INFO sqlalchemy.engine.Engine PRAGMA temp.index_list(\"USER\")\n",
      "2023-09-05 12:27:05,885 INFO sqlalchemy.engine.Engine [raw sql] ()\n",
      "2023-09-05 12:27:05,886 INFO sqlalchemy.engine.Engine PRAGMA main.index_list(\"USER\")\n",
      "2023-09-05 12:27:05,887 INFO sqlalchemy.engine.Engine [raw sql] ()\n",
      "2023-09-05 12:27:05,887 INFO sqlalchemy.engine.Engine PRAGMA temp.index_list(\"USER\")\n",
      "2023-09-05 12:27:05,888 INFO sqlalchemy.engine.Engine [raw sql] ()\n",
      "2023-09-05 12:27:05,888 INFO sqlalchemy.engine.Engine SELECT sql FROM  (SELECT * FROM sqlite_master UNION ALL   SELECT * FROM sqlite_temp_master) WHERE name = ? AND type = 'table'\n",
      "2023-09-05 12:27:05,889 INFO sqlalchemy.engine.Engine [raw sql] ('USER',)\n"
     ]
    }
   ],
   "source": [
    "meta.reflect(engine)"
   ]
  },
  {
   "cell_type": "code",
   "execution_count": 82,
   "id": "07f0f2d9",
   "metadata": {},
   "outputs": [
    {
     "data": {
      "text/plain": [
       "FacadeDict({'USER': Table('USER', MetaData(), Column('PK', INTEGER(), table=<USER>, primary_key=True, nullable=False), Column('NAME', TEXT(), table=<USER>), schema=None)})"
      ]
     },
     "execution_count": 82,
     "metadata": {},
     "output_type": "execute_result"
    }
   ],
   "source": [
    "meta.tables"
   ]
  },
  {
   "cell_type": "code",
   "execution_count": 83,
   "id": "bf722628",
   "metadata": {
    "collapsed": true
   },
   "outputs": [
    {
     "data": {
      "text/plain": [
       "(sqlalchemy.sql.schema.Table,\n",
       " ['__bool__',\n",
       "  '__class__',\n",
       "  '__class_getitem__',\n",
       "  '__delattr__',\n",
       "  '__dict__',\n",
       "  '__dir__',\n",
       "  '__doc__',\n",
       "  '__eq__',\n",
       "  '__format__',\n",
       "  '__ge__',\n",
       "  '__getattribute__',\n",
       "  '__getstate__',\n",
       "  '__gt__',\n",
       "  '__hash__',\n",
       "  '__init__',\n",
       "  '__init_subclass__',\n",
       "  '__invert__',\n",
       "  '__le__',\n",
       "  '__lt__',\n",
       "  '__module__',\n",
       "  '__ne__',\n",
       "  '__new__',\n",
       "  '__nonzero__',\n",
       "  '__reduce__',\n",
       "  '__reduce_ex__',\n",
       "  '__repr__',\n",
       "  '__setattr__',\n",
       "  '__sizeof__',\n",
       "  '__slots__',\n",
       "  '__str__',\n",
       "  '__subclasshook__',\n",
       "  '__visit_name__',\n",
       "  '__weakref__',\n",
       "  '_all_selected_columns',\n",
       "  '_annotate',\n",
       "  '_annotations',\n",
       "  '_annotations_cache_key',\n",
       "  '_anonymous_fromclause',\n",
       "  '_assert_no_memoizations',\n",
       "  '_autoincrement_column',\n",
       "  '_autoload',\n",
       "  '_cache_key_traversal',\n",
       "  '_clone',\n",
       "  '_cloned_set',\n",
       "  '_cols_populated',\n",
       "  '_columns',\n",
       "  '_compile_w_cache',\n",
       "  '_compiler',\n",
       "  '_compiler_dispatch',\n",
       "  '_constructor',\n",
       "  '_copy_internals',\n",
       "  '_deannotate',\n",
       "  '_dialect_kwargs_traverse_internals',\n",
       "  '_execute_on_connection',\n",
       "  '_extra_dependencies',\n",
       "  '_extra_kwargs',\n",
       "  '_from_objects',\n",
       "  '_gen_cache_key',\n",
       "  '_generate_cache_attrs',\n",
       "  '_generate_cache_key',\n",
       "  '_generate_cache_key_for_object',\n",
       "  '_generate_fromclause_column_proxies',\n",
       "  '_hide_froms',\n",
       "  '_hierarchy_supports_caching',\n",
       "  '_init',\n",
       "  '_init_collections',\n",
       "  '_init_existing',\n",
       "  '_init_items',\n",
       "  '_is_bind_parameter',\n",
       "  '_is_clause_list',\n",
       "  '_is_clone_of',\n",
       "  '_is_from_clause',\n",
       "  '_is_from_container',\n",
       "  '_is_has_cache_key',\n",
       "  '_is_immutable',\n",
       "  '_is_join',\n",
       "  '_is_lambda_element',\n",
       "  '_is_lateral',\n",
       "  '_is_lexical_equivalent',\n",
       "  '_is_returns_rows',\n",
       "  '_is_select_container',\n",
       "  '_is_select_statement',\n",
       "  '_is_singleton_constant',\n",
       "  '_is_subquery',\n",
       "  '_is_text_clause',\n",
       "  '_is_textual',\n",
       "  '_kw_reg_for_dialect_cls',\n",
       "  '_kw_registry',\n",
       "  '_memoized_keys',\n",
       "  '_negate',\n",
       "  '_negate_in_binary',\n",
       "  '_order_by_label_element',\n",
       "  '_original_compiler_dispatch',\n",
       "  '_populate_column_collection',\n",
       "  '_post_inspect',\n",
       "  '_prefixes',\n",
       "  '_propagate_attrs',\n",
       "  '_refresh_for_new_column',\n",
       "  '_replace_params',\n",
       "  '_reset_column_collection',\n",
       "  '_reset_exported',\n",
       "  '_reset_memoizations',\n",
       "  '_role_name',\n",
       "  '_schema_item_copy',\n",
       "  '_select_iterable',\n",
       "  '_set_memoized_attribute',\n",
       "  '_set_parent',\n",
       "  '_set_parent_with_dispatch',\n",
       "  '_set_propagate_attrs',\n",
       "  '_sorted_constraints',\n",
       "  '_traverse_internals',\n",
       "  '_ungroup',\n",
       "  '_use_schema_map',\n",
       "  '_validate_dialect_kwargs',\n",
       "  '_with_annotations',\n",
       "  '_with_binary_element_type',\n",
       "  'add_is_dependent_on',\n",
       "  'alias',\n",
       "  'allows_lambda',\n",
       "  'append_column',\n",
       "  'append_constraint',\n",
       "  'argument_for',\n",
       "  'bind',\n",
       "  'c',\n",
       "  'columns',\n",
       "  'comment',\n",
       "  'compare',\n",
       "  'compile',\n",
       "  'constraints',\n",
       "  'corresponding_column',\n",
       "  'create',\n",
       "  'create_drop_stringify_dialect',\n",
       "  'delete',\n",
       "  'description',\n",
       "  'dialect_kwargs',\n",
       "  'dialect_options',\n",
       "  'dispatch',\n",
       "  'drop',\n",
       "  'entity_namespace',\n",
       "  'exists',\n",
       "  'exported_columns',\n",
       "  'foreign_key_constraints',\n",
       "  'foreign_keys',\n",
       "  'fullname',\n",
       "  'get_children',\n",
       "  'implicit_returning',\n",
       "  'indexes',\n",
       "  'info',\n",
       "  'inherit_cache',\n",
       "  'insert',\n",
       "  'is_clause_element',\n",
       "  'is_derived_from',\n",
       "  'is_selectable',\n",
       "  'join',\n",
       "  'key',\n",
       "  'kwargs',\n",
       "  'lateral',\n",
       "  'memoized_attribute',\n",
       "  'memoized_instancemethod',\n",
       "  'metadata',\n",
       "  'name',\n",
       "  'named_with_column',\n",
       "  'outerjoin',\n",
       "  'params',\n",
       "  'primary_key',\n",
       "  'replace_selectable',\n",
       "  'schema',\n",
       "  'select',\n",
       "  'selectable',\n",
       "  'self_group',\n",
       "  'stringify_dialect',\n",
       "  'supports_execution',\n",
       "  'table_valued',\n",
       "  'tablesample',\n",
       "  'to_metadata',\n",
       "  'tometadata',\n",
       "  'unique_params',\n",
       "  'update',\n",
       "  'uses_inspection'])"
      ]
     },
     "execution_count": 83,
     "metadata": {},
     "output_type": "execute_result"
    }
   ],
   "source": [
    "type(user), dir(user)"
   ]
  },
  {
   "cell_type": "code",
   "execution_count": 87,
   "id": "a7954057",
   "metadata": {},
   "outputs": [],
   "source": [
    "user1 = user.insert().values(NAME=\"Hong\")"
   ]
  },
  {
   "cell_type": "code",
   "execution_count": 88,
   "id": "34793e11",
   "metadata": {},
   "outputs": [
    {
     "ename": "AttributeError",
     "evalue": "'Insert' object has no attribute 'complie'",
     "output_type": "error",
     "traceback": [
      "\u001b[1;31m---------------------------------------------------------------------------\u001b[0m",
      "\u001b[1;31mAttributeError\u001b[0m                            Traceback (most recent call last)",
      "Cell \u001b[1;32mIn[88], line 1\u001b[0m\n\u001b[1;32m----> 1\u001b[0m \u001b[38;5;28mprint\u001b[39m(user1\u001b[38;5;241m.\u001b[39mcomplie()\u001b[38;5;241m.\u001b[39mparams)\n",
      "\u001b[1;31mAttributeError\u001b[0m: 'Insert' object has no attribute 'complie'"
     ]
    }
   ],
   "source": [
    "print(user1.complie().params)"
   ]
  },
  {
   "cell_type": "code",
   "execution_count": null,
   "id": "45f50346",
   "metadata": {},
   "outputs": [],
   "source": []
  },
  {
   "cell_type": "code",
   "execution_count": null,
   "id": "fc810274",
   "metadata": {},
   "outputs": [],
   "source": []
  },
  {
   "cell_type": "code",
   "execution_count": null,
   "id": "89fa8fbe",
   "metadata": {},
   "outputs": [],
   "source": []
  },
  {
   "cell_type": "code",
   "execution_count": null,
   "id": "20bd88e2",
   "metadata": {},
   "outputs": [],
   "source": []
  },
  {
   "cell_type": "code",
   "execution_count": null,
   "id": "fe67d642",
   "metadata": {},
   "outputs": [],
   "source": []
  }
 ],
 "metadata": {
  "kernelspec": {
   "display_name": "Python 3 (ipykernel)",
   "language": "python",
   "name": "python3"
  },
  "language_info": {
   "codemirror_mode": {
    "name": "ipython",
    "version": 3
   },
   "file_extension": ".py",
   "mimetype": "text/x-python",
   "name": "python",
   "nbconvert_exporter": "python",
   "pygments_lexer": "ipython3",
   "version": "3.11.4"
  }
 },
 "nbformat": 4,
 "nbformat_minor": 5
}
