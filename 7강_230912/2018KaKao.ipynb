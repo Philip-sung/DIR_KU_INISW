{
 "cells": [
  {
   "cell_type": "code",
   "execution_count": 1,
   "id": "70bd19a7",
   "metadata": {},
   "outputs": [],
   "source": [
    "from math import pow\n",
    "from functools import reduce\n",
    "\n",
    "def score_logic(input: str):\n",
    "    res = re.findall('([0-9][0]?)([SDT])([*#])?', input)\n",
    "    scorelist = []\n",
    "    for unit in res:\n",
    "        score = int(unit[0])\n",
    "        index = {'S': 1, 'D': 2, 'T': 3}\n",
    "        score = pow(score, index[unit[1]])\n",
    "        if unit[2] == '*':\n",
    "            score *= 2\n",
    "            if len(scorelist) > 0:\n",
    "                scorelist[-1] *= 2\n",
    "        elif unit[2] == '#':\n",
    "            score *= -1\n",
    "        else:\n",
    "            pass\n",
    "        scorelist.append(score)\n",
    "        \n",
    "    scoresum = reduce(lambda x, y: x+y, scorelist)\n",
    "    return scoresum "
   ]
  },
  {
   "cell_type": "code",
   "execution_count": 2,
   "id": "8ea64654",
   "metadata": {},
   "outputs": [],
   "source": [
    "data= '1D2S3T*'"
   ]
  },
  {
   "cell_type": "code",
   "execution_count": null,
   "id": "26a8f303",
   "metadata": {},
   "outputs": [],
   "source": [
    "score_logic(data)"
   ]
  }
 ],
 "metadata": {
  "kernelspec": {
   "display_name": "Python 3 (ipykernel)",
   "language": "python",
   "name": "python3"
  },
  "language_info": {
   "codemirror_mode": {
    "name": "ipython",
    "version": 3
   },
   "file_extension": ".py",
   "mimetype": "text/x-python",
   "name": "python",
   "nbconvert_exporter": "python",
   "pygments_lexer": "ipython3",
   "version": "3.11.4"
  }
 },
 "nbformat": 4,
 "nbformat_minor": 5
}
