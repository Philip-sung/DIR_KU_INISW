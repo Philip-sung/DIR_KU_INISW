{
 "cells": [
  {
   "cell_type": "markdown",
   "id": "b29e03e4",
   "metadata": {},
   "source": [
    "# 01 개요"
   ]
  },
  {
   "cell_type": "markdown",
   "id": "7198284f",
   "metadata": {},
   "source": [
    "## 01.01 Imports"
   ]
  },
  {
   "cell_type": "code",
   "execution_count": 46,
   "id": "6ad0193f",
   "metadata": {},
   "outputs": [],
   "source": [
    "from operator import add, mul\n",
    "from functools import reduce\n",
    "from functools import partial"
   ]
  },
  {
   "cell_type": "markdown",
   "id": "657cdf96",
   "metadata": {},
   "source": [
    "## 01.02 "
   ]
  },
  {
   "cell_type": "markdown",
   "id": "680c8ae0",
   "metadata": {},
   "source": [
    "map이 파이썬에서 가장 효율적인 자료구조(R에서의 apply), 다만 어렵다.<br>"
   ]
  },
  {
   "cell_type": "markdown",
   "id": "2e486f5c",
   "metadata": {},
   "source": [
    "#### filter(predicate, iter)\n",
    "predicate : Ture / False를 반환한다.<br>\n",
    "predicate에 의해 true일 때 뽑아준다.<br>\n",
    "\n"
   ]
  },
  {
   "cell_type": "code",
   "execution_count": 3,
   "id": "02a82413",
   "metadata": {},
   "outputs": [],
   "source": [
    "#accumulation - haskel에서 컴프리핸션으로 구현된 것.\n",
    "temp = []\n",
    "for i in range(10):\n",
    "    temp.append(i)"
   ]
  },
  {
   "cell_type": "code",
   "execution_count": 4,
   "id": "3e3a13fb",
   "metadata": {},
   "outputs": [
    {
     "data": {
      "text/plain": [
       "[0, 1, 2, 3, 4, 5, 6, 7, 8, 9]"
      ]
     },
     "execution_count": 4,
     "metadata": {},
     "output_type": "execute_result"
    }
   ],
   "source": [
    "temp"
   ]
  },
  {
   "cell_type": "code",
   "execution_count": 6,
   "id": "084ea26d",
   "metadata": {},
   "outputs": [],
   "source": [
    "#look and search : accumulation 패턴의 centinal(문지기)\n",
    "temp = []\n",
    "for i in range(10):\n",
    "    if i % 2 == 0:\n",
    "        temp.append(i)"
   ]
  },
  {
   "cell_type": "code",
   "execution_count": 7,
   "id": "c6714a1f",
   "metadata": {},
   "outputs": [
    {
     "data": {
      "text/plain": [
       "[0, 2, 4, 6, 8]"
      ]
     },
     "execution_count": 7,
     "metadata": {},
     "output_type": "execute_result"
    }
   ],
   "source": [
    "temp"
   ]
  },
  {
   "cell_type": "markdown",
   "id": "302a6a9f",
   "metadata": {},
   "source": [
    "#### comprehension 6가지 패턴 中 2"
   ]
  },
  {
   "cell_type": "code",
   "execution_count": 12,
   "id": "39a4dddb",
   "metadata": {},
   "outputs": [
    {
     "data": {
      "text/plain": [
       "[0, 1, 2, 3, 4, 5, 6, 7, 8, 9]"
      ]
     },
     "execution_count": 12,
     "metadata": {},
     "output_type": "execute_result"
    }
   ],
   "source": [
    "[i for i in range(10)]"
   ]
  },
  {
   "cell_type": "code",
   "execution_count": 13,
   "id": "5a77b60e",
   "metadata": {},
   "outputs": [
    {
     "data": {
      "text/plain": [
       "[0, 2, 4, 6, 8]"
      ]
     },
     "execution_count": 13,
     "metadata": {},
     "output_type": "execute_result"
    }
   ],
   "source": [
    "[i for i in range(10) if i % 2 == 0]"
   ]
  },
  {
   "cell_type": "markdown",
   "id": "574a147c",
   "metadata": {},
   "source": [
    "프로그래밍에서 abstraction과 automation이 가장 중요하게 여겨진다. 공통되는걸 반복사용해서 편하게 만드는 것."
   ]
  },
  {
   "cell_type": "markdown",
   "id": "93db9014",
   "metadata": {},
   "source": [
    "#### 연산자 정리"
   ]
  },
  {
   "cell_type": "code",
   "execution_count": 25,
   "id": "97bfe53d",
   "metadata": {},
   "outputs": [
    {
     "data": {
      "text/plain": [
       "7"
      ]
     },
     "execution_count": 25,
     "metadata": {},
     "output_type": "execute_result"
    }
   ],
   "source": [
    "3 + 4\n",
    "#연산자는 함수, 정확하게 얘기하면 메서드를 대표한다. 내부적으로 메서드로 처리된다. 그러므로 데이터타입마다 얘의 행동을 결정해야 한다(연산자 오버로딩)."
   ]
  },
  {
   "cell_type": "code",
   "execution_count": 26,
   "id": "a4ca48b2",
   "metadata": {},
   "outputs": [
    {
     "data": {
      "text/plain": [
       "7"
      ]
     },
     "execution_count": 26,
     "metadata": {},
     "output_type": "execute_result"
    }
   ],
   "source": [
    "#함수형 패러다임\n",
    "def add(x, y):\n",
    "    return x + y\n",
    "\n",
    "add(3,4)"
   ]
  },
  {
   "cell_type": "code",
   "execution_count": 27,
   "id": "c45b7692",
   "metadata": {},
   "outputs": [],
   "source": [
    "class A:\n",
    "    def __add__(self, x):\n",
    "        print('ㅈㄱ')"
   ]
  },
  {
   "cell_type": "code",
   "execution_count": 28,
   "id": "4b854d38",
   "metadata": {},
   "outputs": [],
   "source": [
    "a = A()"
   ]
  },
  {
   "cell_type": "code",
   "execution_count": 29,
   "id": "fd1a94c2",
   "metadata": {},
   "outputs": [
    {
     "name": "stdout",
     "output_type": "stream",
     "text": [
      "ㅈㄱ\n"
     ]
    }
   ],
   "source": [
    "a + 3"
   ]
  },
  {
   "cell_type": "code",
   "execution_count": 30,
   "id": "4903c894",
   "metadata": {},
   "outputs": [
    {
     "data": {
      "text/plain": [
       "<__main__.A at 0x218cf678810>"
      ]
     },
     "execution_count": 30,
     "metadata": {},
     "output_type": "execute_result"
    }
   ],
   "source": [
    "A()\n",
    "#도 연산자이다."
   ]
  },
  {
   "cell_type": "markdown",
   "id": "8a40976d",
   "metadata": {},
   "source": [
    "파이토치의 computational graph에서도 연산자의 개념이 없다. "
   ]
  },
  {
   "cell_type": "markdown",
   "id": "16b019e8",
   "metadata": {},
   "source": [
    "모든 기본 연산자는 함수로 만들어져 있다."
   ]
  },
  {
   "cell_type": "code",
   "execution_count": 31,
   "id": "45f5ada1",
   "metadata": {},
   "outputs": [],
   "source": [
    "from operator import add"
   ]
  },
  {
   "cell_type": "code",
   "execution_count": 32,
   "id": "7c48ea22",
   "metadata": {},
   "outputs": [
    {
     "data": {
      "text/plain": [
       "7"
      ]
     },
     "execution_count": 32,
     "metadata": {},
     "output_type": "execute_result"
    }
   ],
   "source": [
    "add(3,4)"
   ]
  },
  {
   "cell_type": "code",
   "execution_count": 36,
   "id": "d43056cb",
   "metadata": {},
   "outputs": [
    {
     "data": {
      "text/plain": [
       "[1, 2, 3, 4, 5, 6]"
      ]
     },
     "execution_count": 36,
     "metadata": {},
     "output_type": "execute_result"
    }
   ],
   "source": [
    "add([1,2,3], [4,5,6])"
   ]
  },
  {
   "cell_type": "code",
   "execution_count": 40,
   "id": "4a790758",
   "metadata": {},
   "outputs": [
    {
     "data": {
      "text/plain": [
       "15"
      ]
     },
     "execution_count": 40,
     "metadata": {},
     "output_type": "execute_result"
    }
   ],
   "source": [
    "reduce(lambda x,y:x + y, [1,2,3,4,5])"
   ]
  },
  {
   "cell_type": "code",
   "execution_count": 41,
   "id": "83a410ac",
   "metadata": {},
   "outputs": [
    {
     "data": {
      "text/plain": [
       "15"
      ]
     },
     "execution_count": 41,
     "metadata": {},
     "output_type": "execute_result"
    }
   ],
   "source": [
    "reduce(add, [1,2,3,4,5])"
   ]
  },
  {
   "cell_type": "code",
   "execution_count": 43,
   "id": "e3f1e7a7",
   "metadata": {},
   "outputs": [
    {
     "data": {
      "text/plain": [
       "120"
      ]
     },
     "execution_count": 43,
     "metadata": {},
     "output_type": "execute_result"
    }
   ],
   "source": [
    "reduce(mul, [1,2,3,4,5])"
   ]
  },
  {
   "cell_type": "markdown",
   "id": "18bf44bb",
   "metadata": {},
   "source": [
    "***\n",
    "연산자 오버로딩 ()을 \\_\\_init\\_\\_ 관점으로 볼 수 있다."
   ]
  },
  {
   "cell_type": "code",
   "execution_count": 44,
   "id": "1b469be8",
   "metadata": {},
   "outputs": [],
   "source": [
    "class A:\n",
    "    pass"
   ]
  },
  {
   "cell_type": "code",
   "execution_count": 45,
   "id": "7f10c774",
   "metadata": {},
   "outputs": [
    {
     "data": {
      "text/plain": [
       "['__class__',\n",
       " '__delattr__',\n",
       " '__dict__',\n",
       " '__dir__',\n",
       " '__doc__',\n",
       " '__eq__',\n",
       " '__format__',\n",
       " '__ge__',\n",
       " '__getattribute__',\n",
       " '__getstate__',\n",
       " '__gt__',\n",
       " '__hash__',\n",
       " '__init__',\n",
       " '__init_subclass__',\n",
       " '__le__',\n",
       " '__lt__',\n",
       " '__module__',\n",
       " '__ne__',\n",
       " '__new__',\n",
       " '__reduce__',\n",
       " '__reduce_ex__',\n",
       " '__repr__',\n",
       " '__setattr__',\n",
       " '__sizeof__',\n",
       " '__str__',\n",
       " '__subclasshook__',\n",
       " '__weakref__']"
      ]
     },
     "execution_count": 45,
     "metadata": {},
     "output_type": "execute_result"
    }
   ],
   "source": [
    "dir(A)"
   ]
  },
  {
   "cell_type": "markdown",
   "id": "35345925",
   "metadata": {},
   "source": [
    "init 지정안하면 부모한테 시킨다. 이걸 덮어쓰는것을 오버라이딩이라고 했다. 그러므로 init를 오버라이딩관점에서 설명할 수 있다.<br>\n",
    "파이썬에서는 추상화를 상속 관점에서 설명할 수 있었다."
   ]
  },
  {
   "cell_type": "markdown",
   "id": "ab9a11f6",
   "metadata": {},
   "source": [
    "**함수형패러다임**<br>\n",
    "모듈테스트를 통해 디버깅 원활하게 한다.<br>\n",
    "하드웨어 최적화(동시실행)<br>"
   ]
  },
  {
   "cell_type": "markdown",
   "id": "9605df64",
   "metadata": {},
   "source": [
    "ObjectC나 Kotlin 등등은 상속에 대해 문제점이 있다 어떻다로 인해서 상속 대신 composition을 이용해서 상속을 대신하기도 한다."
   ]
  },
  {
   "cell_type": "markdown",
   "id": "80cd140b",
   "metadata": {},
   "source": [
    "# 02 Decorator"
   ]
  },
  {
   "cell_type": "markdown",
   "id": "6dac7877",
   "metadata": {},
   "source": [
    "## 02.01 AOP(Aspect-Oriented Programming)"
   ]
  },
  {
   "cell_type": "markdown",
   "id": "aca7f575",
   "metadata": {},
   "source": [
    "공통되어있는 기능을 Aspect라고 한다. 이걸 만들고 상속 잘 해서 하는거. 잘해야 되니까 다중상속 없는 애들이 이거 신경 많이쓴다(JAVA)."
   ]
  },
  {
   "cell_type": "markdown",
   "id": "4fd61a7d",
   "metadata": {},
   "source": [
    "함수에도 클래스처럼 상속 비슷한 애가 있다.<br>\n",
    "partial은 두번 나온다. 처음에 한번, 끝판왕때 한번."
   ]
  },
  {
   "cell_type": "code",
   "execution_count": 47,
   "id": "9e655889",
   "metadata": {},
   "outputs": [],
   "source": [
    "add_3 = partial(add, 3)"
   ]
  },
  {
   "cell_type": "code",
   "execution_count": 48,
   "id": "194d0eb3",
   "metadata": {},
   "outputs": [
    {
     "data": {
      "text/plain": [
       "8"
      ]
     },
     "execution_count": 48,
     "metadata": {},
     "output_type": "execute_result"
    }
   ],
   "source": [
    "add_3(5)"
   ]
  },
  {
   "cell_type": "markdown",
   "id": "c3895ef6",
   "metadata": {},
   "source": [
    "sac할 때 groupby 나온다.\n",
    "딥러닝할때 나중에 partial 나온다."
   ]
  },
  {
   "cell_type": "code",
   "execution_count": 49,
   "id": "270d1df1",
   "metadata": {},
   "outputs": [],
   "source": [
    "class A:\n",
    "    pass"
   ]
  },
  {
   "cell_type": "code",
   "execution_count": 50,
   "id": "a815b765",
   "metadata": {},
   "outputs": [],
   "source": [
    "class A():\n",
    "    pass"
   ]
  },
  {
   "cell_type": "code",
   "execution_count": 57,
   "id": "6832efa6",
   "metadata": {},
   "outputs": [],
   "source": [
    "#위에 괄호 떼고 붙이고도 파셜로 구현했다."
   ]
  },
  {
   "cell_type": "code",
   "execution_count": 59,
   "id": "bb8d855d",
   "metadata": {},
   "outputs": [],
   "source": [
    "#함수의 기능을 변경할 수 있는 것이 데코레이터이다."
   ]
  },
  {
   "cell_type": "code",
   "execution_count": 63,
   "id": "42c69cb5",
   "metadata": {},
   "outputs": [],
   "source": [
    "class A:\n",
    "    pass\n",
    "#    @classmethod\n",
    "#    @staticmethod\n",
    "#    @abstractmethod\n",
    "    \n",
    "#등이 있었다."
   ]
  },
  {
   "cell_type": "code",
   "execution_count": 64,
   "id": "602c0914",
   "metadata": {},
   "outputs": [],
   "source": [
    "#코드의 재사용성을 높이기 위해서 decorator가 필요하다."
   ]
  },
  {
   "cell_type": "code",
   "execution_count": 65,
   "id": "a8d26f6c",
   "metadata": {},
   "outputs": [],
   "source": [
    "#java는 second class function인데 이는 함수를 값처럼 사용할 수는 없지만, higher order function은 가능한 것을 second class function이라고 할 수 있다."
   ]
  },
  {
   "cell_type": "code",
   "execution_count": 67,
   "id": "85c418a6",
   "metadata": {},
   "outputs": [],
   "source": [
    "def x():\n",
    "    return 1"
   ]
  },
  {
   "cell_type": "code",
   "execution_count": 68,
   "id": "3dcbd28e",
   "metadata": {},
   "outputs": [],
   "source": [
    "x.a = 1"
   ]
  },
  {
   "cell_type": "code",
   "execution_count": 69,
   "id": "8a194604",
   "metadata": {},
   "outputs": [
    {
     "data": {
      "text/plain": [
       "1"
      ]
     },
     "execution_count": 69,
     "metadata": {},
     "output_type": "execute_result"
    }
   ],
   "source": [
    "x.a"
   ]
  },
  {
   "cell_type": "code",
   "execution_count": 70,
   "id": "9ea64b31",
   "metadata": {},
   "outputs": [
    {
     "data": {
      "text/plain": [
       "{'a': 1}"
      ]
     },
     "execution_count": 70,
     "metadata": {},
     "output_type": "execute_result"
    }
   ],
   "source": [
    "vars(x)"
   ]
  },
  {
   "cell_type": "code",
   "execution_count": 71,
   "id": "1a642e38",
   "metadata": {},
   "outputs": [],
   "source": [
    "def x(m):\n",
    "    def y(n):\n",
    "        return (m+n)\n",
    "    return y"
   ]
  },
  {
   "cell_type": "code",
   "execution_count": 72,
   "id": "79d47c80",
   "metadata": {},
   "outputs": [
    {
     "data": {
      "text/plain": [
       "<function __main__.x.<locals>.y(n)>"
      ]
     },
     "execution_count": 72,
     "metadata": {},
     "output_type": "execute_result"
    }
   ],
   "source": [
    "x(3)"
   ]
  },
  {
   "cell_type": "code",
   "execution_count": 73,
   "id": "4a675005",
   "metadata": {},
   "outputs": [
    {
     "data": {
      "text/plain": [
       "7"
      ]
     },
     "execution_count": 73,
     "metadata": {},
     "output_type": "execute_result"
    }
   ],
   "source": [
    "x(3)(4)"
   ]
  },
  {
   "cell_type": "code",
   "execution_count": 74,
   "id": "614c8207",
   "metadata": {},
   "outputs": [
    {
     "data": {
      "text/plain": [
       "11"
      ]
     },
     "execution_count": 74,
     "metadata": {},
     "output_type": "execute_result"
    }
   ],
   "source": [
    "x(6)(5)"
   ]
  },
  {
   "cell_type": "code",
   "execution_count": 79,
   "id": "b739e0aa",
   "metadata": {},
   "outputs": [],
   "source": [
    "class A:\n",
    "    def __init__(self, x):\n",
    "        self.x = x\n",
    "        \n",
    "    def __call__(self, y):\n",
    "        return self.x + y"
   ]
  },
  {
   "cell_type": "code",
   "execution_count": 80,
   "id": "bcb89b2d",
   "metadata": {},
   "outputs": [
    {
     "data": {
      "text/plain": [
       "7"
      ]
     },
     "execution_count": 80,
     "metadata": {},
     "output_type": "execute_result"
    }
   ],
   "source": [
    "A(3)(4)"
   ]
  },
  {
   "cell_type": "code",
   "execution_count": 81,
   "id": "c264f5a9",
   "metadata": {},
   "outputs": [],
   "source": [
    "a = A(5)"
   ]
  },
  {
   "cell_type": "code",
   "execution_count": 82,
   "id": "197afc21",
   "metadata": {},
   "outputs": [
    {
     "data": {
      "text/plain": [
       "11"
      ]
     },
     "execution_count": 82,
     "metadata": {},
     "output_type": "execute_result"
    }
   ],
   "source": [
    "a(6)"
   ]
  },
  {
   "cell_type": "markdown",
   "id": "7f13579a",
   "metadata": {},
   "source": [
    "**\"decorator = function closure\"**"
   ]
  },
  {
   "cell_type": "code",
   "execution_count": 92,
   "id": "6bfa5a2d",
   "metadata": {},
   "outputs": [],
   "source": [
    "def x(fn):\n",
    "    def y():\n",
    "        print('------')\n",
    "        return fn()\n",
    "    return y"
   ]
  },
  {
   "cell_type": "code",
   "execution_count": 93,
   "id": "c1dbda22",
   "metadata": {},
   "outputs": [],
   "source": [
    "def yy():\n",
    "    return 1"
   ]
  },
  {
   "cell_type": "code",
   "execution_count": 94,
   "id": "b48e264a",
   "metadata": {},
   "outputs": [],
   "source": [
    "@x\n",
    "def yy():\n",
    "    return 1"
   ]
  },
  {
   "cell_type": "code",
   "execution_count": 97,
   "id": "e799f185",
   "metadata": {},
   "outputs": [
    {
     "name": "stdout",
     "output_type": "stream",
     "text": [
      "------\n"
     ]
    },
    {
     "data": {
      "text/plain": [
       "1"
      ]
     },
     "execution_count": 97,
     "metadata": {},
     "output_type": "execute_result"
    }
   ],
   "source": [
    "yy()"
   ]
  },
  {
   "cell_type": "code",
   "execution_count": 88,
   "id": "f71f0d09",
   "metadata": {},
   "outputs": [],
   "source": [
    "#데코레이터 나오면 기능이 추가됐나보다. 근데 AOP관점에서, 공통인 기능인가보다. 근데 굳이 일일히 구현할 필요가 없으니까, 데코레이터로 추가되었다."
   ]
  },
  {
   "cell_type": "code",
   "execution_count": 98,
   "id": "26458c16",
   "metadata": {},
   "outputs": [],
   "source": [
    "#우리의 목표는 텐서플로우 파이토치, 그리고 벡처라이제이션을 위한 numpy이다.\n",
    "#numpy는 GPU 지원 안해준다. 그리고 딥러닝에서 미분이 매우 어려운데, 이거를 구현하기 위한 가장 좋은 방법 두가지는 현재 Tape Gradient(테이프에 미분중간값 다 저장함), computational graph(no-tape로 잘 구하는 법)이 있다.\n"
   ]
  },
  {
   "cell_type": "markdown",
   "id": "01c20cdc",
   "metadata": {},
   "source": [
    "데코레이터에서 중요한 점<br>\n",
    "함수를 인자로 전달받아야한다.<br>\n",
    "함수 클로저는 전달되는 것이 아니라 실행되는 것이다<br>"
   ]
  },
  {
   "cell_type": "code",
   "execution_count": 101,
   "id": "d75d5450",
   "metadata": {},
   "outputs": [
    {
     "name": "stdout",
     "output_type": "stream",
     "text": [
      "------\n",
      "------\n"
     ]
    },
    {
     "data": {
      "text/plain": [
       "1"
      ]
     },
     "execution_count": 101,
     "metadata": {},
     "output_type": "execute_result"
    }
   ],
   "source": [
    "x(yy)()\n",
    "#yy를 x에 집어넣어서 새로운 함수(반환값 y)를 만든다.\n",
    "#전달된 1급 함수가 내부 함수에 전달되어서 실행된다."
   ]
  },
  {
   "cell_type": "markdown",
   "id": "f585014a",
   "metadata": {},
   "source": [
    "with와 같이 @데코레이터도 syntactic sugar이다."
   ]
  },
  {
   "cell_type": "markdown",
   "id": "05662080",
   "metadata": {},
   "source": [
    "**골치아픈점**"
   ]
  },
  {
   "cell_type": "code",
   "execution_count": 103,
   "id": "eac00934",
   "metadata": {},
   "outputs": [],
   "source": [
    "@x\n",
    "def zz(x):\n",
    "    return x"
   ]
  },
  {
   "cell_type": "code",
   "execution_count": 104,
   "id": "2a22ba30",
   "metadata": {},
   "outputs": [
    {
     "ename": "TypeError",
     "evalue": "x.<locals>.y() takes 0 positional arguments but 1 was given",
     "output_type": "error",
     "traceback": [
      "\u001b[1;31m---------------------------------------------------------------------------\u001b[0m",
      "\u001b[1;31mTypeError\u001b[0m                                 Traceback (most recent call last)",
      "Cell \u001b[1;32mIn[104], line 1\u001b[0m\n\u001b[1;32m----> 1\u001b[0m zz(\u001b[38;5;241m3\u001b[39m)\n",
      "\u001b[1;31mTypeError\u001b[0m: x.<locals>.y() takes 0 positional arguments but 1 was given"
     ]
    }
   ],
   "source": [
    "zz(3)\n",
    "#zz가 x의 fn에 들어가서 담기는데, 이 때 zz는 인수를 1개 받는데, fn은 아무것도 안받아서 문제가 생긴다."
   ]
  },
  {
   "cell_type": "code",
   "execution_count": 105,
   "id": "abdec94d",
   "metadata": {},
   "outputs": [],
   "source": [
    "def x(fn):\n",
    "    def y(t):\n",
    "        print('------')\n",
    "        return fn(t)\n",
    "    return y"
   ]
  },
  {
   "cell_type": "code",
   "execution_count": 106,
   "id": "5f7537ed",
   "metadata": {},
   "outputs": [],
   "source": [
    "@x\n",
    "def zz(x):\n",
    "    return x"
   ]
  },
  {
   "cell_type": "code",
   "execution_count": 107,
   "id": "864de97e",
   "metadata": {},
   "outputs": [
    {
     "name": "stdout",
     "output_type": "stream",
     "text": [
      "------\n"
     ]
    },
    {
     "data": {
      "text/plain": [
       "3"
      ]
     },
     "execution_count": 107,
     "metadata": {},
     "output_type": "execute_result"
    }
   ],
   "source": [
    "zz(3)"
   ]
  },
  {
   "cell_type": "code",
   "execution_count": 111,
   "id": "5517d42f",
   "metadata": {},
   "outputs": [],
   "source": [
    "@x\n",
    "def yy():\n",
    "    return 1"
   ]
  },
  {
   "cell_type": "code",
   "execution_count": 112,
   "id": "53960844",
   "metadata": {},
   "outputs": [
    {
     "ename": "TypeError",
     "evalue": "x.<locals>.y() missing 1 required positional argument: 't'",
     "output_type": "error",
     "traceback": [
      "\u001b[1;31m---------------------------------------------------------------------------\u001b[0m",
      "\u001b[1;31mTypeError\u001b[0m                                 Traceback (most recent call last)",
      "Cell \u001b[1;32mIn[112], line 1\u001b[0m\n\u001b[1;32m----> 1\u001b[0m yy()\n",
      "\u001b[1;31mTypeError\u001b[0m: x.<locals>.y() missing 1 required positional argument: 't'"
     ]
    }
   ],
   "source": [
    "yy()"
   ]
  },
  {
   "cell_type": "code",
   "execution_count": 113,
   "id": "3d628ae1",
   "metadata": {},
   "outputs": [],
   "source": [
    "def x(fn):\n",
    "    def y(*arg, **kwarg):\n",
    "        print('------')\n",
    "        return fn(*arg, **kwarg)\n",
    "    return y"
   ]
  },
  {
   "cell_type": "code",
   "execution_count": 114,
   "id": "f577918f",
   "metadata": {},
   "outputs": [],
   "source": [
    "@x\n",
    "def zz(x):\n",
    "    return x"
   ]
  },
  {
   "cell_type": "code",
   "execution_count": 115,
   "id": "5a6e52ff",
   "metadata": {},
   "outputs": [],
   "source": [
    "@x\n",
    "def yy():\n",
    "    return 1"
   ]
  },
  {
   "cell_type": "code",
   "execution_count": 116,
   "id": "28c0f0b6",
   "metadata": {},
   "outputs": [
    {
     "name": "stdout",
     "output_type": "stream",
     "text": [
      "------\n"
     ]
    },
    {
     "data": {
      "text/plain": [
       "3"
      ]
     },
     "execution_count": 116,
     "metadata": {},
     "output_type": "execute_result"
    }
   ],
   "source": [
    "zz(3)"
   ]
  },
  {
   "cell_type": "code",
   "execution_count": 117,
   "id": "f64adb6c",
   "metadata": {},
   "outputs": [
    {
     "name": "stdout",
     "output_type": "stream",
     "text": [
      "------\n"
     ]
    },
    {
     "data": {
      "text/plain": [
       "1"
      ]
     },
     "execution_count": 117,
     "metadata": {},
     "output_type": "execute_result"
    }
   ],
   "source": [
    "yy()"
   ]
  },
  {
   "cell_type": "code",
   "execution_count": 118,
   "id": "1aa8bf3b",
   "metadata": {},
   "outputs": [
    {
     "data": {
      "text/plain": [
       "<function __main__.x(fn)>"
      ]
     },
     "execution_count": 118,
     "metadata": {},
     "output_type": "execute_result"
    }
   ],
   "source": [
    "x"
   ]
  },
  {
   "cell_type": "code",
   "execution_count": 119,
   "id": "0e894eb8",
   "metadata": {},
   "outputs": [],
   "source": [
    "def z():\n",
    "    return 1"
   ]
  },
  {
   "cell_type": "code",
   "execution_count": 120,
   "id": "2a21c742",
   "metadata": {},
   "outputs": [
    {
     "data": {
      "text/plain": [
       "<function __main__.z()>"
      ]
     },
     "execution_count": 120,
     "metadata": {},
     "output_type": "execute_result"
    }
   ],
   "source": [
    "z"
   ]
  },
  {
   "cell_type": "code",
   "execution_count": 121,
   "id": "d35cc0d7",
   "metadata": {},
   "outputs": [],
   "source": [
    "class A:\n",
    "    pass"
   ]
  },
  {
   "cell_type": "code",
   "execution_count": 122,
   "id": "5ac8ab67",
   "metadata": {},
   "outputs": [
    {
     "data": {
      "text/plain": [
       "__main__.A"
      ]
     },
     "execution_count": 122,
     "metadata": {},
     "output_type": "execute_result"
    }
   ],
   "source": [
    "A"
   ]
  },
  {
   "cell_type": "code",
   "execution_count": 123,
   "id": "9e69bee3",
   "metadata": {},
   "outputs": [],
   "source": [
    "#재사용하기위해서 선언하는애들만 __main__을 받게 된다. => 여러번 쓰는 영역에 저장된다.(지금 내 작업공간)"
   ]
  },
  {
   "cell_type": "code",
   "execution_count": 124,
   "id": "910be80d",
   "metadata": {},
   "outputs": [
    {
     "data": {
      "text/plain": [
       "<function __main__.x.<locals>.y(*arg, **kwarg)>"
      ]
     },
     "execution_count": 124,
     "metadata": {},
     "output_type": "execute_result"
    }
   ],
   "source": [
    "yy"
   ]
  },
  {
   "cell_type": "code",
   "execution_count": 125,
   "id": "e01b307f",
   "metadata": {},
   "outputs": [],
   "source": [
    "#데코레이터를 만들 때 데코레이터를 쓰는 경우\n",
    "from functools import wraps\n",
    "\n",
    "def x(fn):\n",
    "    @wraps(fn)\n",
    "    def y(*arg, **kwarg):\n",
    "        print('------')\n",
    "        return fn(*arg, **kwarg)\n",
    "    return y\n",
    "#새로만든함수처럼 쓰면 된다는 걸 알려준다. 별 기능 아님"
   ]
  },
  {
   "cell_type": "code",
   "execution_count": 126,
   "id": "94475859",
   "metadata": {},
   "outputs": [
    {
     "data": {
      "text/plain": [
       "<function __main__.x(fn)>"
      ]
     },
     "execution_count": 126,
     "metadata": {},
     "output_type": "execute_result"
    }
   ],
   "source": [
    "x"
   ]
  },
  {
   "cell_type": "code",
   "execution_count": 127,
   "id": "ec222914",
   "metadata": {},
   "outputs": [],
   "source": [
    "@x\n",
    "def yy():\n",
    "    return 1"
   ]
  },
  {
   "cell_type": "code",
   "execution_count": 128,
   "id": "728ef646",
   "metadata": {},
   "outputs": [
    {
     "data": {
      "text/plain": [
       "<function __main__.yy()>"
      ]
     },
     "execution_count": 128,
     "metadata": {},
     "output_type": "execute_result"
    }
   ],
   "source": [
    "yy"
   ]
  },
  {
   "cell_type": "code",
   "execution_count": null,
   "id": "3d670854",
   "metadata": {},
   "outputs": [],
   "source": [
    "#클래스로 데코레이터를 만들 수 있다.\n",
    "#데코레이터로 클래스를 만들 수 있다."
   ]
  }
 ],
 "metadata": {
  "kernelspec": {
   "display_name": "Python 3 (ipykernel)",
   "language": "python",
   "name": "python3"
  },
  "language_info": {
   "codemirror_mode": {
    "name": "ipython",
    "version": 3
   },
   "file_extension": ".py",
   "mimetype": "text/x-python",
   "name": "python",
   "nbconvert_exporter": "python",
   "pygments_lexer": "ipython3",
   "version": "3.11.4"
  }
 },
 "nbformat": 4,
 "nbformat_minor": 5
}
