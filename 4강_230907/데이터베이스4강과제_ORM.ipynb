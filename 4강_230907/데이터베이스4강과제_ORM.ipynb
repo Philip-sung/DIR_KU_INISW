{
 "cells": [
  {
   "cell_type": "code",
   "execution_count": 1,
   "id": "0e26f63f",
   "metadata": {},
   "outputs": [],
   "source": [
    "from sqlalchemy.schema import Table, Column, ForeignKey\n",
    "from sqlalchemy.types import Integer, Text\n",
    "from sqlalchemy import create_engine\n",
    "from sqlalchemy.orm import sessionmaker\n",
    "from sqlalchemy.orm import relationship\n",
    "from sqlalchemy import and_\n",
    "from sqlalchemy.orm import declarative_base"
   ]
  },
  {
   "cell_type": "code",
   "execution_count": 2,
   "id": "12284fb0",
   "metadata": {},
   "outputs": [],
   "source": [
    "#NOTE-InitializeFunctions :\n",
    "\n",
    "# engine.dispose()\n",
    "# sess.close()\n",
    "# base.registry.dispose()\n",
    "# base.metadata.clear()"
   ]
  },
  {
   "cell_type": "code",
   "execution_count": 3,
   "id": "3b3dd6ae",
   "metadata": {},
   "outputs": [],
   "source": [
    "engine = create_engine('sqlite:///:memory:', echo=False)\n",
    "base = declarative_base()\n",
    "Session = sessionmaker(engine)\n",
    "sess = Session()"
   ]
  },
  {
   "cell_type": "code",
   "execution_count": 4,
   "id": "74a0cdd9",
   "metadata": {},
   "outputs": [],
   "source": [
    "class Post(base):\n",
    "    __tablename__ = 'POST'\n",
    "    __table_args__ = { 'extend_existing': True }\n",
    "    pk = Column('PK', Integer, primary_key=True)\n",
    "    content = Column('CONTENT', Text)\n",
    "    tags = relationship('Tags', back_populates='post', uselist=True)\n",
    "    \n",
    "    def add_tags(self, *tags):\n",
    "        tagList = list()\n",
    "        for tag in tags:\n",
    "            rst = sess.query(HashTag).filter(HashTag.name == tag)\n",
    "            if rst.count() > 0:\n",
    "                tagList.append(rst.one())\n",
    "            else:\n",
    "                newTag = HashTag(name = tag)\n",
    "                sess.add(newTag)\n",
    "                sess.commit()\n",
    "                tagList.append(newTag)\n",
    "        for tag in tagList:\n",
    "            sess.add(Tags(fk1=self.pk, fk2=tag.pk))\n",
    "            sess.commit()\n",
    "            tag.cnt_increment()\n",
    "            \n",
    "    def del_tags(self, *tags):\n",
    "        tagList = list()\n",
    "        for tag in tags:\n",
    "            rst = sess.query(HashTag).filter(HashTag.name == tag)\n",
    "            if rst.count() <= 0:\n",
    "                continue\n",
    "            else:\n",
    "                res = rst.one()\n",
    "                tagToDelete = sess.query(Tags).where(and_(Tags.fk1 == post3.pk, Tags.fk2 == res.pk)).one()\n",
    "                sess.delete(tagToDelete)\n",
    "                sess.commit()\n",
    "                res.cnt_decrement()\n",
    "    \n",
    "    def __repr__(self):\n",
    "        return f'PK:{self.pk}, CONTENT:{self.content},, TAG_LEN:{len(self.tags)}'\n",
    "    \n",
    "class HashTag(base):\n",
    "    __tablename__ = 'HASHTAG'\n",
    "    pk = Column('PK', Integer, primary_key=True)\n",
    "    name = Column('NAME', Text)\n",
    "    cnt = Column('CNT', Integer, server_default='0')\n",
    "    posts = relationship('Tags', back_populates='hashtag', uselist=True)\n",
    "    \n",
    "    def cnt_increment(self):\n",
    "        self.cnt = self.cnt + 1\n",
    "        \n",
    "    def cnt_decrement(self):\n",
    "        self.cnt = self.cnt - 1\n",
    "    \n",
    "    def del_hashtag(self):\n",
    "        tagsToDel = sess.query(Tags).where(Tags.fk2 == self.pk)\n",
    "        for tag in tagsToDel:\n",
    "            sess.delete(tag)\n",
    "            sess.commit()\n",
    "        hashTagToDel = sess.query(HashTag).where(HashTag.pk == self.pk)\n",
    "        sess.delete(hashTagToDel)\n",
    "    \n",
    "    \n",
    "    def __repr__(self):\n",
    "        return f'PK:{self.pk}, NAME:{self.name}, POSTLEN:{len(self.posts)}, COUNT:{self.cnt}'\n",
    "    \n",
    "class Tags(base):\n",
    "    __tablename__ = 'TAGS'\n",
    "    pk = Column('PK', Integer, primary_key=True)\n",
    "    fk1 = Column('FK1', Integer, ForeignKey('POST.PK'))\n",
    "    fk2 = Column('FK2', Integer, ForeignKey('HASHTAG.PK'))\n",
    "    post = relationship('Post', back_populates='tags')\n",
    "    hashtag = relationship('HashTag', back_populates='posts')\n",
    "    \n",
    "    def del_tag(self):\n",
    "        tagToDel = sess.query(Tags).where(Tags.pk == self.pk).one()\n",
    "        tagToDel.hashtag.cnt_decrement()\n",
    "        sess.delete(tagToDel)\n",
    "        sess.commit()\n",
    "        \n",
    "    \n",
    "    def __repr__(self):\n",
    "        return f'PK{self.pk} : {self.fk1} -- {self.fk2}'"
   ]
  },
  {
   "cell_type": "code",
   "execution_count": 5,
   "id": "33a36403",
   "metadata": {},
   "outputs": [],
   "source": [
    "base.metadata.create_all(engine)"
   ]
  },
  {
   "cell_type": "code",
   "execution_count": 6,
   "id": "d707bc55",
   "metadata": {},
   "outputs": [],
   "source": [
    "def add_post(contentParam: str, *hashTags: [str]):\n",
    "    newPost = Post(content = contentParam)\n",
    "    sess.add(newPost)\n",
    "    sess.commit()\n",
    "    newPost.add_tags(*hashTags)"
   ]
  },
  {
   "cell_type": "markdown",
   "id": "8aeaa126",
   "metadata": {},
   "source": [
    "***\n",
    "**TESTCASE01 : ADD POST -->**"
   ]
  },
  {
   "cell_type": "code",
   "execution_count": 7,
   "id": "46dff6fb",
   "metadata": {},
   "outputs": [],
   "source": [
    "add_post(\"테스트내용1\",\"해시태그1\", \"해시태그2\", \"해시태그3\")"
   ]
  },
  {
   "cell_type": "code",
   "execution_count": 8,
   "id": "976f2bee",
   "metadata": {},
   "outputs": [],
   "source": [
    "add_post(\"테스트내용2\",\"해시태그3\", \"해시태그4\", \"해시태그5\")"
   ]
  },
  {
   "cell_type": "code",
   "execution_count": 9,
   "id": "ddba3f7e",
   "metadata": {},
   "outputs": [],
   "source": [
    "add_post(\"테스트내용3\",\"해시태그1\")"
   ]
  },
  {
   "cell_type": "code",
   "execution_count": 10,
   "id": "cbcf7680",
   "metadata": {},
   "outputs": [
    {
     "data": {
      "text/plain": [
       "[PK:1, CONTENT:테스트내용1,, TAG_LEN:3,\n",
       " PK:2, CONTENT:테스트내용2,, TAG_LEN:3,\n",
       " PK:3, CONTENT:테스트내용3,, TAG_LEN:1]"
      ]
     },
     "execution_count": 10,
     "metadata": {},
     "output_type": "execute_result"
    }
   ],
   "source": [
    "sess.query(Post).all()"
   ]
  },
  {
   "cell_type": "code",
   "execution_count": 11,
   "id": "1a56aeb0",
   "metadata": {},
   "outputs": [
    {
     "data": {
      "text/plain": [
       "[PK:1, NAME:해시태그1, POSTLEN:2, COUNT:2,\n",
       " PK:2, NAME:해시태그2, POSTLEN:1, COUNT:1,\n",
       " PK:3, NAME:해시태그3, POSTLEN:2, COUNT:2,\n",
       " PK:4, NAME:해시태그4, POSTLEN:1, COUNT:1,\n",
       " PK:5, NAME:해시태그5, POSTLEN:1, COUNT:1]"
      ]
     },
     "execution_count": 11,
     "metadata": {},
     "output_type": "execute_result"
    }
   ],
   "source": [
    "sess.query(HashTag).all()"
   ]
  },
  {
   "cell_type": "markdown",
   "id": "31d972fe",
   "metadata": {},
   "source": [
    "**<-- TESTCASE 01 END**\n",
    "***"
   ]
  },
  {
   "cell_type": "code",
   "execution_count": 12,
   "id": "7530c712",
   "metadata": {},
   "outputs": [],
   "source": [
    "def modif_post(postPK: int, newContent: str):\n",
    "    postToModif = sess.query(Post).where(Post.pk == postPK)\n",
    "    if postToModif.count() > 0:\n",
    "        postToModif.one().content = newContent\n",
    "        sess.commit()\n",
    "    else:\n",
    "        pass"
   ]
  },
  {
   "cell_type": "markdown",
   "id": "139f83f2",
   "metadata": {},
   "source": [
    "***\n",
    "**TESTCASE 02 : MODIFY POST -->**"
   ]
  },
  {
   "cell_type": "code",
   "execution_count": 13,
   "id": "6714da98",
   "metadata": {},
   "outputs": [],
   "source": [
    "modif_post(1,\"새로운테스트내용1\")"
   ]
  },
  {
   "cell_type": "code",
   "execution_count": 14,
   "id": "33a7f027",
   "metadata": {},
   "outputs": [
    {
     "data": {
      "text/plain": [
       "[PK:1, CONTENT:새로운테스트내용1,, TAG_LEN:3,\n",
       " PK:2, CONTENT:테스트내용2,, TAG_LEN:3,\n",
       " PK:3, CONTENT:테스트내용3,, TAG_LEN:1]"
      ]
     },
     "execution_count": 14,
     "metadata": {},
     "output_type": "execute_result"
    }
   ],
   "source": [
    "sess.query(Post).all()"
   ]
  },
  {
   "cell_type": "markdown",
   "id": "bebaa371",
   "metadata": {},
   "source": [
    "**<-- TESTCASE 02 END**\n",
    "***"
   ]
  },
  {
   "cell_type": "code",
   "execution_count": 15,
   "id": "becc3a7a",
   "metadata": {},
   "outputs": [],
   "source": [
    "def del_post(postPK: int):\n",
    "    postToDel = sess.query(Post).where(Post.pk == postPK)\n",
    "    for tag in postToDel.one().tags:\n",
    "        tag.del_tag()\n",
    "    sess.delete(postToDel.one())\n",
    "    sess.commit()"
   ]
  },
  {
   "cell_type": "markdown",
   "id": "0d052052",
   "metadata": {},
   "source": [
    "***\n",
    "**TESTCASE 03 : DELETE POST -->**"
   ]
  },
  {
   "cell_type": "code",
   "execution_count": 16,
   "id": "e177ef03",
   "metadata": {},
   "outputs": [],
   "source": [
    "del_post(1)"
   ]
  },
  {
   "cell_type": "code",
   "execution_count": 17,
   "id": "5078566b",
   "metadata": {},
   "outputs": [
    {
     "data": {
      "text/plain": [
       "[PK:2, CONTENT:테스트내용2,, TAG_LEN:3, PK:3, CONTENT:테스트내용3,, TAG_LEN:1]"
      ]
     },
     "execution_count": 17,
     "metadata": {},
     "output_type": "execute_result"
    }
   ],
   "source": [
    "sess.query(Post).all()"
   ]
  },
  {
   "cell_type": "code",
   "execution_count": 18,
   "id": "14701db6",
   "metadata": {
    "scrolled": true
   },
   "outputs": [
    {
     "data": {
      "text/plain": [
       "[PK:1, NAME:해시태그1, POSTLEN:1, COUNT:1,\n",
       " PK:2, NAME:해시태그2, POSTLEN:0, COUNT:0,\n",
       " PK:3, NAME:해시태그3, POSTLEN:1, COUNT:1,\n",
       " PK:4, NAME:해시태그4, POSTLEN:1, COUNT:1,\n",
       " PK:5, NAME:해시태그5, POSTLEN:1, COUNT:1]"
      ]
     },
     "execution_count": 18,
     "metadata": {},
     "output_type": "execute_result"
    }
   ],
   "source": [
    "sess.query(HashTag).all()"
   ]
  },
  {
   "cell_type": "code",
   "execution_count": 19,
   "id": "d626a2c9",
   "metadata": {},
   "outputs": [],
   "source": [
    "del_post(2)"
   ]
  },
  {
   "cell_type": "code",
   "execution_count": 20,
   "id": "2b7b3195",
   "metadata": {},
   "outputs": [
    {
     "data": {
      "text/plain": [
       "[PK:3, CONTENT:테스트내용3,, TAG_LEN:1]"
      ]
     },
     "execution_count": 20,
     "metadata": {},
     "output_type": "execute_result"
    }
   ],
   "source": [
    "sess.query(Post).all()"
   ]
  },
  {
   "cell_type": "code",
   "execution_count": 21,
   "id": "ab83d835",
   "metadata": {},
   "outputs": [
    {
     "data": {
      "text/plain": [
       "[PK:1, NAME:해시태그1, POSTLEN:1, COUNT:1,\n",
       " PK:2, NAME:해시태그2, POSTLEN:0, COUNT:0,\n",
       " PK:3, NAME:해시태그3, POSTLEN:0, COUNT:0,\n",
       " PK:4, NAME:해시태그4, POSTLEN:0, COUNT:0,\n",
       " PK:5, NAME:해시태그5, POSTLEN:0, COUNT:0]"
      ]
     },
     "execution_count": 21,
     "metadata": {},
     "output_type": "execute_result"
    }
   ],
   "source": [
    "sess.query(HashTag).all()"
   ]
  },
  {
   "cell_type": "markdown",
   "id": "0d9669a3",
   "metadata": {},
   "source": [
    "**<-- TESTCASE 03 END**\n",
    "***"
   ]
  }
 ],
 "metadata": {
  "kernelspec": {
   "display_name": "Python 3 (ipykernel)",
   "language": "python",
   "name": "python3"
  },
  "language_info": {
   "codemirror_mode": {
    "name": "ipython",
    "version": 3
   },
   "file_extension": ".py",
   "mimetype": "text/x-python",
   "name": "python",
   "nbconvert_exporter": "python",
   "pygments_lexer": "ipython3",
   "version": "3.11.4"
  }
 },
 "nbformat": 4,
 "nbformat_minor": 5
}
