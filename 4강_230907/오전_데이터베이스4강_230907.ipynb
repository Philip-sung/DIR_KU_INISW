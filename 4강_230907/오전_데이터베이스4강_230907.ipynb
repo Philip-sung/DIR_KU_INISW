{
 "cells": [
  {
   "cell_type": "markdown",
   "id": "8b7391ea",
   "metadata": {},
   "source": [
    "# 01 ORM\n",
    "오늘부터는 ORM 사용한다.\n",
    "얘네는 또 독립적으로 움직인다."
   ]
  },
  {
   "cell_type": "markdown",
   "id": "0009e319",
   "metadata": {},
   "source": [
    "## 01.01 ORM 생성"
   ]
  },
  {
   "cell_type": "code",
   "execution_count": 1,
   "id": "cf7607aa",
   "metadata": {},
   "outputs": [],
   "source": [
    "from sqlalchemy.schema import Table, Column, ForeignKey\n",
    "from sqlalchemy.types import Integer, Text\n",
    "from sqlalchemy import create_engine\n",
    "from sqlalchemy.orm import sessionmaker\n",
    "from sqlalchemy.orm import relationship\n",
    "from sqlalchemy import and_\n",
    "from sqlalchemy.orm import declarative_base"
   ]
  },
  {
   "cell_type": "code",
   "execution_count": 2,
   "id": "6458fe0f",
   "metadata": {},
   "outputs": [],
   "source": [
    "base = declarative_base()"
   ]
  },
  {
   "cell_type": "code",
   "execution_count": 3,
   "id": "51124b4a",
   "metadata": {},
   "outputs": [],
   "source": [
    "engine = create_engine('sqlite:///:memory:', echo=True)"
   ]
  },
  {
   "cell_type": "markdown",
   "id": "b40a89dc",
   "metadata": {},
   "source": [
    "base.metadata.tables\n",
    "위에 코어에서 관리하는 Table 객체들이다."
   ]
  },
  {
   "cell_type": "markdown",
   "id": "aa87feb8",
   "metadata": {},
   "source": [
    "base.registry\n",
    "위에 오브젝트들이 등록이 된다."
   ]
  },
  {
   "cell_type": "code",
   "execution_count": 4,
   "id": "98bf1b70",
   "metadata": {},
   "outputs": [
    {
     "data": {
      "text/plain": [
       "FacadeDict({})"
      ]
     },
     "execution_count": 4,
     "metadata": {},
     "output_type": "execute_result"
    }
   ],
   "source": [
    "base.metadata.tables"
   ]
  },
  {
   "cell_type": "code",
   "execution_count": 5,
   "id": "55586a94",
   "metadata": {},
   "outputs": [
    {
     "ename": "KeyError",
     "evalue": "'USER'",
     "output_type": "error",
     "traceback": [
      "\u001b[1;31m---------------------------------------------------------------------------\u001b[0m",
      "\u001b[1;31mKeyError\u001b[0m                                  Traceback (most recent call last)",
      "Cell \u001b[1;32mIn[5], line 1\u001b[0m\n\u001b[1;32m----> 1\u001b[0m base\u001b[38;5;241m.\u001b[39mmetadata\u001b[38;5;241m.\u001b[39mremove(base\u001b[38;5;241m.\u001b[39mmetadata\u001b[38;5;241m.\u001b[39mtables[\u001b[38;5;124m'\u001b[39m\u001b[38;5;124mUSER\u001b[39m\u001b[38;5;124m'\u001b[39m])\n\u001b[0;32m      2\u001b[0m base\u001b[38;5;241m.\u001b[39mregistry\u001b[38;5;241m.\u001b[39mdispose()\n",
      "\u001b[1;31mKeyError\u001b[0m: 'USER'"
     ]
    }
   ],
   "source": [
    "base.metadata.remove(base.metadata.tables['USER'])\n",
    "base.registry.dispose()"
   ]
  },
  {
   "cell_type": "code",
   "execution_count": 6,
   "id": "ff162c83",
   "metadata": {},
   "outputs": [],
   "source": [
    "class User(base):\n",
    "    __tablename__ = 'USER'\n",
    "    #object에서 접근할 수 있는 테이블 이름이며, DBMS에서 사용될 TABLE 이름이다.\n",
    "    pk = Column('PK', Integer, primary_key=True)\n",
    "    #오브젝트에서 사용할 수 있는 pk칼럼 객체 => 실제 DBMS에서 해당 TABLe에 사용되는 Column 정보가 된다.\n",
    "    name = Column('NAME', Text)\n",
    "    \n",
    "    def __repr__(self):\n",
    "        return f'PK:{self.pk}, NAME:{self.name}'"
   ]
  },
  {
   "cell_type": "code",
   "execution_count": 7,
   "id": "2ecc051e",
   "metadata": {},
   "outputs": [],
   "source": [
    "user1 = User(name='Philip')"
   ]
  },
  {
   "cell_type": "code",
   "execution_count": 8,
   "id": "5de8fc6c",
   "metadata": {},
   "outputs": [
    {
     "data": {
      "text/plain": [
       "(__main__.User, sqlalchemy.sql.schema.Table)"
      ]
     },
     "execution_count": 8,
     "metadata": {},
     "output_type": "execute_result"
    }
   ],
   "source": [
    "type(user1), type(base.metadata.tables['USER'])\n",
    "#왼쪽은 우리가 정의한 클래스 객체, 오른쪽은 테이블 객체"
   ]
  },
  {
   "cell_type": "code",
   "execution_count": 11,
   "id": "0b3b2cbf",
   "metadata": {},
   "outputs": [
    {
     "name": "stdout",
     "output_type": "stream",
     "text": [
      "2023-09-07 09:45:43,820 INFO sqlalchemy.engine.Engine BEGIN (implicit)\n",
      "2023-09-07 09:45:43,823 INFO sqlalchemy.engine.Engine PRAGMA main.table_info(\"USER\")\n",
      "2023-09-07 09:45:43,824 INFO sqlalchemy.engine.Engine [raw sql] ()\n",
      "2023-09-07 09:45:43,825 INFO sqlalchemy.engine.Engine PRAGMA temp.table_info(\"USER\")\n",
      "2023-09-07 09:45:43,827 INFO sqlalchemy.engine.Engine [raw sql] ()\n",
      "2023-09-07 09:45:43,829 INFO sqlalchemy.engine.Engine \n",
      "CREATE TABLE \"USER\" (\n",
      "\t\"PK\" INTEGER NOT NULL, \n",
      "\t\"NAME\" TEXT, \n",
      "\tPRIMARY KEY (\"PK\")\n",
      ")\n",
      "\n",
      "\n",
      "2023-09-07 09:45:43,830 INFO sqlalchemy.engine.Engine [no key 0.00102s] ()\n",
      "2023-09-07 09:45:43,831 INFO sqlalchemy.engine.Engine COMMIT\n"
     ]
    }
   ],
   "source": [
    "base.metadata.create_all(engine)"
   ]
  },
  {
   "cell_type": "markdown",
   "id": "c6cfc1f1",
   "metadata": {},
   "source": [
    "여기까지는 어제 한 거를 클래스로 한번 감싼것과 큰 차이가 없다. 이제는 세션이라는 것을 사용할것이다. 쿼리를 날리든 어쩌든 통신을 하는 것을 세션이 맡아줄것이다. 어제는 con(connection) 객체의 execute를 통해 했었다. 이제 세션은 객체가 DBMS와 맵핑되어 있음을 알고 있고 객체단에서 조작이 될때 뒷단에서 일어나야 하는 일을 알아서 해준다. 따라서 engine.connect().execute()는 이제 더이상 몰라도 된다. 세션이 이 일을 처리하기 때문이다."
   ]
  },
  {
   "cell_type": "markdown",
   "id": "92cf3581",
   "metadata": {},
   "source": [
    "## 01.02 Session"
   ]
  },
  {
   "cell_type": "code",
   "execution_count": 13,
   "id": "9614508d",
   "metadata": {},
   "outputs": [],
   "source": [
    "Session = sessionmaker(engine)\n",
    "sess = Session()\n",
    "#in memory에 있는 오브젝트와 RDBMS간의 창구 역할을 한다."
   ]
  },
  {
   "cell_type": "code",
   "execution_count": 14,
   "id": "c40a0c39",
   "metadata": {},
   "outputs": [],
   "source": [
    "sess.add(user1)\n",
    "#세션아 얘를 관리해라"
   ]
  },
  {
   "cell_type": "code",
   "execution_count": 15,
   "id": "0b41dc81",
   "metadata": {},
   "outputs": [
    {
     "name": "stdout",
     "output_type": "stream",
     "text": [
      "2023-09-07 09:45:46,206 INFO sqlalchemy.engine.Engine BEGIN (implicit)\n",
      "2023-09-07 09:45:46,209 INFO sqlalchemy.engine.Engine INSERT INTO \"USER\" (\"NAME\") VALUES (?)\n",
      "2023-09-07 09:45:46,210 INFO sqlalchemy.engine.Engine [generated in 0.00115s] ('Philip',)\n",
      "2023-09-07 09:45:46,213 INFO sqlalchemy.engine.Engine COMMIT\n"
     ]
    }
   ],
   "source": [
    "sess.commit()\n",
    "#실질적으로 이 커밋의 내용은 세션이라고 하는애가 관찰하고 있는 오브젝트들을 반영하라 라는 의미이다.\n",
    "#레이지커넥팅에 의해 이제 인서트하고 커밋한다."
   ]
  },
  {
   "cell_type": "code",
   "execution_count": 16,
   "id": "d8af09a6",
   "metadata": {},
   "outputs": [
    {
     "name": "stdout",
     "output_type": "stream",
     "text": [
      "2023-09-07 09:45:46,558 INFO sqlalchemy.engine.Engine BEGIN (implicit)\n",
      "2023-09-07 09:45:46,563 INFO sqlalchemy.engine.Engine SELECT \"USER\".\"PK\" AS \"USER_PK\", \"USER\".\"NAME\" AS \"USER_NAME\" \n",
      "FROM \"USER\" \n",
      "WHERE \"USER\".\"PK\" = ?\n",
      "2023-09-07 09:45:46,564 INFO sqlalchemy.engine.Engine [generated in 0.00107s] (1,)\n"
     ]
    },
    {
     "data": {
      "text/plain": [
       "PK:1, NAME:Philip"
      ]
     },
     "execution_count": 16,
     "metadata": {},
     "output_type": "execute_result"
    }
   ],
   "source": [
    "user1\n",
    "#user1이 등록되어 있는 객체임을 알고 있어서, SELECT를 하는 것임."
   ]
  },
  {
   "cell_type": "code",
   "execution_count": 17,
   "id": "84cee91e",
   "metadata": {},
   "outputs": [
    {
     "data": {
      "text/plain": [
       "False"
      ]
     },
     "execution_count": 17,
     "metadata": {},
     "output_type": "execute_result"
    }
   ],
   "source": [
    "sess.is_modified(user1)"
   ]
  },
  {
   "cell_type": "code",
   "execution_count": 18,
   "id": "9ca39e84",
   "metadata": {},
   "outputs": [
    {
     "data": {
      "text/plain": [
       "IdentitySet([])"
      ]
     },
     "execution_count": 18,
     "metadata": {},
     "output_type": "execute_result"
    }
   ],
   "source": [
    "sess.dirty"
   ]
  },
  {
   "cell_type": "code",
   "execution_count": 19,
   "id": "3c42b31d",
   "metadata": {},
   "outputs": [],
   "source": [
    "user1.name = \"PhilipSung\""
   ]
  },
  {
   "cell_type": "code",
   "execution_count": 20,
   "id": "b5db96c9",
   "metadata": {},
   "outputs": [
    {
     "data": {
      "text/plain": [
       "PK:1, NAME:PhilipSung"
      ]
     },
     "execution_count": 20,
     "metadata": {},
     "output_type": "execute_result"
    }
   ],
   "source": [
    "user1"
   ]
  },
  {
   "cell_type": "code",
   "execution_count": 21,
   "id": "1496cbc6",
   "metadata": {},
   "outputs": [
    {
     "data": {
      "text/plain": [
       "IdentitySet([PK:1, NAME:PhilipSung])"
      ]
     },
     "execution_count": 21,
     "metadata": {},
     "output_type": "execute_result"
    }
   ],
   "source": [
    "sess.dirty"
   ]
  },
  {
   "cell_type": "code",
   "execution_count": 22,
   "id": "4c5ba4ac",
   "metadata": {},
   "outputs": [
    {
     "data": {
      "text/plain": [
       "True"
      ]
     },
     "execution_count": 22,
     "metadata": {},
     "output_type": "execute_result"
    }
   ],
   "source": [
    "sess.is_modified(user1)"
   ]
  },
  {
   "cell_type": "code",
   "execution_count": 23,
   "id": "f028db54",
   "metadata": {},
   "outputs": [
    {
     "name": "stdout",
     "output_type": "stream",
     "text": [
      "2023-09-07 09:45:48,690 INFO sqlalchemy.engine.Engine UPDATE \"USER\" SET \"NAME\"=? WHERE \"USER\".\"PK\" = ?\n",
      "2023-09-07 09:45:48,691 INFO sqlalchemy.engine.Engine [generated in 0.00140s] ('PhilipSung', 1)\n",
      "2023-09-07 09:45:48,693 INFO sqlalchemy.engine.Engine COMMIT\n"
     ]
    }
   ],
   "source": [
    "sess.commit()"
   ]
  },
  {
   "cell_type": "code",
   "execution_count": 24,
   "id": "b05d809b",
   "metadata": {},
   "outputs": [
    {
     "name": "stdout",
     "output_type": "stream",
     "text": [
      "2023-09-07 09:45:49,046 INFO sqlalchemy.engine.Engine BEGIN (implicit)\n",
      "2023-09-07 09:45:49,048 INFO sqlalchemy.engine.Engine SELECT \"USER\".\"PK\" AS \"USER_PK\", \"USER\".\"NAME\" AS \"USER_NAME\" \n",
      "FROM \"USER\" \n",
      "WHERE \"USER\".\"PK\" = ?\n",
      "2023-09-07 09:45:49,049 INFO sqlalchemy.engine.Engine [cached since 2.485s ago] (1,)\n"
     ]
    },
    {
     "data": {
      "text/plain": [
       "PK:1, NAME:PhilipSung"
      ]
     },
     "execution_count": 24,
     "metadata": {},
     "output_type": "execute_result"
    }
   ],
   "source": [
    "user1\n",
    "#값이 변경된 것이 반영되었으므로, SELECT를 실행한다."
   ]
  },
  {
   "cell_type": "code",
   "execution_count": 25,
   "id": "0b5a0e4e",
   "metadata": {},
   "outputs": [],
   "source": [
    "sess.add_all([User(name='2'), User(name='3')])"
   ]
  },
  {
   "cell_type": "code",
   "execution_count": 26,
   "id": "e7872f45",
   "metadata": {},
   "outputs": [
    {
     "name": "stdout",
     "output_type": "stream",
     "text": [
      "2023-09-07 09:45:49,746 INFO sqlalchemy.engine.Engine INSERT INTO \"USER\" (\"NAME\") VALUES (?) RETURNING \"PK\"\n",
      "2023-09-07 09:45:49,748 INFO sqlalchemy.engine.Engine [generated in 0.00018s (insertmanyvalues) 1/2 (ordered; batch not supported)] ('2',)\n",
      "2023-09-07 09:45:49,750 INFO sqlalchemy.engine.Engine INSERT INTO \"USER\" (\"NAME\") VALUES (?) RETURNING \"PK\"\n",
      "2023-09-07 09:45:49,751 INFO sqlalchemy.engine.Engine [insertmanyvalues 2/2 (ordered; batch not supported)] ('3',)\n",
      "2023-09-07 09:45:49,752 INFO sqlalchemy.engine.Engine COMMIT\n"
     ]
    }
   ],
   "source": [
    "sess.commit()"
   ]
  },
  {
   "cell_type": "code",
   "execution_count": 27,
   "id": "4e46ab19",
   "metadata": {},
   "outputs": [
    {
     "name": "stdout",
     "output_type": "stream",
     "text": [
      "2023-09-07 09:45:49,965 INFO sqlalchemy.engine.Engine BEGIN (implicit)\n",
      "2023-09-07 09:45:49,967 INFO sqlalchemy.engine.Engine SELECT \"USER\".\"PK\" AS \"USER_PK\", \"USER\".\"NAME\" AS \"USER_NAME\" \n",
      "FROM \"USER\"\n",
      "2023-09-07 09:45:49,968 INFO sqlalchemy.engine.Engine [generated in 0.00131s] ()\n"
     ]
    }
   ],
   "source": [
    "userList = sess.query(User).all()"
   ]
  },
  {
   "cell_type": "code",
   "execution_count": 28,
   "id": "f48df827",
   "metadata": {},
   "outputs": [
    {
     "data": {
      "text/plain": [
       "3"
      ]
     },
     "execution_count": 28,
     "metadata": {},
     "output_type": "execute_result"
    }
   ],
   "source": [
    "len(userList)"
   ]
  },
  {
   "cell_type": "code",
   "execution_count": 29,
   "id": "b7847915",
   "metadata": {},
   "outputs": [
    {
     "data": {
      "text/plain": [
       "True"
      ]
     },
     "execution_count": 29,
     "metadata": {},
     "output_type": "execute_result"
    }
   ],
   "source": [
    "user1 is userList[0]"
   ]
  },
  {
   "cell_type": "code",
   "execution_count": 30,
   "id": "fb4231c8",
   "metadata": {},
   "outputs": [],
   "source": [
    "userList[1].name = 'Philip2'"
   ]
  },
  {
   "cell_type": "code",
   "execution_count": 31,
   "id": "32f9d894",
   "metadata": {},
   "outputs": [
    {
     "data": {
      "text/plain": [
       "IdentitySet([PK:2, NAME:Philip2])"
      ]
     },
     "execution_count": 31,
     "metadata": {},
     "output_type": "execute_result"
    }
   ],
   "source": [
    "sess.dirty"
   ]
  },
  {
   "cell_type": "code",
   "execution_count": 32,
   "id": "cf540388",
   "metadata": {},
   "outputs": [],
   "source": [
    "#값이 변경되었음을 알고 있다."
   ]
  },
  {
   "cell_type": "code",
   "execution_count": 33,
   "id": "ba2af428",
   "metadata": {},
   "outputs": [
    {
     "name": "stdout",
     "output_type": "stream",
     "text": [
      "2023-09-07 09:45:51,837 INFO sqlalchemy.engine.Engine UPDATE \"USER\" SET \"NAME\"=? WHERE \"USER\".\"PK\" = ?\n",
      "2023-09-07 09:45:51,839 INFO sqlalchemy.engine.Engine [cached since 3.149s ago] ('Philip2', 2)\n",
      "2023-09-07 09:45:51,841 INFO sqlalchemy.engine.Engine COMMIT\n"
     ]
    }
   ],
   "source": [
    "sess.commit()"
   ]
  },
  {
   "cell_type": "code",
   "execution_count": 34,
   "id": "04cbe21d",
   "metadata": {},
   "outputs": [
    {
     "name": "stdout",
     "output_type": "stream",
     "text": [
      "2023-09-07 09:45:52,248 INFO sqlalchemy.engine.Engine BEGIN (implicit)\n",
      "2023-09-07 09:45:52,251 INFO sqlalchemy.engine.Engine SELECT \"USER\".\"PK\" AS \"USER_PK\", \"USER\".\"NAME\" AS \"USER_NAME\" \n",
      "FROM \"USER\" \n",
      "WHERE \"USER\".\"PK\" = ?\n",
      "2023-09-07 09:45:52,252 INFO sqlalchemy.engine.Engine [cached since 5.688s ago] (2,)\n"
     ]
    },
    {
     "data": {
      "text/plain": [
       "PK:2, NAME:Philip2"
      ]
     },
     "execution_count": 34,
     "metadata": {},
     "output_type": "execute_result"
    }
   ],
   "source": [
    "userList[1]"
   ]
  },
  {
   "cell_type": "markdown",
   "id": "d0fc34d8",
   "metadata": {},
   "source": [
    "즉 세션의dirty에 값이 들어있으면, 데이터베이스와 객체간에 Sync가 맞지 않다는 것이다.\n",
    "이제부터는 객체만 관리하면 되는것이다."
   ]
  },
  {
   "cell_type": "code",
   "execution_count": 35,
   "id": "e5f51264",
   "metadata": {},
   "outputs": [
    {
     "name": "stdout",
     "output_type": "stream",
     "text": [
      "2023-09-07 09:45:52,922 INFO sqlalchemy.engine.Engine SELECT \"USER\".\"PK\" AS \"USER_PK\", \"USER\".\"NAME\" AS \"USER_NAME\" \n",
      "FROM \"USER\" \n",
      "WHERE \"USER\".\"PK\" = ?\n",
      "2023-09-07 09:45:52,923 INFO sqlalchemy.engine.Engine [cached since 6.36s ago] (1,)\n",
      "2023-09-07 09:45:52,925 INFO sqlalchemy.engine.Engine SELECT \"USER\".\"PK\" AS \"USER_PK\", \"USER\".\"NAME\" AS \"USER_NAME\" \n",
      "FROM \"USER\" \n",
      "WHERE \"USER\".\"PK\" = ?\n",
      "2023-09-07 09:45:52,926 INFO sqlalchemy.engine.Engine [cached since 6.362s ago] (3,)\n"
     ]
    },
    {
     "data": {
      "text/plain": [
       "True"
      ]
     },
     "execution_count": 35,
     "metadata": {},
     "output_type": "execute_result"
    }
   ],
   "source": [
    "[user for user in userList if user.name == '3'][0] is userList[2]"
   ]
  },
  {
   "cell_type": "code",
   "execution_count": 36,
   "id": "0a222fa8",
   "metadata": {},
   "outputs": [
    {
     "name": "stdout",
     "output_type": "stream",
     "text": [
      "2023-09-07 09:45:53,250 INFO sqlalchemy.engine.Engine SELECT \"USER\".\"PK\" AS \"USER_PK\", \"USER\".\"NAME\" AS \"USER_NAME\" \n",
      "FROM \"USER\" \n",
      "WHERE \"USER\".\"NAME\" = ?\n",
      "2023-09-07 09:45:53,253 INFO sqlalchemy.engine.Engine [generated in 0.00187s] ('3',)\n"
     ]
    },
    {
     "data": {
      "text/plain": [
       "True"
      ]
     },
     "execution_count": 36,
     "metadata": {},
     "output_type": "execute_result"
    }
   ],
   "source": [
    "#위에서는 객체만으로도 연산했지만, 세션한테 가져오라고 할수도 있다.\n",
    "sess.query(User).where(User.name == '3').one() is userList[2]"
   ]
  },
  {
   "cell_type": "markdown",
   "id": "ae9c5a75",
   "metadata": {},
   "source": [
    "add 했을 때 pending, 작업할 목록에 들고만 있다가 commit해줘야 실제 작업을 한다.\n",
    "\n",
    "dirty : 값의 싱크가 틀어졌을때\n",
    "\n",
    "is_modified : 값이 변했을 때"
   ]
  },
  {
   "cell_type": "markdown",
   "id": "c154e755",
   "metadata": {},
   "source": [
    "## ?"
   ]
  },
  {
   "cell_type": "code",
   "execution_count": 31,
   "id": "ea3f3deb",
   "metadata": {},
   "outputs": [],
   "source": [
    "engine.dispose()\n",
    "base.metadata.clear()\n",
    "base.registry.dispose()"
   ]
  },
  {
   "cell_type": "code",
   "execution_count": 32,
   "id": "1688fe2c",
   "metadata": {
    "scrolled": true
   },
   "outputs": [
    {
     "data": {
      "text/plain": [
       "FacadeDict({})"
      ]
     },
     "execution_count": 32,
     "metadata": {},
     "output_type": "execute_result"
    }
   ],
   "source": [
    "base.metadata.tables"
   ]
  },
  {
   "cell_type": "code",
   "execution_count": 33,
   "id": "1e19a331",
   "metadata": {},
   "outputs": [],
   "source": [
    "#클래스만 날린다.\n",
    "base.registry.dispose()"
   ]
  },
  {
   "cell_type": "markdown",
   "id": "d8103f1d",
   "metadata": {},
   "source": [
    "CITY, SUPPLIER, PART, SELLS => ORM으로 만들어보세요<br>\n",
    "네개의 클래스가 필요할 것"
   ]
  },
  {
   "cell_type": "code",
   "execution_count": 34,
   "id": "7983ba6e",
   "metadata": {},
   "outputs": [],
   "source": [
    "engine = create_engine('sqlite:///:memory:', echo=True)"
   ]
  },
  {
   "cell_type": "code",
   "execution_count": 35,
   "id": "03c166ad",
   "metadata": {},
   "outputs": [],
   "source": [
    "Session = sessionmaker(engine)\n",
    "sess = Session()"
   ]
  },
  {
   "cell_type": "code",
   "execution_count": 36,
   "id": "26b5d5ea",
   "metadata": {},
   "outputs": [],
   "source": [
    "class City(base):\n",
    "    __tablename__ = 'CITY'\n",
    "    __table_args__ = {'extend_existing':True}\n",
    "    pk = Column('CNO', Integer, primary_key=True)\n",
    "    name = Column('CNAME', Text)\n",
    "    nodes = relationship('Supplier', back_populates='city', uselist=True)\n",
    "    \n",
    "    def __repr__(self):\n",
    "        return f'CNO: {self.pk}, CNAME: {self.name}'\n",
    "    "
   ]
  },
  {
   "cell_type": "code",
   "execution_count": 37,
   "id": "d65412c4",
   "metadata": {},
   "outputs": [],
   "source": [
    "class Supplier(base):\n",
    "    __tablename__ = 'SUPPLIER'\n",
    "    __table_args__ = {'extend_existing':True}\n",
    "    pk = Column('SNO', Integer, primary_key=True)\n",
    "    name = Column('SNAME', Text)\n",
    "    fk = Column('CNO', Integer, ForeignKey('CITY.CNO'))\n",
    "    city = relationship('City', back_populates='nodes')\n",
    "    \n",
    "    def __repr__(self):\n",
    "        return f'SNO: {self.pk}, SNAME: {self.name}, CNO: {self.fk}'"
   ]
  },
  {
   "cell_type": "code",
   "execution_count": 38,
   "id": "8531da42",
   "metadata": {},
   "outputs": [],
   "source": [
    "class Part(base):\n",
    "    __tablename__ = 'PART'\n",
    "    __table_args__ = {'extend_existing':True}\n",
    "    pk = Column('PNO', Integer, primary_key=True)\n",
    "    name = Column('PNAME', Text)\n",
    "    \n",
    "    def __repr__(self):\n",
    "        return f'PNO: {self.pk}, PNAME: {self.name}'"
   ]
  },
  {
   "cell_type": "code",
   "execution_count": 39,
   "id": "b7a914f5",
   "metadata": {},
   "outputs": [],
   "source": [
    "class Sells(base):\n",
    "    __tablename__ = 'SELLS'\n",
    "    __table_args__ = {'extend_existing':True}\n",
    "    pk = Column('SELLNO', Integer, primary_key=True)\n",
    "    fk1 = Column('SNO',Integer, ForeignKey('SUPPLIER.SNO'))\n",
    "    fk2 = Column('PNO', Integer, ForeignKey('PART.PNO'))\n",
    "    price = Column('PRICE', Integer)\n",
    "    \n",
    "    def __repr(self):\n",
    "        return f'SNO: {self.fk1}, PNO: {self.fk2}, PRICE: {self.price}'"
   ]
  },
  {
   "cell_type": "code",
   "execution_count": 40,
   "id": "c5d02480",
   "metadata": {},
   "outputs": [
    {
     "name": "stdout",
     "output_type": "stream",
     "text": [
      "2023-09-07 10:37:12,443 INFO sqlalchemy.engine.Engine BEGIN (implicit)\n",
      "2023-09-07 10:37:12,445 INFO sqlalchemy.engine.Engine PRAGMA main.table_info(\"CITY\")\n",
      "2023-09-07 10:37:12,448 INFO sqlalchemy.engine.Engine [raw sql] ()\n",
      "2023-09-07 10:37:12,450 INFO sqlalchemy.engine.Engine PRAGMA temp.table_info(\"CITY\")\n",
      "2023-09-07 10:37:12,452 INFO sqlalchemy.engine.Engine [raw sql] ()\n",
      "2023-09-07 10:37:12,454 INFO sqlalchemy.engine.Engine PRAGMA main.table_info(\"SUPPLIER\")\n",
      "2023-09-07 10:37:12,456 INFO sqlalchemy.engine.Engine [raw sql] ()\n",
      "2023-09-07 10:37:12,458 INFO sqlalchemy.engine.Engine PRAGMA temp.table_info(\"SUPPLIER\")\n",
      "2023-09-07 10:37:12,459 INFO sqlalchemy.engine.Engine [raw sql] ()\n",
      "2023-09-07 10:37:12,461 INFO sqlalchemy.engine.Engine PRAGMA main.table_info(\"PART\")\n",
      "2023-09-07 10:37:12,462 INFO sqlalchemy.engine.Engine [raw sql] ()\n",
      "2023-09-07 10:37:12,464 INFO sqlalchemy.engine.Engine PRAGMA temp.table_info(\"PART\")\n",
      "2023-09-07 10:37:12,465 INFO sqlalchemy.engine.Engine [raw sql] ()\n",
      "2023-09-07 10:37:12,469 INFO sqlalchemy.engine.Engine PRAGMA main.table_info(\"SELLS\")\n",
      "2023-09-07 10:37:12,470 INFO sqlalchemy.engine.Engine [raw sql] ()\n",
      "2023-09-07 10:37:12,475 INFO sqlalchemy.engine.Engine PRAGMA temp.table_info(\"SELLS\")\n",
      "2023-09-07 10:37:12,476 INFO sqlalchemy.engine.Engine [raw sql] ()\n",
      "2023-09-07 10:37:12,479 INFO sqlalchemy.engine.Engine \n",
      "CREATE TABLE \"CITY\" (\n",
      "\t\"CNO\" INTEGER NOT NULL, \n",
      "\t\"CNAME\" TEXT, \n",
      "\tPRIMARY KEY (\"CNO\")\n",
      ")\n",
      "\n",
      "\n",
      "2023-09-07 10:37:12,481 INFO sqlalchemy.engine.Engine [no key 0.00203s] ()\n",
      "2023-09-07 10:37:12,487 INFO sqlalchemy.engine.Engine \n",
      "CREATE TABLE \"PART\" (\n",
      "\t\"PNO\" INTEGER NOT NULL, \n",
      "\t\"PNAME\" TEXT, \n",
      "\tPRIMARY KEY (\"PNO\")\n",
      ")\n",
      "\n",
      "\n",
      "2023-09-07 10:37:12,488 INFO sqlalchemy.engine.Engine [no key 0.00092s] ()\n",
      "2023-09-07 10:37:12,491 INFO sqlalchemy.engine.Engine \n",
      "CREATE TABLE \"SUPPLIER\" (\n",
      "\t\"SNO\" INTEGER NOT NULL, \n",
      "\t\"SNAME\" TEXT, \n",
      "\t\"CNO\" INTEGER, \n",
      "\tPRIMARY KEY (\"SNO\"), \n",
      "\tFOREIGN KEY(\"CNO\") REFERENCES \"CITY\" (\"CNO\")\n",
      ")\n",
      "\n",
      "\n",
      "2023-09-07 10:37:12,500 INFO sqlalchemy.engine.Engine [no key 0.00799s] ()\n",
      "2023-09-07 10:37:12,503 INFO sqlalchemy.engine.Engine \n",
      "CREATE TABLE \"SELLS\" (\n",
      "\t\"SELLNO\" INTEGER NOT NULL, \n",
      "\t\"SNO\" INTEGER, \n",
      "\t\"PNO\" INTEGER, \n",
      "\t\"PRICE\" INTEGER, \n",
      "\tPRIMARY KEY (\"SELLNO\"), \n",
      "\tFOREIGN KEY(\"SNO\") REFERENCES \"SUPPLIER\" (\"SNO\"), \n",
      "\tFOREIGN KEY(\"PNO\") REFERENCES \"PART\" (\"PNO\")\n",
      ")\n",
      "\n",
      "\n",
      "2023-09-07 10:37:12,503 INFO sqlalchemy.engine.Engine [no key 0.00121s] ()\n",
      "2023-09-07 10:37:12,507 INFO sqlalchemy.engine.Engine COMMIT\n"
     ]
    }
   ],
   "source": [
    "base.metadata.create_all(engine)"
   ]
  },
  {
   "cell_type": "code",
   "execution_count": 41,
   "id": "eab34f80",
   "metadata": {},
   "outputs": [],
   "source": [
    "sess.add_all([\n",
    "    City(name=\"City1\"),\n",
    "    City(name=\"City2\"),\n",
    "    Part(name=\"Part1\"), \n",
    "    Part(name=\"Part2\"), \n",
    "    Supplier(name=\"Supplier1\"), \n",
    "    Supplier(name=\"Supplier2\"), \n",
    "              ])"
   ]
  },
  {
   "cell_type": "code",
   "execution_count": 42,
   "id": "52ea39e4",
   "metadata": {},
   "outputs": [
    {
     "name": "stdout",
     "output_type": "stream",
     "text": [
      "2023-09-07 10:37:13,725 INFO sqlalchemy.engine.Engine BEGIN (implicit)\n",
      "2023-09-07 10:37:13,730 INFO sqlalchemy.engine.Engine INSERT INTO \"CITY\" (\"CNAME\") VALUES (?) RETURNING \"CNO\"\n",
      "2023-09-07 10:37:13,732 INFO sqlalchemy.engine.Engine [generated in 0.00033s (insertmanyvalues) 1/2 (ordered; batch not supported)] ('City1',)\n",
      "2023-09-07 10:37:13,734 INFO sqlalchemy.engine.Engine INSERT INTO \"CITY\" (\"CNAME\") VALUES (?) RETURNING \"CNO\"\n",
      "2023-09-07 10:37:13,734 INFO sqlalchemy.engine.Engine [insertmanyvalues 2/2 (ordered; batch not supported)] ('City2',)\n",
      "2023-09-07 10:37:13,738 INFO sqlalchemy.engine.Engine INSERT INTO \"PART\" (\"PNAME\") VALUES (?) RETURNING \"PNO\"\n",
      "2023-09-07 10:37:13,739 INFO sqlalchemy.engine.Engine [generated in 0.00019s (insertmanyvalues) 1/2 (ordered; batch not supported)] ('Part1',)\n",
      "2023-09-07 10:37:13,742 INFO sqlalchemy.engine.Engine INSERT INTO \"PART\" (\"PNAME\") VALUES (?) RETURNING \"PNO\"\n",
      "2023-09-07 10:37:13,745 INFO sqlalchemy.engine.Engine [insertmanyvalues 2/2 (ordered; batch not supported)] ('Part2',)\n",
      "2023-09-07 10:37:13,751 INFO sqlalchemy.engine.Engine INSERT INTO \"SUPPLIER\" (\"SNAME\", \"CNO\") VALUES (?, ?) RETURNING \"SNO\"\n",
      "2023-09-07 10:37:13,753 INFO sqlalchemy.engine.Engine [generated in 0.00053s (insertmanyvalues) 1/2 (ordered; batch not supported)] ('Supplier1', None)\n",
      "2023-09-07 10:37:13,756 INFO sqlalchemy.engine.Engine INSERT INTO \"SUPPLIER\" (\"SNAME\", \"CNO\") VALUES (?, ?) RETURNING \"SNO\"\n",
      "2023-09-07 10:37:13,757 INFO sqlalchemy.engine.Engine [insertmanyvalues 2/2 (ordered; batch not supported)] ('Supplier2', None)\n",
      "2023-09-07 10:37:13,760 INFO sqlalchemy.engine.Engine COMMIT\n"
     ]
    }
   ],
   "source": [
    "sess.commit()"
   ]
  },
  {
   "cell_type": "code",
   "execution_count": 43,
   "id": "da557828",
   "metadata": {},
   "outputs": [
    {
     "name": "stdout",
     "output_type": "stream",
     "text": [
      "2023-09-07 10:37:13,937 INFO sqlalchemy.engine.Engine BEGIN (implicit)\n",
      "2023-09-07 10:37:13,941 INFO sqlalchemy.engine.Engine SELECT \"SUPPLIER\".\"SNO\" AS \"SUPPLIER_SNO\", \"SUPPLIER\".\"SNAME\" AS \"SUPPLIER_SNAME\", \"SUPPLIER\".\"CNO\" AS \"SUPPLIER_CNO\" \n",
      "FROM \"SUPPLIER\" \n",
      "WHERE \"SUPPLIER\".\"SNO\" = ?\n",
      "2023-09-07 10:37:13,942 INFO sqlalchemy.engine.Engine [generated in 0.00162s] (1,)\n"
     ]
    },
    {
     "data": {
      "text/plain": [
       "SNO: 1, SNAME: Supplier1, CNO: None"
      ]
     },
     "execution_count": 43,
     "metadata": {},
     "output_type": "execute_result"
    }
   ],
   "source": [
    "sess.query(Supplier).filter(Supplier.pk == 1).one()"
   ]
  },
  {
   "cell_type": "markdown",
   "id": "89f0b647",
   "metadata": {},
   "source": [
    "**테이블구현예제 끝**\n",
    "***"
   ]
  },
  {
   "cell_type": "markdown",
   "id": "6b9ebeeb",
   "metadata": {},
   "source": [
    "## ORM Relationship"
   ]
  },
  {
   "cell_type": "markdown",
   "id": "90ad2d9b",
   "metadata": {},
   "source": [
    "orm에 있는 오브젝트들 독립적으로 돌아가는데, DBMS에 테이블 여러개를 관계를 맺도록 pk와 fk를 이용해서 만들어놨다. 이거와 마찬가지로 ORM Core에도 Table.ForeignKey를 이용해 만들었다. 이제 orm단에서도 뒷단과 별개로 관계를 만들어줄 수 있다. 지금처럼 아무리 객체를 만들었어오. Oobject.pk나 Objejct.fk 를 필터하거나 연산을 해야만 가져올 수 있는데,\n",
    "\n",
    "Object1.childnodes[] ==> Object2가 되도록 구조를 만들어 줄 수 있다."
   ]
  },
  {
   "cell_type": "code",
   "execution_count": 48,
   "id": "21d34cef",
   "metadata": {},
   "outputs": [
    {
     "name": "stdout",
     "output_type": "stream",
     "text": [
      "2023-09-07 10:39:07,585 INFO sqlalchemy.engine.Engine SELECT \"CITY\".\"CNO\" AS \"CITY_CNO\", \"CITY\".\"CNAME\" AS \"CITY_CNAME\" \n",
      "FROM \"CITY\" \n",
      "WHERE \"CITY\".\"CNO\" = ?\n",
      "2023-09-07 10:39:07,587 INFO sqlalchemy.engine.Engine [cached since 58.43s ago] (1,)\n"
     ]
    }
   ],
   "source": [
    "city = sess.query(City).where(City.pk==1).one()"
   ]
  },
  {
   "cell_type": "code",
   "execution_count": 49,
   "id": "79ac6ac4",
   "metadata": {},
   "outputs": [
    {
     "ename": "IndexError",
     "evalue": "list index out of range",
     "output_type": "error",
     "traceback": [
      "\u001b[1;31m---------------------------------------------------------------------------\u001b[0m",
      "\u001b[1;31mIndexError\u001b[0m                                Traceback (most recent call last)",
      "Cell \u001b[1;32mIn[49], line 1\u001b[0m\n\u001b[1;32m----> 1\u001b[0m city\u001b[38;5;241m.\u001b[39mnodes[\u001b[38;5;241m0\u001b[39m] \u001b[38;5;129;01mis\u001b[39;00m sess\u001b[38;5;241m.\u001b[39mquery(Supplier)\u001b[38;5;241m.\u001b[39mwhere(Supplier\u001b[38;5;241m.\u001b[39mfk\u001b[38;5;241m==\u001b[39m\u001b[38;5;241m1\u001b[39m)\u001b[38;5;241m.\u001b[39mone()\n",
      "\u001b[1;31mIndexError\u001b[0m: list index out of range"
     ]
    }
   ],
   "source": [
    "city.nodes[0] is sess.query(Supplier).where(Supplier.fk==1).one()"
   ]
  },
  {
   "cell_type": "markdown",
   "id": "555c98f9",
   "metadata": {},
   "source": [
    "아무튼 seel.supplier.city.nodes.sells 이런식으로 연결이 주루룩 된다."
   ]
  },
  {
   "cell_type": "markdown",
   "id": "c03bc61c",
   "metadata": {},
   "source": [
    "### 초기화해서 Relationship 다시"
   ]
  },
  {
   "cell_type": "code",
   "execution_count": 162,
   "id": "1434071c",
   "metadata": {},
   "outputs": [],
   "source": [
    "engine.dispose()\n",
    "sess.close()\n",
    "base.registry.dispose()\n",
    "base.metadata.clear()"
   ]
  },
  {
   "cell_type": "code",
   "execution_count": 163,
   "id": "59c33640",
   "metadata": {},
   "outputs": [],
   "source": [
    "engine = create_engine('sqlite:///:memory:', echo=True)\n",
    "base = declarative_base()\n",
    "Session = sessionmaker(engine)\n",
    "sess = Session()"
   ]
  },
  {
   "cell_type": "code",
   "execution_count": 164,
   "id": "99ade002",
   "metadata": {},
   "outputs": [],
   "source": [
    "class Artist(base):\n",
    "    __tablename__ = 'ARTIST'\n",
    "    pk = Column('PK', Integer, primary_key=True)\n",
    "    name = Column('NAME', Text)\n",
    "    albums = relationship('Album', back_populates='artist', uselist=True)\n",
    "    \n",
    "    def addAlbum(self, name):\n",
    "        album = Album(name = name)\n",
    "        sess.add(album)\n",
    "        sess.commit()\n",
    "        self.albums.append(album)\n",
    "    \n",
    "    def __repr__(self):\n",
    "        return f'{self.name}, {len(self.albums)}'\n",
    "    \n",
    "class Album(base):\n",
    "    __tablename__ = 'ALBUM'\n",
    "    pk = Column('PK', Integer, primary_key=True)\n",
    "    name = Column('NAME', Text)\n",
    "    fk = Column('FK', Integer, ForeignKey('ARTIST.PK'))\n",
    "    artist = relationship('Artist', back_populates='albums')\n",
    "\n",
    "#내가 쓴 삭제 코드\n",
    "#     def delAlbum(pk):\n",
    "#         album = sess.query(Album).where(Album.pk == 1).one()\n",
    "#         sess.delete(album)\n",
    "#         sess.commit()\n",
    "    \n",
    "    def __repr__(self):\n",
    "        return f'PK :{self.pk} - {self.name}, {self.artist.name}'\n",
    "    "
   ]
  },
  {
   "cell_type": "code",
   "execution_count": 165,
   "id": "7b0152a3",
   "metadata": {},
   "outputs": [
    {
     "name": "stdout",
     "output_type": "stream",
     "text": [
      "2023-09-07 11:20:45,657 INFO sqlalchemy.engine.Engine BEGIN (implicit)\n",
      "2023-09-07 11:20:45,659 INFO sqlalchemy.engine.Engine PRAGMA main.table_info(\"ARTIST\")\n",
      "2023-09-07 11:20:45,661 INFO sqlalchemy.engine.Engine [raw sql] ()\n",
      "2023-09-07 11:20:45,664 INFO sqlalchemy.engine.Engine PRAGMA temp.table_info(\"ARTIST\")\n",
      "2023-09-07 11:20:45,666 INFO sqlalchemy.engine.Engine [raw sql] ()\n",
      "2023-09-07 11:20:45,668 INFO sqlalchemy.engine.Engine PRAGMA main.table_info(\"ALBUM\")\n",
      "2023-09-07 11:20:45,670 INFO sqlalchemy.engine.Engine [raw sql] ()\n",
      "2023-09-07 11:20:45,672 INFO sqlalchemy.engine.Engine PRAGMA temp.table_info(\"ALBUM\")\n",
      "2023-09-07 11:20:45,673 INFO sqlalchemy.engine.Engine [raw sql] ()\n",
      "2023-09-07 11:20:45,677 INFO sqlalchemy.engine.Engine \n",
      "CREATE TABLE \"ARTIST\" (\n",
      "\t\"PK\" INTEGER NOT NULL, \n",
      "\t\"NAME\" TEXT, \n",
      "\tPRIMARY KEY (\"PK\")\n",
      ")\n",
      "\n",
      "\n",
      "2023-09-07 11:20:45,680 INFO sqlalchemy.engine.Engine [no key 0.00294s] ()\n",
      "2023-09-07 11:20:45,685 INFO sqlalchemy.engine.Engine \n",
      "CREATE TABLE \"ALBUM\" (\n",
      "\t\"PK\" INTEGER NOT NULL, \n",
      "\t\"NAME\" TEXT, \n",
      "\t\"FK\" INTEGER, \n",
      "\tPRIMARY KEY (\"PK\"), \n",
      "\tFOREIGN KEY(\"FK\") REFERENCES \"ARTIST\" (\"PK\")\n",
      ")\n",
      "\n",
      "\n",
      "2023-09-07 11:20:45,687 INFO sqlalchemy.engine.Engine [no key 0.00164s] ()\n",
      "2023-09-07 11:20:45,689 INFO sqlalchemy.engine.Engine COMMIT\n"
     ]
    }
   ],
   "source": [
    "base.metadata.create_all(engine)"
   ]
  },
  {
   "cell_type": "code",
   "execution_count": 166,
   "id": "d07c1fff",
   "metadata": {},
   "outputs": [
    {
     "name": "stdout",
     "output_type": "stream",
     "text": [
      "2023-09-07 11:20:46,419 INFO sqlalchemy.engine.Engine BEGIN (implicit)\n",
      "2023-09-07 11:20:46,425 INFO sqlalchemy.engine.Engine INSERT INTO \"ARTIST\" (\"NAME\") VALUES (?)\n",
      "2023-09-07 11:20:46,426 INFO sqlalchemy.engine.Engine [generated in 0.00147s] ('가수1',)\n",
      "2023-09-07 11:20:46,430 INFO sqlalchemy.engine.Engine COMMIT\n"
     ]
    }
   ],
   "source": [
    "artist1 = Artist(name='가수1')\n",
    "sess.add(artist1)\n",
    "sess.commit()"
   ]
  },
  {
   "cell_type": "code",
   "execution_count": 167,
   "id": "2c587f61",
   "metadata": {},
   "outputs": [
    {
     "name": "stdout",
     "output_type": "stream",
     "text": [
      "2023-09-07 11:20:46,890 INFO sqlalchemy.engine.Engine BEGIN (implicit)\n",
      "2023-09-07 11:20:46,894 INFO sqlalchemy.engine.Engine SELECT \"ARTIST\".\"PK\" AS \"ARTIST_PK\", \"ARTIST\".\"NAME\" AS \"ARTIST_NAME\" \n",
      "FROM \"ARTIST\" \n",
      "WHERE \"ARTIST\".\"PK\" = ?\n",
      "2023-09-07 11:20:46,895 INFO sqlalchemy.engine.Engine [generated in 0.00170s] (1,)\n",
      "2023-09-07 11:20:46,903 INFO sqlalchemy.engine.Engine SELECT \"ALBUM\".\"PK\" AS \"ALBUM_PK\", \"ALBUM\".\"NAME\" AS \"ALBUM_NAME\", \"ALBUM\".\"FK\" AS \"ALBUM_FK\" \n",
      "FROM \"ALBUM\" \n",
      "WHERE ? = \"ALBUM\".\"FK\"\n",
      "2023-09-07 11:20:46,904 INFO sqlalchemy.engine.Engine [generated in 0.00190s] (1,)\n"
     ]
    },
    {
     "data": {
      "text/plain": [
       "가수1, 0"
      ]
     },
     "execution_count": 167,
     "metadata": {},
     "output_type": "execute_result"
    }
   ],
   "source": [
    "artist1"
   ]
  },
  {
   "cell_type": "code",
   "execution_count": 168,
   "id": "93bf518f",
   "metadata": {},
   "outputs": [
    {
     "name": "stdout",
     "output_type": "stream",
     "text": [
      "2023-09-07 11:20:48,970 INFO sqlalchemy.engine.Engine INSERT INTO \"ALBUM\" (\"NAME\", \"FK\") VALUES (?, ?)\n",
      "2023-09-07 11:20:48,971 INFO sqlalchemy.engine.Engine [generated in 0.00143s] ('앨범1', None)\n",
      "2023-09-07 11:20:48,976 INFO sqlalchemy.engine.Engine COMMIT\n",
      "2023-09-07 11:20:48,978 INFO sqlalchemy.engine.Engine BEGIN (implicit)\n",
      "2023-09-07 11:20:48,980 INFO sqlalchemy.engine.Engine SELECT \"ARTIST\".\"PK\" AS \"ARTIST_PK\", \"ARTIST\".\"NAME\" AS \"ARTIST_NAME\" \n",
      "FROM \"ARTIST\" \n",
      "WHERE \"ARTIST\".\"PK\" = ?\n",
      "2023-09-07 11:20:48,981 INFO sqlalchemy.engine.Engine [cached since 2.087s ago] (1,)\n",
      "2023-09-07 11:20:48,986 INFO sqlalchemy.engine.Engine SELECT \"ALBUM\".\"PK\" AS \"ALBUM_PK\", \"ALBUM\".\"NAME\" AS \"ALBUM_NAME\", \"ALBUM\".\"FK\" AS \"ALBUM_FK\" \n",
      "FROM \"ALBUM\" \n",
      "WHERE ? = \"ALBUM\".\"FK\"\n",
      "2023-09-07 11:20:48,988 INFO sqlalchemy.engine.Engine [cached since 2.085s ago] (1,)\n"
     ]
    }
   ],
   "source": [
    "artist1.addAlbum('앨범1')"
   ]
  },
  {
   "cell_type": "code",
   "execution_count": 169,
   "id": "6579daea",
   "metadata": {},
   "outputs": [
    {
     "name": "stdout",
     "output_type": "stream",
     "text": [
      "2023-09-07 11:20:51,249 INFO sqlalchemy.engine.Engine SELECT \"ALBUM\".\"PK\" AS \"ALBUM_PK\", \"ALBUM\".\"NAME\" AS \"ALBUM_NAME\" \n",
      "FROM \"ALBUM\" \n",
      "WHERE \"ALBUM\".\"PK\" = ?\n",
      "2023-09-07 11:20:51,252 INFO sqlalchemy.engine.Engine [generated in 0.00175s] (1,)\n",
      "2023-09-07 11:20:51,256 INFO sqlalchemy.engine.Engine UPDATE \"ALBUM\" SET \"FK\"=? WHERE \"ALBUM\".\"PK\" = ?\n",
      "2023-09-07 11:20:51,256 INFO sqlalchemy.engine.Engine [generated in 0.00150s] (1, 1)\n",
      "2023-09-07 11:20:51,263 INFO sqlalchemy.engine.Engine SELECT \"ALBUM\".\"PK\" AS \"ALBUM_PK\", \"ALBUM\".\"NAME\" AS \"ALBUM_NAME\", \"ALBUM\".\"FK\" AS \"ALBUM_FK\" \n",
      "FROM \"ALBUM\" \n",
      "WHERE \"ALBUM\".\"PK\" = ?\n",
      "2023-09-07 11:20:51,265 INFO sqlalchemy.engine.Engine [generated in 0.00187s] (1,)\n"
     ]
    },
    {
     "data": {
      "text/plain": [
       "PK :1 - 앨범1, 가수1"
      ]
     },
     "execution_count": 169,
     "metadata": {},
     "output_type": "execute_result"
    }
   ],
   "source": [
    "artist1.albums[0]"
   ]
  },
  {
   "cell_type": "code",
   "execution_count": 170,
   "id": "6a91ef1d",
   "metadata": {},
   "outputs": [
    {
     "data": {
      "text/plain": [
       "가수1, 1"
      ]
     },
     "execution_count": 170,
     "metadata": {},
     "output_type": "execute_result"
    }
   ],
   "source": [
    "artist1"
   ]
  },
  {
   "cell_type": "code",
   "execution_count": 171,
   "id": "b7f64dbc",
   "metadata": {},
   "outputs": [
    {
     "name": "stdout",
     "output_type": "stream",
     "text": [
      "2023-09-07 11:20:59,035 INFO sqlalchemy.engine.Engine INSERT INTO \"ALBUM\" (\"NAME\", \"FK\") VALUES (?, ?)\n",
      "2023-09-07 11:20:59,037 INFO sqlalchemy.engine.Engine [cached since 10.07s ago] ('MyAlbum', 1)\n",
      "2023-09-07 11:20:59,039 INFO sqlalchemy.engine.Engine COMMIT\n"
     ]
    }
   ],
   "source": [
    "album = Album(name = \"MyAlbum\", fk = 1)\n",
    "sess.add(album)\n",
    "sess.commit()"
   ]
  },
  {
   "cell_type": "code",
   "execution_count": 175,
   "id": "856e0fa6",
   "metadata": {},
   "outputs": [
    {
     "name": "stdout",
     "output_type": "stream",
     "text": [
      "2023-09-07 11:21:31,383 INFO sqlalchemy.engine.Engine BEGIN (implicit)\n",
      "2023-09-07 11:21:31,386 INFO sqlalchemy.engine.Engine SELECT \"ALBUM\".\"PK\" AS \"ALBUM_PK\", \"ALBUM\".\"NAME\" AS \"ALBUM_NAME\", \"ALBUM\".\"FK\" AS \"ALBUM_FK\" \n",
      "FROM \"ALBUM\"\n",
      "2023-09-07 11:21:31,389 INFO sqlalchemy.engine.Engine [cached since 31.35s ago] ()\n",
      "2023-09-07 11:21:31,395 INFO sqlalchemy.engine.Engine SELECT \"ARTIST\".\"PK\" AS \"ARTIST_PK\", \"ARTIST\".\"NAME\" AS \"ARTIST_NAME\" \n",
      "FROM \"ARTIST\" \n",
      "WHERE \"ARTIST\".\"PK\" = ?\n",
      "2023-09-07 11:21:31,396 INFO sqlalchemy.engine.Engine [cached since 44.5s ago] (1,)\n"
     ]
    },
    {
     "data": {
      "text/plain": [
       "[PK :2 - MyAlbum, 가수1]"
      ]
     },
     "execution_count": 175,
     "metadata": {},
     "output_type": "execute_result"
    }
   ],
   "source": [
    "sess.query(Album).all()"
   ]
  },
  {
   "cell_type": "code",
   "execution_count": 176,
   "id": "6c652d1b",
   "metadata": {},
   "outputs": [
    {
     "name": "stdout",
     "output_type": "stream",
     "text": [
      "2023-09-07 11:21:32,810 INFO sqlalchemy.engine.Engine SELECT \"ALBUM\".\"PK\" AS \"ALBUM_PK\", \"ALBUM\".\"NAME\" AS \"ALBUM_NAME\", \"ALBUM\".\"FK\" AS \"ALBUM_FK\" \n",
      "FROM \"ALBUM\" \n",
      "WHERE ? = \"ALBUM\".\"FK\"\n",
      "2023-09-07 11:21:32,811 INFO sqlalchemy.engine.Engine [cached since 45.91s ago] (1,)\n"
     ]
    },
    {
     "data": {
      "text/plain": [
       "가수1, 1"
      ]
     },
     "execution_count": 176,
     "metadata": {},
     "output_type": "execute_result"
    }
   ],
   "source": [
    "artist1"
   ]
  },
  {
   "cell_type": "code",
   "execution_count": 174,
   "id": "80cd05fd",
   "metadata": {},
   "outputs": [
    {
     "name": "stdout",
     "output_type": "stream",
     "text": [
      "2023-09-07 11:21:27,416 INFO sqlalchemy.engine.Engine SELECT \"ALBUM\".\"PK\" AS \"ALBUM_PK\", \"ALBUM\".\"NAME\" AS \"ALBUM_NAME\", \"ALBUM\".\"FK\" AS \"ALBUM_FK\" \n",
      "FROM \"ALBUM\" \n",
      "WHERE \"ALBUM\".\"PK\" = ?\n",
      "2023-09-07 11:21:27,419 INFO sqlalchemy.engine.Engine [generated in 0.00291s] (1,)\n",
      "2023-09-07 11:21:27,422 INFO sqlalchemy.engine.Engine DELETE FROM \"ALBUM\" WHERE \"ALBUM\".\"PK\" = ?\n",
      "2023-09-07 11:21:27,424 INFO sqlalchemy.engine.Engine [generated in 0.00152s] (1,)\n",
      "2023-09-07 11:21:27,427 INFO sqlalchemy.engine.Engine COMMIT\n"
     ]
    }
   ],
   "source": [
    "Album.delAlbum(2)"
   ]
  },
  {
   "cell_type": "markdown",
   "id": "59e68d56",
   "metadata": {},
   "source": [
    "**TRY1 끝**"
   ]
  },
  {
   "cell_type": "markdown",
   "id": "03a63c7d",
   "metadata": {},
   "source": [
    "### 초기화해서 Relationship 다시 - 2"
   ]
  },
  {
   "cell_type": "code",
   "execution_count": 105,
   "id": "5fd3110b",
   "metadata": {},
   "outputs": [],
   "source": [
    "engine.dispose()\n",
    "sess.close()\n",
    "base.registry.dispose()\n",
    "base.metadata.clear()"
   ]
  },
  {
   "cell_type": "code",
   "execution_count": 106,
   "id": "68edcc9e",
   "metadata": {},
   "outputs": [],
   "source": [
    "engine = create_engine('sqlite:///:memory:', echo=False)\n",
    "base = declarative_base()\n",
    "Session = sessionmaker(engine)\n",
    "sess = Session()"
   ]
  },
  {
   "cell_type": "code",
   "execution_count": 107,
   "id": "e261db40",
   "metadata": {},
   "outputs": [],
   "source": [
    "#Artist 1 : N Album\n",
    "#Post N:M HashTag =>관계를 정의하고 있는 별도의 테이블을 써야한다.\n",
    "class Post(base):\n",
    "    __tablename__ = 'POST'\n",
    "    __table_args__ = { 'extend_existing': True }\n",
    "    pk = Column('PK', Integer, primary_key=True)\n",
    "    content = Column('CONTENT', Text)\n",
    "    tags = relationship('Tags', back_populates='post', uselist=True)\n",
    "    \n",
    "    def addTags(self, *tags):\n",
    "        tagList = list()\n",
    "        for tag in tags:\n",
    "            rst = sess.query(HashTag).filter(HashTag.name == tag)\n",
    "            if rst.count() > 0:\n",
    "                tagList.append(rst.one())\n",
    "            else:\n",
    "                newTag = HashTag(name = tag)\n",
    "                sess.add(newTag)\n",
    "                sess.commit()\n",
    "                tagList.append(newTag)\n",
    "        for tag in tagList:\n",
    "            sess.add(Tags(fk1=self.pk, fk2=tag.pk))\n",
    "            sess.commit()\n",
    "            tag.cnt_increment()\n",
    "            \n",
    "    def delTags(self, *tags):\n",
    "        tagList = list()\n",
    "        for tag in tags:\n",
    "            rst = sess.query(HashTag).filter(HashTag.name == tag)\n",
    "            if rst.count() <= 0:\n",
    "                continue\n",
    "            else:\n",
    "                res = rst.one()\n",
    "                tagToDelete = sess.query(Tags).where(and_(Tags.fk1 == post3.pk, Tags.fk2 == res.pk)).one()\n",
    "                sess.delete(tagToDelete)\n",
    "                sess.commit()\n",
    "                res.cnt_decrement()\n",
    "    \n",
    "    def __repr__(self):\n",
    "        return f'PK:{self.pk}, CONTENT:{self.content},, TAGLEN:{len(self.tags)}'\n",
    "    \n",
    "class HashTag(base):\n",
    "    __tablename__ = 'HASHTAG'\n",
    "    pk = Column('PK', Integer, primary_key=True)\n",
    "    name = Column('NAME', Text)\n",
    "    cnt = Column('CNT', Integer, server_default='0')\n",
    "    posts = relationship('Tags', back_populates='hashtag', uselist=True)\n",
    "    \n",
    "    def cnt_increment(self):\n",
    "        self.cnt = self.cnt + 1\n",
    "        \n",
    "    def cnt_decrement(self):\n",
    "        self.cnt = self.cnt - 1\n",
    "    \n",
    "    \n",
    "    \n",
    "    def __repr__(self):\n",
    "        return f'PK:{self.pk}, NAME:{self.name}, POSTLEN:{len(self.posts)}, COUNT:{self.cnt}'\n",
    "    \n",
    "class Tags(base):\n",
    "    __tablename__ = 'TAGS'\n",
    "    pk = Column('PK', Integer, primary_key=True)\n",
    "    fk1 = Column('FK1', Integer, ForeignKey('POST.PK'))\n",
    "    fk2 = Column('FK2', Integer, ForeignKey('HASHTAG.PK'))\n",
    "    post = relationship('Post', back_populates='tags')\n",
    "    hashtag = relationship('HashTag', back_populates='posts')\n",
    "    \n",
    "    def __repr__(self):\n",
    "        return f'PK{self.pk} : {self.fk1} -- {self.fk2}'\n",
    "    \n",
    "# Object/Class\n",
    "# Post.tags[0].hashtag -------> HashTag"
   ]
  },
  {
   "cell_type": "code",
   "execution_count": null,
   "id": "e8dfb5f3",
   "metadata": {},
   "outputs": [],
   "source": [
    "def add_post(content, *tags):\n",
    "    newpost = Post(content = content)\n",
    "    "
   ]
  },
  {
   "cell_type": "code",
   "execution_count": 108,
   "id": "1400dd41",
   "metadata": {},
   "outputs": [],
   "source": [
    "base.metadata.create_all(engine)"
   ]
  },
  {
   "cell_type": "code",
   "execution_count": 109,
   "id": "32cc94c9",
   "metadata": {},
   "outputs": [],
   "source": [
    "post1 = Post(content='내용1')\n",
    "sess.add(post1)\n",
    "sess.commit()"
   ]
  },
  {
   "cell_type": "code",
   "execution_count": 110,
   "id": "3c5ad62c",
   "metadata": {},
   "outputs": [],
   "source": [
    "tag1 = HashTag(name = '해시태그1')\n",
    "sess.add(tag1)\n",
    "sess.commit()"
   ]
  },
  {
   "cell_type": "code",
   "execution_count": 111,
   "id": "1bb14ee9",
   "metadata": {},
   "outputs": [],
   "source": [
    "sess.add(Tags(fk1=post1.pk, fk2=tag1.pk))\n",
    "sess.commit()"
   ]
  },
  {
   "cell_type": "code",
   "execution_count": 112,
   "id": "53760e3c",
   "metadata": {},
   "outputs": [
    {
     "data": {
      "text/plain": [
       "1"
      ]
     },
     "execution_count": 112,
     "metadata": {},
     "output_type": "execute_result"
    }
   ],
   "source": [
    "len(post1.tags)"
   ]
  },
  {
   "cell_type": "code",
   "execution_count": 113,
   "id": "99a24e98",
   "metadata": {},
   "outputs": [
    {
     "data": {
      "text/plain": [
       "'해시태그1'"
      ]
     },
     "execution_count": 113,
     "metadata": {},
     "output_type": "execute_result"
    }
   ],
   "source": [
    "post1.tags[0].hashtag.name"
   ]
  },
  {
   "cell_type": "code",
   "execution_count": 114,
   "id": "24dc37e7",
   "metadata": {},
   "outputs": [
    {
     "data": {
      "text/plain": [
       "1"
      ]
     },
     "execution_count": 114,
     "metadata": {},
     "output_type": "execute_result"
    }
   ],
   "source": [
    "len(tag1.posts)"
   ]
  },
  {
   "cell_type": "code",
   "execution_count": 115,
   "id": "2450a8fe",
   "metadata": {},
   "outputs": [
    {
     "data": {
      "text/plain": [
       "'내용1'"
      ]
     },
     "execution_count": 115,
     "metadata": {},
     "output_type": "execute_result"
    }
   ],
   "source": [
    "tag1.posts[0].post.content"
   ]
  },
  {
   "cell_type": "code",
   "execution_count": 116,
   "id": "31c7c044",
   "metadata": {},
   "outputs": [],
   "source": [
    "post2 = Post(content='내용2')\n",
    "sess.add(post2)\n",
    "sess.commit()"
   ]
  },
  {
   "cell_type": "code",
   "execution_count": 117,
   "id": "3d0a5f75",
   "metadata": {},
   "outputs": [],
   "source": [
    "post2.addTags('해시태그1', '해시태그2', '해시태그3')"
   ]
  },
  {
   "cell_type": "code",
   "execution_count": 118,
   "id": "9f50e30c",
   "metadata": {},
   "outputs": [
    {
     "name": "stdout",
     "output_type": "stream",
     "text": [
      "PK:1, NAME:해시태그1, POSTLEN:2, COUNT:1\n",
      "PK:2, NAME:해시태그2, POSTLEN:1, COUNT:1\n",
      "PK:3, NAME:해시태그3, POSTLEN:1, COUNT:1\n"
     ]
    }
   ],
   "source": [
    "for tag in post2.tags:\n",
    "    print(tag.hashtag)"
   ]
  },
  {
   "cell_type": "code",
   "execution_count": 119,
   "id": "afcd9f3f",
   "metadata": {},
   "outputs": [],
   "source": [
    "post3 = Post(content='내용3')\n",
    "sess.add(post3)\n",
    "sess.commit()"
   ]
  },
  {
   "cell_type": "code",
   "execution_count": 120,
   "id": "27bcb1b6",
   "metadata": {},
   "outputs": [],
   "source": [
    "post3.addTags('해시태그1', '해시태그2', '해시태그4')"
   ]
  },
  {
   "cell_type": "code",
   "execution_count": 121,
   "id": "99fb4444",
   "metadata": {},
   "outputs": [
    {
     "name": "stdout",
     "output_type": "stream",
     "text": [
      "PK:1, NAME:해시태그1, POSTLEN:3, COUNT:2\n",
      "PK:2, NAME:해시태그2, POSTLEN:2, COUNT:2\n",
      "PK:4, NAME:해시태그4, POSTLEN:1, COUNT:1\n"
     ]
    }
   ],
   "source": [
    "for tag in post3.tags:\n",
    "    print(tag.hashtag)"
   ]
  },
  {
   "cell_type": "code",
   "execution_count": 122,
   "id": "199687a6",
   "metadata": {},
   "outputs": [
    {
     "data": {
      "text/plain": [
       "[PK1 : 1 -- 1,\n",
       " PK2 : 2 -- 1,\n",
       " PK3 : 2 -- 2,\n",
       " PK4 : 2 -- 3,\n",
       " PK5 : 3 -- 1,\n",
       " PK6 : 3 -- 2,\n",
       " PK7 : 3 -- 4]"
      ]
     },
     "execution_count": 122,
     "metadata": {},
     "output_type": "execute_result"
    }
   ],
   "source": [
    "sess.query(Tags).all()"
   ]
  },
  {
   "cell_type": "code",
   "execution_count": 123,
   "id": "d3925a50",
   "metadata": {},
   "outputs": [
    {
     "data": {
      "text/plain": [
       "[PK:1, NAME:해시태그1, POSTLEN:3, COUNT:2,\n",
       " PK:2, NAME:해시태그2, POSTLEN:2, COUNT:2,\n",
       " PK:3, NAME:해시태그3, POSTLEN:1, COUNT:1,\n",
       " PK:4, NAME:해시태그4, POSTLEN:1, COUNT:1]"
      ]
     },
     "execution_count": 123,
     "metadata": {},
     "output_type": "execute_result"
    }
   ],
   "source": [
    "sess.query(HashTag).all()"
   ]
  },
  {
   "cell_type": "code",
   "execution_count": 124,
   "id": "5127f07e",
   "metadata": {},
   "outputs": [],
   "source": [
    "post3.delTags('해시태그1', '해시태그2')"
   ]
  },
  {
   "cell_type": "code",
   "execution_count": 125,
   "id": "0105ddcf",
   "metadata": {},
   "outputs": [
    {
     "data": {
      "text/plain": [
       "PK:3, CONTENT:내용3,, TAGLEN:1"
      ]
     },
     "execution_count": 125,
     "metadata": {},
     "output_type": "execute_result"
    }
   ],
   "source": [
    "post3"
   ]
  },
  {
   "cell_type": "code",
   "execution_count": 126,
   "id": "5638917d",
   "metadata": {},
   "outputs": [
    {
     "data": {
      "text/plain": [
       "[PK:1, NAME:해시태그1, POSTLEN:2, COUNT:1,\n",
       " PK:2, NAME:해시태그2, POSTLEN:1, COUNT:1,\n",
       " PK:3, NAME:해시태그3, POSTLEN:1, COUNT:1,\n",
       " PK:4, NAME:해시태그4, POSTLEN:1, COUNT:1]"
      ]
     },
     "execution_count": 126,
     "metadata": {},
     "output_type": "execute_result"
    }
   ],
   "source": [
    "sess.query(HashTag).all()"
   ]
  },
  {
   "cell_type": "code",
   "execution_count": null,
   "id": "16e05a8d",
   "metadata": {},
   "outputs": [],
   "source": []
  }
 ],
 "metadata": {
  "kernelspec": {
   "display_name": "Python 3 (ipykernel)",
   "language": "python",
   "name": "python3"
  },
  "language_info": {
   "codemirror_mode": {
    "name": "ipython",
    "version": 3
   },
   "file_extension": ".py",
   "mimetype": "text/x-python",
   "name": "python",
   "nbconvert_exporter": "python",
   "pygments_lexer": "ipython3",
   "version": "3.11.4"
  }
 },
 "nbformat": 4,
 "nbformat_minor": 5
}
