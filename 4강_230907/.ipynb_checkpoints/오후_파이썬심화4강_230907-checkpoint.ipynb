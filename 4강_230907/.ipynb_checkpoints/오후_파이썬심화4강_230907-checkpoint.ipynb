{
 "cells": [
  {
   "cell_type": "markdown",
   "id": "8f569326",
   "metadata": {},
   "source": [
    "# 01 강의 준비"
   ]
  },
  {
   "cell_type": "markdown",
   "id": "74475db0",
   "metadata": {},
   "source": [
    "## 01.00 Imports"
   ]
  },
  {
   "cell_type": "code",
   "execution_count": 99,
   "id": "3eea0fbc",
   "metadata": {},
   "outputs": [],
   "source": [
    "import tensorflow as tf"
   ]
  },
  {
   "cell_type": "markdown",
   "id": "22757e52",
   "metadata": {},
   "source": [
    "## 01.01 개요"
   ]
  },
  {
   "cell_type": "markdown",
   "id": "bdfd59ae",
   "metadata": {},
   "source": [
    "함수형 패러다임에 대해서 다룬다.<br>\n",
    "첫번째 조건이 부수효과 없는 수학함수였다.\n",
    "\n",
    "#### LEGB\n",
    ": Local Enclosing Global Built-in<br>\n",
    "어떤 변수를 찾아가는 순서"
   ]
  },
  {
   "cell_type": "code",
   "execution_count": 7,
   "id": "b395ad13",
   "metadata": {},
   "outputs": [],
   "source": [
    "a = 1\n",
    "a, b = 1, 2\n",
    "a = b = 1\n",
    "a, *b = 1,2,3\n",
    "a += 1"
   ]
  },
  {
   "cell_type": "code",
   "execution_count": 11,
   "id": "2c29a6e0",
   "metadata": {},
   "outputs": [],
   "source": [
    "a = 1"
   ]
  },
  {
   "cell_type": "code",
   "execution_count": 12,
   "id": "9cca74c3",
   "metadata": {},
   "outputs": [],
   "source": [
    "def x():\n",
    "    a = 2\n",
    "    return a"
   ]
  },
  {
   "cell_type": "code",
   "execution_count": 13,
   "id": "3bcdebe1",
   "metadata": {},
   "outputs": [
    {
     "data": {
      "text/plain": [
       "2"
      ]
     },
     "execution_count": 13,
     "metadata": {},
     "output_type": "execute_result"
    }
   ],
   "source": [
    "x()"
   ]
  },
  {
   "cell_type": "code",
   "execution_count": 15,
   "id": "6db30edf",
   "metadata": {},
   "outputs": [],
   "source": [
    "def x():\n",
    "    return a"
   ]
  },
  {
   "cell_type": "code",
   "execution_count": 16,
   "id": "81f8a5e0",
   "metadata": {},
   "outputs": [
    {
     "data": {
      "text/plain": [
       "1"
      ]
     },
     "execution_count": 16,
     "metadata": {},
     "output_type": "execute_result"
    }
   ],
   "source": [
    "x()"
   ]
  },
  {
   "cell_type": "code",
   "execution_count": 25,
   "id": "729262e1",
   "metadata": {},
   "outputs": [],
   "source": [
    "print = 1"
   ]
  },
  {
   "cell_type": "code",
   "execution_count": 26,
   "id": "5a33ca4c",
   "metadata": {},
   "outputs": [
    {
     "data": {
      "text/plain": [
       "1"
      ]
     },
     "execution_count": 26,
     "metadata": {},
     "output_type": "execute_result"
    }
   ],
   "source": [
    "print"
   ]
  },
  {
   "cell_type": "code",
   "execution_count": 27,
   "id": "dee643c4",
   "metadata": {},
   "outputs": [
    {
     "ename": "TypeError",
     "evalue": "'int' object is not callable",
     "output_type": "error",
     "traceback": [
      "\u001b[1;31m---------------------------------------------------------------------------\u001b[0m",
      "\u001b[1;31mTypeError\u001b[0m                                 Traceback (most recent call last)",
      "Cell \u001b[1;32mIn[27], line 1\u001b[0m\n\u001b[1;32m----> 1\u001b[0m \u001b[38;5;28mprint\u001b[39m(\u001b[38;5;124m'\u001b[39m\u001b[38;5;124mFalied\u001b[39m\u001b[38;5;124m'\u001b[39m)\n",
      "\u001b[1;31mTypeError\u001b[0m: 'int' object is not callable"
     ]
    }
   ],
   "source": [
    "print('Falied')"
   ]
  },
  {
   "cell_type": "code",
   "execution_count": 28,
   "id": "05f8a052",
   "metadata": {},
   "outputs": [],
   "source": [
    "#글로벌영역의 메모리값 없애면 빌트인에서 찾는다."
   ]
  },
  {
   "cell_type": "code",
   "execution_count": 29,
   "id": "99233de1",
   "metadata": {},
   "outputs": [],
   "source": [
    "del print\n",
    "# or del(print)"
   ]
  },
  {
   "cell_type": "markdown",
   "id": "9f9bb4f3",
   "metadata": {},
   "source": [
    "### 01.01.01 __main__"
   ]
  },
  {
   "cell_type": "markdown",
   "id": "81c26f41",
   "metadata": {},
   "source": [
    "__main__"
   ]
  },
  {
   "cell_type": "code",
   "execution_count": 32,
   "id": "ad57b58a",
   "metadata": {},
   "outputs": [],
   "source": [
    "class A:\n",
    "    pass"
   ]
  },
  {
   "cell_type": "code",
   "execution_count": 33,
   "id": "0fda4950",
   "metadata": {},
   "outputs": [
    {
     "data": {
      "text/plain": [
       "__main__.A"
      ]
     },
     "execution_count": 33,
     "metadata": {},
     "output_type": "execute_result"
    }
   ],
   "source": [
    "A"
   ]
  },
  {
   "cell_type": "code",
   "execution_count": 39,
   "id": "06cbb6f9",
   "metadata": {},
   "outputs": [
    {
     "name": "stdout",
     "output_type": "stream",
     "text": [
      "Variable   Type        Data/Info\n",
      "--------------------------------\n",
      "A          type        <class '__main__.A'>\n",
      "a          int         1\n",
      "b          list        n=2\n",
      "x          function    <function x at 0x000002A8B3A0D300>\n"
     ]
    }
   ],
   "source": [
    "%whos\n",
    "# 주피터 노트북에서만됨\n",
    "#주피터 노트북 외엔 globals()"
   ]
  },
  {
   "cell_type": "code",
   "execution_count": 38,
   "id": "3b34fb72",
   "metadata": {},
   "outputs": [
    {
     "data": {
      "text/plain": [
       "['A', 'a', 'b', 'x']"
      ]
     },
     "execution_count": 38,
     "metadata": {},
     "output_type": "execute_result"
    }
   ],
   "source": [
    "%who_ls"
   ]
  },
  {
   "cell_type": "code",
   "execution_count": 41,
   "id": "9ee02fb0",
   "metadata": {},
   "outputs": [
    {
     "ename": "NameError",
     "evalue": "name 'B' is not defined",
     "output_type": "error",
     "traceback": [
      "\u001b[1;31m---------------------------------------------------------------------------\u001b[0m",
      "\u001b[1;31mNameError\u001b[0m                                 Traceback (most recent call last)",
      "Cell \u001b[1;32mIn[41], line 1\u001b[0m\n\u001b[1;32m----> 1\u001b[0m B\n",
      "\u001b[1;31mNameError\u001b[0m: name 'B' is not defined"
     ]
    }
   ],
   "source": [
    "B\n",
    "#작업공간에 없어서 NameError"
   ]
  },
  {
   "cell_type": "code",
   "execution_count": 42,
   "id": "87eed824",
   "metadata": {},
   "outputs": [],
   "source": [
    "def xx():\n",
    "    sun = 1"
   ]
  },
  {
   "cell_type": "code",
   "execution_count": 43,
   "id": "fb8bb37c",
   "metadata": {},
   "outputs": [
    {
     "ename": "AttributeError",
     "evalue": "'function' object has no attribute 'sun'",
     "output_type": "error",
     "traceback": [
      "\u001b[1;31m---------------------------------------------------------------------------\u001b[0m",
      "\u001b[1;31mAttributeError\u001b[0m                            Traceback (most recent call last)",
      "Cell \u001b[1;32mIn[43], line 1\u001b[0m\n\u001b[1;32m----> 1\u001b[0m xx\u001b[38;5;241m.\u001b[39msun\n",
      "\u001b[1;31mAttributeError\u001b[0m: 'function' object has no attribute 'sun'"
     ]
    }
   ],
   "source": [
    "xx.sun"
   ]
  },
  {
   "cell_type": "code",
   "execution_count": 44,
   "id": "304a4fd7",
   "metadata": {},
   "outputs": [],
   "source": [
    "#위 xx.sun에는, 즉 LEGB의 역순으로는 접근할 수 없다.\n",
    "#접근 불가능한 encapsulation\n",
    "#Information Hiding"
   ]
  },
  {
   "cell_type": "code",
   "execution_count": 45,
   "id": "56726f55",
   "metadata": {},
   "outputs": [],
   "source": [
    "a = 1\n",
    "def xx():\n",
    "    a = 2\n",
    "    return a"
   ]
  },
  {
   "cell_type": "code",
   "execution_count": 56,
   "id": "53cdf10c",
   "metadata": {},
   "outputs": [
    {
     "data": {
      "text/plain": [
       "10"
      ]
     },
     "execution_count": 56,
     "metadata": {},
     "output_type": "execute_result"
    }
   ],
   "source": [
    "xx()"
   ]
  },
  {
   "cell_type": "code",
   "execution_count": 58,
   "id": "5b487e53",
   "metadata": {},
   "outputs": [],
   "source": [
    "a = 4\n",
    "def xx():\n",
    "    global a\n",
    "    a += 2\n",
    "    return a"
   ]
  },
  {
   "cell_type": "code",
   "execution_count": 63,
   "id": "8f71d586",
   "metadata": {},
   "outputs": [
    {
     "data": {
      "text/plain": [
       "14"
      ]
     },
     "execution_count": 63,
     "metadata": {},
     "output_type": "execute_result"
    }
   ],
   "source": [
    "xx()"
   ]
  },
  {
   "cell_type": "code",
   "execution_count": 65,
   "id": "730ceb87",
   "metadata": {},
   "outputs": [
    {
     "data": {
      "text/plain": [
       "14"
      ]
     },
     "execution_count": 65,
     "metadata": {},
     "output_type": "execute_result"
    }
   ],
   "source": [
    "a\n",
    "#글로벌 영역에 직접 접근해서 변경해버린다.\n",
    "#잘쓰면 편하지만 못쓰면 매우 불편해진다."
   ]
  },
  {
   "cell_type": "markdown",
   "id": "4aac527a",
   "metadata": {},
   "source": [
    "## 01.02 global, nonlocal, closure\n",
    "\n",
    "LEGB의 E와 관련된 개념"
   ]
  },
  {
   "cell_type": "markdown",
   "id": "e521d9f7",
   "metadata": {},
   "source": [
    "### nonlocal"
   ]
  },
  {
   "cell_type": "code",
   "execution_count": 72,
   "id": "24ad7fdc",
   "metadata": {},
   "outputs": [],
   "source": [
    "a = 1\n",
    "def y():\n",
    "    a = 2    #Enclosing : 겹쳐 사용할 때 중간점\n",
    "    def x():\n",
    "        global a\n",
    "        a=a+1\n",
    "        return a\n",
    "    return x()"
   ]
  },
  {
   "cell_type": "code",
   "execution_count": 73,
   "id": "6fa5fc9a",
   "metadata": {},
   "outputs": [
    {
     "data": {
      "text/plain": [
       "2"
      ]
     },
     "execution_count": 73,
     "metadata": {},
     "output_type": "execute_result"
    }
   ],
   "source": [
    "y() # global a를 바꾼다(위에서 global a)"
   ]
  },
  {
   "cell_type": "markdown",
   "id": "6f53183a",
   "metadata": {},
   "source": [
    "이 때 y 영역의 a와 바운드하고 싶을 때 nonlocal을 사용한다."
   ]
  },
  {
   "cell_type": "code",
   "execution_count": 74,
   "id": "3a1fb45b",
   "metadata": {},
   "outputs": [],
   "source": [
    "a = 1\n",
    "def y():\n",
    "    a = 2    #Enclosing : 겹쳐 사용할 때 중간점\n",
    "    def x():\n",
    "        nonlocal a\n",
    "        a=a+1\n",
    "        return a\n",
    "    return x()"
   ]
  },
  {
   "cell_type": "code",
   "execution_count": 75,
   "id": "17964458",
   "metadata": {},
   "outputs": [
    {
     "data": {
      "text/plain": [
       "3"
      ]
     },
     "execution_count": 75,
     "metadata": {},
     "output_type": "execute_result"
    }
   ],
   "source": [
    "y() #result = 3"
   ]
  },
  {
   "cell_type": "markdown",
   "id": "10e70129",
   "metadata": {},
   "source": [
    "### closure(higher order function)"
   ]
  },
  {
   "cell_type": "code",
   "execution_count": 77,
   "id": "3c581063",
   "metadata": {},
   "outputs": [],
   "source": [
    "def x(m):\n",
    "    def y(n):\n",
    "        return m+n\n",
    "    return y"
   ]
  },
  {
   "cell_type": "code",
   "execution_count": 80,
   "id": "05ed6750",
   "metadata": {},
   "outputs": [
    {
     "data": {
      "text/plain": [
       "<function __main__.x.<locals>.y(n)>"
      ]
     },
     "execution_count": 80,
     "metadata": {},
     "output_type": "execute_result"
    }
   ],
   "source": [
    "x(3) # returns function y"
   ]
  },
  {
   "cell_type": "code",
   "execution_count": 83,
   "id": "1a0fc333",
   "metadata": {},
   "outputs": [
    {
     "data": {
      "text/plain": [
       "7"
      ]
     },
     "execution_count": 83,
     "metadata": {},
     "output_type": "execute_result"
    }
   ],
   "source": [
    "x(3)(4)"
   ]
  },
  {
   "cell_type": "markdown",
   "id": "0909b177",
   "metadata": {},
   "source": [
    "즉, x(3)이 반환하는 것은<br>\n",
    "def y(n):<br>\n",
    "    return 3+n<br>\n",
    "<br>\n",
    "의 y(n)이다."
   ]
  },
  {
   "cell_type": "code",
   "execution_count": 90,
   "id": "0779db2d",
   "metadata": {},
   "outputs": [],
   "source": [
    "class A:\n",
    "    def __init__(self, m):\n",
    "        self.m = m\n",
    "    def __call__(self, n):\n",
    "        return self.m+n"
   ]
  },
  {
   "cell_type": "code",
   "execution_count": 91,
   "id": "d0fcf237",
   "metadata": {},
   "outputs": [
    {
     "data": {
      "text/plain": [
       "5"
      ]
     },
     "execution_count": 91,
     "metadata": {},
     "output_type": "execute_result"
    }
   ],
   "source": [
    "A(1)(4)"
   ]
  },
  {
   "cell_type": "code",
   "execution_count": 92,
   "id": "5ac7160a",
   "metadata": {},
   "outputs": [],
   "source": [
    "model = A(1)"
   ]
  },
  {
   "cell_type": "code",
   "execution_count": 93,
   "id": "120d9a5d",
   "metadata": {},
   "outputs": [
    {
     "data": {
      "text/plain": [
       "5"
      ]
     },
     "execution_count": 93,
     "metadata": {},
     "output_type": "execute_result"
    }
   ],
   "source": [
    "model(4)"
   ]
  },
  {
   "cell_type": "markdown",
   "id": "7264a2ba",
   "metadata": {},
   "source": [
    "Encapsulation은 이름으로 묶는다.<br>\n",
    "1.클래스<br>\n",
    "2.함수<br>"
   ]
  },
  {
   "cell_type": "code",
   "execution_count": 94,
   "id": "b98f753b",
   "metadata": {},
   "outputs": [],
   "source": [
    "# definition = declaration\n",
    "#파이썬에서는 definition을 많이 쓰고, 다른데에선 declaration이란 단어를 많이 쓴다.\n",
    "#하는 이유. 여러번 재사용하기 위해서. \"이름으로\"묶는다."
   ]
  },
  {
   "cell_type": "markdown",
   "id": "ea4d1182",
   "metadata": {},
   "source": [
    "**접근여부**<br>\n",
    "파이썬은\n",
    "함수(function) : 외부에서 내부로 접근 못한다(information hiding).<br>\n",
    "클래스(class) : 외부에서 내부로 접근할 수 있다.<br>\n",
    "\n",
    "접근 못하는 객체에 접근하기 위한 접근 통로를 interface라고 한다.<br>\n",
    "이것을 파이썬에서 디스크립터(descriptor)(e.g. get, set)라고 한다.\n",
    "\n",
    "프로그래밍 관점에서 이름이란 how보다 what을 중시한다."
   ]
  },
  {
   "cell_type": "markdown",
   "id": "6b6a9814",
   "metadata": {},
   "source": [
    "***"
   ]
  },
  {
   "cell_type": "markdown",
   "id": "a2612c13",
   "metadata": {},
   "source": [
    "map은 함수를 받는데, 한번 쓰고 버릴 함수는 람다를 쓴다."
   ]
  },
  {
   "cell_type": "code",
   "execution_count": 95,
   "id": "42fff8fd",
   "metadata": {},
   "outputs": [],
   "source": [
    "b = map(lambda x:x+1, [1,2,3,4])"
   ]
  },
  {
   "cell_type": "code",
   "execution_count": 96,
   "id": "c0f607cd",
   "metadata": {},
   "outputs": [
    {
     "data": {
      "text/plain": [
       "2"
      ]
     },
     "execution_count": 96,
     "metadata": {},
     "output_type": "execute_result"
    }
   ],
   "source": [
    "next(b)"
   ]
  },
  {
   "cell_type": "markdown",
   "id": "052791ac",
   "metadata": {},
   "source": [
    "파이썬에 ()붙일 수 있는 애는 3개 있다.\n",
    "\n",
    "1.function<br>\n",
    "2.class<br>\n",
    "3.\\_\\_call\\_\\_ 정의\n",
    "\n",
    "파이썬의 모든 애들은 3을 정의함으로써 callable로 만들 수 있다."
   ]
  },
  {
   "cell_type": "code",
   "execution_count": 102,
   "id": "6f6bfd48",
   "metadata": {},
   "outputs": [],
   "source": [
    "def x():\n",
    "    pass"
   ]
  },
  {
   "cell_type": "code",
   "execution_count": 103,
   "id": "d46b27c3",
   "metadata": {},
   "outputs": [],
   "source": [
    "a = x "
   ]
  },
  {
   "cell_type": "code",
   "execution_count": 104,
   "id": "01288f75",
   "metadata": {},
   "outputs": [
    {
     "data": {
      "text/plain": [
       "'x'"
      ]
     },
     "execution_count": 104,
     "metadata": {},
     "output_type": "execute_result"
    }
   ],
   "source": [
    "a.__name__"
   ]
  },
  {
   "cell_type": "code",
   "execution_count": 105,
   "id": "e1d3b749",
   "metadata": {},
   "outputs": [
    {
     "data": {
      "text/plain": [
       "'x'"
      ]
     },
     "execution_count": 105,
     "metadata": {},
     "output_type": "execute_result"
    }
   ],
   "source": [
    "#Import 한게 있으면 상세 이름까지\n",
    "a.__qualname__"
   ]
  },
  {
   "cell_type": "code",
   "execution_count": 106,
   "id": "ab0e596b",
   "metadata": {},
   "outputs": [],
   "source": [
    "a = lambda x:x+1"
   ]
  },
  {
   "cell_type": "code",
   "execution_count": 107,
   "id": "3798f8d2",
   "metadata": {},
   "outputs": [
    {
     "data": {
      "text/plain": [
       "'<lambda>'"
      ]
     },
     "execution_count": 107,
     "metadata": {},
     "output_type": "execute_result"
    }
   ],
   "source": [
    "a.__name__"
   ]
  },
  {
   "cell_type": "code",
   "execution_count": 108,
   "id": "fb59f927",
   "metadata": {},
   "outputs": [
    {
     "data": {
      "text/plain": [
       "'<lambda>'"
      ]
     },
     "execution_count": 108,
     "metadata": {},
     "output_type": "execute_result"
    }
   ],
   "source": [
    "a.__qualname__"
   ]
  },
  {
   "cell_type": "markdown",
   "id": "ebe9a76c",
   "metadata": {},
   "source": [
    "위 람다는 개체성(이름)이 없이 람다로 통칭되며 힙영역에 정의된다. 따라서 가비지컬렉션이 잘된다. 그리고 미묘하게 빠르게 실행된다."
   ]
  },
  {
   "cell_type": "code",
   "execution_count": 109,
   "id": "a9ae25ba",
   "metadata": {},
   "outputs": [
    {
     "data": {
      "text/plain": [
       "keras.src.layers.core.lambda_layer.Lambda"
      ]
     },
     "execution_count": 109,
     "metadata": {},
     "output_type": "execute_result"
    }
   ],
   "source": [
    "#텐서플로우에도 람다 있다. 이것은 람다대수에서 왔다.\n",
    "tf.keras.layers.Lambda"
   ]
  },
  {
   "cell_type": "markdown",
   "id": "75e1e63a",
   "metadata": {},
   "source": [
    "데코레이터는 function closure이다.<br>\n",
    "모든 함수형 프로그래밍은 객체지향형으로 바꿀 수 있다."
   ]
  },
  {
   "cell_type": "markdown",
   "id": "58de0959",
   "metadata": {},
   "source": [
    "### 다시 closure"
   ]
  },
  {
   "cell_type": "code",
   "execution_count": 110,
   "id": "5d390d49",
   "metadata": {},
   "outputs": [],
   "source": [
    "def x(m):\n",
    "    def y(n):\n",
    "        return m+n\n",
    "    return y"
   ]
  },
  {
   "cell_type": "code",
   "execution_count": 111,
   "id": "64e7b1cb",
   "metadata": {},
   "outputs": [
    {
     "data": {
      "text/plain": [
       "<function __main__.x.<locals>.y(n)>"
      ]
     },
     "execution_count": 111,
     "metadata": {},
     "output_type": "execute_result"
    }
   ],
   "source": [
    "x(1)"
   ]
  },
  {
   "cell_type": "markdown",
   "id": "100ef37d",
   "metadata": {},
   "source": [
    "로컬 함수 y라는 뜻"
   ]
  },
  {
   "cell_type": "code",
   "execution_count": 113,
   "id": "0debe7d7",
   "metadata": {},
   "outputs": [
    {
     "ename": "AttributeError",
     "evalue": "'function' object has no attribute 'n'",
     "output_type": "error",
     "traceback": [
      "\u001b[1;31m---------------------------------------------------------------------------\u001b[0m",
      "\u001b[1;31mAttributeError\u001b[0m                            Traceback (most recent call last)",
      "Cell \u001b[1;32mIn[113], line 1\u001b[0m\n\u001b[1;32m----> 1\u001b[0m x(\u001b[38;5;241m1\u001b[39m)\u001b[38;5;241m.\u001b[39mn\n",
      "\u001b[1;31mAttributeError\u001b[0m: 'function' object has no attribute 'n'"
     ]
    }
   ],
   "source": [
    "x(1).n\n",
    "#Error : none Accessible"
   ]
  },
  {
   "cell_type": "code",
   "execution_count": 114,
   "id": "bf16c96d",
   "metadata": {},
   "outputs": [],
   "source": [
    "a = x(1)"
   ]
  },
  {
   "cell_type": "code",
   "execution_count": 115,
   "id": "97158087",
   "metadata": {},
   "outputs": [
    {
     "ename": "AttributeError",
     "evalue": "'function' object has no attribute 'n'",
     "output_type": "error",
     "traceback": [
      "\u001b[1;31m---------------------------------------------------------------------------\u001b[0m",
      "\u001b[1;31mAttributeError\u001b[0m                            Traceback (most recent call last)",
      "Cell \u001b[1;32mIn[115], line 1\u001b[0m\n\u001b[1;32m----> 1\u001b[0m a\u001b[38;5;241m.\u001b[39mn\n",
      "\u001b[1;31mAttributeError\u001b[0m: 'function' object has no attribute 'n'"
     ]
    }
   ],
   "source": [
    "a.n"
   ]
  },
  {
   "cell_type": "code",
   "execution_count": 116,
   "id": "d66694bf",
   "metadata": {},
   "outputs": [
    {
     "data": {
      "text/plain": [
       "['__annotations__',\n",
       " '__builtins__',\n",
       " '__call__',\n",
       " '__class__',\n",
       " '__closure__',\n",
       " '__code__',\n",
       " '__defaults__',\n",
       " '__delattr__',\n",
       " '__dict__',\n",
       " '__dir__',\n",
       " '__doc__',\n",
       " '__eq__',\n",
       " '__format__',\n",
       " '__ge__',\n",
       " '__get__',\n",
       " '__getattribute__',\n",
       " '__getstate__',\n",
       " '__globals__',\n",
       " '__gt__',\n",
       " '__hash__',\n",
       " '__init__',\n",
       " '__init_subclass__',\n",
       " '__kwdefaults__',\n",
       " '__le__',\n",
       " '__lt__',\n",
       " '__module__',\n",
       " '__name__',\n",
       " '__ne__',\n",
       " '__new__',\n",
       " '__qualname__',\n",
       " '__reduce__',\n",
       " '__reduce_ex__',\n",
       " '__repr__',\n",
       " '__setattr__',\n",
       " '__sizeof__',\n",
       " '__str__',\n",
       " '__subclasshook__']"
      ]
     },
     "execution_count": 116,
     "metadata": {},
     "output_type": "execute_result"
    }
   ],
   "source": [
    "dir(a)"
   ]
  },
  {
   "cell_type": "markdown",
   "id": "c5e4894a",
   "metadata": {},
   "source": [
    "dir안에 있는건 a.블라블라 하면 쓸수 있는 것이다. 여기에 없는걸 쓰면 attribute 에러가 난다. 함수를 객체로 만들었다. 파이썬 객체는 encapsulation할 때 제약조건이 없다."
   ]
  },
  {
   "cell_type": "code",
   "execution_count": 132,
   "id": "61bf17f1",
   "metadata": {},
   "outputs": [],
   "source": [
    "class A:\n",
    "    x = 1 #class variable/attribute\n",
    "    def xx(self): #instance method\n",
    "        print('x')\n",
    "    def y(self, m):\n",
    "        self.m = m #self.m에서 m은 인스턴스 변수\n",
    "        #인스턴스 변수는 인스턴스 메서드가 실행될 때 동적으로 생성\n",
    "    @classmethod\n",
    "    def zz(cls):\n",
    "        print('cls')"
   ]
  },
  {
   "cell_type": "markdown",
   "id": "dcccf2b4",
   "metadata": {},
   "source": [
    "파이썬의 클래스는 데이터 타입을 말한다. int class, float class등으로 말할 수 있다. 귀도반로섬이 파이썬 2.2에서 타입과 클래스를 하나로 만들었다. 따라서 위는 A라는 데이터 타입이라고 부를 수 있다.<br>\n",
    "\n",
    "일반적으로 클래스를 직접 사용하는 것이 아니라 클래스의 인스턴스를 사용한다. 하지만, 메타클래스는 클래스의 클래스를 의미하는데, 이 입장에서 클래스는 인스턴스이다. 메타클래스 있는 언어에서는 클래스를 직접 사용 가능하다. 파이썬에는 메타클래스가 있다.\n",
    "\n",
    "그래서 클래스 변수라는 것은 클래스가 직접 사용할 수 있는 변수를 이야기한다."
   ]
  },
  {
   "cell_type": "code",
   "execution_count": 133,
   "id": "a0ae5e03",
   "metadata": {},
   "outputs": [
    {
     "data": {
      "text/plain": [
       "1"
      ]
     },
     "execution_count": 133,
     "metadata": {},
     "output_type": "execute_result"
    }
   ],
   "source": [
    "#클래스변수\n",
    "A.x"
   ]
  },
  {
   "cell_type": "markdown",
   "id": "13f265df",
   "metadata": {},
   "source": [
    "클래스메소드도 있다."
   ]
  },
  {
   "cell_type": "code",
   "execution_count": 131,
   "id": "ed0f6348",
   "metadata": {},
   "outputs": [
    {
     "name": "stdout",
     "output_type": "stream",
     "text": [
      "cls\n"
     ]
    }
   ],
   "source": [
    "A.zz()"
   ]
  },
  {
   "cell_type": "markdown",
   "id": "01f5dc11",
   "metadata": {},
   "source": [
    "클래스의 생성자는 클래스에 괄호를 붙이는 것이며, 이로 인해 인스턴스화한다."
   ]
  },
  {
   "cell_type": "code",
   "execution_count": 140,
   "id": "34ef6e93",
   "metadata": {},
   "outputs": [],
   "source": [
    "#int 는 타입이고 = 클래스이다. 따라서 아래와 같이 된다.\n",
    "a = int()\n",
    "b = float(2.0)"
   ]
  },
  {
   "cell_type": "code",
   "execution_count": 141,
   "id": "7f5631fd",
   "metadata": {},
   "outputs": [
    {
     "data": {
      "text/plain": [
       "(0, 2.0)"
      ]
     },
     "execution_count": 141,
     "metadata": {},
     "output_type": "execute_result"
    }
   ],
   "source": [
    "a, b"
   ]
  },
  {
   "cell_type": "code",
   "execution_count": 142,
   "id": "f1651989",
   "metadata": {},
   "outputs": [],
   "source": [
    "#근데 이걸 워낙 자주 쓰기 때문에 리터럴을 제공하기 때문에!"
   ]
  },
  {
   "cell_type": "code",
   "execution_count": 143,
   "id": "2b9589e8",
   "metadata": {},
   "outputs": [],
   "source": [
    "a = 5\n",
    "b = 2.0"
   ]
  },
  {
   "cell_type": "code",
   "execution_count": 144,
   "id": "ec65f31f",
   "metadata": {},
   "outputs": [
    {
     "data": {
      "text/plain": [
       "(5, 2.0)"
      ]
     },
     "execution_count": 144,
     "metadata": {},
     "output_type": "execute_result"
    }
   ],
   "source": [
    "a, b"
   ]
  },
  {
   "cell_type": "code",
   "execution_count": 145,
   "id": "1431e36a",
   "metadata": {},
   "outputs": [],
   "source": [
    "a = {}\n",
    "#공집합은 리터럴로 만들 수 없다. 얘는 딕셔너리로 되어있기 때문이다. 처음엔 set이 없었기 때문"
   ]
  },
  {
   "cell_type": "code",
   "execution_count": 146,
   "id": "6633b500",
   "metadata": {},
   "outputs": [],
   "source": [
    "a = set()\n",
    "#그러나 이렇게 만들 수 있다."
   ]
  },
  {
   "cell_type": "markdown",
   "id": "d76b1b0c",
   "metadata": {},
   "source": [
    "파이썬은 c로 만들었는데, c는 객체지향 언어가 아니기 때문에 class의 개념이 없다. 그래서 function과 method의 개념이 미묘하다."
   ]
  },
  {
   "cell_type": "code",
   "execution_count": 147,
   "id": "f8f5545f",
   "metadata": {},
   "outputs": [],
   "source": [
    "#클래스의 클래스가 존재하기 때문에 클래스도 하나의 값으로 평가되어서 아래와 같ㅇ티 할 수 있다.\n",
    "a = int"
   ]
  },
  {
   "cell_type": "code",
   "execution_count": 148,
   "id": "3ca028cd",
   "metadata": {},
   "outputs": [
    {
     "data": {
      "text/plain": [
       "int"
      ]
     },
     "execution_count": 148,
     "metadata": {},
     "output_type": "execute_result"
    }
   ],
   "source": [
    "a"
   ]
  },
  {
   "cell_type": "code",
   "execution_count": 149,
   "id": "101d93ab",
   "metadata": {},
   "outputs": [
    {
     "data": {
      "text/plain": [
       "'int'"
      ]
     },
     "execution_count": 149,
     "metadata": {},
     "output_type": "execute_result"
    }
   ],
   "source": [
    "a.__name__"
   ]
  },
  {
   "cell_type": "markdown",
   "id": "ebef1432",
   "metadata": {},
   "source": [
    "### 인스턴스 메서드"
   ]
  },
  {
   "cell_type": "markdown",
   "id": "6becd2f3",
   "metadata": {},
   "source": [
    "인스턴스는 클래스 기반으로 만들어진 구현객체이다. 인스턴스를 만드는 것을 인스턴스화라고 하며 '클래스명()'의 방식으로 한다.\n",
    "인스턴스를 object라고 부르기도 한다."
   ]
  },
  {
   "cell_type": "code",
   "execution_count": 150,
   "id": "7a95ad9a",
   "metadata": {},
   "outputs": [],
   "source": [
    "class B:\n",
    "    pass"
   ]
  },
  {
   "cell_type": "code",
   "execution_count": 151,
   "id": "eaf38648",
   "metadata": {},
   "outputs": [],
   "source": [
    "# bb는 인스턴스, B는 클래스\n",
    "bb = B()"
   ]
  },
  {
   "cell_type": "code",
   "execution_count": 152,
   "id": "b2d1d5f3",
   "metadata": {},
   "outputs": [
    {
     "data": {
      "text/plain": [
       "['__class__',\n",
       " '__delattr__',\n",
       " '__dict__',\n",
       " '__dir__',\n",
       " '__doc__',\n",
       " '__eq__',\n",
       " '__format__',\n",
       " '__ge__',\n",
       " '__getattribute__',\n",
       " '__getstate__',\n",
       " '__gt__',\n",
       " '__hash__',\n",
       " '__init__',\n",
       " '__init_subclass__',\n",
       " '__le__',\n",
       " '__lt__',\n",
       " '__module__',\n",
       " '__ne__',\n",
       " '__new__',\n",
       " '__reduce__',\n",
       " '__reduce_ex__',\n",
       " '__repr__',\n",
       " '__setattr__',\n",
       " '__sizeof__',\n",
       " '__str__',\n",
       " '__subclasshook__',\n",
       " '__weakref__']"
      ]
     },
     "execution_count": 152,
     "metadata": {},
     "output_type": "execute_result"
    }
   ],
   "source": [
    "dir(B)"
   ]
  },
  {
   "cell_type": "markdown",
   "id": "4e866c0d",
   "metadata": {},
   "source": [
    "객체지향 4가지<br>\n",
    "캡슐화, 상속, 추상화, 다형성<br>\n",
    "\n",
    "파이썬의 모든 클래스는 암묵적으로 object라는 객체를 상속한다.<br>"
   ]
  },
  {
   "cell_type": "code",
   "execution_count": 154,
   "id": "7e89eb2d",
   "metadata": {},
   "outputs": [],
   "source": [
    "#생략해도 아래와 같은 형태로 된다.\n",
    "#오브젝트를 상속하고, 그것의 메타클래스는 타입(type)을 사용하겠다.\n",
    "class B(object, metaclass=type):\n",
    "    pass"
   ]
  },
  {
   "cell_type": "code",
   "execution_count": 155,
   "id": "bb44f0e7",
   "metadata": {},
   "outputs": [
    {
     "data": {
      "text/plain": [
       "[__main__.B, object]"
      ]
     },
     "execution_count": 155,
     "metadata": {},
     "output_type": "execute_result"
    }
   ],
   "source": [
    "#dir 쳤을 때 안나오는 메서드 mro를 쓸 수 있다.\n",
    "B.mro()"
   ]
  },
  {
   "cell_type": "code",
   "execution_count": 156,
   "id": "a49a5537",
   "metadata": {},
   "outputs": [
    {
     "data": {
      "text/plain": [
       "['__abstractmethods__',\n",
       " '__annotations__',\n",
       " '__base__',\n",
       " '__bases__',\n",
       " '__basicsize__',\n",
       " '__call__',\n",
       " '__class__',\n",
       " '__delattr__',\n",
       " '__dict__',\n",
       " '__dictoffset__',\n",
       " '__dir__',\n",
       " '__doc__',\n",
       " '__eq__',\n",
       " '__flags__',\n",
       " '__format__',\n",
       " '__ge__',\n",
       " '__getattribute__',\n",
       " '__getstate__',\n",
       " '__gt__',\n",
       " '__hash__',\n",
       " '__init__',\n",
       " '__init_subclass__',\n",
       " '__instancecheck__',\n",
       " '__itemsize__',\n",
       " '__le__',\n",
       " '__lt__',\n",
       " '__module__',\n",
       " '__mro__',\n",
       " '__name__',\n",
       " '__ne__',\n",
       " '__new__',\n",
       " '__or__',\n",
       " '__prepare__',\n",
       " '__qualname__',\n",
       " '__reduce__',\n",
       " '__reduce_ex__',\n",
       " '__repr__',\n",
       " '__ror__',\n",
       " '__setattr__',\n",
       " '__sizeof__',\n",
       " '__str__',\n",
       " '__subclasscheck__',\n",
       " '__subclasses__',\n",
       " '__subclasshook__',\n",
       " '__text_signature__',\n",
       " '__weakrefoffset__',\n",
       " 'mro']"
      ]
     },
     "execution_count": 156,
     "metadata": {},
     "output_type": "execute_result"
    }
   ],
   "source": [
    "dir(type)"
   ]
  },
  {
   "cell_type": "markdown",
   "id": "b9cb1817",
   "metadata": {},
   "source": [
    "object만드는 방식은 클래스에 괄호붙여서 인스턴스 만들기, 리터럴로 만들기 두 가지 방식이 있다. 그 중 클래스에 괄호붙여서 만든 방식은 오브젝트와 메타클래스의 속성을 상속받는다.<br>\n",
    "하나의 클래스로부터 제한없이 인스턴스를 만들 수 있다."
   ]
  },
  {
   "cell_type": "code",
   "execution_count": 157,
   "id": "87dbfa93",
   "metadata": {},
   "outputs": [],
   "source": [
    "a = int(1)"
   ]
  },
  {
   "cell_type": "code",
   "execution_count": 159,
   "id": "f93955cf",
   "metadata": {},
   "outputs": [
    {
     "data": {
      "text/plain": [
       "int"
      ]
     },
     "execution_count": 159,
     "metadata": {},
     "output_type": "execute_result"
    }
   ],
   "source": [
    "type(a)"
   ]
  },
  {
   "cell_type": "code",
   "execution_count": 161,
   "id": "541b391b",
   "metadata": {},
   "outputs": [
    {
     "data": {
      "text/plain": [
       "int"
      ]
     },
     "execution_count": 161,
     "metadata": {},
     "output_type": "execute_result"
    }
   ],
   "source": [
    "a.__class__"
   ]
  },
  {
   "cell_type": "code",
   "execution_count": 162,
   "id": "33ddd8ca",
   "metadata": {},
   "outputs": [
    {
     "data": {
      "text/plain": [
       "True"
      ]
     },
     "execution_count": 162,
     "metadata": {},
     "output_type": "execute_result"
    }
   ],
   "source": [
    "isinstance(a, int)"
   ]
  },
  {
   "cell_type": "markdown",
   "id": "3b68956e",
   "metadata": {},
   "source": [
    "위에서 볼 수 있듯 a의 클래스(=type)는 int이다.\n",
    "\n",
    "그 중 isintance는 오리의 방식으로 만들었는지 확인하고자 할 때 사용한다. 근데 타입은 모르겠고, 특정 기능 즉 인터페이스를 가졌는지만을 확인하는 스타일을 덕타이핑이라고 한다."
   ]
  },
  {
   "cell_type": "code",
   "execution_count": 163,
   "id": "f36bf4e5",
   "metadata": {},
   "outputs": [
    {
     "data": {
      "text/plain": [
       "type"
      ]
     },
     "execution_count": 163,
     "metadata": {},
     "output_type": "execute_result"
    }
   ],
   "source": [
    "type(int)"
   ]
  },
  {
   "cell_type": "markdown",
   "id": "4a90a311",
   "metadata": {},
   "source": [
    "위에서 볼 수 있듯이 type이 메타클래스이다. 따라서 type()했을 때 'type'이 나온다면 클래스이고, type()했을때 어떤 이름이 나온다면 인스턴스이다."
   ]
  },
  {
   "cell_type": "code",
   "execution_count": 183,
   "id": "7a39d758",
   "metadata": {},
   "outputs": [],
   "source": [
    "class B:\n",
    "    def t(self):\n",
    "        self.a = 3\n",
    "    def s(self, b):\n",
    "        self.b = b"
   ]
  },
  {
   "cell_type": "code",
   "execution_count": 184,
   "id": "65247eb6",
   "metadata": {},
   "outputs": [],
   "source": [
    "b1 = B()"
   ]
  },
  {
   "cell_type": "code",
   "execution_count": 185,
   "id": "26c342d7",
   "metadata": {
    "collapsed": true
   },
   "outputs": [
    {
     "data": {
      "text/plain": [
       "(__main__.B,\n",
       " ['__class__',\n",
       "  '__delattr__',\n",
       "  '__dict__',\n",
       "  '__dir__',\n",
       "  '__doc__',\n",
       "  '__eq__',\n",
       "  '__format__',\n",
       "  '__ge__',\n",
       "  '__getattribute__',\n",
       "  '__getstate__',\n",
       "  '__gt__',\n",
       "  '__hash__',\n",
       "  '__init__',\n",
       "  '__init_subclass__',\n",
       "  '__le__',\n",
       "  '__lt__',\n",
       "  '__module__',\n",
       "  '__ne__',\n",
       "  '__new__',\n",
       "  '__reduce__',\n",
       "  '__reduce_ex__',\n",
       "  '__repr__',\n",
       "  '__setattr__',\n",
       "  '__sizeof__',\n",
       "  '__str__',\n",
       "  '__subclasshook__',\n",
       "  '__weakref__',\n",
       "  's',\n",
       "  't'])"
      ]
     },
     "execution_count": 185,
     "metadata": {},
     "output_type": "execute_result"
    }
   ],
   "source": [
    "type(b1), dir(b1)"
   ]
  },
  {
   "cell_type": "code",
   "execution_count": 186,
   "id": "eefee5df",
   "metadata": {},
   "outputs": [],
   "source": [
    "b1.t()"
   ]
  },
  {
   "cell_type": "code",
   "execution_count": 187,
   "id": "5f99f1d8",
   "metadata": {
    "collapsed": true
   },
   "outputs": [
    {
     "data": {
      "text/plain": [
       "['__class__',\n",
       " '__delattr__',\n",
       " '__dict__',\n",
       " '__dir__',\n",
       " '__doc__',\n",
       " '__eq__',\n",
       " '__format__',\n",
       " '__ge__',\n",
       " '__getattribute__',\n",
       " '__getstate__',\n",
       " '__gt__',\n",
       " '__hash__',\n",
       " '__init__',\n",
       " '__init_subclass__',\n",
       " '__le__',\n",
       " '__lt__',\n",
       " '__module__',\n",
       " '__ne__',\n",
       " '__new__',\n",
       " '__reduce__',\n",
       " '__reduce_ex__',\n",
       " '__repr__',\n",
       " '__setattr__',\n",
       " '__sizeof__',\n",
       " '__str__',\n",
       " '__subclasshook__',\n",
       " '__weakref__',\n",
       " 'a',\n",
       " 's',\n",
       " 't']"
      ]
     },
     "execution_count": 187,
     "metadata": {},
     "output_type": "execute_result"
    }
   ],
   "source": [
    "dir(b1)"
   ]
  },
  {
   "cell_type": "code",
   "execution_count": 188,
   "id": "77533856",
   "metadata": {},
   "outputs": [],
   "source": [
    "b1.s(5)"
   ]
  },
  {
   "cell_type": "code",
   "execution_count": 189,
   "id": "8dbc8154",
   "metadata": {
    "collapsed": true
   },
   "outputs": [
    {
     "data": {
      "text/plain": [
       "['__class__',\n",
       " '__delattr__',\n",
       " '__dict__',\n",
       " '__dir__',\n",
       " '__doc__',\n",
       " '__eq__',\n",
       " '__format__',\n",
       " '__ge__',\n",
       " '__getattribute__',\n",
       " '__getstate__',\n",
       " '__gt__',\n",
       " '__hash__',\n",
       " '__init__',\n",
       " '__init_subclass__',\n",
       " '__le__',\n",
       " '__lt__',\n",
       " '__module__',\n",
       " '__ne__',\n",
       " '__new__',\n",
       " '__reduce__',\n",
       " '__reduce_ex__',\n",
       " '__repr__',\n",
       " '__setattr__',\n",
       " '__sizeof__',\n",
       " '__str__',\n",
       " '__subclasshook__',\n",
       " '__weakref__',\n",
       " 'a',\n",
       " 'b',\n",
       " 's',\n",
       " 't']"
      ]
     },
     "execution_count": 189,
     "metadata": {},
     "output_type": "execute_result"
    }
   ],
   "source": [
    "dir(b1)"
   ]
  },
  {
   "cell_type": "code",
   "execution_count": 190,
   "id": "74fdaf92",
   "metadata": {},
   "outputs": [
    {
     "data": {
      "text/plain": [
       "5"
      ]
     },
     "execution_count": 190,
     "metadata": {},
     "output_type": "execute_result"
    }
   ],
   "source": [
    "b1.b"
   ]
  },
  {
   "cell_type": "markdown",
   "id": "47b5ff4a",
   "metadata": {},
   "source": [
    "레이지하게 생성되는 인스턴스 변수를 위의 사례들이 보여준다."
   ]
  },
  {
   "cell_type": "code",
   "execution_count": 191,
   "id": "ef9c0e9f",
   "metadata": {},
   "outputs": [],
   "source": [
    "b2 = B()"
   ]
  },
  {
   "cell_type": "code",
   "execution_count": 194,
   "id": "0d4cc147",
   "metadata": {},
   "outputs": [],
   "source": [
    "b2.t()\n",
    "#위를 진행하면 b2의 인스턴스 변수로 a가 생기고 3이 대입된다."
   ]
  },
  {
   "cell_type": "code",
   "execution_count": 196,
   "id": "37a8a162",
   "metadata": {},
   "outputs": [
    {
     "data": {
      "text/plain": [
       "3"
      ]
     },
     "execution_count": 196,
     "metadata": {},
     "output_type": "execute_result"
    }
   ],
   "source": [
    "b2.a"
   ]
  },
  {
   "cell_type": "code",
   "execution_count": 197,
   "id": "0b779600",
   "metadata": {},
   "outputs": [],
   "source": [
    "b2.s('g')"
   ]
  },
  {
   "cell_type": "code",
   "execution_count": 199,
   "id": "8b81deef",
   "metadata": {},
   "outputs": [
    {
     "data": {
      "text/plain": [
       "{'a': 3, 'b': 'g'}"
      ]
     },
     "execution_count": 199,
     "metadata": {},
     "output_type": "execute_result"
    }
   ],
   "source": [
    "#vars는 인스턴스가 가지고 있는 인스턴스 변수들과 그 값을 보여준다.\n",
    "vars(b2)"
   ]
  },
  {
   "cell_type": "code",
   "execution_count": 223,
   "id": "7d236485",
   "metadata": {},
   "outputs": [],
   "source": [
    "class C:\n",
    "    xx = 1 #클래스변수\n",
    "    def cc(self, t):\n",
    "        self.t = t #인스턴스변수"
   ]
  },
  {
   "cell_type": "code",
   "execution_count": 224,
   "id": "ca4702c2",
   "metadata": {},
   "outputs": [],
   "source": [
    "c1 = C()"
   ]
  },
  {
   "cell_type": "code",
   "execution_count": 225,
   "id": "864a95dc",
   "metadata": {},
   "outputs": [
    {
     "data": {
      "text/plain": [
       "{}"
      ]
     },
     "execution_count": 225,
     "metadata": {},
     "output_type": "execute_result"
    }
   ],
   "source": [
    "vars(c1)"
   ]
  },
  {
   "cell_type": "code",
   "execution_count": 226,
   "id": "8e0ce65c",
   "metadata": {},
   "outputs": [
    {
     "data": {
      "text/plain": [
       "1"
      ]
     },
     "execution_count": 226,
     "metadata": {},
     "output_type": "execute_result"
    }
   ],
   "source": [
    "#LEGB와 비슷하게, 인스턴스 변수에 없으면 클래스 변수 영역을 체크한다.\n",
    "c1.xx"
   ]
  },
  {
   "cell_type": "code",
   "execution_count": 227,
   "id": "e0476c44",
   "metadata": {},
   "outputs": [],
   "source": [
    "#이렇게 하면 내부적으로 __set__이 실행되는데, property descripter라고 한다.\n",
    "c1.tt = 3"
   ]
  },
  {
   "cell_type": "code",
   "execution_count": 228,
   "id": "113b8d1f",
   "metadata": {},
   "outputs": [
    {
     "data": {
      "text/plain": [
       "{'tt': 3}"
      ]
     },
     "execution_count": 228,
     "metadata": {},
     "output_type": "execute_result"
    }
   ],
   "source": [
    "vars(c1)"
   ]
  },
  {
   "cell_type": "code",
   "execution_count": 229,
   "id": "823da990",
   "metadata": {},
   "outputs": [],
   "source": [
    "c1.xx = 't'"
   ]
  },
  {
   "cell_type": "code",
   "execution_count": 230,
   "id": "efa2874c",
   "metadata": {},
   "outputs": [
    {
     "data": {
      "text/plain": [
       "{'tt': 3, 'xx': 't'}"
      ]
     },
     "execution_count": 230,
     "metadata": {},
     "output_type": "execute_result"
    }
   ],
   "source": [
    "vars(c1)"
   ]
  },
  {
   "cell_type": "code",
   "execution_count": 231,
   "id": "af12a34a",
   "metadata": {},
   "outputs": [],
   "source": [
    "c2 = C()"
   ]
  },
  {
   "cell_type": "code",
   "execution_count": 232,
   "id": "ad4e73ad",
   "metadata": {},
   "outputs": [
    {
     "data": {
      "text/plain": [
       "1"
      ]
     },
     "execution_count": 232,
     "metadata": {},
     "output_type": "execute_result"
    }
   ],
   "source": [
    "c2.xx"
   ]
  },
  {
   "cell_type": "code",
   "execution_count": 233,
   "id": "5dd489e3",
   "metadata": {},
   "outputs": [],
   "source": [
    "C.xx = 'Sunny'"
   ]
  },
  {
   "cell_type": "code",
   "execution_count": 234,
   "id": "f4a7c8af",
   "metadata": {},
   "outputs": [
    {
     "data": {
      "text/plain": [
       "'Sunny'"
      ]
     },
     "execution_count": 234,
     "metadata": {},
     "output_type": "execute_result"
    }
   ],
   "source": [
    "c2.xx"
   ]
  },
  {
   "cell_type": "code",
   "execution_count": 235,
   "id": "babc565e",
   "metadata": {},
   "outputs": [
    {
     "data": {
      "text/plain": [
       "<function len(obj, /)>"
      ]
     },
     "execution_count": 235,
     "metadata": {},
     "output_type": "execute_result"
    }
   ],
   "source": [
    "len"
   ]
  },
  {
   "cell_type": "code",
   "execution_count": 236,
   "id": "7c311cb1",
   "metadata": {},
   "outputs": [],
   "source": [
    "class D:\n",
    "    def tt(self):\n",
    "        print('tt')"
   ]
  },
  {
   "cell_type": "code",
   "execution_count": 237,
   "id": "3e438d7c",
   "metadata": {},
   "outputs": [],
   "source": [
    "d = D()"
   ]
  },
  {
   "cell_type": "code",
   "execution_count": 239,
   "id": "141e64c2",
   "metadata": {},
   "outputs": [
    {
     "data": {
      "text/plain": [
       "<bound method D.tt of <__main__.D object at 0x000002A8C162A690>>"
      ]
     },
     "execution_count": 239,
     "metadata": {},
     "output_type": "execute_result"
    }
   ],
   "source": [
    "d.tt"
   ]
  },
  {
   "cell_type": "code",
   "execution_count": 240,
   "id": "05534c28",
   "metadata": {},
   "outputs": [
    {
     "data": {
      "text/plain": [
       "<function __main__.D.tt(self)>"
      ]
     },
     "execution_count": 240,
     "metadata": {},
     "output_type": "execute_result"
    }
   ],
   "source": [
    "D.tt"
   ]
  },
  {
   "cell_type": "code",
   "execution_count": 242,
   "id": "e1f894bd",
   "metadata": {},
   "outputs": [
    {
     "name": "stdout",
     "output_type": "stream",
     "text": [
      "tt\n"
     ]
    }
   ],
   "source": [
    "#Function은 파라미터와 argument 맞춰야한다. 여기서는 self가 인스턴스를 가리킨다. C++, java에서는 this를 self 대신 쓴다.\n",
    "D.tt(d)"
   ]
  },
  {
   "cell_type": "code",
   "execution_count": 243,
   "id": "1e4fc604",
   "metadata": {},
   "outputs": [],
   "source": [
    "class D:\n",
    "    def tt(this):\n",
    "        print('tt')"
   ]
  },
  {
   "cell_type": "code",
   "execution_count": 244,
   "id": "53b5b884",
   "metadata": {},
   "outputs": [
    {
     "name": "stdout",
     "output_type": "stream",
     "text": [
      "tt\n"
     ]
    }
   ],
   "source": [
    "D.tt(d)"
   ]
  },
  {
   "cell_type": "code",
   "execution_count": 245,
   "id": "5a9ef09e",
   "metadata": {},
   "outputs": [
    {
     "name": "stdout",
     "output_type": "stream",
     "text": [
      "tt\n"
     ]
    }
   ],
   "source": [
    "#잘 되지만, PEP8에 관례상 인스턴스 메서드에서는 self를 사용하라고 써있다. \n",
    "#따라서 self.a는 인스턴스가 가지는 변수라는 점을 암묵적으로 시사한다.\n",
    "#메서드로 사용할때는 자기가 자기자신 부를 필요 없으므로 아래와 같이 첫번째 인자 생략하면 된다.\n",
    "d.tt()"
   ]
  },
  {
   "cell_type": "markdown",
   "id": "8197ab58",
   "metadata": {},
   "source": [
    "여기에서 중복 없이 간결한거를 요구하는 파이썬의 철학이 드러난다.\n",
    "\n",
    "클래스가 사용하면 함수,\n",
    "인스턴스가 사용하면 메서드이다."
   ]
  },
  {
   "cell_type": "code",
   "execution_count": 246,
   "id": "7f78390d",
   "metadata": {},
   "outputs": [],
   "source": [
    "import numpy as np"
   ]
  },
  {
   "cell_type": "code",
   "execution_count": 253,
   "id": "416d04e0",
   "metadata": {},
   "outputs": [],
   "source": [
    "a = np.array([1,2,3,4])\n",
    "b = np.array([1,2,3,4])"
   ]
  },
  {
   "cell_type": "code",
   "execution_count": 254,
   "id": "b93ad8d6",
   "metadata": {},
   "outputs": [
    {
     "data": {
      "text/plain": [
       "array([2, 4, 6, 8])"
      ]
     },
     "execution_count": 254,
     "metadata": {},
     "output_type": "execute_result"
    }
   ],
   "source": [
    "np.add(a,a)"
   ]
  },
  {
   "cell_type": "code",
   "execution_count": 255,
   "id": "d21b434d",
   "metadata": {},
   "outputs": [
    {
     "ename": "AttributeError",
     "evalue": "'numpy.ndarray' object has no attribute 'add'",
     "output_type": "error",
     "traceback": [
      "\u001b[1;31m---------------------------------------------------------------------------\u001b[0m",
      "\u001b[1;31mAttributeError\u001b[0m                            Traceback (most recent call last)",
      "Cell \u001b[1;32mIn[255], line 1\u001b[0m\n\u001b[1;32m----> 1\u001b[0m a\u001b[38;5;241m.\u001b[39madd(a)\n",
      "\u001b[1;31mAttributeError\u001b[0m: 'numpy.ndarray' object has no attribute 'add'"
     ]
    }
   ],
   "source": [
    "a.add(a)"
   ]
  },
  {
   "cell_type": "markdown",
   "id": "ffe0858b",
   "metadata": {},
   "source": [
    "여기에서는 인스턴스가 쓰는 메서드 add가 없고, 함수 a가 있다."
   ]
  },
  {
   "cell_type": "code",
   "execution_count": 256,
   "id": "0b04ae84",
   "metadata": {},
   "outputs": [
    {
     "data": {
      "text/plain": [
       "30"
      ]
     },
     "execution_count": 256,
     "metadata": {},
     "output_type": "execute_result"
    }
   ],
   "source": [
    "np.dot(a,b)"
   ]
  },
  {
   "cell_type": "code",
   "execution_count": 257,
   "id": "e852733e",
   "metadata": {},
   "outputs": [
    {
     "data": {
      "text/plain": [
       "<function ndarray.dot>"
      ]
     },
     "execution_count": 257,
     "metadata": {},
     "output_type": "execute_result"
    }
   ],
   "source": [
    "a.dot"
   ]
  },
  {
   "cell_type": "code",
   "execution_count": 258,
   "id": "ec7ecde6",
   "metadata": {},
   "outputs": [
    {
     "data": {
      "text/plain": [
       "30"
      ]
     },
     "execution_count": 258,
     "metadata": {},
     "output_type": "execute_result"
    }
   ],
   "source": [
    "#함수로보이지만, 자기자신 생략하고 메서드로서 사용된다. \n",
    "a.dot(b)"
   ]
  },
  {
   "cell_type": "markdown",
   "id": "acf4efc4",
   "metadata": {},
   "source": [
    "클래스와 인스턴스는 포함관계에 있기 때문에 함수가 있고 메서드는 없을 수 있지만, 인스턴스 메서드가 있으면 클래스함수는 무조건 존재한다."
   ]
  },
  {
   "cell_type": "code",
   "execution_count": null,
   "id": "035e6a9e",
   "metadata": {},
   "outputs": [],
   "source": []
  }
 ],
 "metadata": {
  "kernelspec": {
   "display_name": "Python 3 (ipykernel)",
   "language": "python",
   "name": "python3"
  },
  "language_info": {
   "codemirror_mode": {
    "name": "ipython",
    "version": 3
   },
   "file_extension": ".py",
   "mimetype": "text/x-python",
   "name": "python",
   "nbconvert_exporter": "python",
   "pygments_lexer": "ipython3",
   "version": "3.11.4"
  }
 },
 "nbformat": 4,
 "nbformat_minor": 5
}
