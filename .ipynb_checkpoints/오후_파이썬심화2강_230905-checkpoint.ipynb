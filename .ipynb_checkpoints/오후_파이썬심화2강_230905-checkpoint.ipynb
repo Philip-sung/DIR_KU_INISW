{
 "cells": [
  {
   "cell_type": "markdown",
   "id": "de13cc80",
   "metadata": {},
   "source": [
    "# 01 복습 및 질문 정리"
   ]
  },
  {
   "cell_type": "code",
   "execution_count": 66,
   "id": "2b53ccc4",
   "metadata": {},
   "outputs": [
    {
     "data": {
      "text/plain": [
       "True"
      ]
     },
     "execution_count": 66,
     "metadata": {},
     "output_type": "execute_result"
    }
   ],
   "source": [
    "{1,2,3} > {1,2}"
   ]
  },
  {
   "cell_type": "code",
   "execution_count": 67,
   "id": "63911bf5",
   "metadata": {},
   "outputs": [
    {
     "data": {
      "text/plain": [
       "False"
      ]
     },
     "execution_count": 67,
     "metadata": {},
     "output_type": "execute_result"
    }
   ],
   "source": [
    "{1,2,3} < {1,2}"
   ]
  },
  {
   "cell_type": "code",
   "execution_count": 68,
   "id": "ea431358",
   "metadata": {},
   "outputs": [
    {
     "data": {
      "text/plain": [
       "True"
      ]
     },
     "execution_count": 68,
     "metadata": {},
     "output_type": "execute_result"
    }
   ],
   "source": [
    "(1).__gt__(0)"
   ]
  },
  {
   "cell_type": "code",
   "execution_count": 69,
   "id": "835a702e",
   "metadata": {},
   "outputs": [
    {
     "name": "stdout",
     "output_type": "stream",
     "text": [
      "Help on method-wrapper:\n",
      "\n",
      "__gt__(value, /)\n",
      "    Return self>value.\n",
      "\n"
     ]
    }
   ],
   "source": [
    "help('__gt__')"
   ]
  },
  {
   "cell_type": "markdown",
   "id": "c28fbd30",
   "metadata": {},
   "source": [
    "__gt__ 찾아봐라"
   ]
  },
  {
   "cell_type": "markdown",
   "id": "4aca364c",
   "metadata": {},
   "source": [
    "# 02 함수\n",
    "\n",
    "파이썬의 함수는 first class function이다.<br>\n",
    "first class는 객체지향에서의 object이고 값이다.<br>\n",
    "함수에는 다섯가지 파라미터가 있다."
   ]
  },
  {
   "cell_type": "code",
   "execution_count": 70,
   "id": "1ed9e66a",
   "metadata": {},
   "outputs": [],
   "source": [
    "def x(t):\n",
    "    return t;"
   ]
  },
  {
   "cell_type": "markdown",
   "id": "e6199aae",
   "metadata": {},
   "source": [
    "1. x <- 파이썬의 함수는 이름 자체를 이야기한다.\n",
    "2. x() <-괄호는 떼었다 붙였다 할 수 있는애로, callable(x)의 개념을 이야기한다.\n",
    "3. x(t)<-괄호를 붙이고 argument를 전달하면 리턴값을 활용한다.\n",
    "\n",
    "함수 이름과 파라미터를 합쳐서 시그니쳐(signature)라고 한다."
   ]
  },
  {
   "cell_type": "code",
   "execution_count": 71,
   "id": "f84dcaaa",
   "metadata": {},
   "outputs": [],
   "source": [
    "a = print"
   ]
  },
  {
   "cell_type": "code",
   "execution_count": 72,
   "id": "9c0d5a7c",
   "metadata": {},
   "outputs": [
    {
     "name": "stdout",
     "output_type": "stream",
     "text": [
      "Hello\n"
     ]
    }
   ],
   "source": [
    "a('Hello')"
   ]
  },
  {
   "cell_type": "code",
   "execution_count": 73,
   "id": "2a7cb2e1",
   "metadata": {},
   "outputs": [
    {
     "data": {
      "text/plain": [
       "['__abs__',\n",
       " '__add__',\n",
       " '__and__',\n",
       " '__bool__',\n",
       " '__ceil__',\n",
       " '__class__',\n",
       " '__delattr__',\n",
       " '__dir__',\n",
       " '__divmod__',\n",
       " '__doc__',\n",
       " '__eq__',\n",
       " '__float__',\n",
       " '__floor__',\n",
       " '__floordiv__',\n",
       " '__format__',\n",
       " '__ge__',\n",
       " '__getattribute__',\n",
       " '__getnewargs__',\n",
       " '__getstate__',\n",
       " '__gt__',\n",
       " '__hash__',\n",
       " '__index__',\n",
       " '__init__',\n",
       " '__init_subclass__',\n",
       " '__int__',\n",
       " '__invert__',\n",
       " '__le__',\n",
       " '__lshift__',\n",
       " '__lt__',\n",
       " '__mod__',\n",
       " '__mul__',\n",
       " '__ne__',\n",
       " '__neg__',\n",
       " '__new__',\n",
       " '__or__',\n",
       " '__pos__',\n",
       " '__pow__',\n",
       " '__radd__',\n",
       " '__rand__',\n",
       " '__rdivmod__',\n",
       " '__reduce__',\n",
       " '__reduce_ex__',\n",
       " '__repr__',\n",
       " '__rfloordiv__',\n",
       " '__rlshift__',\n",
       " '__rmod__',\n",
       " '__rmul__',\n",
       " '__ror__',\n",
       " '__round__',\n",
       " '__rpow__',\n",
       " '__rrshift__',\n",
       " '__rshift__',\n",
       " '__rsub__',\n",
       " '__rtruediv__',\n",
       " '__rxor__',\n",
       " '__setattr__',\n",
       " '__sizeof__',\n",
       " '__str__',\n",
       " '__sub__',\n",
       " '__subclasshook__',\n",
       " '__truediv__',\n",
       " '__trunc__',\n",
       " '__xor__',\n",
       " 'as_integer_ratio',\n",
       " 'bit_count',\n",
       " 'bit_length',\n",
       " 'conjugate',\n",
       " 'denominator',\n",
       " 'from_bytes',\n",
       " 'imag',\n",
       " 'numerator',\n",
       " 'real',\n",
       " 'to_bytes']"
      ]
     },
     "execution_count": 73,
     "metadata": {},
     "output_type": "execute_result"
    }
   ],
   "source": [
    "dir(1)"
   ]
  },
  {
   "cell_type": "code",
   "execution_count": 74,
   "id": "a9b52a96",
   "metadata": {},
   "outputs": [
    {
     "name": "stderr",
     "output_type": "stream",
     "text": [
      "<>:1: SyntaxWarning: 'int' object is not callable; perhaps you missed a comma?\n",
      "<>:1: SyntaxWarning: 'int' object is not callable; perhaps you missed a comma?\n",
      "C:\\Users\\Egn\\AppData\\Local\\Temp\\ipykernel_12084\\1823925399.py:1: SyntaxWarning: 'int' object is not callable; perhaps you missed a comma?\n",
      "  1(3) #not callable error\n"
     ]
    },
    {
     "ename": "TypeError",
     "evalue": "'int' object is not callable",
     "output_type": "error",
     "traceback": [
      "\u001b[1;31m---------------------------------------------------------------------------\u001b[0m",
      "\u001b[1;31mTypeError\u001b[0m                                 Traceback (most recent call last)",
      "Cell \u001b[1;32mIn[74], line 1\u001b[0m\n\u001b[1;32m----> 1\u001b[0m \u001b[38;5;241m1\u001b[39m(\u001b[38;5;241m3\u001b[39m)\n",
      "\u001b[1;31mTypeError\u001b[0m: 'int' object is not callable"
     ]
    }
   ],
   "source": [
    "1(3) #not callable error"
   ]
  },
  {
   "cell_type": "markdown",
   "id": "b83392de",
   "metadata": {},
   "source": [
    "## 02.01 파라미터의 사용법 5"
   ]
  },
  {
   "cell_type": "code",
   "execution_count": 75,
   "id": "b40c3f5e",
   "metadata": {},
   "outputs": [
    {
     "data": {
      "text/plain": [
       "3"
      ]
     },
     "execution_count": 75,
     "metadata": {},
     "output_type": "execute_result"
    }
   ],
   "source": [
    "x(3) #positional 방식으로 사용"
   ]
  },
  {
   "cell_type": "code",
   "execution_count": 76,
   "id": "26f2c831",
   "metadata": {},
   "outputs": [
    {
     "data": {
      "text/plain": [
       "3"
      ]
     },
     "execution_count": 76,
     "metadata": {},
     "output_type": "execute_result"
    }
   ],
   "source": [
    "x(t = 3) #keyword 방식으로 사용"
   ]
  },
  {
   "cell_type": "code",
   "execution_count": 77,
   "id": "e1058b1f",
   "metadata": {},
   "outputs": [],
   "source": [
    "def xx(a,b):\n",
    "    return a+2*b"
   ]
  },
  {
   "cell_type": "code",
   "execution_count": 78,
   "id": "09cc5626",
   "metadata": {},
   "outputs": [
    {
     "data": {
      "text/plain": [
       "13"
      ]
     },
     "execution_count": 78,
     "metadata": {},
     "output_type": "execute_result"
    }
   ],
   "source": [
    "xx(3,5)"
   ]
  },
  {
   "cell_type": "code",
   "execution_count": 79,
   "id": "7e6ee5bf",
   "metadata": {},
   "outputs": [
    {
     "data": {
      "text/plain": [
       "13"
      ]
     },
     "execution_count": 79,
     "metadata": {},
     "output_type": "execute_result"
    }
   ],
   "source": [
    "xx(a=3, b=5)"
   ]
  },
  {
   "cell_type": "markdown",
   "id": "7a0d80c0",
   "metadata": {},
   "source": [
    "위 키워드 방식은 순서와 상관 없이 사용 가능하다는 장점이 있다."
   ]
  },
  {
   "cell_type": "code",
   "execution_count": 80,
   "id": "388a332d",
   "metadata": {},
   "outputs": [
    {
     "ename": "TypeError",
     "evalue": "xx() missing 1 required positional argument: 'b'",
     "output_type": "error",
     "traceback": [
      "\u001b[1;31m---------------------------------------------------------------------------\u001b[0m",
      "\u001b[1;31mTypeError\u001b[0m                                 Traceback (most recent call last)",
      "Cell \u001b[1;32mIn[80], line 1\u001b[0m\n\u001b[1;32m----> 1\u001b[0m xx(\u001b[38;5;241m3\u001b[39m)\n",
      "\u001b[1;31mTypeError\u001b[0m: xx() missing 1 required positional argument: 'b'"
     ]
    }
   ],
   "source": [
    "xx(3)"
   ]
  },
  {
   "cell_type": "markdown",
   "id": "bc2753a7",
   "metadata": {},
   "source": [
    "parameter 개수와 argument 개수를 맞추어야 한다."
   ]
  },
  {
   "cell_type": "code",
   "execution_count": 81,
   "id": "1216563d",
   "metadata": {},
   "outputs": [
    {
     "ename": "TypeError",
     "evalue": "xx() missing 1 required positional argument: 'a'",
     "output_type": "error",
     "traceback": [
      "\u001b[1;31m---------------------------------------------------------------------------\u001b[0m",
      "\u001b[1;31mTypeError\u001b[0m                                 Traceback (most recent call last)",
      "Cell \u001b[1;32mIn[81], line 1\u001b[0m\n\u001b[1;32m----> 1\u001b[0m xx(b\u001b[38;5;241m=\u001b[39m\u001b[38;5;241m3\u001b[39m)\n",
      "\u001b[1;31mTypeError\u001b[0m: xx() missing 1 required positional argument: 'a'"
     ]
    }
   ],
   "source": [
    "xx(b=3)"
   ]
  },
  {
   "cell_type": "markdown",
   "id": "8beae92c",
   "metadata": {},
   "source": [
    "위에서 볼 수 있듯이 기본적으로 positional 방식이 default이다."
   ]
  },
  {
   "cell_type": "markdown",
   "id": "5e475c63",
   "metadata": {},
   "source": [
    "***\n",
    "**파이썬에서는 function overloading을 지원하지 않는다.** 즉 아래와 같이 시그니쳐가 다르면 다른 함수이다. 아래쪽은 재할당된다. 파이썬은 대신 데코레이터/디폴트 테크닉를 이용해서 function overload의 개념을 지원한다. 디폴트값을 사용하면 파라미터 개수를 맞추지 않아도 된다.<br>\n",
    "이 때, 다수의 파라미터를 가진 함수는 포지셔널방식으로는 특정 변수만 주기 힘들지만, 키워드방식으로는 간단하게 조작해낼 수 있다."
   ]
  },
  {
   "cell_type": "code",
   "execution_count": 82,
   "id": "bb0ce9fc",
   "metadata": {},
   "outputs": [],
   "source": [
    "def x(a):\n",
    "    print(a)\n",
    "    \n",
    "def x(a,b):\n",
    "    print(a,b)"
   ]
  },
  {
   "cell_type": "code",
   "execution_count": 83,
   "id": "4d3684c4",
   "metadata": {},
   "outputs": [],
   "source": [
    "def x(a,b=3,c=4):\n",
    "    print(a,b,c)"
   ]
  },
  {
   "cell_type": "code",
   "execution_count": 84,
   "id": "409c8cc0",
   "metadata": {},
   "outputs": [
    {
     "name": "stdout",
     "output_type": "stream",
     "text": [
      "4 3 1\n"
     ]
    }
   ],
   "source": [
    "x(4, c=1) #default technic"
   ]
  },
  {
   "cell_type": "code",
   "execution_count": 85,
   "id": "d71edea6",
   "metadata": {},
   "outputs": [
    {
     "ename": "SyntaxError",
     "evalue": "non-default argument follows default argument (4223760845.py, line 1)",
     "output_type": "error",
     "traceback": [
      "\u001b[1;36m  Cell \u001b[1;32mIn[85], line 1\u001b[1;36m\u001b[0m\n\u001b[1;33m    def x(a, b=3, c):\u001b[0m\n\u001b[1;37m                  ^\u001b[0m\n\u001b[1;31mSyntaxError\u001b[0m\u001b[1;31m:\u001b[0m non-default argument follows default argument\n"
     ]
    }
   ],
   "source": [
    "def x(a, b=3, c):\n",
    "    print(a, b, c)"
   ]
  },
  {
   "cell_type": "code",
   "execution_count": 86,
   "id": "cc47db5e",
   "metadata": {},
   "outputs": [
    {
     "ename": "SyntaxError",
     "evalue": "positional argument follows keyword argument (2090769879.py, line 1)",
     "output_type": "error",
     "traceback": [
      "\u001b[1;36m  Cell \u001b[1;32mIn[86], line 1\u001b[1;36m\u001b[0m\n\u001b[1;33m    x(1, b = 5, 3)\u001b[0m\n\u001b[1;37m                 ^\u001b[0m\n\u001b[1;31mSyntaxError\u001b[0m\u001b[1;31m:\u001b[0m positional argument follows keyword argument\n"
     ]
    }
   ],
   "source": [
    "x(1, b = 5, 3)"
   ]
  },
  {
   "cell_type": "markdown",
   "id": "560ec923",
   "metadata": {},
   "source": [
    "위와 같이 디폴트 / 키워드를 한번이상 사용하면 그 뒤의 argument는 모두 같은 방식을 사용해야 한다.\n",
    "***"
   ]
  },
  {
   "cell_type": "code",
   "execution_count": 87,
   "id": "7990272d",
   "metadata": {},
   "outputs": [],
   "source": [
    "def z(a, *, b):\n",
    "    return a+b"
   ]
  },
  {
   "cell_type": "code",
   "execution_count": 88,
   "id": "3617cb71",
   "metadata": {},
   "outputs": [
    {
     "ename": "TypeError",
     "evalue": "z() missing 1 required keyword-only argument: 'b'",
     "output_type": "error",
     "traceback": [
      "\u001b[1;31m---------------------------------------------------------------------------\u001b[0m",
      "\u001b[1;31mTypeError\u001b[0m                                 Traceback (most recent call last)",
      "Cell \u001b[1;32mIn[88], line 1\u001b[0m\n\u001b[1;32m----> 1\u001b[0m z(\u001b[38;5;241m3\u001b[39m)\n",
      "\u001b[1;31mTypeError\u001b[0m: z() missing 1 required keyword-only argument: 'b'"
     ]
    }
   ],
   "source": [
    "z(3)"
   ]
  },
  {
   "cell_type": "code",
   "execution_count": 89,
   "id": "89a245e4",
   "metadata": {},
   "outputs": [
    {
     "ename": "TypeError",
     "evalue": "z() takes 1 positional argument but 2 were given",
     "output_type": "error",
     "traceback": [
      "\u001b[1;31m---------------------------------------------------------------------------\u001b[0m",
      "\u001b[1;31mTypeError\u001b[0m                                 Traceback (most recent call last)",
      "Cell \u001b[1;32mIn[89], line 1\u001b[0m\n\u001b[1;32m----> 1\u001b[0m z(\u001b[38;5;241m1\u001b[39m, \u001b[38;5;241m3\u001b[39m)\n",
      "\u001b[1;31mTypeError\u001b[0m: z() takes 1 positional argument but 2 were given"
     ]
    }
   ],
   "source": [
    "z(1, 3)"
   ]
  },
  {
   "cell_type": "markdown",
   "id": "a9dff32b",
   "metadata": {},
   "source": [
    "함수의 파라미터로 전달되는 * 의 뒤에 있는 argument는 무조건 키워드 인수를 사용하여야 한다.\n",
    "***"
   ]
  },
  {
   "cell_type": "code",
   "execution_count": 90,
   "id": "fa4706dc",
   "metadata": {},
   "outputs": [],
   "source": [
    "def h(a,/,b):\n",
    "    return a+b"
   ]
  },
  {
   "cell_type": "code",
   "execution_count": 91,
   "id": "719ce8a3",
   "metadata": {},
   "outputs": [
    {
     "ename": "TypeError",
     "evalue": "h() got some positional-only arguments passed as keyword arguments: 'a'",
     "output_type": "error",
     "traceback": [
      "\u001b[1;31m---------------------------------------------------------------------------\u001b[0m",
      "\u001b[1;31mTypeError\u001b[0m                                 Traceback (most recent call last)",
      "Cell \u001b[1;32mIn[91], line 1\u001b[0m\n\u001b[1;32m----> 1\u001b[0m h(a\u001b[38;5;241m=\u001b[39m\u001b[38;5;241m3\u001b[39m, b\u001b[38;5;241m=\u001b[39m\u001b[38;5;241m4\u001b[39m)\n",
      "\u001b[1;31mTypeError\u001b[0m: h() got some positional-only arguments passed as keyword arguments: 'a'"
     ]
    }
   ],
   "source": [
    "h(a=3, b=4)"
   ]
  },
  {
   "cell_type": "markdown",
   "id": "68062143",
   "metadata": {},
   "source": [
    "/ 앞에 있는 인수는 무조건 포지셔널 인수를 사용하여야 한다.\n",
    "***"
   ]
  },
  {
   "cell_type": "code",
   "execution_count": 92,
   "id": "f004d735",
   "metadata": {},
   "outputs": [],
   "source": [
    "def k(*a): # 가변 positional = 개수에 관계 없이 다양하게 사용할 수 있다.\n",
    "    print(a)\n",
    "    return a"
   ]
  },
  {
   "cell_type": "code",
   "execution_count": 93,
   "id": "dd7438f7",
   "metadata": {},
   "outputs": [
    {
     "name": "stdout",
     "output_type": "stream",
     "text": [
      "()\n"
     ]
    },
    {
     "data": {
      "text/plain": [
       "()"
      ]
     },
     "execution_count": 93,
     "metadata": {},
     "output_type": "execute_result"
    }
   ],
   "source": [
    "k()"
   ]
  },
  {
   "cell_type": "code",
   "execution_count": 94,
   "id": "fa32a5c0",
   "metadata": {},
   "outputs": [
    {
     "name": "stdout",
     "output_type": "stream",
     "text": [
      "(1,)\n"
     ]
    },
    {
     "data": {
      "text/plain": [
       "(1,)"
      ]
     },
     "execution_count": 94,
     "metadata": {},
     "output_type": "execute_result"
    }
   ],
   "source": [
    "k(1)"
   ]
  },
  {
   "cell_type": "code",
   "execution_count": 95,
   "id": "bf3eca30",
   "metadata": {},
   "outputs": [
    {
     "name": "stdout",
     "output_type": "stream",
     "text": [
      "(1, 2)\n"
     ]
    },
    {
     "data": {
      "text/plain": [
       "(1, 2)"
      ]
     },
     "execution_count": 95,
     "metadata": {},
     "output_type": "execute_result"
    }
   ],
   "source": [
    "k(1, 2)"
   ]
  },
  {
   "cell_type": "markdown",
   "id": "7df204ce",
   "metadata": {},
   "source": [
    "***"
   ]
  },
  {
   "cell_type": "code",
   "execution_count": 96,
   "id": "7d4cd62c",
   "metadata": {},
   "outputs": [],
   "source": [
    "def j(**a):\n",
    "    return a"
   ]
  },
  {
   "cell_type": "code",
   "execution_count": 97,
   "id": "aac83680",
   "metadata": {},
   "outputs": [
    {
     "data": {
      "text/plain": [
       "{}"
      ]
     },
     "execution_count": 97,
     "metadata": {},
     "output_type": "execute_result"
    }
   ],
   "source": [
    "j()"
   ]
  },
  {
   "cell_type": "code",
   "execution_count": 98,
   "id": "8c0a7308",
   "metadata": {},
   "outputs": [
    {
     "data": {
      "text/plain": [
       "{'a': 1}"
      ]
     },
     "execution_count": 98,
     "metadata": {},
     "output_type": "execute_result"
    }
   ],
   "source": [
    "j(a = 1)"
   ]
  },
  {
   "cell_type": "code",
   "execution_count": 99,
   "id": "eb60a460",
   "metadata": {},
   "outputs": [
    {
     "data": {
      "text/plain": [
       "{'a': 1, 'b': 3}"
      ]
     },
     "execution_count": 99,
     "metadata": {},
     "output_type": "execute_result"
    }
   ],
   "source": [
    "j(a=1, b=3)"
   ]
  },
  {
   "cell_type": "markdown",
   "id": "ec172e5f",
   "metadata": {},
   "source": [
    "개수 상관 없이 키워드를 받아주는 가변 키워드 방식, 이를 통해 인터페이스의 해방이라는걸 가능하게 해줬다. 즉 원래 함수시그너쳐 달라지면 다른 함수라서 다 했어야 되는데 이것으로 변경하지 않아도 되게 되었다. 한편으로는 이것때매 어려워짐\n",
    "***"
   ]
  },
  {
   "cell_type": "markdown",
   "id": "f4653eeb",
   "metadata": {},
   "source": [
    "## 02.02 연습"
   ]
  },
  {
   "cell_type": "code",
   "execution_count": 100,
   "id": "1fd19738",
   "metadata": {},
   "outputs": [],
   "source": [
    "import matplotlib.pyplot as plt"
   ]
  },
  {
   "cell_type": "code",
   "execution_count": 101,
   "id": "92ac3d1e",
   "metadata": {},
   "outputs": [
    {
     "data": {
      "text/plain": [
       "(array([3., 0., 0., 0., 0., 2., 0., 0., 0., 3.]),\n",
       " array([1. , 1.2, 1.4, 1.6, 1.8, 2. , 2.2, 2.4, 2.6, 2.8, 3. ]),\n",
       " <BarContainer object of 10 artists>)"
      ]
     },
     "execution_count": 101,
     "metadata": {},
     "output_type": "execute_result"
    },
    {
     "data": {
      "image/png": "[encoded data removed]",
      "text/plain": [
       "<Figure size 640x480 with 1 Axes>"
      ]
     },
     "metadata": {},
     "output_type": "display_data"
    }
   ],
   "source": [
    "plt.hist([1,2,3,1,2,1,3,3], color='#c01718')"
   ]
  },
  {
   "cell_type": "code",
   "execution_count": 102,
   "id": "9cdf83f2",
   "metadata": {},
   "outputs": [
    {
     "data": {
      "text/plain": [
       "<BarContainer object of 4 artists>"
      ]
     },
     "execution_count": 102,
     "metadata": {},
     "output_type": "execute_result"
    },
    {
     "data": {
      "image/png": "[encoded data removed]",
      "text/plain": [
       "<Figure size 640x480 with 1 Axes>"
      ]
     },
     "metadata": {},
     "output_type": "display_data"
    }
   ],
   "source": [
    "plt.bar([1,2,3,4], [1,2,3,4], color=\"pink\")"
   ]
  },
  {
   "cell_type": "code",
   "execution_count": 103,
   "id": "efdb4ad0",
   "metadata": {},
   "outputs": [],
   "source": [
    "def x(a, color='blue'):\n",
    "    return a"
   ]
  },
  {
   "cell_type": "code",
   "execution_count": 104,
   "id": "e3843bac",
   "metadata": {},
   "outputs": [
    {
     "data": {
      "text/plain": [
       "2"
      ]
     },
     "execution_count": 104,
     "metadata": {},
     "output_type": "execute_result"
    }
   ],
   "source": [
    "x(2)"
   ]
  },
  {
   "cell_type": "code",
   "execution_count": 105,
   "id": "443393c7",
   "metadata": {},
   "outputs": [],
   "source": [
    "def xx(a, **kw):\n",
    "    if 'color' in kw:\n",
    "        print(kw)\n",
    "    else:\n",
    "        kw['color'] = None\n",
    "    return a, kw['color']"
   ]
  },
  {
   "cell_type": "code",
   "execution_count": 106,
   "id": "cb1f8173",
   "metadata": {},
   "outputs": [
    {
     "data": {
      "text/plain": [
       "(4, None)"
      ]
     },
     "execution_count": 106,
     "metadata": {},
     "output_type": "execute_result"
    }
   ],
   "source": [
    "xx(4)"
   ]
  },
  {
   "cell_type": "code",
   "execution_count": 107,
   "id": "690260b3",
   "metadata": {},
   "outputs": [
    {
     "name": "stdout",
     "output_type": "stream",
     "text": [
      "{'color': 'red'}\n"
     ]
    },
    {
     "data": {
      "text/plain": [
       "(3, 'red')"
      ]
     },
     "execution_count": 107,
     "metadata": {},
     "output_type": "execute_result"
    }
   ],
   "source": [
    "xx(3, color='red')"
   ]
  },
  {
   "cell_type": "markdown",
   "id": "89d76cd9",
   "metadata": {},
   "source": [
    "**지금까지 \\* 사용 정리(9가지)**\n",
    "1. * in number sequence\n",
    "2. **(power)\n",
    "3. a.*b =1,2,3\n",
    "4. def x(a, *, b)\n",
    "5. def x(*b)\n",
    "6. def x(**b)\n",
    "7. from import * : 모든 것을 임포트해라(*는 ASCII에서 42이다)\n",
    "8. x(*b) : unpacking\n",
    "9. x(**b) : unpacking"
   ]
  },
  {
   "cell_type": "code",
   "execution_count": 108,
   "id": "f25fbd64",
   "metadata": {},
   "outputs": [],
   "source": [
    "def x(*a):\n",
    "    return a"
   ]
  },
  {
   "cell_type": "code",
   "execution_count": 109,
   "id": "8d632282",
   "metadata": {},
   "outputs": [],
   "source": [
    "b=[1,2,3,4]"
   ]
  },
  {
   "cell_type": "code",
   "execution_count": 110,
   "id": "c813c0cb",
   "metadata": {},
   "outputs": [
    {
     "data": {
      "text/plain": [
       "([1, 2, 3, 4],)"
      ]
     },
     "execution_count": 110,
     "metadata": {},
     "output_type": "execute_result"
    }
   ],
   "source": [
    "x(b)"
   ]
  },
  {
   "cell_type": "code",
   "execution_count": 111,
   "id": "e35ea160",
   "metadata": {},
   "outputs": [
    {
     "data": {
      "text/plain": [
       "(1, 2, 3, 4)"
      ]
     },
     "execution_count": 111,
     "metadata": {},
     "output_type": "execute_result"
    }
   ],
   "source": [
    "x(*b)"
   ]
  },
  {
   "cell_type": "markdown",
   "id": "2378b113",
   "metadata": {},
   "source": [
    "위와 같이 argument에 *을 붙이면 unpacking되어서 들어감"
   ]
  },
  {
   "cell_type": "code",
   "execution_count": 112,
   "id": "74817f73",
   "metadata": {},
   "outputs": [],
   "source": [
    "bb={'a':1, 'b':2}"
   ]
  },
  {
   "cell_type": "code",
   "execution_count": 113,
   "id": "d63a4eb0",
   "metadata": {},
   "outputs": [],
   "source": [
    "def y(**a):\n",
    "    return a"
   ]
  },
  {
   "cell_type": "code",
   "execution_count": 114,
   "id": "612d949c",
   "metadata": {},
   "outputs": [
    {
     "data": {
      "text/plain": [
       "{'a': 1, 'b': 2}"
      ]
     },
     "execution_count": 114,
     "metadata": {},
     "output_type": "execute_result"
    }
   ],
   "source": [
    "y(**bb)"
   ]
  },
  {
   "cell_type": "code",
   "execution_count": 115,
   "id": "49a5d464",
   "metadata": {},
   "outputs": [
    {
     "data": {
      "text/plain": [
       "('a', 'b')"
      ]
     },
     "execution_count": 115,
     "metadata": {},
     "output_type": "execute_result"
    }
   ],
   "source": [
    "x(*bb)"
   ]
  },
  {
   "cell_type": "code",
   "execution_count": 110,
   "id": "19e129f7",
   "metadata": {},
   "outputs": [],
   "source": [
    "k = {'a':1, 'b':2}\n",
    "j = {'b':1, 'c':2}"
   ]
  },
  {
   "cell_type": "code",
   "execution_count": 111,
   "id": "500690eb",
   "metadata": {},
   "outputs": [
    {
     "data": {
      "text/plain": [
       "{'a', 'b', 'c'}"
      ]
     },
     "execution_count": 111,
     "metadata": {},
     "output_type": "execute_result"
    }
   ],
   "source": [
    "{*k, *j}"
   ]
  },
  {
   "cell_type": "code",
   "execution_count": 112,
   "id": "ff7f1d73",
   "metadata": {},
   "outputs": [
    {
     "data": {
      "text/plain": [
       "{'a': 1, 'b': 1, 'c': 2}"
      ]
     },
     "execution_count": 112,
     "metadata": {},
     "output_type": "execute_result"
    }
   ],
   "source": [
    "{**k, **j}"
   ]
  },
  {
   "cell_type": "markdown",
   "id": "412a671d",
   "metadata": {},
   "source": [
    "위 방식은 여러개의 dictionary를 전달할 때 많이 쓴다."
   ]
  },
  {
   "cell_type": "markdown",
   "id": "7a496133",
   "metadata": {},
   "source": [
    "### SUB01 Docstring"
   ]
  },
  {
   "cell_type": "markdown",
   "id": "f49879f6",
   "metadata": {},
   "source": [
    "int에서 설명 봤을 때 보이는 int([x]) 여기 대괄호는 무엇일까?, 생략 가능하다는 것"
   ]
  },
  {
   "cell_type": "code",
   "execution_count": 116,
   "id": "a6644da1",
   "metadata": {},
   "outputs": [
    {
     "data": {
      "text/plain": [
       "0"
      ]
     },
     "execution_count": 116,
     "metadata": {},
     "output_type": "execute_result"
    }
   ],
   "source": [
    "int() # false"
   ]
  },
  {
   "cell_type": "code",
   "execution_count": 117,
   "id": "46ecd99e",
   "metadata": {},
   "outputs": [
    {
     "data": {
      "text/plain": [
       "[<matplotlib.lines.Line2D at 0x1a27b1cb950>]"
      ]
     },
     "execution_count": 117,
     "metadata": {},
     "output_type": "execute_result"
    },
    {
     "data": {
      "image/png": "[encoded data removed]",
      "text/plain": [
       "<Figure size 640x480 with 1 Axes>"
      ]
     },
     "metadata": {},
     "output_type": "display_data"
    }
   ],
   "source": [
    "plt.plot([1,2,3])"
   ]
  },
  {
   "cell_type": "code",
   "execution_count": 118,
   "id": "e48eadf6",
   "metadata": {},
   "outputs": [
    {
     "data": {
      "text/plain": [
       "[<matplotlib.lines.Line2D at 0x1a27c98c710>]"
      ]
     },
     "execution_count": 118,
     "metadata": {},
     "output_type": "execute_result"
    },
    {
     "data": {
      "image/png": "[encoded data removed]",
      "text/plain": [
       "<Figure size 640x480 with 1 Axes>"
      ]
     },
     "metadata": {},
     "output_type": "display_data"
    }
   ],
   "source": [
    "plt.plot([1,2,3],[4,5,6])"
   ]
  },
  {
   "cell_type": "code",
   "execution_count": 119,
   "id": "bd794d40",
   "metadata": {},
   "outputs": [],
   "source": [
    "def x(a):\n",
    "    '''\n",
    "    this is my Docstring\n",
    "    '''\n",
    "    return a"
   ]
  },
  {
   "cell_type": "markdown",
   "id": "5e420f23",
   "metadata": {},
   "source": [
    "x 에서 Shift+Tab 하면 Docstring을 볼 수 있으며, 개발자가 직접 달아놓은것이다."
   ]
  },
  {
   "cell_type": "code",
   "execution_count": 120,
   "id": "33a1f956",
   "metadata": {},
   "outputs": [
    {
     "data": {
      "text/plain": [
       "'\\n    this is my Docstring\\n    '"
      ]
     },
     "execution_count": 120,
     "metadata": {},
     "output_type": "execute_result"
    }
   ],
   "source": [
    "x.__doc__"
   ]
  },
  {
   "cell_type": "markdown",
   "id": "79982f34",
   "metadata": {},
   "source": [
    "### SUB02 Type Annotation"
   ]
  },
  {
   "cell_type": "markdown",
   "id": "729a66fa",
   "metadata": {},
   "source": [
    "python 3.x부터 나오기 시작해서 3.7에서는 거의 기본이 되는, 타입에 대한 힌트를 주는 것"
   ]
  },
  {
   "cell_type": "code",
   "execution_count": 121,
   "id": "562c09d3",
   "metadata": {},
   "outputs": [],
   "source": [
    "def x(a: int, b: float) -> int :\n",
    "    return a + b"
   ]
  },
  {
   "cell_type": "code",
   "execution_count": 122,
   "id": "81339c20",
   "metadata": {},
   "outputs": [
    {
     "data": {
      "text/plain": [
       "<function __main__.x(a: int, b: float) -> int>"
      ]
     },
     "execution_count": 122,
     "metadata": {},
     "output_type": "execute_result"
    }
   ],
   "source": [
    "x"
   ]
  },
  {
   "cell_type": "markdown",
   "id": "69a56664",
   "metadata": {},
   "source": [
    "위에서는 타입힌트를 주지만 강제성을 주지 않는다. 왜냐하면 파이썬은 다이나믹 타입 언어이기 때문이다."
   ]
  },
  {
   "cell_type": "code",
   "execution_count": 123,
   "id": "04839970",
   "metadata": {},
   "outputs": [
    {
     "data": {
      "text/plain": [
       "6.0"
      ]
     },
     "execution_count": 123,
     "metadata": {},
     "output_type": "execute_result"
    }
   ],
   "source": [
    "x(3.0,3.0)"
   ]
  },
  {
   "cell_type": "code",
   "execution_count": 124,
   "id": "0a50e56f",
   "metadata": {},
   "outputs": [
    {
     "data": {
      "text/plain": [
       "{'a': int, 'b': float, 'return': int}"
      ]
     },
     "execution_count": 124,
     "metadata": {},
     "output_type": "execute_result"
    }
   ],
   "source": [
    "x.__annotations__"
   ]
  },
  {
   "cell_type": "markdown",
   "id": "99e02946",
   "metadata": {},
   "source": [
    "# 03 예외처리"
   ]
  },
  {
   "cell_type": "markdown",
   "id": "840bbf5a",
   "metadata": {},
   "source": [
    "공식문서를 봐도 허락보다 용서과 쉬운 EAFP(Easier to ask for forgiveness than permission) 언어이다. 이는 매번 얘가 오류가 날지 안날지 체크하지 말고 오류가 나면 처리하라는 의미이다. 예외처리에는 다음과 같은 경우의 수가 있다.<br>\n",
    "\n",
    "-Case 1 : 중단을 시켜야 하는 경우 : 값이 잘못되어 학습이 똑바로 진행되지 않을것으로 예상될 때 등<br>\n",
    "-Case 2 : 중단 없이 실행될 필요가 있는 경우"
   ]
  },
  {
   "cell_type": "code",
   "execution_count": 125,
   "id": "d9b25f1c",
   "metadata": {},
   "outputs": [],
   "source": [
    "import keyword"
   ]
  },
  {
   "cell_type": "code",
   "execution_count": 126,
   "id": "01436a96",
   "metadata": {},
   "outputs": [
    {
     "data": {
      "text/plain": [
       "['False',\n",
       " 'None',\n",
       " 'True',\n",
       " 'and',\n",
       " 'as',\n",
       " 'assert',\n",
       " 'async',\n",
       " 'await',\n",
       " 'break',\n",
       " 'class',\n",
       " 'continue',\n",
       " 'def',\n",
       " 'del',\n",
       " 'elif',\n",
       " 'else',\n",
       " 'except',\n",
       " 'finally',\n",
       " 'for',\n",
       " 'from',\n",
       " 'global',\n",
       " 'if',\n",
       " 'import',\n",
       " 'in',\n",
       " 'is',\n",
       " 'lambda',\n",
       " 'nonlocal',\n",
       " 'not',\n",
       " 'or',\n",
       " 'pass',\n",
       " 'raise',\n",
       " 'return',\n",
       " 'try',\n",
       " 'while',\n",
       " 'with',\n",
       " 'yield']"
      ]
     },
     "execution_count": 126,
     "metadata": {},
     "output_type": "execute_result"
    }
   ],
   "source": [
    "keyword.kwlist"
   ]
  },
  {
   "cell_type": "markdown",
   "id": "e8323a0e",
   "metadata": {},
   "source": [
    "위 35개중 7개가 예외처리에 관련된 키워드이다. 흔히 볼 수 있는 코딩 스타일이 올바르다고 가정 한 뒤 예외가 발생하면 예외를 처리하는 것이다. "
   ]
  },
  {
   "cell_type": "markdown",
   "id": "a443d6a6",
   "metadata": {},
   "source": [
    "## 03.01 예외처리-중단"
   ]
  },
  {
   "cell_type": "code",
   "execution_count": 127,
   "id": "42419cf2",
   "metadata": {},
   "outputs": [],
   "source": [
    "a = 1"
   ]
  },
  {
   "cell_type": "code",
   "execution_count": 128,
   "id": "cd7abb09",
   "metadata": {},
   "outputs": [],
   "source": [
    "#Case 1\n",
    "assert a == 1"
   ]
  },
  {
   "cell_type": "code",
   "execution_count": 129,
   "id": "f02e2a98",
   "metadata": {},
   "outputs": [
    {
     "ename": "AssertionError",
     "evalue": "ErrorExplanation",
     "output_type": "error",
     "traceback": [
      "\u001b[1;31m---------------------------------------------------------------------------\u001b[0m",
      "\u001b[1;31mAssertionError\u001b[0m                            Traceback (most recent call last)",
      "Cell \u001b[1;32mIn[129], line 1\u001b[0m\n\u001b[1;32m----> 1\u001b[0m \u001b[38;5;28;01massert\u001b[39;00m a \u001b[38;5;241m==\u001b[39m \u001b[38;5;241m2\u001b[39m, \u001b[38;5;124m'\u001b[39m\u001b[38;5;124mErrorExplanation\u001b[39m\u001b[38;5;124m'\u001b[39m\n",
      "\u001b[1;31mAssertionError\u001b[0m: ErrorExplanation"
     ]
    }
   ],
   "source": [
    "assert a == 2, 'ErrorExplanation'"
   ]
  },
  {
   "cell_type": "code",
   "execution_count": 130,
   "id": "44100f6c",
   "metadata": {},
   "outputs": [
    {
     "name": "stdout",
     "output_type": "stream",
     "text": [
      "1\n"
     ]
    }
   ],
   "source": [
    "if a == 1:\n",
    "    print(a)"
   ]
  },
  {
   "cell_type": "code",
   "execution_count": 131,
   "id": "2556164b",
   "metadata": {},
   "outputs": [
    {
     "ename": "ZeroDivisionError",
     "evalue": "",
     "output_type": "error",
     "traceback": [
      "\u001b[1;31m---------------------------------------------------------------------------\u001b[0m",
      "\u001b[1;31mZeroDivisionError\u001b[0m                         Traceback (most recent call last)",
      "Cell \u001b[1;32mIn[131], line 4\u001b[0m\n\u001b[0;32m      2\u001b[0m     \u001b[38;5;28mprint\u001b[39m(a)\n\u001b[0;32m      3\u001b[0m \u001b[38;5;28;01melse\u001b[39;00m:\n\u001b[1;32m----> 4\u001b[0m     \u001b[38;5;28;01mraise\u001b[39;00m \u001b[38;5;167;01mZeroDivisionError\u001b[39;00m\n",
      "\u001b[1;31mZeroDivisionError\u001b[0m: "
     ]
    }
   ],
   "source": [
    "if a != 1:\n",
    "    print(a)\n",
    "else:\n",
    "    raise ZeroDivisionError #Error의 종류를 정할 수 있다."
   ]
  },
  {
   "cell_type": "markdown",
   "id": "f0129a49",
   "metadata": {},
   "source": [
    "raise를 통해 에러의 종류를 정하면 해당 예외에 대한 예외처리를 할 수가 있다. assertion은 좀 편하다. 학습을 시킬 땐 값만 체크하면 되므로 assertion을 많이 쓴다."
   ]
  },
  {
   "cell_type": "markdown",
   "id": "bfb6de82",
   "metadata": {},
   "source": [
    "***\n",
    "어떤 함수를 import 안하고 쓸 수 있을까? 파이썬은 실행시 기본으로 아래를 불러들인다"
   ]
  },
  {
   "cell_type": "code",
   "execution_count": 132,
   "id": "0f82bd41",
   "metadata": {},
   "outputs": [],
   "source": [
    "import builtins"
   ]
  },
  {
   "cell_type": "code",
   "execution_count": 133,
   "id": "8def71e7",
   "metadata": {},
   "outputs": [
    {
     "data": {
      "text/plain": [
       "['ArithmeticError',\n",
       " 'AssertionError',\n",
       " 'AttributeError',\n",
       " 'BaseException',\n",
       " 'BaseExceptionGroup',\n",
       " 'BlockingIOError',\n",
       " 'BrokenPipeError',\n",
       " 'BufferError',\n",
       " 'BytesWarning',\n",
       " 'ChildProcessError',\n",
       " 'ConnectionAbortedError',\n",
       " 'ConnectionError',\n",
       " 'ConnectionRefusedError',\n",
       " 'ConnectionResetError',\n",
       " 'DeprecationWarning',\n",
       " 'EOFError',\n",
       " 'Ellipsis',\n",
       " 'EncodingWarning',\n",
       " 'EnvironmentError',\n",
       " 'Exception',\n",
       " 'ExceptionGroup',\n",
       " 'False',\n",
       " 'FileExistsError',\n",
       " 'FileNotFoundError',\n",
       " 'FloatingPointError',\n",
       " 'FutureWarning',\n",
       " 'GeneratorExit',\n",
       " 'IOError',\n",
       " 'ImportError',\n",
       " 'ImportWarning',\n",
       " 'IndentationError',\n",
       " 'IndexError',\n",
       " 'InterruptedError',\n",
       " 'IsADirectoryError',\n",
       " 'KeyError',\n",
       " 'KeyboardInterrupt',\n",
       " 'LookupError',\n",
       " 'MemoryError',\n",
       " 'ModuleNotFoundError',\n",
       " 'NameError',\n",
       " 'None',\n",
       " 'NotADirectoryError',\n",
       " 'NotImplemented',\n",
       " 'NotImplementedError',\n",
       " 'OSError',\n",
       " 'OverflowError',\n",
       " 'PendingDeprecationWarning',\n",
       " 'PermissionError',\n",
       " 'ProcessLookupError',\n",
       " 'RecursionError',\n",
       " 'ReferenceError',\n",
       " 'ResourceWarning',\n",
       " 'RuntimeError',\n",
       " 'RuntimeWarning',\n",
       " 'StopAsyncIteration',\n",
       " 'StopIteration',\n",
       " 'SyntaxError',\n",
       " 'SyntaxWarning',\n",
       " 'SystemError',\n",
       " 'SystemExit',\n",
       " 'TabError',\n",
       " 'TimeoutError',\n",
       " 'True',\n",
       " 'TypeError',\n",
       " 'UnboundLocalError',\n",
       " 'UnicodeDecodeError',\n",
       " 'UnicodeEncodeError',\n",
       " 'UnicodeError',\n",
       " 'UnicodeTranslateError',\n",
       " 'UnicodeWarning',\n",
       " 'UserWarning',\n",
       " 'ValueError',\n",
       " 'Warning',\n",
       " 'WindowsError',\n",
       " 'ZeroDivisionError',\n",
       " '__IPYTHON__',\n",
       " '__build_class__',\n",
       " '__debug__',\n",
       " '__doc__',\n",
       " '__import__',\n",
       " '__loader__',\n",
       " '__name__',\n",
       " '__package__',\n",
       " '__spec__',\n",
       " 'abs',\n",
       " 'aiter',\n",
       " 'all',\n",
       " 'anext',\n",
       " 'any',\n",
       " 'ascii',\n",
       " 'bin',\n",
       " 'bool',\n",
       " 'breakpoint',\n",
       " 'bytearray',\n",
       " 'bytes',\n",
       " 'callable',\n",
       " 'chr',\n",
       " 'classmethod',\n",
       " 'compile',\n",
       " 'complex',\n",
       " 'copyright',\n",
       " 'credits',\n",
       " 'delattr',\n",
       " 'dict',\n",
       " 'dir',\n",
       " 'display',\n",
       " 'divmod',\n",
       " 'enumerate',\n",
       " 'eval',\n",
       " 'exec',\n",
       " 'execfile',\n",
       " 'filter',\n",
       " 'float',\n",
       " 'format',\n",
       " 'frozenset',\n",
       " 'get_ipython',\n",
       " 'getattr',\n",
       " 'globals',\n",
       " 'hasattr',\n",
       " 'hash',\n",
       " 'help',\n",
       " 'hex',\n",
       " 'id',\n",
       " 'input',\n",
       " 'int',\n",
       " 'isinstance',\n",
       " 'issubclass',\n",
       " 'iter',\n",
       " 'len',\n",
       " 'license',\n",
       " 'list',\n",
       " 'locals',\n",
       " 'map',\n",
       " 'max',\n",
       " 'memoryview',\n",
       " 'min',\n",
       " 'next',\n",
       " 'object',\n",
       " 'oct',\n",
       " 'open',\n",
       " 'ord',\n",
       " 'pow',\n",
       " 'print',\n",
       " 'property',\n",
       " 'range',\n",
       " 'repr',\n",
       " 'reversed',\n",
       " 'round',\n",
       " 'runfile',\n",
       " 'set',\n",
       " 'setattr',\n",
       " 'slice',\n",
       " 'sorted',\n",
       " 'staticmethod',\n",
       " 'str',\n",
       " 'sum',\n",
       " 'super',\n",
       " 'tuple',\n",
       " 'type',\n",
       " 'vars',\n",
       " 'zip']"
      ]
     },
     "execution_count": 133,
     "metadata": {},
     "output_type": "execute_result"
    }
   ],
   "source": [
    "dir(builtins)"
   ]
  },
  {
   "cell_type": "code",
   "execution_count": 134,
   "id": "fd7f332c",
   "metadata": {},
   "outputs": [
    {
     "data": {
      "text/plain": [
       "['ArithmeticError',\n",
       " 'AssertionError',\n",
       " 'AttributeError',\n",
       " 'BlockingIOError',\n",
       " 'BrokenPipeError',\n",
       " 'BufferError',\n",
       " 'ChildProcessError',\n",
       " 'ConnectionAbortedError',\n",
       " 'ConnectionError',\n",
       " 'ConnectionRefusedError',\n",
       " 'ConnectionResetError',\n",
       " 'EOFError',\n",
       " 'EnvironmentError',\n",
       " 'FileExistsError',\n",
       " 'FileNotFoundError',\n",
       " 'FloatingPointError',\n",
       " 'IOError',\n",
       " 'ImportError',\n",
       " 'IndentationError',\n",
       " 'IndexError',\n",
       " 'InterruptedError',\n",
       " 'IsADirectoryError',\n",
       " 'KeyError',\n",
       " 'LookupError',\n",
       " 'MemoryError',\n",
       " 'ModuleNotFoundError',\n",
       " 'NameError',\n",
       " 'NotADirectoryError',\n",
       " 'NotImplementedError',\n",
       " 'OSError',\n",
       " 'OverflowError',\n",
       " 'PermissionError',\n",
       " 'ProcessLookupError',\n",
       " 'RecursionError',\n",
       " 'ReferenceError',\n",
       " 'RuntimeError',\n",
       " 'SyntaxError',\n",
       " 'SystemError',\n",
       " 'TabError',\n",
       " 'TimeoutError',\n",
       " 'TypeError',\n",
       " 'UnboundLocalError',\n",
       " 'UnicodeDecodeError',\n",
       " 'UnicodeEncodeError',\n",
       " 'UnicodeError',\n",
       " 'UnicodeTranslateError',\n",
       " 'ValueError',\n",
       " 'WindowsError',\n",
       " 'ZeroDivisionError']"
      ]
     },
     "execution_count": 134,
     "metadata": {},
     "output_type": "execute_result"
    }
   ],
   "source": [
    "[i for i in dir(builtins) if 'Error' in i]"
   ]
  },
  {
   "cell_type": "code",
   "execution_count": 135,
   "id": "ddc2020a",
   "metadata": {},
   "outputs": [
    {
     "data": {
      "text/plain": [
       "type"
      ]
     },
     "execution_count": 135,
     "metadata": {},
     "output_type": "execute_result"
    }
   ],
   "source": [
    "type(AssertionError)"
   ]
  },
  {
   "cell_type": "code",
   "execution_count": 136,
   "id": "00faae67",
   "metadata": {
    "scrolled": true
   },
   "outputs": [
    {
     "data": {
      "text/plain": [
       "(Exception,)"
      ]
     },
     "execution_count": 136,
     "metadata": {},
     "output_type": "execute_result"
    }
   ],
   "source": [
    "AssertionError.__bases__ #Error의 부모 클래스"
   ]
  },
  {
   "cell_type": "markdown",
   "id": "509af43d",
   "metadata": {},
   "source": [
    "## 03.02 예외처리-진행"
   ]
  },
  {
   "cell_type": "code",
   "execution_count": 137,
   "id": "44064b20",
   "metadata": {},
   "outputs": [
    {
     "name": "stdout",
     "output_type": "stream",
     "text": [
      "Continue\n"
     ]
    }
   ],
   "source": [
    "try:\n",
    "    1/0\n",
    "except:\n",
    "    print('Continue')"
   ]
  },
  {
   "cell_type": "markdown",
   "id": "9b815eb3",
   "metadata": {},
   "source": [
    "### SUB03 else의 세가지 용법"
   ]
  },
  {
   "cell_type": "code",
   "execution_count": 138,
   "id": "fe313bc2",
   "metadata": {},
   "outputs": [
    {
     "name": "stdout",
     "output_type": "stream",
     "text": [
      "a\n"
     ]
    }
   ],
   "source": [
    "#CASE1 : if-else\n",
    "if 1:\n",
    "    print('a')\n",
    "else:\n",
    "    print('b')"
   ]
  },
  {
   "cell_type": "code",
   "execution_count": 139,
   "id": "c243463f",
   "metadata": {},
   "outputs": [
    {
     "name": "stdout",
     "output_type": "stream",
     "text": [
      "0\n",
      "1\n",
      "2\n",
      "3\n",
      "4\n",
      "end\n"
     ]
    }
   ],
   "source": [
    "#CASE2 : 반복문(for, while)이 끝나면 else가 찍힌다. 반복문이 외부조건으로 중단되거나 break가 있으면 else가 안찍힌다.\n",
    "for i in range(5):\n",
    "    print(i)\n",
    "else:\n",
    "    print('end')"
   ]
  },
  {
   "cell_type": "code",
   "execution_count": 140,
   "id": "6002899f",
   "metadata": {},
   "outputs": [
    {
     "name": "stdout",
     "output_type": "stream",
     "text": [
      "end\n"
     ]
    }
   ],
   "source": [
    "a = 5\n",
    "while a > 5:\n",
    "    a -= 1\n",
    "    print(a)\n",
    "else:\n",
    "    print('end')"
   ]
  },
  {
   "cell_type": "code",
   "execution_count": 141,
   "id": "b414aed6",
   "metadata": {},
   "outputs": [
    {
     "name": "stdout",
     "output_type": "stream",
     "text": [
      "a\n",
      "c\n"
     ]
    }
   ],
   "source": [
    "#CASE3 : try catch에서 에러가 발생하지 않으면 else가 찍힌다.\n",
    "try:\n",
    "    1/0\n",
    "except ZeroDivisionError:\n",
    "    print('a')\n",
    "except ArithmeticError:\n",
    "    print('aa')\n",
    "else:\n",
    "    print('b')\n",
    "finally:\n",
    "    print('c')"
   ]
  },
  {
   "cell_type": "code",
   "execution_count": 142,
   "id": "dfca1ed7",
   "metadata": {},
   "outputs": [
    {
     "name": "stdout",
     "output_type": "stream",
     "text": [
      "bb\n",
      "c\n"
     ]
    }
   ],
   "source": [
    "#ZeroDivision에러는 크게봤을 때 ArithmeticError에 속한다. 위에서부터, 해당 에러에 속할경우 해당 예외처리를 한다.\n",
    "#따라서 구체적인것부터 진행해야 한다.\n",
    "try:\n",
    "    1/0\n",
    "except Exception :\n",
    "    print('bb')\n",
    "except ArithmeticError:\n",
    "    print('aa')\n",
    "else:\n",
    "    print('b')\n",
    "finally:\n",
    "    print('c')"
   ]
  },
  {
   "cell_type": "markdown",
   "id": "8abe72ed",
   "metadata": {},
   "source": [
    "**CONTROL FLOW**<br>\n",
    "-조건<br>\n",
    "-반복<br>\n",
    "-예외처리<br>"
   ]
  },
  {
   "cell_type": "code",
   "execution_count": 143,
   "id": "9f1d9fd1",
   "metadata": {},
   "outputs": [
    {
     "name": "stdout",
     "output_type": "stream",
     "text": [
      "division by zero <class 'ZeroDivisionError'>\n"
     ]
    }
   ],
   "source": [
    "try:\n",
    "    1/0\n",
    "except Exception as e :\n",
    "    print(e, type(e))\n",
    "except ArithmeticError:\n",
    "    print('aa')\n",
    "else:\n",
    "    print('b')"
   ]
  },
  {
   "cell_type": "code",
   "execution_count": 144,
   "id": "2fd51f53",
   "metadata": {},
   "outputs": [
    {
     "name": "stdout",
     "output_type": "stream",
     "text": [
      "<class 'Exception'>\n"
     ]
    }
   ],
   "source": [
    "try:\n",
    "    1/0\n",
    "except Exception :\n",
    "    print(Exception)\n",
    "except ArithmeticError:\n",
    "    print('aa')\n",
    "else:\n",
    "    print('b')"
   ]
  },
  {
   "cell_type": "markdown",
   "id": "eeee3957",
   "metadata": {},
   "source": [
    "as 용법을 사용하여 어떤 에러가 발생하였는지 설명을 들을 수 있다."
   ]
  },
  {
   "cell_type": "markdown",
   "id": "d7e005b9",
   "metadata": {},
   "source": [
    "### SUB04 as용법 3개 + 바다코끼리 연산자"
   ]
  },
  {
   "cell_type": "markdown",
   "id": "7fb342d5",
   "metadata": {},
   "source": [
    "- import \"as\"\n",
    "- except Exception \"as\" e\n",
    "- with open('a.txt') as f:\n"
   ]
  },
  {
   "cell_type": "code",
   "execution_count": 145,
   "id": "e2339f07",
   "metadata": {},
   "outputs": [
    {
     "data": {
      "text/plain": [
       "[1, 2, 3, 5]"
      ]
     },
     "execution_count": 145,
     "metadata": {},
     "output_type": "execute_result"
    }
   ],
   "source": [
    "#바다코끼리연산자 : a를 5라고 치자.\n",
    "[1,2,3, a:=5]"
   ]
  },
  {
   "cell_type": "code",
   "execution_count": 146,
   "id": "0f92e8f9",
   "metadata": {},
   "outputs": [
    {
     "data": {
      "text/plain": [
       "5"
      ]
     },
     "execution_count": 146,
     "metadata": {},
     "output_type": "execute_result"
    }
   ],
   "source": [
    "a"
   ]
  },
  {
   "cell_type": "markdown",
   "id": "6f2d228b",
   "metadata": {},
   "source": [
    "***"
   ]
  },
  {
   "cell_type": "markdown",
   "id": "32303e72",
   "metadata": {},
   "source": [
    "### from 용법 3개"
   ]
  },
  {
   "cell_type": "markdown",
   "id": "80d681b4",
   "metadata": {},
   "source": [
    "- import from\n",
    "- generator\n",
    "- 어쩌구. 내일 할 것임"
   ]
  },
  {
   "cell_type": "code",
   "execution_count": 147,
   "id": "b6bdd808",
   "metadata": {},
   "outputs": [
    {
     "name": "stdout",
     "output_type": "stream",
     "text": [
      "The \"raise\" statement\n",
      "*********************\n",
      "\n",
      "   raise_stmt ::= \"raise\" [expression [\"from\" expression]]\n",
      "\n",
      "If no expressions are present, \"raise\" re-raises the exception that is\n",
      "currently being handled, which is also known as the *active\n",
      "exception*. If there isn’t currently an active exception, a\n",
      "\"RuntimeError\" exception is raised indicating that this is an error.\n",
      "\n",
      "Otherwise, \"raise\" evaluates the first expression as the exception\n",
      "object.  It must be either a subclass or an instance of\n",
      "\"BaseException\". If it is a class, the exception instance will be\n",
      "obtained when needed by instantiating the class with no arguments.\n",
      "\n",
      "The *type* of the exception is the exception instance’s class, the\n",
      "*value* is the instance itself.\n",
      "\n",
      "A traceback object is normally created automatically when an exception\n",
      "is raised and attached to it as the \"__traceback__\" attribute, which\n",
      "is writable. You can create an exception and set your own traceback in\n",
      "one step using the \"with_traceback()\" exception method (which returns\n",
      "the same exception instance, with its traceback set to its argument),\n",
      "like so:\n",
      "\n",
      "   raise Exception(\"foo occurred\").with_traceback(tracebackobj)\n",
      "\n",
      "The \"from\" clause is used for exception chaining: if given, the second\n",
      "*expression* must be another exception class or instance. If the\n",
      "second expression is an exception instance, it will be attached to the\n",
      "raised exception as the \"__cause__\" attribute (which is writable). If\n",
      "the expression is an exception class, the class will be instantiated\n",
      "and the resulting exception instance will be attached to the raised\n",
      "exception as the \"__cause__\" attribute. If the raised exception is not\n",
      "handled, both exceptions will be printed:\n",
      "\n",
      "   >>> try:\n",
      "   ...     print(1 / 0)\n",
      "   ... except Exception as exc:\n",
      "   ...     raise RuntimeError(\"Something bad happened\") from exc\n",
      "   ...\n",
      "   Traceback (most recent call last):\n",
      "     File \"<stdin>\", line 2, in <module>\n",
      "   ZeroDivisionError: division by zero\n",
      "\n",
      "   The above exception was the direct cause of the following exception:\n",
      "\n",
      "   Traceback (most recent call last):\n",
      "     File \"<stdin>\", line 4, in <module>\n",
      "   RuntimeError: Something bad happened\n",
      "\n",
      "A similar mechanism works implicitly if a new exception is raised when\n",
      "an exception is already being handled.  An exception may be handled\n",
      "when an \"except\" or \"finally\" clause, or a \"with\" statement, is used.\n",
      "The previous exception is then attached as the new exception’s\n",
      "\"__context__\" attribute:\n",
      "\n",
      "   >>> try:\n",
      "   ...     print(1 / 0)\n",
      "   ... except:\n",
      "   ...     raise RuntimeError(\"Something bad happened\")\n",
      "   ...\n",
      "   Traceback (most recent call last):\n",
      "     File \"<stdin>\", line 2, in <module>\n",
      "   ZeroDivisionError: division by zero\n",
      "\n",
      "   During handling of the above exception, another exception occurred:\n",
      "\n",
      "   Traceback (most recent call last):\n",
      "     File \"<stdin>\", line 4, in <module>\n",
      "   RuntimeError: Something bad happened\n",
      "\n",
      "Exception chaining can be explicitly suppressed by specifying \"None\"\n",
      "in the \"from\" clause:\n",
      "\n",
      "   >>> try:\n",
      "   ...     print(1 / 0)\n",
      "   ... except:\n",
      "   ...     raise RuntimeError(\"Something bad happened\") from None\n",
      "   ...\n",
      "   Traceback (most recent call last):\n",
      "     File \"<stdin>\", line 4, in <module>\n",
      "   RuntimeError: Something bad happened\n",
      "\n",
      "Additional information on exceptions can be found in section\n",
      "Exceptions, and information about handling exceptions is in section\n",
      "The try statement.\n",
      "\n",
      "Changed in version 3.3: \"None\" is now permitted as \"Y\" in \"raise X\n",
      "from Y\".\n",
      "\n",
      "New in version 3.3: The \"__suppress_context__\" attribute to suppress\n",
      "automatic display of the exception context.\n",
      "\n",
      "Changed in version 3.11: If the traceback of the active exception is\n",
      "modified in an \"except\" clause, a subsequent \"raise\" statement re-\n",
      "raises the exception with the modified traceback. Previously, the\n",
      "exception was re-raised with the traceback it had when it was caught.\n",
      "\n",
      "Related help topics: EXCEPTIONS\n",
      "\n"
     ]
    }
   ],
   "source": [
    "help('raise')"
   ]
  },
  {
   "cell_type": "code",
   "execution_count": 148,
   "id": "f20d81bf",
   "metadata": {},
   "outputs": [],
   "source": [
    "def x():\n",
    "    yield 1\n",
    "    yield 2"
   ]
  },
  {
   "cell_type": "code",
   "execution_count": 149,
   "id": "6141eea7",
   "metadata": {},
   "outputs": [],
   "source": [
    "t = x()"
   ]
  },
  {
   "cell_type": "code",
   "execution_count": 150,
   "id": "d640d330",
   "metadata": {},
   "outputs": [
    {
     "data": {
      "text/plain": [
       "<generator object x at 0x000001A27B097A00>"
      ]
     },
     "execution_count": 150,
     "metadata": {},
     "output_type": "execute_result"
    }
   ],
   "source": [
    "t"
   ]
  },
  {
   "cell_type": "code",
   "execution_count": 151,
   "id": "4dbb9b26",
   "metadata": {},
   "outputs": [],
   "source": [
    "def x():\n",
    "    yield from [1,2]"
   ]
  },
  {
   "cell_type": "markdown",
   "id": "0f0e6b04",
   "metadata": {},
   "source": [
    "***"
   ]
  },
  {
   "cell_type": "markdown",
   "id": "54cf13e6",
   "metadata": {},
   "source": [
    "**with 용법**"
   ]
  },
  {
   "cell_type": "code",
   "execution_count": 152,
   "id": "4641fab0",
   "metadata": {},
   "outputs": [
    {
     "name": "stdout",
     "output_type": "stream",
     "text": [
      "Overwriting a.txt\n"
     ]
    }
   ],
   "source": [
    "%%writefile a.txt\n",
    "adsg gsd gasd \n",
    "gas dg asdgsdg "
   ]
  },
  {
   "cell_type": "code",
   "execution_count": 153,
   "id": "89a993a0",
   "metadata": {},
   "outputs": [],
   "source": [
    "f = open('a.txt')"
   ]
  },
  {
   "cell_type": "code",
   "execution_count": 154,
   "id": "ce2bb7fe",
   "metadata": {},
   "outputs": [
    {
     "data": {
      "text/plain": [
       "['_CHUNK_SIZE',\n",
       " '__class__',\n",
       " '__del__',\n",
       " '__delattr__',\n",
       " '__dict__',\n",
       " '__dir__',\n",
       " '__doc__',\n",
       " '__enter__',\n",
       " '__eq__',\n",
       " '__exit__',\n",
       " '__format__',\n",
       " '__ge__',\n",
       " '__getattribute__',\n",
       " '__getstate__',\n",
       " '__gt__',\n",
       " '__hash__',\n",
       " '__init__',\n",
       " '__init_subclass__',\n",
       " '__iter__',\n",
       " '__le__',\n",
       " '__lt__',\n",
       " '__ne__',\n",
       " '__new__',\n",
       " '__next__',\n",
       " '__reduce__',\n",
       " '__reduce_ex__',\n",
       " '__repr__',\n",
       " '__setattr__',\n",
       " '__sizeof__',\n",
       " '__str__',\n",
       " '__subclasshook__',\n",
       " '_checkClosed',\n",
       " '_checkReadable',\n",
       " '_checkSeekable',\n",
       " '_checkWritable',\n",
       " '_finalizing',\n",
       " 'buffer',\n",
       " 'close',\n",
       " 'closed',\n",
       " 'detach',\n",
       " 'encoding',\n",
       " 'errors',\n",
       " 'fileno',\n",
       " 'flush',\n",
       " 'isatty',\n",
       " 'line_buffering',\n",
       " 'mode',\n",
       " 'name',\n",
       " 'newlines',\n",
       " 'read',\n",
       " 'readable',\n",
       " 'readline',\n",
       " 'readlines',\n",
       " 'reconfigure',\n",
       " 'seek',\n",
       " 'seekable',\n",
       " 'tell',\n",
       " 'truncate',\n",
       " 'writable',\n",
       " 'write',\n",
       " 'write_through',\n",
       " 'writelines']"
      ]
     },
     "execution_count": 154,
     "metadata": {},
     "output_type": "execute_result"
    }
   ],
   "source": [
    "dir(f) #__enter__와 __exit__가 정의되어 있다."
   ]
  },
  {
   "cell_type": "code",
   "execution_count": 155,
   "id": "63126556",
   "metadata": {},
   "outputs": [],
   "source": [
    "#메모리 소모하지 않도록 닫아주어야 함\n",
    "f.close()"
   ]
  },
  {
   "cell_type": "code",
   "execution_count": 156,
   "id": "6eefffac",
   "metadata": {},
   "outputs": [],
   "source": [
    "#가비지 컬렉션 기능\n",
    "import gc"
   ]
  },
  {
   "cell_type": "code",
   "execution_count": 157,
   "id": "49465df6",
   "metadata": {},
   "outputs": [],
   "source": [
    "a = 1"
   ]
  },
  {
   "cell_type": "code",
   "execution_count": 158,
   "id": "1bb0eb21",
   "metadata": {},
   "outputs": [],
   "source": [
    "import sys"
   ]
  },
  {
   "cell_type": "code",
   "execution_count": 159,
   "id": "f7f7a1c3",
   "metadata": {},
   "outputs": [
    {
     "data": {
      "text/plain": [
       "1000016916"
      ]
     },
     "execution_count": 159,
     "metadata": {},
     "output_type": "execute_result"
    }
   ],
   "source": [
    "sys.getrefcount(a)"
   ]
  },
  {
   "cell_type": "code",
   "execution_count": 160,
   "id": "c7a57b9b",
   "metadata": {},
   "outputs": [],
   "source": [
    "import matplotlib.pyplot as plt"
   ]
  },
  {
   "cell_type": "code",
   "execution_count": 161,
   "id": "b463ec09",
   "metadata": {},
   "outputs": [],
   "source": [
    "d = plt.xkcd()"
   ]
  },
  {
   "cell_type": "code",
   "execution_count": 162,
   "id": "b9a44989",
   "metadata": {},
   "outputs": [],
   "source": [
    "import inspect"
   ]
  },
  {
   "cell_type": "code",
   "execution_count": 163,
   "id": "a4da3d16",
   "metadata": {},
   "outputs": [
    {
     "name": "stdout",
     "output_type": "stream",
     "text": [
      "def xkcd(scale=1, length=100, randomness=2):\n",
      "    \"\"\"\n",
      "    Turn on `xkcd <https://xkcd.com/>`_ sketch-style drawing mode.  This will\n",
      "    only have effect on things drawn after this function is called.\n",
      "\n",
      "    For best results, the \"Humor Sans\" font should be installed: it is\n",
      "    not included with Matplotlib.\n",
      "\n",
      "    Parameters\n",
      "    ----------\n",
      "    scale : float, optional\n",
      "        The amplitude of the wiggle perpendicular to the source line.\n",
      "    length : float, optional\n",
      "        The length of the wiggle along the line.\n",
      "    randomness : float, optional\n",
      "        The scale factor by which the length is shrunken or expanded.\n",
      "\n",
      "    Notes\n",
      "    -----\n",
      "    This function works by a number of rcParams, so it will probably\n",
      "    override others you have set before.\n",
      "\n",
      "    If you want the effects of this function to be temporary, it can\n",
      "    be used as a context manager, for example::\n",
      "\n",
      "        with plt.xkcd():\n",
      "            # This figure will be in XKCD-style\n",
      "            fig1 = plt.figure()\n",
      "            # ...\n",
      "\n",
      "        # This figure will be in regular style\n",
      "        fig2 = plt.figure()\n",
      "    \"\"\"\n",
      "    # This cannot be implemented in terms of contextmanager() or rc_context()\n",
      "    # because this needs to work as a non-contextmanager too.\n",
      "\n",
      "    if rcParams['text.usetex']:\n",
      "        raise RuntimeError(\n",
      "            \"xkcd mode is not compatible with text.usetex = True\")\n",
      "\n",
      "    stack = ExitStack()\n",
      "    stack.callback(dict.update, rcParams, rcParams.copy())\n",
      "\n",
      "    from matplotlib import patheffects\n",
      "    rcParams.update({\n",
      "        'font.family': ['xkcd', 'xkcd Script', 'Humor Sans', 'Comic Neue',\n",
      "                        'Comic Sans MS'],\n",
      "        'font.size': 14.0,\n",
      "        'path.sketch': (scale, length, randomness),\n",
      "        'path.effects': [\n",
      "            patheffects.withStroke(linewidth=4, foreground=\"w\")],\n",
      "        'axes.linewidth': 1.5,\n",
      "        'lines.linewidth': 2.0,\n",
      "        'figure.facecolor': 'white',\n",
      "        'grid.linewidth': 0.0,\n",
      "        'axes.grid': False,\n",
      "        'axes.unicode_minus': False,\n",
      "        'axes.edgecolor': 'black',\n",
      "        'xtick.major.size': 8,\n",
      "        'xtick.major.width': 3,\n",
      "        'ytick.major.size': 8,\n",
      "        'ytick.major.width': 3,\n",
      "    })\n",
      "\n",
      "    return stack\n",
      "\n"
     ]
    }
   ],
   "source": [
    "print(inspect.getsource(plt.xkcd))"
   ]
  },
  {
   "cell_type": "code",
   "execution_count": 164,
   "id": "dfd2bf3a",
   "metadata": {},
   "outputs": [
    {
     "name": "stdout",
     "output_type": "stream",
     "text": [
      "    def __exit__(self, *exc_details):\n",
      "        received_exc = exc_details[0] is not None\n",
      "\n",
      "        # We manipulate the exception state so it behaves as though\n",
      "        # we were actually nesting multiple with statements\n",
      "        frame_exc = sys.exc_info()[1]\n",
      "        def _fix_exception_context(new_exc, old_exc):\n",
      "            # Context may not be correct, so find the end of the chain\n",
      "            while 1:\n",
      "                exc_context = new_exc.__context__\n",
      "                if exc_context is None or exc_context is old_exc:\n",
      "                    # Context is already set correctly (see issue 20317)\n",
      "                    return\n",
      "                if exc_context is frame_exc:\n",
      "                    break\n",
      "                new_exc = exc_context\n",
      "            # Change the end of the chain to point to the exception\n",
      "            # we expect it to reference\n",
      "            new_exc.__context__ = old_exc\n",
      "\n",
      "        # Callbacks are invoked in LIFO order to match the behaviour of\n",
      "        # nested context managers\n",
      "        suppressed_exc = False\n",
      "        pending_raise = False\n",
      "        while self._exit_callbacks:\n",
      "            is_sync, cb = self._exit_callbacks.pop()\n",
      "            assert is_sync\n",
      "            try:\n",
      "                if cb(*exc_details):\n",
      "                    suppressed_exc = True\n",
      "                    pending_raise = False\n",
      "                    exc_details = (None, None, None)\n",
      "            except:\n",
      "                new_exc_details = sys.exc_info()\n",
      "                # simulate the stack of exceptions by setting the context\n",
      "                _fix_exception_context(new_exc_details[1], exc_details[1])\n",
      "                pending_raise = True\n",
      "                exc_details = new_exc_details\n",
      "        if pending_raise:\n",
      "            try:\n",
      "                # bare \"raise exc_details[1]\" replaces our carefully\n",
      "                # set-up context\n",
      "                fixed_ctx = exc_details[1].__context__\n",
      "                raise exc_details[1]\n",
      "            except BaseException:\n",
      "                exc_details[1].__context__ = fixed_ctx\n",
      "                raise\n",
      "        return received_exc and suppressed_exc\n",
      "\n"
     ]
    }
   ],
   "source": [
    "print(inspect.getsource(plt.xkcd().__exit__))"
   ]
  },
  {
   "cell_type": "code",
   "execution_count": 165,
   "id": "a568b50d",
   "metadata": {},
   "outputs": [
    {
     "name": "stderr",
     "output_type": "stream",
     "text": [
      "findfont: Font family 'xkcd' not found.\n",
      "findfont: Font family 'xkcd Script' not found.\n",
      "findfont: Font family 'Humor Sans' not found.\n",
      "findfont: Font family 'Comic Neue' not found.\n",
      "findfont: Font family 'xkcd' not found.\n",
      "findfont: Font family 'xkcd Script' not found.\n",
      "findfont: Font family 'Humor Sans' not found.\n",
      "findfont: Font family 'Comic Neue' not found.\n",
      "findfont: Font family 'xkcd' not found.\n",
      "findfont: Font family 'xkcd Script' not found.\n",
      "findfont: Font family 'Humor Sans' not found.\n",
      "findfont: Font family 'Comic Neue' not found.\n",
      "findfont: Font family 'xkcd' not found.\n",
      "findfont: Font family 'xkcd Script' not found.\n",
      "findfont: Font family 'Humor Sans' not found.\n",
      "findfont: Font family 'Comic Neue' not found.\n",
      "findfont: Font family 'xkcd' not found.\n",
      "findfont: Font family 'xkcd Script' not found.\n",
      "findfont: Font family 'Humor Sans' not found.\n",
      "findfont: Font family 'Comic Neue' not found.\n",
      "findfont: Font family 'xkcd' not found.\n",
      "findfont: Font family 'xkcd Script' not found.\n",
      "findfont: Font family 'Humor Sans' not found.\n",
      "findfont: Font family 'Comic Neue' not found.\n",
      "findfont: Font family 'xkcd' not found.\n",
      "findfont: Font family 'xkcd Script' not found.\n",
      "findfont: Font family 'Humor Sans' not found.\n",
      "findfont: Font family 'Comic Neue' not found.\n",
      "findfont: Font family 'xkcd' not found.\n",
      "findfont: Font family 'xkcd Script' not found.\n",
      "findfont: Font family 'Humor Sans' not found.\n",
      "findfont: Font family 'Comic Neue' not found.\n",
      "findfont: Font family 'xkcd' not found.\n",
      "findfont: Font family 'xkcd Script' not found.\n",
      "findfont: Font family 'Humor Sans' not found.\n",
      "findfont: Font family 'Comic Neue' not found.\n",
      "findfont: Font family 'xkcd' not found.\n",
      "findfont: Font family 'xkcd Script' not found.\n",
      "findfont: Font family 'Humor Sans' not found.\n",
      "findfont: Font family 'Comic Neue' not found.\n",
      "findfont: Font family 'xkcd' not found.\n",
      "findfont: Font family 'xkcd Script' not found.\n",
      "findfont: Font family 'Humor Sans' not found.\n",
      "findfont: Font family 'Comic Neue' not found.\n",
      "findfont: Font family 'xkcd' not found.\n",
      "findfont: Font family 'xkcd Script' not found.\n",
      "findfont: Font family 'Humor Sans' not found.\n",
      "findfont: Font family 'Comic Neue' not found.\n",
      "findfont: Font family 'xkcd' not found.\n",
      "findfont: Font family 'xkcd Script' not found.\n",
      "findfont: Font family 'Humor Sans' not found.\n",
      "findfont: Font family 'Comic Neue' not found.\n",
      "findfont: Font family 'xkcd' not found.\n",
      "findfont: Font family 'xkcd Script' not found.\n",
      "findfont: Font family 'Humor Sans' not found.\n",
      "findfont: Font family 'Comic Neue' not found.\n",
      "findfont: Font family 'xkcd' not found.\n",
      "findfont: Font family 'xkcd Script' not found.\n",
      "findfont: Font family 'Humor Sans' not found.\n",
      "findfont: Font family 'Comic Neue' not found.\n",
      "findfont: Font family 'xkcd' not found.\n",
      "findfont: Font family 'xkcd Script' not found.\n",
      "findfont: Font family 'Humor Sans' not found.\n",
      "findfont: Font family 'Comic Neue' not found.\n",
      "findfont: Font family 'xkcd' not found.\n",
      "findfont: Font family 'xkcd Script' not found.\n",
      "findfont: Font family 'Humor Sans' not found.\n",
      "findfont: Font family 'Comic Neue' not found.\n",
      "findfont: Font family 'xkcd' not found.\n",
      "findfont: Font family 'xkcd Script' not found.\n",
      "findfont: Font family 'Humor Sans' not found.\n",
      "findfont: Font family 'Comic Neue' not found.\n",
      "findfont: Font family 'xkcd' not found.\n",
      "findfont: Font family 'xkcd Script' not found.\n",
      "findfont: Font family 'Humor Sans' not found.\n",
      "findfont: Font family 'Comic Neue' not found.\n",
      "findfont: Font family 'xkcd' not found.\n",
      "findfont: Font family 'xkcd Script' not found.\n",
      "findfont: Font family 'Humor Sans' not found.\n",
      "findfont: Font family 'Comic Neue' not found.\n",
      "findfont: Font family 'xkcd' not found.\n",
      "findfont: Font family 'xkcd Script' not found.\n",
      "findfont: Font family 'Humor Sans' not found.\n",
      "findfont: Font family 'Comic Neue' not found.\n",
      "findfont: Font family 'xkcd' not found.\n",
      "findfont: Font family 'xkcd Script' not found.\n",
      "findfont: Font family 'Humor Sans' not found.\n",
      "findfont: Font family 'Comic Neue' not found.\n",
      "findfont: Font family 'xkcd' not found.\n",
      "findfont: Font family 'xkcd Script' not found.\n",
      "findfont: Font family 'Humor Sans' not found.\n",
      "findfont: Font family 'Comic Neue' not found.\n",
      "findfont: Font family 'xkcd' not found.\n",
      "findfont: Font family 'xkcd Script' not found.\n",
      "findfont: Font family 'Humor Sans' not found.\n",
      "findfont: Font family 'Comic Neue' not found.\n",
      "findfont: Font family 'xkcd' not found.\n",
      "findfont: Font family 'xkcd Script' not found.\n",
      "findfont: Font family 'Humor Sans' not found.\n",
      "findfont: Font family 'Comic Neue' not found.\n",
      "findfont: Font family 'xkcd' not found.\n",
      "findfont: Font family 'xkcd Script' not found.\n",
      "findfont: Font family 'Humor Sans' not found.\n",
      "findfont: Font family 'Comic Neue' not found.\n",
      "findfont: Font family 'xkcd' not found.\n",
      "findfont: Font family 'xkcd Script' not found.\n",
      "findfont: Font family 'Humor Sans' not found.\n",
      "findfont: Font family 'Comic Neue' not found.\n",
      "findfont: Font family 'xkcd' not found.\n",
      "findfont: Font family 'xkcd Script' not found.\n",
      "findfont: Font family 'Humor Sans' not found.\n",
      "findfont: Font family 'Comic Neue' not found.\n",
      "findfont: Font family 'xkcd' not found.\n",
      "findfont: Font family 'xkcd Script' not found.\n",
      "findfont: Font family 'Humor Sans' not found.\n",
      "findfont: Font family 'Comic Neue' not found.\n",
      "findfont: Font family 'xkcd' not found.\n",
      "findfont: Font family 'xkcd Script' not found.\n",
      "findfont: Font family 'Humor Sans' not found.\n",
      "findfont: Font family 'Comic Neue' not found.\n",
      "findfont: Font family 'xkcd' not found.\n",
      "findfont: Font family 'xkcd Script' not found.\n",
      "findfont: Font family 'Humor Sans' not found.\n",
      "findfont: Font family 'Comic Neue' not found.\n",
      "findfont: Font family 'xkcd' not found.\n",
      "findfont: Font family 'xkcd Script' not found.\n",
      "findfont: Font family 'Humor Sans' not found.\n",
      "findfont: Font family 'Comic Neue' not found.\n",
      "findfont: Font family 'xkcd' not found.\n",
      "findfont: Font family 'xkcd Script' not found.\n",
      "findfont: Font family 'Humor Sans' not found.\n",
      "findfont: Font family 'Comic Neue' not found.\n",
      "findfont: Font family 'xkcd' not found.\n",
      "findfont: Font family 'xkcd Script' not found.\n",
      "findfont: Font family 'Humor Sans' not found.\n",
      "findfont: Font family 'Comic Neue' not found.\n",
      "findfont: Font family 'xkcd' not found.\n",
      "findfont: Font family 'xkcd Script' not found.\n",
      "findfont: Font family 'Humor Sans' not found.\n",
      "findfont: Font family 'Comic Neue' not found.\n",
      "findfont: Font family 'xkcd' not found.\n",
      "findfont: Font family 'xkcd Script' not found.\n",
      "findfont: Font family 'Humor Sans' not found.\n",
      "findfont: Font family 'Comic Neue' not found.\n",
      "findfont: Font family 'xkcd' not found.\n",
      "findfont: Font family 'xkcd Script' not found.\n",
      "findfont: Font family 'Humor Sans' not found.\n",
      "findfont: Font family 'Comic Neue' not found.\n",
      "findfont: Font family 'xkcd' not found.\n",
      "findfont: Font family 'xkcd Script' not found.\n",
      "findfont: Font family 'Humor Sans' not found.\n",
      "findfont: Font family 'Comic Neue' not found.\n",
      "findfont: Font family 'xkcd' not found.\n",
      "findfont: Font family 'xkcd Script' not found.\n",
      "findfont: Font family 'Humor Sans' not found.\n",
      "findfont: Font family 'Comic Neue' not found.\n",
      "findfont: Font family 'xkcd' not found.\n",
      "findfont: Font family 'xkcd Script' not found.\n",
      "findfont: Font family 'Humor Sans' not found.\n",
      "findfont: Font family 'Comic Neue' not found.\n",
      "findfont: Font family 'xkcd' not found.\n",
      "findfont: Font family 'xkcd Script' not found.\n",
      "findfont: Font family 'Humor Sans' not found.\n",
      "findfont: Font family 'Comic Neue' not found.\n",
      "findfont: Font family 'xkcd' not found.\n",
      "findfont: Font family 'xkcd Script' not found.\n",
      "findfont: Font family 'Humor Sans' not found.\n",
      "findfont: Font family 'Comic Neue' not found.\n",
      "findfont: Font family 'xkcd' not found.\n",
      "findfont: Font family 'xkcd Script' not found.\n",
      "findfont: Font family 'Humor Sans' not found.\n",
      "findfont: Font family 'Comic Neue' not found.\n",
      "findfont: Font family 'xkcd' not found.\n",
      "findfont: Font family 'xkcd Script' not found.\n",
      "findfont: Font family 'Humor Sans' not found.\n",
      "findfont: Font family 'Comic Neue' not found.\n",
      "findfont: Font family 'xkcd' not found.\n",
      "findfont: Font family 'xkcd Script' not found.\n",
      "findfont: Font family 'Humor Sans' not found.\n",
      "findfont: Font family 'Comic Neue' not found.\n",
      "findfont: Font family 'xkcd' not found.\n",
      "findfont: Font family 'xkcd Script' not found.\n",
      "findfont: Font family 'Humor Sans' not found.\n",
      "findfont: Font family 'Comic Neue' not found.\n"
     ]
    },
    {
     "name": "stderr",
     "output_type": "stream",
     "text": [
      "findfont: Font family 'xkcd' not found.\n",
      "findfont: Font family 'xkcd Script' not found.\n",
      "findfont: Font family 'Humor Sans' not found.\n",
      "findfont: Font family 'Comic Neue' not found.\n",
      "findfont: Font family 'xkcd' not found.\n",
      "findfont: Font family 'xkcd Script' not found.\n",
      "findfont: Font family 'Humor Sans' not found.\n",
      "findfont: Font family 'Comic Neue' not found.\n",
      "findfont: Font family 'xkcd' not found.\n",
      "findfont: Font family 'xkcd Script' not found.\n",
      "findfont: Font family 'Humor Sans' not found.\n",
      "findfont: Font family 'Comic Neue' not found.\n",
      "findfont: Font family 'xkcd' not found.\n",
      "findfont: Font family 'xkcd Script' not found.\n",
      "findfont: Font family 'Humor Sans' not found.\n",
      "findfont: Font family 'Comic Neue' not found.\n",
      "findfont: Font family 'xkcd' not found.\n",
      "findfont: Font family 'xkcd Script' not found.\n",
      "findfont: Font family 'Humor Sans' not found.\n",
      "findfont: Font family 'Comic Neue' not found.\n",
      "findfont: Font family 'xkcd' not found.\n",
      "findfont: Font family 'xkcd Script' not found.\n",
      "findfont: Font family 'Humor Sans' not found.\n",
      "findfont: Font family 'Comic Neue' not found.\n",
      "findfont: Font family 'xkcd' not found.\n",
      "findfont: Font family 'xkcd Script' not found.\n",
      "findfont: Font family 'Humor Sans' not found.\n",
      "findfont: Font family 'Comic Neue' not found.\n",
      "findfont: Font family 'xkcd' not found.\n",
      "findfont: Font family 'xkcd Script' not found.\n",
      "findfont: Font family 'Humor Sans' not found.\n",
      "findfont: Font family 'Comic Neue' not found.\n",
      "findfont: Font family 'xkcd' not found.\n",
      "findfont: Font family 'xkcd Script' not found.\n",
      "findfont: Font family 'Humor Sans' not found.\n",
      "findfont: Font family 'Comic Neue' not found.\n",
      "findfont: Font family 'xkcd' not found.\n",
      "findfont: Font family 'xkcd Script' not found.\n",
      "findfont: Font family 'Humor Sans' not found.\n",
      "findfont: Font family 'Comic Neue' not found.\n",
      "findfont: Font family 'xkcd' not found.\n",
      "findfont: Font family 'xkcd Script' not found.\n",
      "findfont: Font family 'Humor Sans' not found.\n",
      "findfont: Font family 'Comic Neue' not found.\n",
      "findfont: Font family 'xkcd' not found.\n",
      "findfont: Font family 'xkcd Script' not found.\n",
      "findfont: Font family 'Humor Sans' not found.\n",
      "findfont: Font family 'Comic Neue' not found.\n",
      "findfont: Font family 'xkcd' not found.\n",
      "findfont: Font family 'xkcd Script' not found.\n",
      "findfont: Font family 'Humor Sans' not found.\n",
      "findfont: Font family 'Comic Neue' not found.\n",
      "findfont: Font family 'xkcd' not found.\n",
      "findfont: Font family 'xkcd Script' not found.\n",
      "findfont: Font family 'Humor Sans' not found.\n",
      "findfont: Font family 'Comic Neue' not found.\n",
      "findfont: Font family 'xkcd' not found.\n",
      "findfont: Font family 'xkcd Script' not found.\n",
      "findfont: Font family 'Humor Sans' not found.\n",
      "findfont: Font family 'Comic Neue' not found.\n",
      "findfont: Font family 'xkcd' not found.\n",
      "findfont: Font family 'xkcd Script' not found.\n",
      "findfont: Font family 'Humor Sans' not found.\n",
      "findfont: Font family 'Comic Neue' not found.\n"
     ]
    },
    {
     "data": {
      "image/png": "[encoded data removed]",
      "text/plain": [
       "<Figure size 640x480 with 1 Axes>"
      ]
     },
     "metadata": {},
     "output_type": "display_data"
    }
   ],
   "source": [
    "with plt.xkcd():\n",
    "    plt.plot([1,2,3,4])"
   ]
  },
  {
   "cell_type": "markdown",
   "id": "5f2656b0",
   "metadata": {},
   "source": [
    "특정 상황에서 어떤 구문을 실행 시키고 싶을 때 with를 사용한다.<br>\n",
    "with를 하용하기 위한 전제조건은 다음과 같다."
   ]
  },
  {
   "cell_type": "code",
   "execution_count": 166,
   "id": "83cc66e7",
   "metadata": {},
   "outputs": [],
   "source": [
    "class A:\n",
    "    def __enter__(self):\n",
    "        print('Enter')\n",
    "    def __exit__(self, a, b, c):\n",
    "        print('exit')"
   ]
  },
  {
   "cell_type": "code",
   "execution_count": 167,
   "id": "7d10e572",
   "metadata": {},
   "outputs": [],
   "source": [
    "a = A()"
   ]
  },
  {
   "cell_type": "code",
   "execution_count": 168,
   "id": "4bd07e0d",
   "metadata": {},
   "outputs": [
    {
     "name": "stdout",
     "output_type": "stream",
     "text": [
      "Enter\n",
      "exit\n"
     ]
    }
   ],
   "source": [
    "with a:\n",
    "    pass"
   ]
  },
  {
   "cell_type": "markdown",
   "id": "ba0e7ca1",
   "metadata": {},
   "source": [
    "즉 with 구문을 사용하기 위해서는 \\_\\_enter\\_\\_, \\_\\_exit\\_\\_가 정의되어 있어야 된다"
   ]
  },
  {
   "cell_type": "code",
   "execution_count": 169,
   "id": "3e3c58ee",
   "metadata": {},
   "outputs": [],
   "source": [
    "import sqlite3"
   ]
  },
  {
   "cell_type": "code",
   "execution_count": 170,
   "id": "e58623dd",
   "metadata": {},
   "outputs": [
    {
     "ename": "SyntaxError",
     "evalue": "invalid syntax (2544212531.py, line 1)",
     "output_type": "error",
     "traceback": [
      "\u001b[1;36m  Cell \u001b[1;32mIn[170], line 1\u001b[1;36m\u001b[0m\n\u001b[1;33m    con = sqlite.\u001b[0m\n\u001b[1;37m                 ^\u001b[0m\n\u001b[1;31mSyntaxError\u001b[0m\u001b[1;31m:\u001b[0m invalid syntax\n"
     ]
    }
   ],
   "source": [
    "con = sqlite."
   ]
  },
  {
   "cell_type": "code",
   "execution_count": null,
   "id": "1054aae5",
   "metadata": {},
   "outputs": [],
   "source": []
  }
 ],
 "metadata": {
  "kernelspec": {
   "display_name": "Python 3 (ipykernel)",
   "language": "python",
   "name": "python3"
  },
  "language_info": {
   "codemirror_mode": {
    "name": "ipython",
    "version": 3
   },
   "file_extension": ".py",
   "mimetype": "text/x-python",
   "name": "python",
   "nbconvert_exporter": "python",
   "pygments_lexer": "ipython3",
   "version": "3.11.4"
  }
 },
 "nbformat": 4,
 "nbformat_minor": 5
}
