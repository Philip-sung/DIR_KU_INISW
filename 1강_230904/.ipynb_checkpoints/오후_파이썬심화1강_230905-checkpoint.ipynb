{
 "cells": [
  {
   "cell_type": "code",
   "execution_count": 1,
   "id": "9d408dc7",
   "metadata": {},
   "outputs": [],
   "source": [
    "a = 1"
   ]
  },
  {
   "cell_type": "markdown",
   "id": "38178411",
   "metadata": {},
   "source": [
    "위에서 a는 name 또는 identifier, 1은 expression이다."
   ]
  },
  {
   "cell_type": "code",
   "execution_count": 2,
   "id": "eeaeadd9",
   "metadata": {
    "scrolled": false
   },
   "outputs": [],
   "source": [
    "_b = 2"
   ]
  },
  {
   "cell_type": "markdown",
   "id": "269d12be",
   "metadata": {},
   "source": [
    "## PEP8 Style Guide\n",
    "\n",
    "상수 취급 : 대문자를 사용한다(파이썬에는 상수가 존재하지 않는다 따라서 변수라고 부르지 않는다).\n",
    "함수 : snakeStyle을 사용한다. myfunction_first\n",
    "클래스 : camel(python style : myComponent)\n",
    "python 자체 제공 클래스 : 소문자사용"
   ]
  },
  {
   "cell_type": "code",
   "execution_count": 3,
   "id": "564275d9",
   "metadata": {},
   "outputs": [],
   "source": [
    "import keyword"
   ]
  },
  {
   "cell_type": "code",
   "execution_count": 4,
   "id": "5927b289",
   "metadata": {
    "scrolled": true
   },
   "outputs": [
    {
     "data": {
      "text/plain": [
       "['False',\n",
       " 'None',\n",
       " 'True',\n",
       " 'and',\n",
       " 'as',\n",
       " 'assert',\n",
       " 'async',\n",
       " 'await',\n",
       " 'break',\n",
       " 'class',\n",
       " 'continue',\n",
       " 'def',\n",
       " 'del',\n",
       " 'elif',\n",
       " 'else',\n",
       " 'except',\n",
       " 'finally',\n",
       " 'for',\n",
       " 'from',\n",
       " 'global',\n",
       " 'if',\n",
       " 'import',\n",
       " 'in',\n",
       " 'is',\n",
       " 'lambda',\n",
       " 'nonlocal',\n",
       " 'not',\n",
       " 'or',\n",
       " 'pass',\n",
       " 'raise',\n",
       " 'return',\n",
       " 'try',\n",
       " 'while',\n",
       " 'with',\n",
       " 'yield']"
      ]
     },
     "execution_count": 4,
     "metadata": {},
     "output_type": "execute_result"
    }
   ],
   "source": [
    "keyword.kwlist"
   ]
  },
  {
   "cell_type": "markdown",
   "id": "7b4e8ba1",
   "metadata": {},
   "source": [
    "파이썬을 배우는 것은 키워드와 22가지 스테이트먼트를 사용하는 것을 이야기한다."
   ]
  },
  {
   "cell_type": "code",
   "execution_count": 5,
   "id": "03601898",
   "metadata": {},
   "outputs": [
    {
     "data": {
      "text/plain": [
       "int"
      ]
     },
     "execution_count": 5,
     "metadata": {},
     "output_type": "execute_result"
    }
   ],
   "source": [
    "type(a)"
   ]
  },
  {
   "cell_type": "markdown",
   "id": "e1e2e366",
   "metadata": {},
   "source": [
    "다른 프로그래밍 언어에서는 int8(2^8), unsigned 등등 있지만 파이썬에는 없다."
   ]
  },
  {
   "cell_type": "code",
   "execution_count": 6,
   "id": "ddef94a1",
   "metadata": {},
   "outputs": [],
   "source": [
    "import numpy as np"
   ]
  },
  {
   "cell_type": "code",
   "execution_count": 7,
   "id": "7b87788d",
   "metadata": {},
   "outputs": [],
   "source": [
    "x = np.array([129,2,3], dtype='u1')"
   ]
  },
  {
   "cell_type": "code",
   "execution_count": 8,
   "id": "7b09445f",
   "metadata": {},
   "outputs": [
    {
     "data": {
      "text/plain": [
       "array([129,   2,   3], dtype=uint8)"
      ]
     },
     "execution_count": 8,
     "metadata": {},
     "output_type": "execute_result"
    }
   ],
   "source": [
    "x"
   ]
  },
  {
   "cell_type": "code",
   "execution_count": 9,
   "id": "cec68f1c",
   "metadata": {},
   "outputs": [
    {
     "data": {
      "text/plain": [
       "array([2, 4, 6], dtype=uint8)"
      ]
     },
     "execution_count": 9,
     "metadata": {},
     "output_type": "execute_result"
    }
   ],
   "source": [
    "x+x"
   ]
  },
  {
   "cell_type": "code",
   "execution_count": 10,
   "id": "d84bc68a",
   "metadata": {},
   "outputs": [],
   "source": [
    "import cv2"
   ]
  },
  {
   "cell_type": "code",
   "execution_count": 12,
   "id": "6bfea2f5",
   "metadata": {},
   "outputs": [
    {
     "data": {
      "text/plain": [
       "array([[255],\n",
       "       [  4],\n",
       "       [  6]], dtype=uint8)"
      ]
     },
     "execution_count": 12,
     "metadata": {},
     "output_type": "execute_result"
    }
   ],
   "source": [
    "cv2.add(x,x)"
   ]
  },
  {
   "cell_type": "markdown",
   "id": "e31ed025",
   "metadata": {},
   "source": [
    "범위가 넘어가면 돌아오는 연산은 모듈로, 그리고 최대값까지만 가는 연산을 센튜레이티드 연산이라고 한다."
   ]
  },
  {
   "cell_type": "code",
   "execution_count": 13,
   "id": "971179c3",
   "metadata": {},
   "outputs": [],
   "source": [
    "import sys"
   ]
  },
  {
   "cell_type": "code",
   "execution_count": 14,
   "id": "4b8ae517",
   "metadata": {},
   "outputs": [
    {
     "data": {
      "text/plain": [
       "9223372036854775807"
      ]
     },
     "execution_count": 14,
     "metadata": {},
     "output_type": "execute_result"
    }
   ],
   "source": [
    "sys.maxsize"
   ]
  },
  {
   "cell_type": "markdown",
   "id": "e296b2d4",
   "metadata": {},
   "source": [
    "파이썬은 위와 같은 수준의 최대 값을 가진다. 그러나 필요한 경우 메모리를 더 할당하여 더 큰 값을 사용할 수 있게 한다. 내부적으로 연산을 하므로 느리다."
   ]
  },
  {
   "cell_type": "markdown",
   "id": "7ccb5cde",
   "metadata": {},
   "source": [
    "파이썬의 숫자형은 4가지가 있다 : int float, bool, None\n",
    "\n",
    "### Int\n",
    "정수형 또한 4가지가 있다. 아래와 같다"
   ]
  },
  {
   "cell_type": "code",
   "execution_count": 15,
   "id": "b81cc25c",
   "metadata": {},
   "outputs": [
    {
     "data": {
      "text/plain": [
       "'0b1010'"
      ]
     },
     "execution_count": 15,
     "metadata": {},
     "output_type": "execute_result"
    }
   ],
   "source": [
    "bin(10)\n",
    "#따라서 0b30001010 이런것은 안된다."
   ]
  },
  {
   "cell_type": "code",
   "execution_count": 16,
   "id": "7cf1e632",
   "metadata": {},
   "outputs": [
    {
     "data": {
      "text/plain": [
       "'0o12'"
      ]
     },
     "execution_count": 16,
     "metadata": {},
     "output_type": "execute_result"
    }
   ],
   "source": [
    "oct(10)"
   ]
  },
  {
   "cell_type": "code",
   "execution_count": 17,
   "id": "95495250",
   "metadata": {},
   "outputs": [
    {
     "data": {
      "text/plain": [
       "'0xa'"
      ]
     },
     "execution_count": 17,
     "metadata": {},
     "output_type": "execute_result"
    }
   ],
   "source": [
    "hex(10)"
   ]
  },
  {
   "cell_type": "code",
   "execution_count": 18,
   "id": "baf056f7",
   "metadata": {},
   "outputs": [],
   "source": [
    "#default = 10진법"
   ]
  },
  {
   "cell_type": "markdown",
   "id": "3d752301",
   "metadata": {},
   "source": [
    "### Float\n",
    "머신러닝 딥러닝은 대부분 float32가 기본으로 되어있다."
   ]
  },
  {
   "cell_type": "code",
   "execution_count": 19,
   "id": "f58df226",
   "metadata": {},
   "outputs": [
    {
     "data": {
      "text/plain": [
       "0.30000000000000004"
      ]
     },
     "execution_count": 19,
     "metadata": {},
     "output_type": "execute_result"
    }
   ],
   "source": [
    "0.2 + 0.1"
   ]
  },
  {
   "cell_type": "code",
   "execution_count": 20,
   "id": "05e94c25",
   "metadata": {},
   "outputs": [
    {
     "data": {
      "text/plain": [
       "1.0"
      ]
     },
     "execution_count": 20,
     "metadata": {},
     "output_type": "execute_result"
    }
   ],
   "source": [
    "0.9 + 0.1"
   ]
  },
  {
   "cell_type": "code",
   "execution_count": 21,
   "id": "2ca4f9a4",
   "metadata": {},
   "outputs": [
    {
     "data": {
      "text/plain": [
       "False"
      ]
     },
     "execution_count": 21,
     "metadata": {},
     "output_type": "execute_result"
    }
   ],
   "source": [
    "0.2 + 0.1 == 0.3"
   ]
  },
  {
   "cell_type": "markdown",
   "id": "2b9e6017",
   "metadata": {},
   "source": [
    "공식문서 Tutorial 15장에 정확한 값을 구하는 방법이 나와있다. 그러나 정확하게 계산하려 하면 속도가 느려진다. 그러나 float 자체는 연산을 아주 빠르게 한다. 그러나 근사적으로 연산한다. 계산이 빠르므로, 딥러닝, 머신러닝영역에서 많이 사용한다."
   ]
  },
  {
   "cell_type": "code",
   "execution_count": 22,
   "id": "c30ee788",
   "metadata": {},
   "outputs": [
    {
     "data": {
      "text/plain": [
       "True"
      ]
     },
     "execution_count": 22,
     "metadata": {},
     "output_type": "execute_result"
    }
   ],
   "source": [
    "1e2 == 100"
   ]
  },
  {
   "cell_type": "code",
   "execution_count": 23,
   "id": "93e1ba25",
   "metadata": {},
   "outputs": [
    {
     "data": {
      "text/plain": [
       "float"
      ]
     },
     "execution_count": 23,
     "metadata": {},
     "output_type": "execute_result"
    }
   ],
   "source": [
    "type(1e2)"
   ]
  },
  {
   "cell_type": "code",
   "execution_count": 24,
   "id": "1bdd1bdf",
   "metadata": {},
   "outputs": [
    {
     "data": {
      "text/plain": [
       "int"
      ]
     },
     "execution_count": 24,
     "metadata": {},
     "output_type": "execute_result"
    }
   ],
   "source": [
    "type(100)"
   ]
  },
  {
   "cell_type": "markdown",
   "id": "d7dfd5df",
   "metadata": {},
   "source": [
    "위에 ==연산을 적용하면 True가 나온다. 내부적으로 같은 값을 표현하냐이다(equality) 이렇게 암시적, 묵시적 변환을 하는 것을 coercion이라고 한다.\n",
    "타입까지 검사하는 경우 is를 사용한다."
   ]
  },
  {
   "cell_type": "code",
   "execution_count": 25,
   "id": "3648427c",
   "metadata": {},
   "outputs": [
    {
     "data": {
      "text/plain": [
       "sys.float_info(max=1.7976931348623157e+308, max_exp=1024, max_10_exp=308, min=2.2250738585072014e-308, min_exp=-1021, min_10_exp=-307, dig=15, mant_dig=53, epsilon=2.220446049250313e-16, radix=2, rounds=1)"
      ]
     },
     "execution_count": 25,
     "metadata": {},
     "output_type": "execute_result"
    }
   ],
   "source": [
    "sys.float_info"
   ]
  },
  {
   "cell_type": "code",
   "execution_count": 26,
   "id": "7e79ad24",
   "metadata": {},
   "outputs": [],
   "source": [
    "a = float('inf')"
   ]
  },
  {
   "cell_type": "code",
   "execution_count": 27,
   "id": "6357db4e",
   "metadata": {},
   "outputs": [
    {
     "data": {
      "text/plain": [
       "inf"
      ]
     },
     "execution_count": 27,
     "metadata": {},
     "output_type": "execute_result"
    }
   ],
   "source": [
    "a"
   ]
  },
  {
   "cell_type": "code",
   "execution_count": 28,
   "id": "6c226626",
   "metadata": {},
   "outputs": [
    {
     "data": {
      "text/plain": [
       "True"
      ]
     },
     "execution_count": 28,
     "metadata": {},
     "output_type": "execute_result"
    }
   ],
   "source": [
    "a == a + 1"
   ]
  },
  {
   "cell_type": "markdown",
   "id": "02e3519c",
   "metadata": {},
   "source": [
    "파이썬은 무한대를 float을 사용해서 표현한다."
   ]
  },
  {
   "cell_type": "code",
   "execution_count": 29,
   "id": "28271701",
   "metadata": {},
   "outputs": [],
   "source": [
    "b = 1.7976931348623157e+309"
   ]
  },
  {
   "cell_type": "code",
   "execution_count": 30,
   "id": "41a51890",
   "metadata": {},
   "outputs": [
    {
     "data": {
      "text/plain": [
       "inf"
      ]
     },
     "execution_count": 30,
     "metadata": {},
     "output_type": "execute_result"
    }
   ],
   "source": [
    "b"
   ]
  },
  {
   "cell_type": "code",
   "execution_count": 31,
   "id": "f140b935",
   "metadata": {},
   "outputs": [],
   "source": [
    "c = 1.7976931348623157e+308"
   ]
  },
  {
   "cell_type": "code",
   "execution_count": 32,
   "id": "d99a721e",
   "metadata": {},
   "outputs": [
    {
     "data": {
      "text/plain": [
       "1.7976931348623157e+308"
      ]
     },
     "execution_count": 32,
     "metadata": {},
     "output_type": "execute_result"
    }
   ],
   "source": [
    "c"
   ]
  },
  {
   "cell_type": "code",
   "execution_count": 33,
   "id": "d8e8ea8e",
   "metadata": {},
   "outputs": [
    {
     "data": {
      "text/plain": [
       "nan"
      ]
     },
     "execution_count": 33,
     "metadata": {},
     "output_type": "execute_result"
    }
   ],
   "source": [
    "float('nan')"
   ]
  },
  {
   "cell_type": "markdown",
   "id": "7ff9a022",
   "metadata": {},
   "source": [
    "즉, 위와 같이 숫자가 아닌 객체도 float으로 표현한다."
   ]
  },
  {
   "cell_type": "markdown",
   "id": "297b1abe",
   "metadata": {},
   "source": [
    "### complex(복소수)"
   ]
  },
  {
   "cell_type": "code",
   "execution_count": 34,
   "id": "2cbf975d",
   "metadata": {},
   "outputs": [],
   "source": [
    "c = 1+3j"
   ]
  },
  {
   "cell_type": "code",
   "execution_count": 35,
   "id": "55d882e7",
   "metadata": {},
   "outputs": [
    {
     "data": {
      "text/plain": [
       "(-8+6j)"
      ]
     },
     "execution_count": 35,
     "metadata": {},
     "output_type": "execute_result"
    }
   ],
   "source": [
    "c * c"
   ]
  },
  {
   "cell_type": "markdown",
   "id": "e9a7bf09",
   "metadata": {},
   "source": [
    "### boolean"
   ]
  },
  {
   "cell_type": "code",
   "execution_count": 36,
   "id": "13616aa5",
   "metadata": {},
   "outputs": [
    {
     "data": {
      "text/plain": [
       "True"
      ]
     },
     "execution_count": 36,
     "metadata": {},
     "output_type": "execute_result"
    }
   ],
   "source": [
    "True"
   ]
  },
  {
   "cell_type": "code",
   "execution_count": 37,
   "id": "433716e4",
   "metadata": {},
   "outputs": [
    {
     "data": {
      "text/plain": [
       "False"
      ]
     },
     "execution_count": 37,
     "metadata": {},
     "output_type": "execute_result"
    }
   ],
   "source": [
    "False"
   ]
  },
  {
   "cell_type": "code",
   "execution_count": 38,
   "id": "2384364d",
   "metadata": {},
   "outputs": [
    {
     "data": {
      "text/plain": [
       "bool"
      ]
     },
     "execution_count": 38,
     "metadata": {},
     "output_type": "execute_result"
    }
   ],
   "source": [
    "type(True)"
   ]
  },
  {
   "cell_type": "code",
   "execution_count": 39,
   "id": "df86673b",
   "metadata": {},
   "outputs": [
    {
     "data": {
      "text/plain": [
       "True"
      ]
     },
     "execution_count": 39,
     "metadata": {},
     "output_type": "execute_result"
    }
   ],
   "source": [
    "issubclass(bool, int)"
   ]
  },
  {
   "cell_type": "code",
   "execution_count": 40,
   "id": "07c95671",
   "metadata": {},
   "outputs": [
    {
     "data": {
      "text/plain": [
       "'True'"
      ]
     },
     "execution_count": 40,
     "metadata": {},
     "output_type": "execute_result"
    }
   ],
   "source": [
    "str(True)"
   ]
  },
  {
   "cell_type": "code",
   "execution_count": 41,
   "id": "2e33f81d",
   "metadata": {},
   "outputs": [
    {
     "data": {
      "text/plain": [
       "2"
      ]
     },
     "execution_count": 41,
     "metadata": {},
     "output_type": "execute_result"
    }
   ],
   "source": [
    "True + True"
   ]
  },
  {
   "cell_type": "code",
   "execution_count": 42,
   "id": "caa1ab3f",
   "metadata": {},
   "outputs": [
    {
     "data": {
      "text/plain": [
       "False"
      ]
     },
     "execution_count": 42,
     "metadata": {},
     "output_type": "execute_result"
    }
   ],
   "source": [
    "2 == True"
   ]
  },
  {
   "cell_type": "code",
   "execution_count": 43,
   "id": "69e00b8b",
   "metadata": {},
   "outputs": [
    {
     "data": {
      "text/plain": [
       "(int,)"
      ]
     },
     "execution_count": 43,
     "metadata": {},
     "output_type": "execute_result"
    }
   ],
   "source": [
    "True.__class__.__bases__"
   ]
  },
  {
   "cell_type": "code",
   "execution_count": 44,
   "id": "b276bc26",
   "metadata": {},
   "outputs": [],
   "source": [
    "import numpy as np"
   ]
  },
  {
   "cell_type": "code",
   "execution_count": 45,
   "id": "37bcee1b",
   "metadata": {},
   "outputs": [
    {
     "data": {
      "text/plain": [
       "{'int': [numpy.int8, numpy.int16, numpy.int32, numpy.int64],\n",
       " 'uint': [numpy.uint8, numpy.uint16, numpy.uint32, numpy.uint64],\n",
       " 'float': [numpy.float16, numpy.float32, numpy.float64],\n",
       " 'complex': [numpy.complex64, numpy.complex128],\n",
       " 'others': [bool, object, bytes, str, numpy.void]}"
      ]
     },
     "execution_count": 45,
     "metadata": {},
     "output_type": "execute_result"
    }
   ],
   "source": [
    "np.sctypes"
   ]
  },
  {
   "cell_type": "code",
   "execution_count": 46,
   "id": "41c193b1",
   "metadata": {},
   "outputs": [
    {
     "data": {
      "text/plain": [
       "100000000"
      ]
     },
     "execution_count": 46,
     "metadata": {},
     "output_type": "execute_result"
    }
   ],
   "source": [
    "100_000_000"
   ]
  },
  {
   "cell_type": "markdown",
   "id": "ee2aaefd",
   "metadata": {},
   "source": [
    "숫자형은 atomic하다. 즉, 쪼갤 수가 없다. 파이썬 3.6부터 사람 관점에서 읽기 편하게 하기 위해 숫자 사이에 언더바를 집어넣을 수 있다.\n",
    "atomic과 반대되는 개념이 container이다. 하나하나의 원소로 쪼갤 수 있는 요소를 말한다."
   ]
  },
  {
   "cell_type": "markdown",
   "id": "8f482f3c",
   "metadata": {},
   "source": [
    "## atom <> container\n",
    "### container를 분류하는 법\n",
    "- homo / hetero\n",
    "homo type : 문자열, range, numpy, tensor, array\n",
    "hetero : \n",
    "\n",
    "-sequence / non-sequence\n",
    "\n",
    "-mutable / immutable\n",
    "\n",
    "-iterable / non-iterable(보통 sequence 개념에 포함시킬 수 있다)"
   ]
  },
  {
   "cell_type": "code",
   "execution_count": 47,
   "id": "f4cab8be",
   "metadata": {},
   "outputs": [
    {
     "data": {
      "text/plain": [
       "array(['1', '1'], dtype='<U11')"
      ]
     },
     "execution_count": 47,
     "metadata": {},
     "output_type": "execute_result"
    }
   ],
   "source": [
    "np.array([1,'1'])"
   ]
  },
  {
   "cell_type": "markdown",
   "id": "1249bccf",
   "metadata": {},
   "source": [
    "### 문자열"
   ]
  },
  {
   "cell_type": "markdown",
   "id": "477c624d",
   "metadata": {},
   "source": [
    "문자는 순서가 달라지면 의미가 달라지는, 순서가 중요한 sequence 데이터 타입이다.\n",
    "\n",
    "str,<br>\n",
    "bytes : immutable<br>\n",
    "bytearray : mutable<br>\n",
    "(memoryview),"
   ]
  },
  {
   "cell_type": "code",
   "execution_count": 48,
   "id": "2c602d51",
   "metadata": {},
   "outputs": [],
   "source": [
    "a = '문근영'"
   ]
  },
  {
   "cell_type": "code",
   "execution_count": 49,
   "id": "3fc39173",
   "metadata": {},
   "outputs": [],
   "source": [
    "a = u'문근영'"
   ]
  },
  {
   "cell_type": "markdown",
   "id": "e8012c7e",
   "metadata": {},
   "source": [
    "파이썬은 기본적으로 유니코드 문자열이다."
   ]
  },
  {
   "cell_type": "code",
   "execution_count": 50,
   "id": "b957dfba",
   "metadata": {},
   "outputs": [
    {
     "ename": "SyntaxError",
     "evalue": "bytes can only contain ASCII literal characters (461317104.py, line 1)",
     "output_type": "error",
     "traceback": [
      "\u001b[1;36m  Cell \u001b[1;32mIn[50], line 1\u001b[1;36m\u001b[0m\n\u001b[1;33m    b = b'문근영'\u001b[0m\n\u001b[1;37m        ^\u001b[0m\n\u001b[1;31mSyntaxError\u001b[0m\u001b[1;31m:\u001b[0m bytes can only contain ASCII literal characters\n"
     ]
    }
   ],
   "source": [
    "b = b'문근영'"
   ]
  },
  {
   "cell_type": "code",
   "execution_count": 51,
   "id": "055018dc",
   "metadata": {},
   "outputs": [],
   "source": [
    "b = b'bytetype'"
   ]
  },
  {
   "cell_type": "code",
   "execution_count": 52,
   "id": "aac40036",
   "metadata": {},
   "outputs": [],
   "source": [
    "c = r'\\t\\rmypage'"
   ]
  },
  {
   "cell_type": "code",
   "execution_count": 53,
   "id": "386226c5",
   "metadata": {},
   "outputs": [
    {
     "name": "stdout",
     "output_type": "stream",
     "text": [
      "\\t\\rmypage\n"
     ]
    }
   ],
   "source": [
    "print(c)"
   ]
  },
  {
   "cell_type": "code",
   "execution_count": 54,
   "id": "70a8454a",
   "metadata": {},
   "outputs": [],
   "source": [
    "cc = '\\t\\raaa'"
   ]
  },
  {
   "cell_type": "code",
   "execution_count": 55,
   "id": "5fd4b272",
   "metadata": {},
   "outputs": [
    {
     "name": "stdout",
     "output_type": "stream",
     "text": [
      "\t\r",
      "aaa\n"
     ]
    }
   ],
   "source": [
    "print(cc)"
   ]
  },
  {
   "cell_type": "code",
   "execution_count": 56,
   "id": "04e59832",
   "metadata": {},
   "outputs": [
    {
     "data": {
      "text/plain": [
       "'1'"
      ]
     },
     "execution_count": 56,
     "metadata": {},
     "output_type": "execute_result"
    }
   ],
   "source": [
    "d = 1\n",
    "f'{d}'"
   ]
  },
  {
   "cell_type": "code",
   "execution_count": 57,
   "id": "1e04c1b3",
   "metadata": {},
   "outputs": [
    {
     "data": {
      "text/plain": [
       "'문'"
      ]
     },
     "execution_count": 57,
     "metadata": {},
     "output_type": "execute_result"
    }
   ],
   "source": [
    "a[0]"
   ]
  },
  {
   "cell_type": "code",
   "execution_count": 58,
   "id": "f4930550",
   "metadata": {},
   "outputs": [
    {
     "data": {
      "text/plain": [
       "'문근'"
      ]
     },
     "execution_count": 58,
     "metadata": {},
     "output_type": "execute_result"
    }
   ],
   "source": [
    "a[:2]"
   ]
  },
  {
   "cell_type": "markdown",
   "id": "2af1083e",
   "metadata": {},
   "source": [
    "__getitem__\n",
    "__len__\n",
    "위 두가지를 가지고 있으면 sequence 데이터 타입으로 볼 수 있다."
   ]
  },
  {
   "cell_type": "markdown",
   "id": "29d6ecc1",
   "metadata": {},
   "source": [
    "### set"
   ]
  },
  {
   "cell_type": "code",
   "execution_count": 59,
   "id": "62b4564a",
   "metadata": {},
   "outputs": [],
   "source": [
    "a = {1, 2 ,3}"
   ]
  },
  {
   "cell_type": "code",
   "execution_count": 60,
   "id": "bc1ec6aa",
   "metadata": {},
   "outputs": [
    {
     "ename": "TypeError",
     "evalue": "'set' object is not subscriptable",
     "output_type": "error",
     "traceback": [
      "\u001b[1;31m---------------------------------------------------------------------------\u001b[0m",
      "\u001b[1;31mTypeError\u001b[0m                                 Traceback (most recent call last)",
      "Cell \u001b[1;32mIn[60], line 1\u001b[0m\n\u001b[1;32m----> 1\u001b[0m a[\u001b[38;5;241m0\u001b[39m]\n",
      "\u001b[1;31mTypeError\u001b[0m: 'set' object is not subscriptable"
     ]
    }
   ],
   "source": [
    "a[0]"
   ]
  },
  {
   "cell_type": "markdown",
   "id": "bac09c9b",
   "metadata": {},
   "source": [
    "셋은 순서가 없는 집합(nonsequence)으로 인덱싱과 슬라이싱 안된다."
   ]
  },
  {
   "cell_type": "markdown",
   "id": "bc889eeb",
   "metadata": {},
   "source": [
    "### List, Tuple"
   ]
  },
  {
   "cell_type": "code",
   "execution_count": 61,
   "id": "23b89fe1",
   "metadata": {},
   "outputs": [],
   "source": [
    "c = [1, '2']"
   ]
  },
  {
   "cell_type": "code",
   "execution_count": 62,
   "id": "3a5c604f",
   "metadata": {},
   "outputs": [
    {
     "data": {
      "text/plain": [
       "[1, '2']"
      ]
     },
     "execution_count": 62,
     "metadata": {},
     "output_type": "execute_result"
    }
   ],
   "source": [
    "c"
   ]
  },
  {
   "cell_type": "code",
   "execution_count": 123,
   "id": "82d5efb0",
   "metadata": {},
   "outputs": [
    {
     "data": {
      "text/plain": [
       "1"
      ]
     },
     "execution_count": 123,
     "metadata": {},
     "output_type": "execute_result"
    }
   ],
   "source": [
    "c[0]"
   ]
  },
  {
   "cell_type": "markdown",
   "id": "6a6f2420",
   "metadata": {},
   "source": [
    "hetero인 sequence container"
   ]
  },
  {
   "cell_type": "markdown",
   "id": "8ada2263",
   "metadata": {},
   "source": [
    "## Mutable / Immutable\n",
    "잘 사용하면 편하고, 잘못사용하면 문제가 많음\n",
    "\n",
    "bytes : immutable<br>\n",
    "bytearry: mutable\n",
    "\n",
    "list : mutable<br>\n",
    "tuple : immutable\n",
    "\n",
    "set : mutbale<br>\n",
    "frozenset : immutable\n",
    "\n",
    "tensor : immutable<br>\n",
    "numpy : mutable"
   ]
  },
  {
   "cell_type": "code",
   "execution_count": 63,
   "id": "0af8f147",
   "metadata": {},
   "outputs": [],
   "source": [
    "a = { 1, '1'}\n",
    "#set : 순서와 중복이 없다.\n",
    "# 우리가 임의로 순서를 정할 수 없다."
   ]
  },
  {
   "cell_type": "code",
   "execution_count": 64,
   "id": "88bb139e",
   "metadata": {},
   "outputs": [],
   "source": [
    "#a = {1,2,1,3,5,1,2,2,3,4,5,1}\n",
    "a = {1,2,1,3,5,1,2,2,3,4,5,1}"
   ]
  },
  {
   "cell_type": "code",
   "execution_count": 65,
   "id": "cfdc3861",
   "metadata": {},
   "outputs": [
    {
     "data": {
      "text/plain": [
       "{1, 2, 3, 4, 5}"
      ]
     },
     "execution_count": 65,
     "metadata": {},
     "output_type": "execute_result"
    }
   ],
   "source": [
    "a"
   ]
  },
  {
   "cell_type": "code",
   "execution_count": 66,
   "id": "01d5db58",
   "metadata": {},
   "outputs": [],
   "source": [
    "a = 1"
   ]
  },
  {
   "cell_type": "code",
   "execution_count": 67,
   "id": "cd6e515c",
   "metadata": {},
   "outputs": [],
   "source": [
    "a = b = 1"
   ]
  },
  {
   "cell_type": "code",
   "execution_count": 68,
   "id": "f08adf03",
   "metadata": {},
   "outputs": [
    {
     "data": {
      "text/plain": [
       "1"
      ]
     },
     "execution_count": 68,
     "metadata": {},
     "output_type": "execute_result"
    }
   ],
   "source": [
    "b"
   ]
  },
  {
   "cell_type": "code",
   "execution_count": 69,
   "id": "d2b60b6f",
   "metadata": {},
   "outputs": [],
   "source": [
    "c = d = [1,2,3]"
   ]
  },
  {
   "cell_type": "code",
   "execution_count": 70,
   "id": "7769d5c9",
   "metadata": {},
   "outputs": [],
   "source": [
    "c[0] = 100"
   ]
  },
  {
   "cell_type": "code",
   "execution_count": 71,
   "id": "6f702e92",
   "metadata": {
    "scrolled": true
   },
   "outputs": [
    {
     "data": {
      "text/plain": [
       "[100, 2, 3]"
      ]
     },
     "execution_count": 71,
     "metadata": {},
     "output_type": "execute_result"
    }
   ],
   "source": [
    "c"
   ]
  },
  {
   "cell_type": "code",
   "execution_count": 72,
   "id": "90bb1c0d",
   "metadata": {},
   "outputs": [],
   "source": [
    "x = 1,2,3"
   ]
  },
  {
   "cell_type": "code",
   "execution_count": 73,
   "id": "042ac540",
   "metadata": {},
   "outputs": [
    {
     "data": {
      "text/plain": [
       "(1, 2, 3)"
      ]
     },
     "execution_count": 73,
     "metadata": {},
     "output_type": "execute_result"
    }
   ],
   "source": [
    "x\n",
    "#immutable이 기본값이다."
   ]
  },
  {
   "cell_type": "code",
   "execution_count": 74,
   "id": "f6084c5b",
   "metadata": {},
   "outputs": [],
   "source": [
    "x, *y = 1,2,3\n",
    "#y에 들어가는 나머지가 몇개가 될 수 있으므로, 유연하게 mutable을 사용한다."
   ]
  },
  {
   "cell_type": "code",
   "execution_count": 75,
   "id": "ba0eedb1",
   "metadata": {},
   "outputs": [
    {
     "data": {
      "text/plain": [
       "1"
      ]
     },
     "execution_count": 75,
     "metadata": {},
     "output_type": "execute_result"
    }
   ],
   "source": [
    "x"
   ]
  },
  {
   "cell_type": "code",
   "execution_count": 76,
   "id": "05968f98",
   "metadata": {},
   "outputs": [
    {
     "data": {
      "text/plain": [
       "[2, 3]"
      ]
     },
     "execution_count": 76,
     "metadata": {},
     "output_type": "execute_result"
    }
   ],
   "source": [
    "y"
   ]
  },
  {
   "cell_type": "code",
   "execution_count": 77,
   "id": "bb9bec14",
   "metadata": {},
   "outputs": [],
   "source": [
    "*x, y = 1, 2, 3"
   ]
  },
  {
   "cell_type": "code",
   "execution_count": 78,
   "id": "f04e6934",
   "metadata": {},
   "outputs": [
    {
     "data": {
      "text/plain": [
       "[1, 2]"
      ]
     },
     "execution_count": 78,
     "metadata": {},
     "output_type": "execute_result"
    }
   ],
   "source": [
    "x"
   ]
  },
  {
   "cell_type": "code",
   "execution_count": 79,
   "id": "e1a333f3",
   "metadata": {},
   "outputs": [
    {
     "data": {
      "text/plain": [
       "3"
      ]
     },
     "execution_count": 79,
     "metadata": {},
     "output_type": "execute_result"
    }
   ],
   "source": [
    "y"
   ]
  },
  {
   "cell_type": "code",
   "execution_count": 80,
   "id": "8ab32f2b",
   "metadata": {},
   "outputs": [],
   "source": [
    "a = 1"
   ]
  },
  {
   "cell_type": "code",
   "execution_count": 81,
   "id": "c3608760",
   "metadata": {},
   "outputs": [],
   "source": [
    "a += 1"
   ]
  },
  {
   "cell_type": "code",
   "execution_count": 149,
   "id": "29217ca1",
   "metadata": {},
   "outputs": [
    {
     "data": {
      "text/plain": [
       "2"
      ]
     },
     "execution_count": 149,
     "metadata": {},
     "output_type": "execute_result"
    }
   ],
   "source": [
    "a"
   ]
  },
  {
   "cell_type": "code",
   "execution_count": 152,
   "id": "9cc9f0c3",
   "metadata": {},
   "outputs": [
    {
     "data": {
      "text/plain": [
       "2"
      ]
     },
     "execution_count": 152,
     "metadata": {},
     "output_type": "execute_result"
    }
   ],
   "source": [
    "++a\n",
    "#++과 같은 연산자가 없다."
   ]
  },
  {
   "cell_type": "code",
   "execution_count": 153,
   "id": "1c2c9129",
   "metadata": {},
   "outputs": [
    {
     "ename": "SyntaxError",
     "evalue": "invalid syntax (1277751513.py, line 1)",
     "output_type": "error",
     "traceback": [
      "\u001b[1;36m  Input \u001b[1;32mIn [153]\u001b[1;36m\u001b[0m\n\u001b[1;33m    a++\u001b[0m\n\u001b[1;37m       ^\u001b[0m\n\u001b[1;31mSyntaxError\u001b[0m\u001b[1;31m:\u001b[0m invalid syntax\n"
     ]
    }
   ],
   "source": [
    "a++"
   ]
  },
  {
   "cell_type": "code",
   "execution_count": 82,
   "id": "18943906",
   "metadata": {},
   "outputs": [],
   "source": [
    "a = [1,2,3]"
   ]
  },
  {
   "cell_type": "code",
   "execution_count": 83,
   "id": "bcb9f929",
   "metadata": {},
   "outputs": [
    {
     "data": {
      "text/plain": [
       "1736389091008"
      ]
     },
     "execution_count": 83,
     "metadata": {},
     "output_type": "execute_result"
    }
   ],
   "source": [
    "id(a)"
   ]
  },
  {
   "cell_type": "code",
   "execution_count": 84,
   "id": "27abe6f4",
   "metadata": {},
   "outputs": [],
   "source": [
    "a.append(4) #inplace 테크닉이라고 한다. 그 자리에서 재할당 없이 바로."
   ]
  },
  {
   "cell_type": "code",
   "execution_count": 85,
   "id": "716d976d",
   "metadata": {},
   "outputs": [
    {
     "data": {
      "text/plain": [
       "1736389091008"
      ]
     },
     "execution_count": 85,
     "metadata": {},
     "output_type": "execute_result"
    }
   ],
   "source": [
    "id(a)"
   ]
  },
  {
   "cell_type": "markdown",
   "id": "5b105c6a",
   "metadata": {},
   "source": [
    "재할당 또는 rebind없이 값을 변경할 수 있는 경우를 mutable이라고 한다.<br>\n",
    "이미 선언된 이름의 값을 변경하는 것 = 재할당(메모리 값이 변경됨)\n",
    "판다스에서 값 변경 후 새로 할당해주어야 하는것은, immutable을 사용하기 때문인데, drop(columns='excol', inplace)할 경우, mutable하게 적용된다.\n",
    "따라서 mutable은 편리하지만 실수 발생 가능성이 큰데, 이에 따라 텐서플로우에서는 텐서를 immutable로 만들었다."
   ]
  },
  {
   "cell_type": "code",
   "execution_count": 86,
   "id": "968d31e8",
   "metadata": {},
   "outputs": [],
   "source": [
    "#뮤터블의 종류\n",
    "a = [1,2,3]"
   ]
  },
  {
   "cell_type": "code",
   "execution_count": 87,
   "id": "b2958276",
   "metadata": {},
   "outputs": [],
   "source": [
    "a.append(4) #return값은 없지만 자신은 변경되는 경우"
   ]
  },
  {
   "cell_type": "code",
   "execution_count": 88,
   "id": "e392a98f",
   "metadata": {},
   "outputs": [
    {
     "data": {
      "text/plain": [
       "[1, 2, 3, 4]"
      ]
     },
     "execution_count": 88,
     "metadata": {},
     "output_type": "execute_result"
    }
   ],
   "source": [
    "a"
   ]
  },
  {
   "cell_type": "code",
   "execution_count": 89,
   "id": "a0e7204f",
   "metadata": {},
   "outputs": [
    {
     "data": {
      "text/plain": [
       "4"
      ]
     },
     "execution_count": 89,
     "metadata": {},
     "output_type": "execute_result"
    }
   ],
   "source": [
    "a.pop() #return값도 있고 자신도 변경되는 경우"
   ]
  },
  {
   "cell_type": "code",
   "execution_count": 90,
   "id": "3ae97eae",
   "metadata": {},
   "outputs": [
    {
     "data": {
      "text/plain": [
       "[1, 2, 3]"
      ]
     },
     "execution_count": 90,
     "metadata": {},
     "output_type": "execute_result"
    }
   ],
   "source": [
    "a"
   ]
  },
  {
   "cell_type": "code",
   "execution_count": 91,
   "id": "7056c19b",
   "metadata": {},
   "outputs": [
    {
     "data": {
      "text/plain": [
       "0"
      ]
     },
     "execution_count": 91,
     "metadata": {},
     "output_type": "execute_result"
    }
   ],
   "source": [
    "a.index(1) #return값은 있지만 자신의 값은 변경 안됨"
   ]
  },
  {
   "cell_type": "markdown",
   "id": "c4ff73a1",
   "metadata": {},
   "source": [
    "MATLAB에는 뮤터블이 없었는데, 이에 숙련되었던 Numpy 제작자는 뮤터블을 잘 썼는데, 다른사람들은 골치아파하기 시작했다. 그래서 텐서플로우에서는 없애버렸다."
   ]
  },
  {
   "cell_type": "markdown",
   "id": "93cee3ba",
   "metadata": {},
   "source": [
    "### set"
   ]
  },
  {
   "cell_type": "markdown",
   "id": "3e8d8726",
   "metadata": {},
   "source": [
    "set 안에 들어가는 원소들은 Hashable해야한다. 즉 중복을 허용하지 않아야 한다."
   ]
  },
  {
   "cell_type": "code",
   "execution_count": 92,
   "id": "9a136164",
   "metadata": {},
   "outputs": [
    {
     "ename": "TypeError",
     "evalue": "unhashable type: 'list'",
     "output_type": "error",
     "traceback": [
      "\u001b[1;31m---------------------------------------------------------------------------\u001b[0m",
      "\u001b[1;31mTypeError\u001b[0m                                 Traceback (most recent call last)",
      "Cell \u001b[1;32mIn[92], line 1\u001b[0m\n\u001b[1;32m----> 1\u001b[0m a \u001b[38;5;241m=\u001b[39m {[\u001b[38;5;241m1\u001b[39m]}\n",
      "\u001b[1;31mTypeError\u001b[0m: unhashable type: 'list'"
     ]
    }
   ],
   "source": [
    "a = {[1]}"
   ]
  },
  {
   "cell_type": "markdown",
   "id": "49d01759",
   "metadata": {},
   "source": [
    "리스트는 같은 것으로 변할 수 있으므로, 넣을 수 없다."
   ]
  },
  {
   "cell_type": "code",
   "execution_count": 93,
   "id": "8172470b",
   "metadata": {},
   "outputs": [
    {
     "ename": "TypeError",
     "evalue": "unhashable type: 'list'",
     "output_type": "error",
     "traceback": [
      "\u001b[1;31m---------------------------------------------------------------------------\u001b[0m",
      "\u001b[1;31mTypeError\u001b[0m                                 Traceback (most recent call last)",
      "Cell \u001b[1;32mIn[93], line 1\u001b[0m\n\u001b[1;32m----> 1\u001b[0m a \u001b[38;5;241m=\u001b[39m {(\u001b[38;5;241m1\u001b[39m,[\u001b[38;5;241m2\u001b[39m,\u001b[38;5;241m3\u001b[39m])}\n",
      "\u001b[1;31mTypeError\u001b[0m: unhashable type: 'list'"
     ]
    }
   ],
   "source": [
    "a = {(1,[2,3])}"
   ]
  },
  {
   "cell_type": "code",
   "execution_count": 94,
   "id": "59843f4a",
   "metadata": {},
   "outputs": [],
   "source": [
    "a = {(1, 2)}"
   ]
  },
  {
   "cell_type": "code",
   "execution_count": 95,
   "id": "3148e9cb",
   "metadata": {},
   "outputs": [],
   "source": [
    "b = {}"
   ]
  },
  {
   "cell_type": "code",
   "execution_count": 96,
   "id": "9d60fa2b",
   "metadata": {},
   "outputs": [
    {
     "data": {
      "text/plain": [
       "dict"
      ]
     },
     "execution_count": 96,
     "metadata": {},
     "output_type": "execute_result"
    }
   ],
   "source": [
    "type(b)"
   ]
  },
  {
   "cell_type": "markdown",
   "id": "937f5f31",
   "metadata": {},
   "source": [
    "dictionary의 \"키 형태\"가 set이다. "
   ]
  },
  {
   "cell_type": "code",
   "execution_count": 97,
   "id": "a4c0908b",
   "metadata": {},
   "outputs": [],
   "source": [
    "a = {1:2}"
   ]
  },
  {
   "cell_type": "code",
   "execution_count": 98,
   "id": "a03a774d",
   "metadata": {},
   "outputs": [
    {
     "ename": "TypeError",
     "evalue": "unhashable type: 'list'",
     "output_type": "error",
     "traceback": [
      "\u001b[1;31m---------------------------------------------------------------------------\u001b[0m",
      "\u001b[1;31mTypeError\u001b[0m                                 Traceback (most recent call last)",
      "Cell \u001b[1;32mIn[98], line 1\u001b[0m\n\u001b[1;32m----> 1\u001b[0m a \u001b[38;5;241m=\u001b[39m {[\u001b[38;5;241m1\u001b[39m]:\u001b[38;5;241m2\u001b[39m}\n",
      "\u001b[1;31mTypeError\u001b[0m: unhashable type: 'list'"
     ]
    }
   ],
   "source": [
    "a = {[1]:2}"
   ]
  },
  {
   "cell_type": "markdown",
   "id": "4a554762",
   "metadata": {},
   "source": [
    "## Expression - Operator"
   ]
  },
  {
   "cell_type": "markdown",
   "id": "db59cb96",
   "metadata": {},
   "source": [
    "여러 값을 하나의 평가값으로 만드는 것을 reduce라고 한다. reduce되기 위해서 중간중간에 연산한다.<br>"
   ]
  },
  {
   "cell_type": "code",
   "execution_count": 99,
   "id": "25b2551c",
   "metadata": {},
   "outputs": [],
   "source": [
    "a = 1 + 1"
   ]
  },
  {
   "cell_type": "code",
   "execution_count": 100,
   "id": "ed82f117",
   "metadata": {},
   "outputs": [
    {
     "data": {
      "text/plain": [
       "[1, 2, 3, 4, 5, 6]"
      ]
     },
     "execution_count": 100,
     "metadata": {},
     "output_type": "execute_result"
    }
   ],
   "source": [
    "[1,2,3,] + [4,5,6]"
   ]
  },
  {
   "cell_type": "code",
   "execution_count": 101,
   "id": "b5aac930",
   "metadata": {},
   "outputs": [
    {
     "data": {
      "text/plain": [
       "'abcabsd'"
      ]
     },
     "execution_count": 101,
     "metadata": {},
     "output_type": "execute_result"
    }
   ],
   "source": [
    "'abc' + 'absd'"
   ]
  },
  {
   "cell_type": "code",
   "execution_count": 102,
   "id": "265851e4",
   "metadata": {},
   "outputs": [
    {
     "data": {
      "text/plain": [
       "'abcabcabc'"
      ]
     },
     "execution_count": 102,
     "metadata": {},
     "output_type": "execute_result"
    }
   ],
   "source": [
    "3 * 'abc'"
   ]
  },
  {
   "cell_type": "code",
   "execution_count": 103,
   "id": "c430a0f7",
   "metadata": {},
   "outputs": [
    {
     "data": {
      "text/plain": [
       "[1, 3, 4, 1, 3, 4, 1, 3, 4]"
      ]
     },
     "execution_count": 103,
     "metadata": {},
     "output_type": "execute_result"
    }
   ],
   "source": [
    "3 * [1, 3, 4]"
   ]
  },
  {
   "cell_type": "code",
   "execution_count": 109,
   "id": "61685d68",
   "metadata": {},
   "outputs": [
    {
     "data": {
      "text/plain": [
       "5"
      ]
     },
     "execution_count": 109,
     "metadata": {},
     "output_type": "execute_result"
    }
   ],
   "source": [
    "16 // 3 #몫"
   ]
  },
  {
   "cell_type": "code",
   "execution_count": 105,
   "id": "6741da93",
   "metadata": {},
   "outputs": [
    {
     "data": {
      "text/plain": [
       "1"
      ]
     },
     "execution_count": 105,
     "metadata": {},
     "output_type": "execute_result"
    }
   ],
   "source": [
    "16 % 3"
   ]
  },
  {
   "cell_type": "code",
   "execution_count": 106,
   "id": "86726e88",
   "metadata": {},
   "outputs": [
    {
     "data": {
      "text/plain": [
       "5.333333333333333"
      ]
     },
     "execution_count": 106,
     "metadata": {},
     "output_type": "execute_result"
    }
   ],
   "source": [
    "16 / 3"
   ]
  },
  {
   "cell_type": "code",
   "execution_count": 107,
   "id": "2f54f81b",
   "metadata": {},
   "outputs": [
    {
     "data": {
      "text/plain": [
       "-6"
      ]
     },
     "execution_count": 107,
     "metadata": {},
     "output_type": "execute_result"
    }
   ],
   "source": [
    "16 // -3"
   ]
  },
  {
   "cell_type": "code",
   "execution_count": 108,
   "id": "07dc7762",
   "metadata": {},
   "outputs": [
    {
     "data": {
      "text/plain": [
       "-2"
      ]
     },
     "execution_count": 108,
     "metadata": {},
     "output_type": "execute_result"
    }
   ],
   "source": [
    "16 % -3"
   ]
  },
  {
   "cell_type": "markdown",
   "id": "7cd0494f",
   "metadata": {},
   "source": [
    "상용로그에서 정수부와 소수부와 나눴던것 같이, -6 + 0.6666666같이 연산하기 때문에 달라진다."
   ]
  },
  {
   "cell_type": "code",
   "execution_count": 190,
   "id": "72a87f18",
   "metadata": {},
   "outputs": [
    {
     "data": {
      "text/plain": [
       "-6"
      ]
     },
     "execution_count": 190,
     "metadata": {},
     "output_type": "execute_result"
    }
   ],
   "source": [
    "-16 // 3"
   ]
  },
  {
   "cell_type": "code",
   "execution_count": 191,
   "id": "5e6e11c6",
   "metadata": {},
   "outputs": [
    {
     "data": {
      "text/plain": [
       "2"
      ]
     },
     "execution_count": 191,
     "metadata": {},
     "output_type": "execute_result"
    }
   ],
   "source": [
    "-16 % 3"
   ]
  },
  {
   "cell_type": "code",
   "execution_count": 194,
   "id": "013ec224",
   "metadata": {},
   "outputs": [
    {
     "name": "stdout",
     "output_type": "stream",
     "text": [
      "10.9 ns ± 0.579 ns per loop (mean ± std. dev. of 7 runs, 100,000,000 loops each)\n"
     ]
    }
   ],
   "source": [
    "%timeit 2*2*2"
   ]
  },
  {
   "cell_type": "code",
   "execution_count": 195,
   "id": "2d243a09",
   "metadata": {},
   "outputs": [
    {
     "name": "stdout",
     "output_type": "stream",
     "text": [
      "10.2 ns ± 0.446 ns per loop (mean ± std. dev. of 7 runs, 100,000,000 loops each)\n"
     ]
    }
   ],
   "source": [
    "%timeit 2**3"
   ]
  },
  {
   "cell_type": "code",
   "execution_count": 196,
   "id": "46321c9c",
   "metadata": {},
   "outputs": [
    {
     "name": "stdout",
     "output_type": "stream",
     "text": [
      "10.6 ns ± 0.32 ns per loop (mean ± std. dev. of 7 runs, 100,000,000 loops each)\n"
     ]
    }
   ],
   "source": [
    "%timeit 4*4*4"
   ]
  },
  {
   "cell_type": "code",
   "execution_count": 197,
   "id": "a96f6e8a",
   "metadata": {},
   "outputs": [
    {
     "name": "stdout",
     "output_type": "stream",
     "text": [
      "10.5 ns ± 0.535 ns per loop (mean ± std. dev. of 7 runs, 100,000,000 loops each)\n"
     ]
    }
   ],
   "source": [
    "%timeit 4**3"
   ]
  },
  {
   "cell_type": "markdown",
   "id": "15387854",
   "metadata": {},
   "source": [
    "openCV와 같이 처리에 민감한 영역에서는, 하드웨어(GPU, CPU)에서 내부적인 처리가 다르다. 되도록 제곱 쓰지 말고 곱하기 여러번 하라고 할 때가 있다."
   ]
  },
  {
   "cell_type": "code",
   "execution_count": 198,
   "id": "e5ce3393",
   "metadata": {},
   "outputs": [],
   "source": [
    "x = 1"
   ]
  },
  {
   "cell_type": "code",
   "execution_count": 117,
   "id": "f9f7398b",
   "metadata": {},
   "outputs": [
    {
     "data": {
      "text/plain": [
       "['__new__',\n",
       " '__repr__',\n",
       " '__hash__',\n",
       " '__getattribute__',\n",
       " '__lt__',\n",
       " '__le__',\n",
       " '__eq__',\n",
       " '__ne__',\n",
       " '__gt__',\n",
       " '__ge__',\n",
       " '__iter__',\n",
       " '__init__',\n",
       " '__len__',\n",
       " '__getitem__',\n",
       " '__setitem__',\n",
       " '__delitem__',\n",
       " '__add__',\n",
       " '__mul__',\n",
       " '__rmul__',\n",
       " '__contains__',\n",
       " '__iadd__',\n",
       " '__imul__',\n",
       " '__reversed__',\n",
       " '__sizeof__',\n",
       " 'clear',\n",
       " 'copy',\n",
       " 'append',\n",
       " 'insert',\n",
       " 'extend',\n",
       " 'pop',\n",
       " 'remove',\n",
       " 'index',\n",
       " 'count',\n",
       " 'reverse',\n",
       " 'sort',\n",
       " '__class_getitem__',\n",
       " '__doc__',\n",
       " '__str__',\n",
       " '__setattr__',\n",
       " '__delattr__',\n",
       " '__reduce_ex__',\n",
       " '__reduce__',\n",
       " '__getstate__',\n",
       " '__subclasshook__',\n",
       " '__init_subclass__',\n",
       " '__format__',\n",
       " '__dir__',\n",
       " '__class__']"
      ]
     },
     "execution_count": 117,
     "metadata": {},
     "output_type": "execute_result"
    }
   ],
   "source": [
    "x.__dir__()"
   ]
  },
  {
   "cell_type": "code",
   "execution_count": 118,
   "id": "b60f45dc",
   "metadata": {},
   "outputs": [
    {
     "ename": "SyntaxError",
     "evalue": "invalid decimal literal (651624437.py, line 1)",
     "output_type": "error",
     "traceback": [
      "\u001b[1;36m  Cell \u001b[1;32mIn[118], line 1\u001b[1;36m\u001b[0m\n\u001b[1;33m    1.__dir__() #.이 있어 float으로 인식해서 문제가 된다.\u001b[0m\n\u001b[1;37m     ^\u001b[0m\n\u001b[1;31mSyntaxError\u001b[0m\u001b[1;31m:\u001b[0m invalid decimal literal\n"
     ]
    }
   ],
   "source": [
    "1.__dir__() #.이 있어 float으로 인식해서 문제가 된다."
   ]
  },
  {
   "cell_type": "code",
   "execution_count": 119,
   "id": "ec70f83d",
   "metadata": {},
   "outputs": [
    {
     "data": {
      "text/plain": [
       "['__abs__',\n",
       " '__add__',\n",
       " '__and__',\n",
       " '__bool__',\n",
       " '__ceil__',\n",
       " '__class__',\n",
       " '__delattr__',\n",
       " '__dir__',\n",
       " '__divmod__',\n",
       " '__doc__',\n",
       " '__eq__',\n",
       " '__float__',\n",
       " '__floor__',\n",
       " '__floordiv__',\n",
       " '__format__',\n",
       " '__ge__',\n",
       " '__getattribute__',\n",
       " '__getnewargs__',\n",
       " '__getstate__',\n",
       " '__gt__',\n",
       " '__hash__',\n",
       " '__index__',\n",
       " '__init__',\n",
       " '__init_subclass__',\n",
       " '__int__',\n",
       " '__invert__',\n",
       " '__le__',\n",
       " '__lshift__',\n",
       " '__lt__',\n",
       " '__mod__',\n",
       " '__mul__',\n",
       " '__ne__',\n",
       " '__neg__',\n",
       " '__new__',\n",
       " '__or__',\n",
       " '__pos__',\n",
       " '__pow__',\n",
       " '__radd__',\n",
       " '__rand__',\n",
       " '__rdivmod__',\n",
       " '__reduce__',\n",
       " '__reduce_ex__',\n",
       " '__repr__',\n",
       " '__rfloordiv__',\n",
       " '__rlshift__',\n",
       " '__rmod__',\n",
       " '__rmul__',\n",
       " '__ror__',\n",
       " '__round__',\n",
       " '__rpow__',\n",
       " '__rrshift__',\n",
       " '__rshift__',\n",
       " '__rsub__',\n",
       " '__rtruediv__',\n",
       " '__rxor__',\n",
       " '__setattr__',\n",
       " '__sizeof__',\n",
       " '__str__',\n",
       " '__sub__',\n",
       " '__subclasshook__',\n",
       " '__truediv__',\n",
       " '__trunc__',\n",
       " '__xor__',\n",
       " 'as_integer_ratio',\n",
       " 'bit_count',\n",
       " 'bit_length',\n",
       " 'conjugate',\n",
       " 'denominator',\n",
       " 'from_bytes',\n",
       " 'imag',\n",
       " 'numerator',\n",
       " 'real',\n",
       " 'to_bytes']"
      ]
     },
     "execution_count": 119,
     "metadata": {},
     "output_type": "execute_result"
    }
   ],
   "source": [
    "dir(1)"
   ]
  },
  {
   "cell_type": "markdown",
   "id": "3f7f93a0",
   "metadata": {},
   "source": [
    "#### 비트연산자"
   ]
  },
  {
   "cell_type": "code",
   "execution_count": 121,
   "id": "ad4aee58",
   "metadata": {},
   "outputs": [],
   "source": [
    "a = 3"
   ]
  },
  {
   "cell_type": "code",
   "execution_count": 122,
   "id": "58cc16bb",
   "metadata": {},
   "outputs": [],
   "source": [
    "b = 4"
   ]
  },
  {
   "cell_type": "code",
   "execution_count": 123,
   "id": "84bd9f6b",
   "metadata": {},
   "outputs": [
    {
     "data": {
      "text/plain": [
       "0"
      ]
     },
     "execution_count": 123,
     "metadata": {},
     "output_type": "execute_result"
    }
   ],
   "source": [
    "a & b #AND"
   ]
  },
  {
   "cell_type": "code",
   "execution_count": 124,
   "id": "578121f3",
   "metadata": {},
   "outputs": [
    {
     "data": {
      "text/plain": [
       "7"
      ]
     },
     "execution_count": 124,
     "metadata": {},
     "output_type": "execute_result"
    }
   ],
   "source": [
    "a | b #OR"
   ]
  },
  {
   "cell_type": "code",
   "execution_count": 125,
   "id": "92eb37f1",
   "metadata": {},
   "outputs": [
    {
     "data": {
      "text/plain": [
       "7"
      ]
     },
     "execution_count": 125,
     "metadata": {},
     "output_type": "execute_result"
    }
   ],
   "source": [
    "a ^ b #XOR"
   ]
  },
  {
   "cell_type": "code",
   "execution_count": 126,
   "id": "5e435202",
   "metadata": {},
   "outputs": [
    {
     "data": {
      "text/plain": [
       "-4"
      ]
     },
     "execution_count": 126,
     "metadata": {},
     "output_type": "execute_result"
    }
   ],
   "source": [
    "~a"
   ]
  },
  {
   "cell_type": "code",
   "execution_count": 127,
   "id": "68d32402",
   "metadata": {},
   "outputs": [],
   "source": [
    "a = {1,2,3}\n",
    "b = {2,4}"
   ]
  },
  {
   "cell_type": "code",
   "execution_count": 128,
   "id": "bb0ff6a2",
   "metadata": {},
   "outputs": [
    {
     "data": {
      "text/plain": [
       "{1, 2, 3, 4}"
      ]
     },
     "execution_count": 128,
     "metadata": {},
     "output_type": "execute_result"
    }
   ],
   "source": [
    "a | b"
   ]
  },
  {
   "cell_type": "code",
   "execution_count": 129,
   "id": "31747e0d",
   "metadata": {},
   "outputs": [
    {
     "data": {
      "text/plain": [
       "{2}"
      ]
     },
     "execution_count": 129,
     "metadata": {},
     "output_type": "execute_result"
    }
   ],
   "source": [
    "a & b"
   ]
  },
  {
   "cell_type": "code",
   "execution_count": 130,
   "id": "02047a33",
   "metadata": {},
   "outputs": [
    {
     "data": {
      "text/plain": [
       "{1, 3, 4}"
      ]
     },
     "execution_count": 130,
     "metadata": {},
     "output_type": "execute_result"
    }
   ],
   "source": [
    "a ^ b"
   ]
  },
  {
   "cell_type": "code",
   "execution_count": 131,
   "id": "1e41d38a",
   "metadata": {},
   "outputs": [],
   "source": [
    "x = np.array([1,2,3])"
   ]
  },
  {
   "cell_type": "code",
   "execution_count": 132,
   "id": "b890fa00",
   "metadata": {},
   "outputs": [
    {
     "data": {
      "text/plain": [
       "14"
      ]
     },
     "execution_count": 132,
     "metadata": {},
     "output_type": "execute_result"
    }
   ],
   "source": [
    "x@x"
   ]
  },
  {
   "cell_type": "markdown",
   "id": "2a64e3f7",
   "metadata": {},
   "source": [
    "### 비교연산자"
   ]
  },
  {
   "cell_type": "code",
   "execution_count": 133,
   "id": "701fcf2e",
   "metadata": {},
   "outputs": [],
   "source": [
    "a = 100"
   ]
  },
  {
   "cell_type": "code",
   "execution_count": 134,
   "id": "bc19997e",
   "metadata": {},
   "outputs": [],
   "source": [
    "b = 1e2"
   ]
  },
  {
   "cell_type": "code",
   "execution_count": 135,
   "id": "1d16cab4",
   "metadata": {},
   "outputs": [
    {
     "data": {
      "text/plain": [
       "True"
      ]
     },
     "execution_count": 135,
     "metadata": {},
     "output_type": "execute_result"
    }
   ],
   "source": [
    "a == b #equality 동등"
   ]
  },
  {
   "cell_type": "code",
   "execution_count": 136,
   "id": "24f1a90a",
   "metadata": {},
   "outputs": [
    {
     "data": {
      "text/plain": [
       "False"
      ]
     },
     "execution_count": 136,
     "metadata": {},
     "output_type": "execute_result"
    }
   ],
   "source": [
    "a is b #identity 동일"
   ]
  },
  {
   "cell_type": "code",
   "execution_count": 137,
   "id": "0a86cea7",
   "metadata": {},
   "outputs": [
    {
     "data": {
      "text/plain": [
       "False"
      ]
     },
     "execution_count": 137,
     "metadata": {},
     "output_type": "execute_result"
    }
   ],
   "source": [
    "'a' < 'A'"
   ]
  },
  {
   "cell_type": "code",
   "execution_count": 138,
   "id": "7f5ec96f",
   "metadata": {},
   "outputs": [
    {
     "data": {
      "text/plain": [
       "False"
      ]
     },
     "execution_count": 138,
     "metadata": {},
     "output_type": "execute_result"
    }
   ],
   "source": [
    "'a' < 'AA' #시퀀스타입은 합치지 않고, 첫번째부터 순서대로 비교한다."
   ]
  },
  {
   "cell_type": "code",
   "execution_count": 139,
   "id": "35cd13bf",
   "metadata": {},
   "outputs": [
    {
     "data": {
      "text/plain": [
       "False"
      ]
     },
     "execution_count": 139,
     "metadata": {},
     "output_type": "execute_result"
    }
   ],
   "source": [
    "[ 1,2,3,4,5 ] > [100]"
   ]
  },
  {
   "cell_type": "code",
   "execution_count": 140,
   "id": "effcf2a5",
   "metadata": {},
   "outputs": [
    {
     "data": {
      "text/plain": [
       "True"
      ]
     },
     "execution_count": 140,
     "metadata": {},
     "output_type": "execute_result"
    }
   ],
   "source": [
    "[ 1,2,3 ] > [1, 0, 100]"
   ]
  },
  {
   "cell_type": "code",
   "execution_count": 141,
   "id": "d5975cfb",
   "metadata": {},
   "outputs": [
    {
     "data": {
      "text/plain": [
       "False"
      ]
     },
     "execution_count": 141,
     "metadata": {},
     "output_type": "execute_result"
    }
   ],
   "source": [
    "{1,2,3} < {4,5,6}"
   ]
  },
  {
   "cell_type": "code",
   "execution_count": 142,
   "id": "3548c6a6",
   "metadata": {},
   "outputs": [
    {
     "data": {
      "text/plain": [
       "False"
      ]
     },
     "execution_count": 142,
     "metadata": {},
     "output_type": "execute_result"
    }
   ],
   "source": [
    "{1,2,3} > {4,5,6} #순서가 없기 때문에 작다 크다를 비교할 수 없어서 거짓이다."
   ]
  },
  {
   "cell_type": "code",
   "execution_count": 143,
   "id": "98e725db",
   "metadata": {},
   "outputs": [
    {
     "data": {
      "text/plain": [
       "True"
      ]
     },
     "execution_count": 143,
     "metadata": {},
     "output_type": "execute_result"
    }
   ],
   "source": [
    "{1,2,3} == {1,2,3}"
   ]
  },
  {
   "cell_type": "code",
   "execution_count": 144,
   "id": "fa74373d",
   "metadata": {},
   "outputs": [
    {
     "data": {
      "text/plain": [
       "False"
      ]
     },
     "execution_count": 144,
     "metadata": {},
     "output_type": "execute_result"
    }
   ],
   "source": [
    "{1,2,3} is {1,2,3}"
   ]
  },
  {
   "cell_type": "markdown",
   "id": "6ad05e48",
   "metadata": {},
   "source": [
    "### 조건 연산자"
   ]
  },
  {
   "cell_type": "code",
   "execution_count": 145,
   "id": "9baf226f",
   "metadata": {},
   "outputs": [
    {
     "name": "stdout",
     "output_type": "stream",
     "text": [
      "a\n"
     ]
    }
   ],
   "source": [
    "if {''}:\n",
    "    print('a')\n",
    "else:\n",
    "    print('b')"
   ]
  },
  {
   "cell_type": "markdown",
   "id": "67e4def5",
   "metadata": {},
   "source": [
    "파이썬은 true false로 체크하지 않고 존재론적 관점에서 조건문을 체크한다.<br>\n",
    "int형에서 없는애 : 0<br>\n",
    "float형에서 없는애 : 0.0<br>\n",
    "list형에서 없는애 : []<br>\n",
    "문자열에서 없는애 : ''<br>\n",
    "dictionary에서 없는애: {}<br>\n",
    "그냥 없는애 : None"
   ]
  },
  {
   "cell_type": "code",
   "execution_count": 146,
   "id": "7095dd6c",
   "metadata": {},
   "outputs": [
    {
     "data": {
      "text/plain": [
       "4"
      ]
     },
     "execution_count": 146,
     "metadata": {},
     "output_type": "execute_result"
    }
   ],
   "source": [
    "3 and 4 #앞에것이 참이면 뒤에것 반환, 앞에것 거짓이면 앞에것 반환"
   ]
  },
  {
   "cell_type": "code",
   "execution_count": 147,
   "id": "10e701d6",
   "metadata": {},
   "outputs": [
    {
     "data": {
      "text/plain": [
       "3"
      ]
     },
     "execution_count": 147,
     "metadata": {},
     "output_type": "execute_result"
    }
   ],
   "source": [
    "3 or 4 #앞에것이 참이면 앞에것 반환, 앞에것 거짓이면 뒤에것 반환"
   ]
  },
  {
   "cell_type": "code",
   "execution_count": 148,
   "id": "7d510f14",
   "metadata": {},
   "outputs": [
    {
     "data": {
      "text/plain": [
       "4"
      ]
     },
     "execution_count": 148,
     "metadata": {},
     "output_type": "execute_result"
    }
   ],
   "source": [
    "None or 4"
   ]
  },
  {
   "cell_type": "code",
   "execution_count": 149,
   "id": "1ff00861",
   "metadata": {},
   "outputs": [],
   "source": [
    "'' or None"
   ]
  },
  {
   "cell_type": "code",
   "execution_count": 150,
   "id": "cc76a12c",
   "metadata": {},
   "outputs": [
    {
     "data": {
      "text/plain": [
       "''"
      ]
     },
     "execution_count": 150,
     "metadata": {},
     "output_type": "execute_result"
    }
   ],
   "source": [
    "''"
   ]
  },
  {
   "cell_type": "code",
   "execution_count": 151,
   "id": "b54361f3",
   "metadata": {},
   "outputs": [
    {
     "data": {
      "text/plain": [
       "{}"
      ]
     },
     "execution_count": 151,
     "metadata": {},
     "output_type": "execute_result"
    }
   ],
   "source": [
    "{} and 3"
   ]
  },
  {
   "cell_type": "markdown",
   "id": "376bfd16",
   "metadata": {},
   "source": [
    "True False는 1 0과 str빼고는 동일하므로 이것 대신 truthy falsy라는 말을 쓴다."
   ]
  },
  {
   "cell_type": "code",
   "execution_count": 152,
   "id": "15e20505",
   "metadata": {},
   "outputs": [
    {
     "data": {
      "text/plain": [
       "4"
      ]
     },
     "execution_count": 152,
     "metadata": {},
     "output_type": "execute_result"
    }
   ],
   "source": [
    "4 or 3 / 0"
   ]
  },
  {
   "cell_type": "markdown",
   "id": "e509f1ae",
   "metadata": {},
   "source": [
    "앞에것이 참이면 뒤를 체크 안한다. 즉, or나 and 쓸 때, 앞에서 평가가 끝난 경우, 뒤에서 문제가 있는데 모르고 있을 수도 있다."
   ]
  },
  {
   "cell_type": "code",
   "execution_count": 153,
   "id": "c6eeca08",
   "metadata": {},
   "outputs": [
    {
     "data": {
      "text/plain": [
       "False"
      ]
     },
     "execution_count": 153,
     "metadata": {},
     "output_type": "execute_result"
    }
   ],
   "source": [
    "a in [1,2,3] #a가 1또는 2또는 3이냐 - Membership"
   ]
  },
  {
   "cell_type": "code",
   "execution_count": 154,
   "id": "e73eb6e4",
   "metadata": {},
   "outputs": [
    {
     "data": {
      "text/plain": [
       "True"
      ]
     },
     "execution_count": 154,
     "metadata": {},
     "output_type": "execute_result"
    }
   ],
   "source": [
    "a not in [1,2,3]"
   ]
  },
  {
   "cell_type": "code",
   "execution_count": 159,
   "id": "77fbd34d",
   "metadata": {},
   "outputs": [
    {
     "name": "stdout",
     "output_type": "stream",
     "text": [
      "Membership test operations\n",
      "**************************\n",
      "\n",
      "The operators \"in\" and \"not in\" test for membership.  \"x in s\"\n",
      "evaluates to \"True\" if *x* is a member of *s*, and \"False\" otherwise.\n",
      "\"x not in s\" returns the negation of \"x in s\".  All built-in sequences\n",
      "and set types support this as well as dictionary, for which \"in\" tests\n",
      "whether the dictionary has a given key. For container types such as\n",
      "list, tuple, set, frozenset, dict, or collections.deque, the\n",
      "expression \"x in y\" is equivalent to \"any(x is e or x == e for e in\n",
      "y)\".\n",
      "\n",
      "For the string and bytes types, \"x in y\" is \"True\" if and only if *x*\n",
      "is a substring of *y*.  An equivalent test is \"y.find(x) != -1\".\n",
      "Empty strings are always considered to be a substring of any other\n",
      "string, so \"\"\" in \"abc\"\" will return \"True\".\n",
      "\n",
      "For user-defined classes which define the \"__contains__()\" method, \"x\n",
      "in y\" returns \"True\" if \"y.__contains__(x)\" returns a true value, and\n",
      "\"False\" otherwise.\n",
      "\n",
      "For user-defined classes which do not define \"__contains__()\" but do\n",
      "define \"__iter__()\", \"x in y\" is \"True\" if some value \"z\", for which\n",
      "the expression \"x is z or x == z\" is true, is produced while iterating\n",
      "over \"y\". If an exception is raised during the iteration, it is as if\n",
      "\"in\" raised that exception.\n",
      "\n",
      "Lastly, the old-style iteration protocol is tried: if a class defines\n",
      "\"__getitem__()\", \"x in y\" is \"True\" if and only if there is a non-\n",
      "negative integer index *i* such that \"x is y[i] or x == y[i]\", and no\n",
      "lower integer index raises the \"IndexError\" exception.  (If any other\n",
      "exception is raised, it is as if \"in\" raised that exception).\n",
      "\n",
      "The operator \"not in\" is defined to have the inverse truth value of\n",
      "\"in\".\n",
      "\n",
      "Related help topics: SEQUENCEMETHODS\n",
      "\n"
     ]
    }
   ],
   "source": [
    "help('in')"
   ]
  },
  {
   "cell_type": "code",
   "execution_count": 156,
   "id": "8a325532",
   "metadata": {},
   "outputs": [
    {
     "data": {
      "text/plain": [
       "False"
      ]
     },
     "execution_count": 156,
     "metadata": {},
     "output_type": "execute_result"
    }
   ],
   "source": [
    "'a' in [1,2,'3']"
   ]
  },
  {
   "cell_type": "code",
   "execution_count": 247,
   "id": "9fb7cc2e",
   "metadata": {},
   "outputs": [
    {
     "ename": "TypeError",
     "evalue": "'in <string>' requires string as left operand, not int",
     "output_type": "error",
     "traceback": [
      "\u001b[1;31m---------------------------------------------------------------------------\u001b[0m",
      "\u001b[1;31mTypeError\u001b[0m                                 Traceback (most recent call last)",
      "Input \u001b[1;32mIn [247]\u001b[0m, in \u001b[0;36m<cell line: 1>\u001b[1;34m()\u001b[0m\n\u001b[1;32m----> 1\u001b[0m \u001b[38;5;241;43m1\u001b[39;49m\u001b[43m \u001b[49m\u001b[38;5;129;43;01min\u001b[39;49;00m\u001b[43m \u001b[49m\u001b[38;5;124;43m'\u001b[39;49m\u001b[38;5;124;43mabc\u001b[39;49m\u001b[38;5;124;43m'\u001b[39;49m\n",
      "\u001b[1;31mTypeError\u001b[0m: 'in <string>' requires string as left operand, not int"
     ]
    }
   ],
   "source": [
    "1 in 'abc'"
   ]
  },
  {
   "cell_type": "code",
   "execution_count": 248,
   "id": "7fcabcdd",
   "metadata": {},
   "outputs": [
    {
     "data": {
      "text/plain": [
       "False"
      ]
     },
     "execution_count": 248,
     "metadata": {},
     "output_type": "execute_result"
    }
   ],
   "source": [
    "'1' in 'abc'"
   ]
  },
  {
   "cell_type": "code",
   "execution_count": 249,
   "id": "abe6f43d",
   "metadata": {},
   "outputs": [
    {
     "data": {
      "text/plain": [
       "False"
      ]
     },
     "execution_count": 249,
     "metadata": {},
     "output_type": "execute_result"
    }
   ],
   "source": [
    "1 in {'a': 1, 'b': 2}"
   ]
  },
  {
   "cell_type": "code",
   "execution_count": 251,
   "id": "0543d000",
   "metadata": {},
   "outputs": [
    {
     "name": "stdout",
     "output_type": "stream",
     "text": [
      "a\n",
      "b\n"
     ]
    }
   ],
   "source": [
    "for i in {'a': 1, 'b': 2}:\n",
    "    print(i)"
   ]
  },
  {
   "cell_type": "code",
   "execution_count": 252,
   "id": "d93cc6dc",
   "metadata": {},
   "outputs": [
    {
     "name": "stdout",
     "output_type": "stream",
     "text": [
      "1\n",
      "2\n",
      "3\n",
      "4\n",
      "5\n"
     ]
    }
   ],
   "source": [
    "for i in 1,2,3,4,5:\n",
    "    print(i)"
   ]
  },
  {
   "cell_type": "markdown",
   "id": "4a369175",
   "metadata": {},
   "source": [
    "### Iterable"
   ]
  },
  {
   "cell_type": "markdown",
   "id": "70d1b2db",
   "metadata": {},
   "source": [
    "__iter__이 정의되어 있으면 iterable이다."
   ]
  },
  {
   "cell_type": "code",
   "execution_count": 254,
   "id": "9717d466",
   "metadata": {},
   "outputs": [
    {
     "ename": "TypeError",
     "evalue": "argument of type 'int' is not iterable",
     "output_type": "error",
     "traceback": [
      "\u001b[1;31m---------------------------------------------------------------------------\u001b[0m",
      "\u001b[1;31mTypeError\u001b[0m                                 Traceback (most recent call last)",
      "Input \u001b[1;32mIn [254]\u001b[0m, in \u001b[0;36m<cell line: 1>\u001b[1;34m()\u001b[0m\n\u001b[1;32m----> 1\u001b[0m \u001b[38;5;241;43m3\u001b[39;49m\u001b[43m \u001b[49m\u001b[38;5;129;43;01min\u001b[39;49;00m\u001b[43m \u001b[49m\u001b[38;5;241;43m1\u001b[39;49m\n",
      "\u001b[1;31mTypeError\u001b[0m: argument of type 'int' is not iterable"
     ]
    }
   ],
   "source": [
    "3 in 1 #in 다음에는 무조건 iterable이 와야된다."
   ]
  },
  {
   "cell_type": "markdown",
   "id": "219cec27",
   "metadata": {},
   "source": [
    "### argument와 parameter의 차이"
   ]
  },
  {
   "cell_type": "markdown",
   "id": "d1f5e7e0",
   "metadata": {},
   "source": [
    "argument : 인자<br>\n",
    "parameter : 매개변수\n",
    "\n",
    "def x(t):  여기서 t는 parameter\n",
    "    print(t)\n",
    "    \n",
    "x(3)   여기서 t는 argument"
   ]
  },
  {
   "cell_type": "code",
   "execution_count": 255,
   "id": "bc512566",
   "metadata": {},
   "outputs": [
    {
     "ename": "AttributeError",
     "evalue": "'int' object has no attribute '__iter__'",
     "output_type": "error",
     "traceback": [
      "\u001b[1;31m---------------------------------------------------------------------------\u001b[0m",
      "\u001b[1;31mAttributeError\u001b[0m                            Traceback (most recent call last)",
      "Input \u001b[1;32mIn [255]\u001b[0m, in \u001b[0;36m<cell line: 1>\u001b[1;34m()\u001b[0m\n\u001b[1;32m----> 1\u001b[0m \u001b[43m(\u001b[49m\u001b[38;5;241;43m1\u001b[39;49m\u001b[43m)\u001b[49m\u001b[38;5;241;43m.\u001b[39;49m\u001b[38;5;21;43m__iter__\u001b[39;49m()\n",
      "\u001b[1;31mAttributeError\u001b[0m: 'int' object has no attribute '__iter__'"
     ]
    }
   ],
   "source": [
    "(1).__iter__()"
   ]
  },
  {
   "cell_type": "code",
   "execution_count": 256,
   "id": "e59db245",
   "metadata": {},
   "outputs": [
    {
     "data": {
      "text/plain": [
       "<list_iterator at 0x20bf3251250>"
      ]
     },
     "execution_count": 256,
     "metadata": {},
     "output_type": "execute_result"
    }
   ],
   "source": [
    "[1,2,3].__iter__()"
   ]
  },
  {
   "cell_type": "markdown",
   "id": "d70b6e94",
   "metadata": {},
   "source": [
    "파이썬에서는 연산자는 편의기능이고 연산자와 관련된 메서드가 실행된다."
   ]
  },
  {
   "cell_type": "code",
   "execution_count": 267,
   "id": "d7354fc7",
   "metadata": {},
   "outputs": [],
   "source": [
    "class A:\n",
    "    def __add__(self, x):\n",
    "        return 1"
   ]
  },
  {
   "cell_type": "code",
   "execution_count": 272,
   "id": "7cfe8635",
   "metadata": {},
   "outputs": [
    {
     "data": {
      "text/plain": [
       "<__main__.A at 0x20bf31935e0>"
      ]
     },
     "execution_count": 272,
     "metadata": {},
     "output_type": "execute_result"
    }
   ],
   "source": [
    "A()"
   ]
  },
  {
   "cell_type": "code",
   "execution_count": 269,
   "id": "779c1009",
   "metadata": {},
   "outputs": [
    {
     "ename": "TypeError",
     "evalue": "unsupported operand type(s) for +: 'type' and 'int'",
     "output_type": "error",
     "traceback": [
      "\u001b[1;31m---------------------------------------------------------------------------\u001b[0m",
      "\u001b[1;31mTypeError\u001b[0m                                 Traceback (most recent call last)",
      "Input \u001b[1;32mIn [269]\u001b[0m, in \u001b[0;36m<cell line: 1>\u001b[1;34m()\u001b[0m\n\u001b[1;32m----> 1\u001b[0m \u001b[43mA\u001b[49m\u001b[43m \u001b[49m\u001b[38;5;241;43m+\u001b[39;49m\u001b[43m \u001b[49m\u001b[43ma\u001b[49m\n",
      "\u001b[1;31mTypeError\u001b[0m: unsupported operand type(s) for +: 'type' and 'int'"
     ]
    }
   ],
   "source": [
    "A + a"
   ]
  },
  {
   "cell_type": "code",
   "execution_count": null,
   "id": "4a5c368b",
   "metadata": {},
   "outputs": [],
   "source": []
  }
 ],
 "metadata": {
  "kernelspec": {
   "display_name": "Python 3 (ipykernel)",
   "language": "python",
   "name": "python3"
  },
  "language_info": {
   "codemirror_mode": {
    "name": "ipython",
    "version": 3
   },
   "file_extension": ".py",
   "mimetype": "text/x-python",
   "name": "python",
   "nbconvert_exporter": "python",
   "pygments_lexer": "ipython3",
   "version": "3.11.4"
  }
 },
 "nbformat": 4,
 "nbformat_minor": 5
}
